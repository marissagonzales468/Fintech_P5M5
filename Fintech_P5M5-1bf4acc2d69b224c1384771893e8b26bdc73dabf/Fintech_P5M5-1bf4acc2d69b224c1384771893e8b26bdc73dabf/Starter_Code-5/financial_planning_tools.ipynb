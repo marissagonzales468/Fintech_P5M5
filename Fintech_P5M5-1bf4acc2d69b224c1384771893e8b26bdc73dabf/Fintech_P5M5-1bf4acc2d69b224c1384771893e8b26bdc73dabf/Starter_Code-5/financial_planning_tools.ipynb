{
 "cells": [
  {
   "cell_type": "markdown",
   "metadata": {},
   "source": [
    "# Financial Planning with APIs and Simulations\n",
    "\n",
    "In this Challenge, you’ll create two financial analysis tools by using a single Jupyter notebook:\n",
    "\n",
    "Part 1: A financial planner for emergencies. The members will be able to use this tool to visualize their current savings. The members can then determine if they have enough reserves for an emergency fund.\n",
    "\n",
    "Part 2: A financial planner for retirement. This tool will forecast the performance of their retirement portfolio in 30 years. To do this, the tool will make an Alpaca API call via the Alpaca SDK to get historical price data for use in Monte Carlo simulations.\n",
    "\n",
    "You’ll use the information from the Monte Carlo simulation to answer questions about the portfolio in your Jupyter notebook.\n",
    "\n"
   ]
  },
  {
   "cell_type": "code",
   "execution_count": null,
   "metadata": {},
   "outputs": [],
   "source": [
    "#!pip3 install alpaca_trade_api"
   ]
  },
  {
   "cell_type": "code",
   "execution_count": 1,
   "metadata": {},
   "outputs": [],
   "source": [
    "# Import the required libraries and dependencies\n",
    "import os\n",
    "import requests\n",
    "import json\n",
    "import pandas as pd\n",
    "import numpy as np\n",
    "from dotenv import load_dotenv\n",
    "import alpaca_trade_api as tradeapi\n",
    "from MCForecastTools import MCSimulation\n",
    "\n",
    "%matplotlib inline"
   ]
  },
  {
   "cell_type": "code",
   "execution_count": 2,
   "metadata": {},
   "outputs": [
    {
     "data": {
      "text/plain": [
       "True"
      ]
     },
     "execution_count": 2,
     "metadata": {},
     "output_type": "execute_result"
    }
   ],
   "source": [
    "# Load the environment variables from the .env file\n",
    "#by calling the load_dotenv function\n",
    "load_dotenv('SAMPLE.env')"
   ]
  },
  {
   "cell_type": "markdown",
   "metadata": {},
   "source": [
    "## Part 1: Create a Financial Planner for Emergencies"
   ]
  },
  {
   "cell_type": "markdown",
   "metadata": {},
   "source": [
    "### Evaluate the Cryptocurrency Wallet by Using the Requests Library\n",
    "\n",
    "In this section, you’ll determine the current value of a member’s cryptocurrency wallet. You’ll collect the current prices for the Bitcoin and Ethereum cryptocurrencies by using the Python Requests library. For the prototype, you’ll assume that the member holds the 1.2 Bitcoins (BTC) and 5.3 Ethereum coins (ETH). To do all this, complete the following steps:\n",
    "\n",
    "1. Create a variable named `monthly_income`, and set its value to `12000`.\n",
    "\n",
    "2. Use the Requests library to get the current price (in US dollars) of Bitcoin (BTC) and Ethereum (ETH) by using the API endpoints that the starter code supplies.\n",
    "\n",
    "3. Navigate the JSON response object to access the current price of each coin, and store each in a variable.\n",
    "\n",
    "    > **Hint** Note the specific identifier for each cryptocurrency in the API JSON response. The Bitcoin identifier is `1`, and the Ethereum identifier is `1027`.\n",
    "\n",
    "4. Calculate the value, in US dollars, of the current amount of each cryptocurrency and of the entire cryptocurrency wallet.\n",
    "\n"
   ]
  },
  {
   "cell_type": "code",
   "execution_count": 3,
   "metadata": {},
   "outputs": [],
   "source": [
    "# The current number of coins for each cryptocurrency asset held in the portfolio.\n",
    "btc_coins = 1.2\n",
    "eth_coins = 5.3"
   ]
  },
  {
   "cell_type": "markdown",
   "metadata": {},
   "source": [
    "#### Step 1: Create a variable named `monthly_income`, and set its value to `12000`."
   ]
  },
  {
   "cell_type": "code",
   "execution_count": 4,
   "metadata": {},
   "outputs": [],
   "source": [
    "# The monthly amount for the member's household income\n",
    "monthly_income =  12000"
   ]
  },
  {
   "cell_type": "markdown",
   "metadata": {},
   "source": [
    "#### Review the endpoint URLs for the API calls to Free Crypto API in order to get the current pricing information for both BTC and ETH."
   ]
  },
  {
   "cell_type": "code",
   "execution_count": 5,
   "metadata": {},
   "outputs": [],
   "source": [
    "# The Free Crypto API Call endpoint URLs for the held cryptocurrency assets\n",
    "btc_url = \"https://api.alternative.me/v2/ticker/Bitcoin/?convert=USD\"\n",
    "eth_url = \"https://api.alternative.me/v2/ticker/Ethereum/?convert=USD\""
   ]
  },
  {
   "cell_type": "markdown",
   "metadata": {},
   "source": [
    "#### Step 2. Use the Requests library to get the current price (in US dollars) of Bitcoin (BTC) and Ethereum (ETH) by using the API endpoints that the starter code supplied."
   ]
  },
  {
   "cell_type": "code",
   "execution_count": 6,
   "metadata": {},
   "outputs": [
    {
     "name": "stdout",
     "output_type": "stream",
     "text": [
      "{\n",
      "    \"data\": {\n",
      "        \"1\": {\n",
      "            \"circulating_supply\": 19308306,\n",
      "            \"id\": 1,\n",
      "            \"last_updated\": 1677962100,\n",
      "            \"max_supply\": 21000000,\n",
      "            \"name\": \"Bitcoin\",\n",
      "            \"quotes\": {\n",
      "                \"USD\": {\n",
      "                    \"market_cap\": 429082043571,\n",
      "                    \"percent_change_1h\": -0.122049211458347,\n",
      "                    \"percent_change_24h\": -0.452796223024086,\n",
      "                    \"percent_change_7d\": -4.07486729830055,\n",
      "                    \"percentage_change_1h\": -0.122049211458347,\n",
      "                    \"percentage_change_24h\": -0.452796223024086,\n",
      "                    \"percentage_change_7d\": -4.07486729830055,\n",
      "                    \"price\": 22228.0,\n",
      "                    \"volume_24h\": 13778766644\n",
      "                }\n",
      "            },\n",
      "            \"rank\": 1,\n",
      "            \"symbol\": \"BTC\",\n",
      "            \"total_supply\": 19308306,\n",
      "            \"website_slug\": \"bitcoin\"\n",
      "        }\n",
      "    },\n",
      "    \"metadata\": {\n",
      "        \"error\": null,\n",
      "        \"num_cryptocurrencies\": 3119,\n",
      "        \"timestamp\": 1677962100\n",
      "    }\n",
      "}\n"
     ]
    }
   ],
   "source": [
    "# Using the Python requests library, make an API call to access the current price of BTC\n",
    "response_btc = requests.get(btc_url).json()\n",
    "\n",
    "# Use the json.dumps function to review the response data from the API call\n",
    "# Use the indent and sort_keys parameters to make the response object readable\n",
    "print(json.dumps(response_btc, indent=4, sort_keys=True))\n"
   ]
  },
  {
   "cell_type": "code",
   "execution_count": 7,
   "metadata": {},
   "outputs": [
    {
     "name": "stdout",
     "output_type": "stream",
     "text": [
      "{\n",
      "    \"data\": {\n",
      "        \"1027\": {\n",
      "            \"circulating_supply\": 120477031,\n",
      "            \"id\": 1027,\n",
      "            \"last_updated\": 1677962096,\n",
      "            \"max_supply\": 120477031,\n",
      "            \"name\": \"Ethereum\",\n",
      "            \"quotes\": {\n",
      "                \"USD\": {\n",
      "                    \"market_cap\": 187590932154,\n",
      "                    \"percent_change_1h\": -0.165201703807554,\n",
      "                    \"percent_change_24h\": -0.222324023815086,\n",
      "                    \"percent_change_7d\": -3.08230228747996,\n",
      "                    \"percentage_change_1h\": -0.165201703807554,\n",
      "                    \"percentage_change_24h\": -0.222324023815086,\n",
      "                    \"percentage_change_7d\": -3.08230228747996,\n",
      "                    \"price\": 1558.54,\n",
      "                    \"volume_24h\": 4977657308\n",
      "                }\n",
      "            },\n",
      "            \"rank\": 2,\n",
      "            \"symbol\": \"ETH\",\n",
      "            \"total_supply\": 120477031,\n",
      "            \"website_slug\": \"ethereum\"\n",
      "        }\n",
      "    },\n",
      "    \"metadata\": {\n",
      "        \"error\": null,\n",
      "        \"num_cryptocurrencies\": 3119,\n",
      "        \"timestamp\": 1677962096\n",
      "    }\n",
      "}\n"
     ]
    }
   ],
   "source": [
    "# Using the Python requests library, make an API call to access the current price ETH\n",
    "response_eth = requests.get(eth_url).json()\n",
    "\n",
    "# Use the json.dumps function to review the response data from the API call\n",
    "# Use the indent and sort_keys parameters to make the response object readable\n",
    "print(json.dumps(response_eth, indent=4, sort_keys=True))\n"
   ]
  },
  {
   "cell_type": "markdown",
   "metadata": {},
   "source": [
    "#### Step 3: Navigate the JSON response object to access the current price of each coin, and store each in a variable."
   ]
  },
  {
   "cell_type": "code",
   "execution_count": 8,
   "metadata": {},
   "outputs": [
    {
     "name": "stdout",
     "output_type": "stream",
     "text": [
      "The price for Bitcoin is $22228.0\n"
     ]
    }
   ],
   "source": [
    "# Navigate the BTC response object to access the current price of BTC\n",
    "btc_price = response_btc['data']['1']['quotes']['USD']['price']\n",
    "\n",
    "# Print the current price of BTC\n",
    "print(f\"The price for Bitcoin is ${btc_price}\")\n"
   ]
  },
  {
   "cell_type": "code",
   "execution_count": 9,
   "metadata": {},
   "outputs": [
    {
     "name": "stdout",
     "output_type": "stream",
     "text": [
      "The price for Ethereum is $1558.54\n"
     ]
    }
   ],
   "source": [
    "# Navigate the BTC response object to access the current price of ETH\n",
    "eth_price = response_eth['data']['1027']['quotes']['USD']['price']\n",
    "\n",
    "# Print the current price of ETH\n",
    "print(f\"The price for Ethereum is ${eth_price}\")\n"
   ]
  },
  {
   "cell_type": "markdown",
   "metadata": {},
   "source": [
    "### Step 4: Calculate the value, in US dollars, of the current amount of each cryptocurrency and of the entire cryptocurrency wallet."
   ]
  },
  {
   "cell_type": "code",
   "execution_count": 10,
   "metadata": {},
   "outputs": [
    {
     "name": "stdout",
     "output_type": "stream",
     "text": [
      "The price for Bitcoin is $BTC\n"
     ]
    }
   ],
   "source": [
    "# Compute the current value of the BTC holding \n",
    "btc_symbol = response_btc['data']['1']['symbol']\n",
    "\n",
    "# Print current value of your holding in BTC\n",
    "print(f\"The price for Bitcoin is ${btc_symbol}\")\n"
   ]
  },
  {
   "cell_type": "code",
   "execution_count": 11,
   "metadata": {},
   "outputs": [
    {
     "name": "stdout",
     "output_type": "stream",
     "text": [
      "The price for Ethereum is $ETH\n"
     ]
    }
   ],
   "source": [
    "# Compute the current value of the ETH holding \n",
    "eth_symbol = response_eth['data']['1027']['symbol']\n",
    "\n",
    "# Print current value of your holding in ETH\n",
    "print(f\"The price for Ethereum is ${eth_symbol}\")\n"
   ]
  },
  {
   "cell_type": "code",
   "execution_count": 12,
   "metadata": {},
   "outputs": [
    {
     "name": "stdout",
     "output_type": "stream",
     "text": [
      "The current cryptocurrency balance is $23786.54\n"
     ]
    }
   ],
   "source": [
    "# Compute the total value of the cryptocurrency wallet\n",
    "# Add the value of the BTC holding to the value of the ETH holding\n",
    "total_crypto_wallet = btc_price + eth_price\n",
    "# Print current cryptocurrency wallet balance\n",
    "print(f\"The current cryptocurrency balance is ${total_crypto_wallet}\")"
   ]
  },
  {
   "cell_type": "markdown",
   "metadata": {},
   "source": [
    "### Evaluate the Stock and Bond Holdings by Using the Alpaca SDK\n",
    "\n",
    "In this section, you’ll determine the current value of a member’s stock and bond holdings. You’ll make an API call to Alpaca via the Alpaca SDK to get the current closing prices of the SPDR S&P 500 ETF Trust (ticker: SPY) and of the iShares Core US Aggregate Bond ETF (ticker: AGG). For the prototype, assume that the member holds 110 shares of SPY, which represents the stock portion of their portfolio, and 200 shares of AGG, which represents the bond portion. To do all this, complete the following steps:\n",
    "\n",
    "1. In the `Starter_Code` folder, create an environment file (`.env`) to store the values of your Alpaca API key and Alpaca secret key.\n",
    "\n",
    "2. Set the variables for the Alpaca API and secret keys. Using the Alpaca SDK, create the Alpaca `tradeapi.REST` object. In this object, include the parameters for the Alpaca API key, the secret key, and the version number.\n",
    "\n",
    "3. Set the following parameters for the Alpaca API call:\n",
    "\n",
    "    - `tickers`: Use the tickers for the member’s stock and bond holdings.\n",
    "\n",
    "    - `timeframe`: Use a time frame of one day.\n",
    "\n",
    "    - `start_date` and `end_date`: Use the same date for these parameters, and format them with the date of the previous weekday (or `2020-08-07`). This is because you want the one closing price for the most-recent trading day.\n",
    "\n",
    "4. Get the current closing prices for `SPY` and `AGG` by using the Alpaca `get_bars` function. Format the response as a Pandas DataFrame by including the `df` property at the end of the `get_bars` function.\n",
    "\n",
    "5. Navigating the Alpaca response DataFrame, select the `SPY` and `AGG` closing prices, and store them as variables.\n",
    "\n",
    "6. Calculate the value, in US dollars, of the current amount of shares in each of the stock and bond portions of the portfolio, and print the results.\n"
   ]
  },
  {
   "cell_type": "markdown",
   "metadata": {},
   "source": [
    "#### Review the total number of shares held in both (SPY) and (AGG)."
   ]
  },
  {
   "cell_type": "code",
   "execution_count": 13,
   "metadata": {},
   "outputs": [],
   "source": [
    "# Current amount of shares held in both the stock (SPY) and bond (AGG) portion of the portfolio.\n",
    "spy_shares = 110\n",
    "agg_shares = 200\n"
   ]
  },
  {
   "cell_type": "markdown",
   "metadata": {},
   "source": [
    "#### Step 1: In the `Starter_Code` folder, create an environment file (`.env`) to store the values of your Alpaca API key and Alpaca secret key."
   ]
  },
  {
   "cell_type": "markdown",
   "metadata": {},
   "source": [
    "#### Step 2: Set the variables for the Alpaca API and secret keys. Using the Alpaca SDK, create the Alpaca `tradeapi.REST` object. In this object, include the parameters for the Alpaca API key, the secret key, and the version number."
   ]
  },
  {
   "cell_type": "code",
   "execution_count": 14,
   "metadata": {},
   "outputs": [],
   "source": [
    "# Set the variables for the Alpaca API and secret keys\n",
    "alpaca_api_key = os.getenv(\"ALPACA_API_KEY\")\n",
    "type(alpaca_api_key)\n",
    "alpaca_secret_api_key = os.getenv(\"ALPACA_SECRET_KEY\")\n",
    "type(alpaca_secret_api_key)\n",
    "# Create the Alpaca tradeapi.REST object\n",
    "alpaca = tradeapi.REST(\n",
    "    alpaca_api_key,\n",
    "    alpaca_secret_api_key,\n",
    "    api_version=\"v2\")\n"
   ]
  },
  {
   "cell_type": "markdown",
   "metadata": {},
   "source": [
    "#### Step 3: Set the following parameters for the Alpaca API call:\n",
    "\n",
    "- `tickers`: Use the tickers for the member’s stock and bond holdings.\n",
    "\n",
    "- `timeframe`: Use a time frame of one day.\n",
    "\n",
    "- `start_date` and `end_date`: Use the same date for these parameters, and format them with the date of the previous weekday (or `2020-08-07`). This is because you want the one closing price for the most-recent trading day.\n"
   ]
  },
  {
   "cell_type": "code",
   "execution_count": 15,
   "metadata": {},
   "outputs": [],
   "source": [
    "# Set the tickers for both the bond and stock portion of the portfolio\n",
    "tickers = [\"SPY\",\"AGG\"]\n",
    "\n",
    "# Set timeframe to 1Day\n",
    "timeframe = \"1Day\"\n",
    "\n",
    "# Format current date as ISO format\n",
    "# Set both the start and end date at the date of your prior weekday \n",
    "# This will give you the closing price of the previous trading day\n",
    "# Alternatively you can use a start and end date of 2020-08-07\n",
    "start_date = pd.Timestamp(\"2020-08-01\", tz=\"America/New_York\").isoformat()\n",
    "end_date = pd.Timestamp(\"2020-08-07\", tz=\"America/New_York\").isoformat()\n"
   ]
  },
  {
   "cell_type": "markdown",
   "metadata": {},
   "source": [
    "#### Step 4: Get the current closing prices for `SPY` and `AGG` by using the Alpaca `get_bars` function. Format the response as a Pandas DataFrame by including the `df` property at the end of the `get_bars` function."
   ]
  },
  {
   "cell_type": "code",
   "execution_count": 16,
   "metadata": {},
   "outputs": [
    {
     "data": {
      "text/html": [
       "<div>\n",
       "<style scoped>\n",
       "    .dataframe tbody tr th:only-of-type {\n",
       "        vertical-align: middle;\n",
       "    }\n",
       "\n",
       "    .dataframe tbody tr th {\n",
       "        vertical-align: top;\n",
       "    }\n",
       "\n",
       "    .dataframe thead tr th {\n",
       "        text-align: left;\n",
       "    }\n",
       "\n",
       "    .dataframe thead tr:last-of-type th {\n",
       "        text-align: right;\n",
       "    }\n",
       "</style>\n",
       "<table border=\"1\" class=\"dataframe\">\n",
       "  <thead>\n",
       "    <tr>\n",
       "      <th></th>\n",
       "      <th colspan=\"7\" halign=\"left\">SPY</th>\n",
       "      <th colspan=\"7\" halign=\"left\">AGG</th>\n",
       "    </tr>\n",
       "    <tr>\n",
       "      <th></th>\n",
       "      <th>open</th>\n",
       "      <th>high</th>\n",
       "      <th>low</th>\n",
       "      <th>close</th>\n",
       "      <th>volume</th>\n",
       "      <th>trade_count</th>\n",
       "      <th>vwap</th>\n",
       "      <th>open</th>\n",
       "      <th>high</th>\n",
       "      <th>low</th>\n",
       "      <th>close</th>\n",
       "      <th>volume</th>\n",
       "      <th>trade_count</th>\n",
       "      <th>vwap</th>\n",
       "    </tr>\n",
       "    <tr>\n",
       "      <th>timestamp</th>\n",
       "      <th></th>\n",
       "      <th></th>\n",
       "      <th></th>\n",
       "      <th></th>\n",
       "      <th></th>\n",
       "      <th></th>\n",
       "      <th></th>\n",
       "      <th></th>\n",
       "      <th></th>\n",
       "      <th></th>\n",
       "      <th></th>\n",
       "      <th></th>\n",
       "      <th></th>\n",
       "      <th></th>\n",
       "    </tr>\n",
       "  </thead>\n",
       "  <tbody>\n",
       "    <tr>\n",
       "      <th>2020-08-03 04:00:00+00:00</th>\n",
       "      <td>328.3200</td>\n",
       "      <td>329.62</td>\n",
       "      <td>327.73</td>\n",
       "      <td>328.67</td>\n",
       "      <td>53078112</td>\n",
       "      <td>288003</td>\n",
       "      <td>328.658795</td>\n",
       "      <td>119.37</td>\n",
       "      <td>119.40</td>\n",
       "      <td>119.1903</td>\n",
       "      <td>119.40</td>\n",
       "      <td>13014535</td>\n",
       "      <td>36359</td>\n",
       "      <td>119.282420</td>\n",
       "    </tr>\n",
       "    <tr>\n",
       "      <th>2020-08-04 04:00:00+00:00</th>\n",
       "      <td>327.8600</td>\n",
       "      <td>330.06</td>\n",
       "      <td>327.86</td>\n",
       "      <td>330.00</td>\n",
       "      <td>41917896</td>\n",
       "      <td>250899</td>\n",
       "      <td>329.057592</td>\n",
       "      <td>119.42</td>\n",
       "      <td>119.63</td>\n",
       "      <td>119.4200</td>\n",
       "      <td>119.63</td>\n",
       "      <td>10935154</td>\n",
       "      <td>39113</td>\n",
       "      <td>119.541666</td>\n",
       "    </tr>\n",
       "    <tr>\n",
       "      <th>2020-08-05 04:00:00+00:00</th>\n",
       "      <td>331.4700</td>\n",
       "      <td>332.39</td>\n",
       "      <td>331.18</td>\n",
       "      <td>332.03</td>\n",
       "      <td>42870955</td>\n",
       "      <td>241416</td>\n",
       "      <td>331.791643</td>\n",
       "      <td>119.39</td>\n",
       "      <td>119.49</td>\n",
       "      <td>119.3100</td>\n",
       "      <td>119.40</td>\n",
       "      <td>17377874</td>\n",
       "      <td>42313</td>\n",
       "      <td>119.387245</td>\n",
       "    </tr>\n",
       "    <tr>\n",
       "      <th>2020-08-06 04:00:00+00:00</th>\n",
       "      <td>331.4799</td>\n",
       "      <td>334.46</td>\n",
       "      <td>331.13</td>\n",
       "      <td>334.32</td>\n",
       "      <td>43679448</td>\n",
       "      <td>290036</td>\n",
       "      <td>332.939600</td>\n",
       "      <td>119.62</td>\n",
       "      <td>119.73</td>\n",
       "      <td>119.5300</td>\n",
       "      <td>119.57</td>\n",
       "      <td>4608710</td>\n",
       "      <td>15938</td>\n",
       "      <td>119.604199</td>\n",
       "    </tr>\n",
       "    <tr>\n",
       "      <th>2020-08-07 04:00:00+00:00</th>\n",
       "      <td>333.2800</td>\n",
       "      <td>334.88</td>\n",
       "      <td>332.30</td>\n",
       "      <td>334.57</td>\n",
       "      <td>57282821</td>\n",
       "      <td>350100</td>\n",
       "      <td>333.800372</td>\n",
       "      <td>119.66</td>\n",
       "      <td>119.73</td>\n",
       "      <td>119.3950</td>\n",
       "      <td>119.43</td>\n",
       "      <td>5559066</td>\n",
       "      <td>15246</td>\n",
       "      <td>119.475306</td>\n",
       "    </tr>\n",
       "  </tbody>\n",
       "</table>\n",
       "</div>"
      ],
      "text/plain": [
       "                                SPY                                    \\\n",
       "                               open    high     low   close    volume   \n",
       "timestamp                                                               \n",
       "2020-08-03 04:00:00+00:00  328.3200  329.62  327.73  328.67  53078112   \n",
       "2020-08-04 04:00:00+00:00  327.8600  330.06  327.86  330.00  41917896   \n",
       "2020-08-05 04:00:00+00:00  331.4700  332.39  331.18  332.03  42870955   \n",
       "2020-08-06 04:00:00+00:00  331.4799  334.46  331.13  334.32  43679448   \n",
       "2020-08-07 04:00:00+00:00  333.2800  334.88  332.30  334.57  57282821   \n",
       "\n",
       "                                                      AGG                    \\\n",
       "                          trade_count        vwap    open    high       low   \n",
       "timestamp                                                                     \n",
       "2020-08-03 04:00:00+00:00      288003  328.658795  119.37  119.40  119.1903   \n",
       "2020-08-04 04:00:00+00:00      250899  329.057592  119.42  119.63  119.4200   \n",
       "2020-08-05 04:00:00+00:00      241416  331.791643  119.39  119.49  119.3100   \n",
       "2020-08-06 04:00:00+00:00      290036  332.939600  119.62  119.73  119.5300   \n",
       "2020-08-07 04:00:00+00:00      350100  333.800372  119.66  119.73  119.3950   \n",
       "\n",
       "                                                                     \n",
       "                            close    volume trade_count        vwap  \n",
       "timestamp                                                            \n",
       "2020-08-03 04:00:00+00:00  119.40  13014535       36359  119.282420  \n",
       "2020-08-04 04:00:00+00:00  119.63  10935154       39113  119.541666  \n",
       "2020-08-05 04:00:00+00:00  119.40  17377874       42313  119.387245  \n",
       "2020-08-06 04:00:00+00:00  119.57   4608710       15938  119.604199  \n",
       "2020-08-07 04:00:00+00:00  119.43   5559066       15246  119.475306  "
      ]
     },
     "execution_count": 16,
     "metadata": {},
     "output_type": "execute_result"
    }
   ],
   "source": [
    "# Use the Alpaca get_bars function to get current closing prices the portfolio\n",
    "# Be sure to set the `df` property after the function to format the response object as a DataFrame\n",
    "df_portfolio = alpaca.get_bars(\n",
    "    tickers,\n",
    "    timeframe,\n",
    "    start = start_date,\n",
    "    end = end_date\n",
    ").df\n",
    "\n",
    "# Reorganize the DataFrame\n",
    "# Separate ticker data\n",
    "SPY = df_portfolio[df_portfolio['symbol']=='SPY'].drop('symbol', axis=1)\n",
    "AGG = df_portfolio[df_portfolio['symbol']=='AGG'].drop('symbol', axis=1)\n",
    "\n",
    "\n",
    "# Concatenate the ticker DataFrames\n",
    "df_portfolio = pd.concat([SPY,AGG],axis=1, keys=['SPY','AGG'])\n",
    "\n",
    "\n",
    "# Review the first 5 rows of the Alpaca DataFrame\n",
    "df_portfolio.head()\n"
   ]
  },
  {
   "cell_type": "markdown",
   "metadata": {},
   "source": [
    "#### Step 5: Navigating the Alpaca response DataFrame, select the `SPY` and `AGG` closing prices, and store them as variables."
   ]
  },
  {
   "cell_type": "code",
   "execution_count": 17,
   "metadata": {},
   "outputs": [
    {
     "name": "stdout",
     "output_type": "stream",
     "text": [
      "The AGG closing price timestamp\n",
      "2020-08-03 04:00:00+00:00    119.40\n",
      "2020-08-04 04:00:00+00:00    119.63\n",
      "2020-08-05 04:00:00+00:00    119.40\n",
      "2020-08-06 04:00:00+00:00    119.57\n",
      "2020-08-07 04:00:00+00:00    119.43\n",
      "Name: close, dtype: float64\n"
     ]
    }
   ],
   "source": [
    "# Access the closing price for AGG from the Alpaca DataFrame\n",
    "# Converting the value to a floating point number\n",
    "agg_close_price = df_portfolio[\"AGG\"][\"close\"]\n",
    "\n",
    "# Print the AGG closing price\n",
    "print(\"The AGG closing price\", agg_close_price)\n"
   ]
  },
  {
   "cell_type": "code",
   "execution_count": 18,
   "metadata": {},
   "outputs": [
    {
     "name": "stdout",
     "output_type": "stream",
     "text": [
      "The SPY closing price timestamp\n",
      "2020-08-03 04:00:00+00:00    328.67\n",
      "2020-08-04 04:00:00+00:00    330.00\n",
      "2020-08-05 04:00:00+00:00    332.03\n",
      "2020-08-06 04:00:00+00:00    334.32\n",
      "2020-08-07 04:00:00+00:00    334.57\n",
      "Name: close, dtype: float64\n"
     ]
    }
   ],
   "source": [
    "# Access the closing price for SPY from the Alpaca DataFrame\n",
    "# Converting the value to a floating point number\n",
    "spy_close_price = df_portfolio[\"SPY\"][\"close\"]\n",
    "\n",
    "# Print the SPY closing price\n",
    "print(\"The SPY closing price\", spy_close_price)\n"
   ]
  },
  {
   "cell_type": "markdown",
   "metadata": {},
   "source": [
    "#### Step 6: Calculate the value, in US dollars, of the current amount of shares in each of the stock and bond portions of the portfolio, and print the results."
   ]
  },
  {
   "cell_type": "code",
   "execution_count": 19,
   "metadata": {},
   "outputs": [
    {
     "data": {
      "text/html": [
       "<div>\n",
       "<style scoped>\n",
       "    .dataframe tbody tr th:only-of-type {\n",
       "        vertical-align: middle;\n",
       "    }\n",
       "\n",
       "    .dataframe tbody tr th {\n",
       "        vertical-align: top;\n",
       "    }\n",
       "\n",
       "    .dataframe thead tr th {\n",
       "        text-align: left;\n",
       "    }\n",
       "\n",
       "    .dataframe thead tr:last-of-type th {\n",
       "        text-align: right;\n",
       "    }\n",
       "</style>\n",
       "<table border=\"1\" class=\"dataframe\">\n",
       "  <thead>\n",
       "    <tr>\n",
       "      <th></th>\n",
       "      <th colspan=\"7\" halign=\"left\">SPY</th>\n",
       "      <th colspan=\"7\" halign=\"left\">AGG</th>\n",
       "    </tr>\n",
       "    <tr>\n",
       "      <th></th>\n",
       "      <th>open</th>\n",
       "      <th>high</th>\n",
       "      <th>low</th>\n",
       "      <th>close</th>\n",
       "      <th>volume</th>\n",
       "      <th>trade_count</th>\n",
       "      <th>vwap</th>\n",
       "      <th>open</th>\n",
       "      <th>high</th>\n",
       "      <th>low</th>\n",
       "      <th>close</th>\n",
       "      <th>volume</th>\n",
       "      <th>trade_count</th>\n",
       "      <th>vwap</th>\n",
       "    </tr>\n",
       "    <tr>\n",
       "      <th>timestamp</th>\n",
       "      <th></th>\n",
       "      <th></th>\n",
       "      <th></th>\n",
       "      <th></th>\n",
       "      <th></th>\n",
       "      <th></th>\n",
       "      <th></th>\n",
       "      <th></th>\n",
       "      <th></th>\n",
       "      <th></th>\n",
       "      <th></th>\n",
       "      <th></th>\n",
       "      <th></th>\n",
       "      <th></th>\n",
       "    </tr>\n",
       "  </thead>\n",
       "  <tbody>\n",
       "    <tr>\n",
       "      <th>2020-08-03 04:00:00+00:00</th>\n",
       "      <td>328.3200</td>\n",
       "      <td>329.62</td>\n",
       "      <td>327.73</td>\n",
       "      <td>328.67</td>\n",
       "      <td>53078112</td>\n",
       "      <td>288003</td>\n",
       "      <td>328.658795</td>\n",
       "      <td>119.37</td>\n",
       "      <td>119.40</td>\n",
       "      <td>119.1903</td>\n",
       "      <td>119.40</td>\n",
       "      <td>13014535</td>\n",
       "      <td>36359</td>\n",
       "      <td>119.282420</td>\n",
       "    </tr>\n",
       "    <tr>\n",
       "      <th>2020-08-04 04:00:00+00:00</th>\n",
       "      <td>327.8600</td>\n",
       "      <td>330.06</td>\n",
       "      <td>327.86</td>\n",
       "      <td>330.00</td>\n",
       "      <td>41917896</td>\n",
       "      <td>250899</td>\n",
       "      <td>329.057592</td>\n",
       "      <td>119.42</td>\n",
       "      <td>119.63</td>\n",
       "      <td>119.4200</td>\n",
       "      <td>119.63</td>\n",
       "      <td>10935154</td>\n",
       "      <td>39113</td>\n",
       "      <td>119.541666</td>\n",
       "    </tr>\n",
       "    <tr>\n",
       "      <th>2020-08-05 04:00:00+00:00</th>\n",
       "      <td>331.4700</td>\n",
       "      <td>332.39</td>\n",
       "      <td>331.18</td>\n",
       "      <td>332.03</td>\n",
       "      <td>42870955</td>\n",
       "      <td>241416</td>\n",
       "      <td>331.791643</td>\n",
       "      <td>119.39</td>\n",
       "      <td>119.49</td>\n",
       "      <td>119.3100</td>\n",
       "      <td>119.40</td>\n",
       "      <td>17377874</td>\n",
       "      <td>42313</td>\n",
       "      <td>119.387245</td>\n",
       "    </tr>\n",
       "    <tr>\n",
       "      <th>2020-08-06 04:00:00+00:00</th>\n",
       "      <td>331.4799</td>\n",
       "      <td>334.46</td>\n",
       "      <td>331.13</td>\n",
       "      <td>334.32</td>\n",
       "      <td>43679448</td>\n",
       "      <td>290036</td>\n",
       "      <td>332.939600</td>\n",
       "      <td>119.62</td>\n",
       "      <td>119.73</td>\n",
       "      <td>119.5300</td>\n",
       "      <td>119.57</td>\n",
       "      <td>4608710</td>\n",
       "      <td>15938</td>\n",
       "      <td>119.604199</td>\n",
       "    </tr>\n",
       "    <tr>\n",
       "      <th>2020-08-07 04:00:00+00:00</th>\n",
       "      <td>333.2800</td>\n",
       "      <td>334.88</td>\n",
       "      <td>332.30</td>\n",
       "      <td>334.57</td>\n",
       "      <td>57282821</td>\n",
       "      <td>350100</td>\n",
       "      <td>333.800372</td>\n",
       "      <td>119.66</td>\n",
       "      <td>119.73</td>\n",
       "      <td>119.3950</td>\n",
       "      <td>119.43</td>\n",
       "      <td>5559066</td>\n",
       "      <td>15246</td>\n",
       "      <td>119.475306</td>\n",
       "    </tr>\n",
       "  </tbody>\n",
       "</table>\n",
       "</div>"
      ],
      "text/plain": [
       "                                SPY                                    \\\n",
       "                               open    high     low   close    volume   \n",
       "timestamp                                                               \n",
       "2020-08-03 04:00:00+00:00  328.3200  329.62  327.73  328.67  53078112   \n",
       "2020-08-04 04:00:00+00:00  327.8600  330.06  327.86  330.00  41917896   \n",
       "2020-08-05 04:00:00+00:00  331.4700  332.39  331.18  332.03  42870955   \n",
       "2020-08-06 04:00:00+00:00  331.4799  334.46  331.13  334.32  43679448   \n",
       "2020-08-07 04:00:00+00:00  333.2800  334.88  332.30  334.57  57282821   \n",
       "\n",
       "                                                      AGG                    \\\n",
       "                          trade_count        vwap    open    high       low   \n",
       "timestamp                                                                     \n",
       "2020-08-03 04:00:00+00:00      288003  328.658795  119.37  119.40  119.1903   \n",
       "2020-08-04 04:00:00+00:00      250899  329.057592  119.42  119.63  119.4200   \n",
       "2020-08-05 04:00:00+00:00      241416  331.791643  119.39  119.49  119.3100   \n",
       "2020-08-06 04:00:00+00:00      290036  332.939600  119.62  119.73  119.5300   \n",
       "2020-08-07 04:00:00+00:00      350100  333.800372  119.66  119.73  119.3950   \n",
       "\n",
       "                                                                     \n",
       "                            close    volume trade_count        vwap  \n",
       "timestamp                                                            \n",
       "2020-08-03 04:00:00+00:00  119.40  13014535       36359  119.282420  \n",
       "2020-08-04 04:00:00+00:00  119.63  10935154       39113  119.541666  \n",
       "2020-08-05 04:00:00+00:00  119.40  17377874       42313  119.387245  \n",
       "2020-08-06 04:00:00+00:00  119.57   4608710       15938  119.604199  \n",
       "2020-08-07 04:00:00+00:00  119.43   5559066       15246  119.475306  "
      ]
     },
     "execution_count": 19,
     "metadata": {},
     "output_type": "execute_result"
    }
   ],
   "source": [
    "df_portfolio\n",
    "\n"
   ]
  },
  {
   "cell_type": "code",
   "execution_count": 20,
   "metadata": {},
   "outputs": [
    {
     "name": "stdout",
     "output_type": "stream",
     "text": [
      "The current value of the bond portfolio is, timestamp\n",
      "2020-08-03 04:00:00+00:00    36153.7\n",
      "2020-08-04 04:00:00+00:00    36300.0\n",
      "2020-08-05 04:00:00+00:00    36523.3\n",
      "2020-08-06 04:00:00+00:00    36775.2\n",
      "2020-08-07 04:00:00+00:00    36802.7\n",
      "Name: close, dtype: float64\n"
     ]
    }
   ],
   "source": [
    "# Calculate the current value of the bond portion of the portfolio\n",
    "spy_value = spy_close_price * spy_shares\n",
    "\n",
    "# Print the current value of the bond portfolio\n",
    "print(f\"The current value of the bond portfolio is,\", spy_value)"
   ]
  },
  {
   "cell_type": "code",
   "execution_count": 21,
   "metadata": {},
   "outputs": [
    {
     "name": "stdout",
     "output_type": "stream",
     "text": [
      "The current value of the 200 AGG shares is $timestamp\n",
      "2020-08-03 04:00:00+00:00    23880.0\n",
      "2020-08-04 04:00:00+00:00    23926.0\n",
      "2020-08-05 04:00:00+00:00    23880.0\n",
      "2020-08-06 04:00:00+00:00    23914.0\n",
      "2020-08-07 04:00:00+00:00    23886.0\n",
      "Name: close, dtype: float64\n"
     ]
    }
   ],
   "source": [
    "# Calculate the current value of the stock portion of the portfolio\n",
    "agg_value = agg_close_price * agg_shares\n",
    "# Print the current value of the stock portfolio\n",
    "print(f\"The current value of the {agg_shares} AGG shares is ${agg_value}\")\n"
   ]
  },
  {
   "cell_type": "code",
   "execution_count": 22,
   "metadata": {},
   "outputs": [
    {
     "name": "stdout",
     "output_type": "stream",
     "text": [
      "The current balance of the stock and bond portion of the portfolio timestamp\n",
      "2020-08-03 04:00:00+00:00    60033.7\n",
      "2020-08-04 04:00:00+00:00    60226.0\n",
      "2020-08-05 04:00:00+00:00    60403.3\n",
      "2020-08-06 04:00:00+00:00    60689.2\n",
      "2020-08-07 04:00:00+00:00    60688.7\n",
      "Name: close, dtype: float64\n"
     ]
    }
   ],
   "source": [
    "# Calculate the total value of the stock and bond portion of the portfolio\n",
    "total_stocks_bonds = spy_value + agg_value\n",
    "\n",
    "# Print the current balance of the stock and bond portion of the portfolio\n",
    "print(\"The current balance of the stock and bond portion of the portfolio\",total_stocks_bonds) \n"
   ]
  },
  {
   "cell_type": "code",
   "execution_count": 23,
   "metadata": {},
   "outputs": [
    {
     "name": "stdout",
     "output_type": "stream",
     "text": [
      "Here is the current cryptocurrency wallet balance:  timestamp\n",
      "2020-08-03 04:00:00+00:00    83820.24\n",
      "2020-08-04 04:00:00+00:00    84012.54\n",
      "2020-08-05 04:00:00+00:00    84189.84\n",
      "2020-08-06 04:00:00+00:00    84475.74\n",
      "2020-08-07 04:00:00+00:00    84475.24\n",
      "Name: close, dtype: float64\n"
     ]
    }
   ],
   "source": [
    "# Calculate the total value of the member's entire savings portfolio\n",
    "# Add the value of the cryptocurrency walled to the value of the total stocks and bonds\n",
    "total_portfolio_value = total_crypto_wallet + total_stocks_bonds\n",
    "\n",
    "# Print current cryptocurrency wallet balance\n",
    "print(\"Here is the current cryptocurrency wallet balance: \", total_portfolio_value)\n"
   ]
  },
  {
   "cell_type": "markdown",
   "metadata": {},
   "source": [
    "### Evaluate the Emergency Fund\n",
    "\n",
    "In this section, you’ll use the valuations for the cryptocurrency wallet and for the stock and bond portions of the portfolio to determine if the credit union member has enough savings to build an emergency fund into their financial plan. To do this, complete the following steps:\n",
    "\n",
    "1. Create a Python list named `savings_data` that has two elements. The first element contains the total value of the cryptocurrency wallet. The second element contains the total value of the stock and bond portions of the portfolio.\n",
    "\n",
    "2. Use the `savings_data` list to create a Pandas DataFrame named `savings_df`, and then display this DataFrame. The function to create the DataFrame should take the following three parameters:\n",
    "\n",
    "    - `savings_data`: Use the list that you just created.\n",
    "\n",
    "    - `columns`: Set this parameter equal to a Python list with a single value called `amount`.\n",
    "\n",
    "    - `index`: Set this parameter equal to a Python list with the values of `crypto` and `stock/bond`.\n",
    "\n",
    "3. Use the `savings_df` DataFrame to plot a pie chart that visualizes the composition of the member’s portfolio. The y-axis of the pie chart uses `amount`. Be sure to add a title.\n",
    "\n",
    "4. Using Python, determine if the current portfolio has enough to create an emergency fund as part of the member’s financial plan. Ideally, an emergency fund should equal to three times the member’s monthly income. To do this, implement the following steps:\n",
    "\n",
    "    1. Create a variable named `emergency_fund_value`, and set it equal to three times the value of the member’s `monthly_income` of $12000. (You set this earlier in Part 1).\n",
    "\n",
    "    2. Create a series of three if statements to determine if the member’s total portfolio is large enough to fund the emergency portfolio:\n",
    "\n",
    "        1. If the total portfolio value is greater than the emergency fund value, display a message congratulating the member for having enough money in this fund.\n",
    "\n",
    "        2. Else if the total portfolio value is equal to the emergency fund value, display a message congratulating the member on reaching this important financial goal.\n",
    "\n",
    "        3. Else the total portfolio is less than the emergency fund value, so display a message showing how many dollars away the member is from reaching the goal. (Subtract the total portfolio value from the emergency fund value.)\n"
   ]
  },
  {
   "cell_type": "markdown",
   "metadata": {},
   "source": [
    "#### Step 1: Create a Python list named `savings_data` that has two elements. The first element contains the total value of the cryptocurrency wallet. The second element contains the total value of the stock and bond portions of the portfolio."
   ]
  },
  {
   "cell_type": "code",
   "execution_count": 24,
   "metadata": {},
   "outputs": [
    {
     "name": "stdout",
     "output_type": "stream",
     "text": [
      "timestamp\n",
      "2020-08-03 04:00:00+00:00    107606.78\n",
      "2020-08-04 04:00:00+00:00    107799.08\n",
      "2020-08-05 04:00:00+00:00    107976.38\n",
      "2020-08-06 04:00:00+00:00    108262.28\n",
      "2020-08-07 04:00:00+00:00    108261.78\n",
      "Name: close, dtype: float64\n"
     ]
    }
   ],
   "source": [
    "# Consolidate financial assets data into a Python list\n",
    "monthly_income = 12000\n",
    "\n",
    "crypto_assets = btc_coins + eth_coins\n",
    "stock_bond_assets = spy_value + agg_value\n",
    "\n",
    "savings_data = total_crypto_wallet + total_portfolio_value\n",
    "value_data = {\n",
    "    'amount': [crypto_assets, stock_bond_assets],\n",
    "    'asset': [\"crypto\", \"shares\"]\n",
    "}\n",
    "# Review the Python list savings_data\n",
    "print(savings_data)\n",
    "    "
   ]
  },
  {
   "cell_type": "markdown",
   "metadata": {},
   "source": [
    "#### Step 2: Use the `savings_data` list to create a Pandas DataFrame named `savings_df`, and then display this DataFrame. The function to create the DataFrame should take the following three parameters:\n",
    "\n",
    "- `savings_data`: Use the list that you just created.\n",
    "\n",
    "- `columns`: Set this parameter equal to a Python list with a single value called `amount`.\n",
    "\n",
    "- `index`: Set this parameter equal to a Python list with the values of `crypto` and `stock/bond`.\n"
   ]
  },
  {
   "cell_type": "code",
   "execution_count": 25,
   "metadata": {},
   "outputs": [
    {
     "data": {
      "text/html": [
       "<div>\n",
       "<style scoped>\n",
       "    .dataframe tbody tr th:only-of-type {\n",
       "        vertical-align: middle;\n",
       "    }\n",
       "\n",
       "    .dataframe tbody tr th {\n",
       "        vertical-align: top;\n",
       "    }\n",
       "\n",
       "    .dataframe thead th {\n",
       "        text-align: right;\n",
       "    }\n",
       "</style>\n",
       "<table border=\"1\" class=\"dataframe\">\n",
       "  <thead>\n",
       "    <tr style=\"text-align: right;\">\n",
       "      <th></th>\n",
       "      <th>amount</th>\n",
       "    </tr>\n",
       "    <tr>\n",
       "      <th>asset</th>\n",
       "      <th></th>\n",
       "    </tr>\n",
       "  </thead>\n",
       "  <tbody>\n",
       "    <tr>\n",
       "      <th>crypto</th>\n",
       "      <td>6.5</td>\n",
       "    </tr>\n",
       "    <tr>\n",
       "      <th>shares</th>\n",
       "      <td>timestamp\n",
       "2020-08-03 04:00:00+00:00    60033.7...</td>\n",
       "    </tr>\n",
       "  </tbody>\n",
       "</table>\n",
       "</div>"
      ],
      "text/plain": [
       "                                                   amount\n",
       "asset                                                    \n",
       "crypto                                                6.5\n",
       "shares  timestamp\n",
       "2020-08-03 04:00:00+00:00    60033.7..."
      ]
     },
     "metadata": {},
     "output_type": "display_data"
    },
    {
     "data": {
      "text/html": [
       "<div>\n",
       "<style scoped>\n",
       "    .dataframe tbody tr th:only-of-type {\n",
       "        vertical-align: middle;\n",
       "    }\n",
       "\n",
       "    .dataframe tbody tr th {\n",
       "        vertical-align: top;\n",
       "    }\n",
       "\n",
       "    .dataframe thead th {\n",
       "        text-align: right;\n",
       "    }\n",
       "</style>\n",
       "<table border=\"1\" class=\"dataframe\">\n",
       "  <thead>\n",
       "    <tr style=\"text-align: right;\">\n",
       "      <th></th>\n",
       "      <th>amount</th>\n",
       "    </tr>\n",
       "    <tr>\n",
       "      <th>asset</th>\n",
       "      <th></th>\n",
       "    </tr>\n",
       "  </thead>\n",
       "  <tbody>\n",
       "    <tr>\n",
       "      <th>crypto</th>\n",
       "      <td>6.5</td>\n",
       "    </tr>\n",
       "    <tr>\n",
       "      <th>shares</th>\n",
       "      <td>timestamp\n",
       "2020-08-03 04:00:00+00:00    60033.7...</td>\n",
       "    </tr>\n",
       "  </tbody>\n",
       "</table>\n",
       "</div>"
      ],
      "text/plain": [
       "                                                   amount\n",
       "asset                                                    \n",
       "crypto                                                6.5\n",
       "shares  timestamp\n",
       "2020-08-03 04:00:00+00:00    60033.7..."
      ]
     },
     "metadata": {},
     "output_type": "display_data"
    }
   ],
   "source": [
    "# Create a Pandas DataFrame called savings_df \n",
    "savings_df = pd.DataFrame(value_data).set_index('asset')\n",
    "\n",
    "\n",
    "# Display the savings_df DataFrame\n",
    "display(savings_df.head())\n",
    "display(savings_df.tail())\n"
   ]
  },
  {
   "cell_type": "markdown",
   "metadata": {},
   "source": [
    "#### Step 3: Use the `savings_df` DataFrame to plot a pie chart that visualizes the composition of the member’s portfolio. The y-axis of the pie chart uses `amount`. Be sure to add a title."
   ]
  },
  {
   "cell_type": "code",
   "execution_count": 27,
   "metadata": {},
   "outputs": [
    {
     "ename": "ValueError",
     "evalue": "The truth value of a Series is ambiguous. Use a.empty, a.bool(), a.item(), a.any() or a.all().",
     "output_type": "error",
     "traceback": [
      "\u001b[1;31m---------------------------------------------------------------------------\u001b[0m",
      "\u001b[1;31mValueError\u001b[0m                                Traceback (most recent call last)",
      "\u001b[1;32m~\\AppData\\Local\\Temp\\ipykernel_17624\\879754969.py\u001b[0m in \u001b[0;36m<module>\u001b[1;34m\u001b[0m\n\u001b[0;32m      1\u001b[0m \u001b[1;31m# Plot the total value of the member's portfolio (crypto and stock/bond) in a pie chart\u001b[0m\u001b[1;33m\u001b[0m\u001b[1;33m\u001b[0m\u001b[0m\n\u001b[1;32m----> 2\u001b[1;33m \u001b[0msavings_df\u001b[0m\u001b[1;33m.\u001b[0m\u001b[0mplot\u001b[0m\u001b[1;33m.\u001b[0m\u001b[0mpie\u001b[0m\u001b[1;33m(\u001b[0m \u001b[0my\u001b[0m\u001b[1;33m=\u001b[0m\u001b[1;34m\"amount\"\u001b[0m\u001b[1;33m,\u001b[0m \u001b[0mfigsize\u001b[0m\u001b[1;33m=\u001b[0m\u001b[1;33m(\u001b[0m\u001b[1;36m5\u001b[0m\u001b[1;33m,\u001b[0m\u001b[1;36m7\u001b[0m\u001b[1;33m)\u001b[0m\u001b[1;33m,\u001b[0m \u001b[0mtitle\u001b[0m \u001b[1;33m=\u001b[0m \u001b[1;34m\"Total value of the Members portfolio (Crypto and Stock/Bonds)\"\u001b[0m\u001b[1;33m)\u001b[0m\u001b[1;33m\u001b[0m\u001b[1;33m\u001b[0m\u001b[0m\n\u001b[0m",
      "\u001b[1;32m~\\anaconda3\\lib\\site-packages\\pandas\\plotting\\_core.py\u001b[0m in \u001b[0;36mpie\u001b[1;34m(self, **kwargs)\u001b[0m\n\u001b[0;32m   1582\u001b[0m         ):\n\u001b[0;32m   1583\u001b[0m             \u001b[1;32mraise\u001b[0m \u001b[0mValueError\u001b[0m\u001b[1;33m(\u001b[0m\u001b[1;34m\"pie requires either y column or 'subplots=True'\"\u001b[0m\u001b[1;33m)\u001b[0m\u001b[1;33m\u001b[0m\u001b[1;33m\u001b[0m\u001b[0m\n\u001b[1;32m-> 1584\u001b[1;33m         \u001b[1;32mreturn\u001b[0m \u001b[0mself\u001b[0m\u001b[1;33m(\u001b[0m\u001b[0mkind\u001b[0m\u001b[1;33m=\u001b[0m\u001b[1;34m\"pie\"\u001b[0m\u001b[1;33m,\u001b[0m \u001b[1;33m**\u001b[0m\u001b[0mkwargs\u001b[0m\u001b[1;33m)\u001b[0m\u001b[1;33m\u001b[0m\u001b[1;33m\u001b[0m\u001b[0m\n\u001b[0m\u001b[0;32m   1585\u001b[0m \u001b[1;33m\u001b[0m\u001b[0m\n\u001b[0;32m   1586\u001b[0m     \u001b[1;32mdef\u001b[0m \u001b[0mscatter\u001b[0m\u001b[1;33m(\u001b[0m\u001b[0mself\u001b[0m\u001b[1;33m,\u001b[0m \u001b[0mx\u001b[0m\u001b[1;33m,\u001b[0m \u001b[0my\u001b[0m\u001b[1;33m,\u001b[0m \u001b[0ms\u001b[0m\u001b[1;33m=\u001b[0m\u001b[1;32mNone\u001b[0m\u001b[1;33m,\u001b[0m \u001b[0mc\u001b[0m\u001b[1;33m=\u001b[0m\u001b[1;32mNone\u001b[0m\u001b[1;33m,\u001b[0m \u001b[1;33m**\u001b[0m\u001b[0mkwargs\u001b[0m\u001b[1;33m)\u001b[0m\u001b[1;33m:\u001b[0m\u001b[1;33m\u001b[0m\u001b[1;33m\u001b[0m\u001b[0m\n",
      "\u001b[1;32m~\\anaconda3\\lib\\site-packages\\pandas\\plotting\\_core.py\u001b[0m in \u001b[0;36m__call__\u001b[1;34m(self, *args, **kwargs)\u001b[0m\n\u001b[0;32m    970\u001b[0m                     \u001b[0mdata\u001b[0m\u001b[1;33m.\u001b[0m\u001b[0mcolumns\u001b[0m \u001b[1;33m=\u001b[0m \u001b[0mlabel_name\u001b[0m\u001b[1;33m\u001b[0m\u001b[1;33m\u001b[0m\u001b[0m\n\u001b[0;32m    971\u001b[0m \u001b[1;33m\u001b[0m\u001b[0m\n\u001b[1;32m--> 972\u001b[1;33m         \u001b[1;32mreturn\u001b[0m \u001b[0mplot_backend\u001b[0m\u001b[1;33m.\u001b[0m\u001b[0mplot\u001b[0m\u001b[1;33m(\u001b[0m\u001b[0mdata\u001b[0m\u001b[1;33m,\u001b[0m \u001b[0mkind\u001b[0m\u001b[1;33m=\u001b[0m\u001b[0mkind\u001b[0m\u001b[1;33m,\u001b[0m \u001b[1;33m**\u001b[0m\u001b[0mkwargs\u001b[0m\u001b[1;33m)\u001b[0m\u001b[1;33m\u001b[0m\u001b[1;33m\u001b[0m\u001b[0m\n\u001b[0m\u001b[0;32m    973\u001b[0m \u001b[1;33m\u001b[0m\u001b[0m\n\u001b[0;32m    974\u001b[0m     \u001b[0m__call__\u001b[0m\u001b[1;33m.\u001b[0m\u001b[0m__doc__\u001b[0m \u001b[1;33m=\u001b[0m \u001b[0m__doc__\u001b[0m\u001b[1;33m\u001b[0m\u001b[1;33m\u001b[0m\u001b[0m\n",
      "\u001b[1;32m~\\anaconda3\\lib\\site-packages\\pandas\\plotting\\_matplotlib\\__init__.py\u001b[0m in \u001b[0;36mplot\u001b[1;34m(data, kind, **kwargs)\u001b[0m\n\u001b[0;32m     68\u001b[0m                 \u001b[0max\u001b[0m \u001b[1;33m=\u001b[0m \u001b[0mplt\u001b[0m\u001b[1;33m.\u001b[0m\u001b[0mgca\u001b[0m\u001b[1;33m(\u001b[0m\u001b[1;33m)\u001b[0m\u001b[1;33m\u001b[0m\u001b[1;33m\u001b[0m\u001b[0m\n\u001b[0;32m     69\u001b[0m             \u001b[0mkwargs\u001b[0m\u001b[1;33m[\u001b[0m\u001b[1;34m\"ax\"\u001b[0m\u001b[1;33m]\u001b[0m \u001b[1;33m=\u001b[0m \u001b[0mgetattr\u001b[0m\u001b[1;33m(\u001b[0m\u001b[0max\u001b[0m\u001b[1;33m,\u001b[0m \u001b[1;34m\"left_ax\"\u001b[0m\u001b[1;33m,\u001b[0m \u001b[0max\u001b[0m\u001b[1;33m)\u001b[0m\u001b[1;33m\u001b[0m\u001b[1;33m\u001b[0m\u001b[0m\n\u001b[1;32m---> 70\u001b[1;33m     \u001b[0mplot_obj\u001b[0m \u001b[1;33m=\u001b[0m \u001b[0mPLOT_CLASSES\u001b[0m\u001b[1;33m[\u001b[0m\u001b[0mkind\u001b[0m\u001b[1;33m]\u001b[0m\u001b[1;33m(\u001b[0m\u001b[0mdata\u001b[0m\u001b[1;33m,\u001b[0m \u001b[1;33m**\u001b[0m\u001b[0mkwargs\u001b[0m\u001b[1;33m)\u001b[0m\u001b[1;33m\u001b[0m\u001b[1;33m\u001b[0m\u001b[0m\n\u001b[0m\u001b[0;32m     71\u001b[0m     \u001b[0mplot_obj\u001b[0m\u001b[1;33m.\u001b[0m\u001b[0mgenerate\u001b[0m\u001b[1;33m(\u001b[0m\u001b[1;33m)\u001b[0m\u001b[1;33m\u001b[0m\u001b[1;33m\u001b[0m\u001b[0m\n\u001b[0;32m     72\u001b[0m     \u001b[0mplot_obj\u001b[0m\u001b[1;33m.\u001b[0m\u001b[0mdraw\u001b[0m\u001b[1;33m(\u001b[0m\u001b[1;33m)\u001b[0m\u001b[1;33m\u001b[0m\u001b[1;33m\u001b[0m\u001b[0m\n",
      "\u001b[1;32m~\\anaconda3\\lib\\site-packages\\pandas\\plotting\\_matplotlib\\core.py\u001b[0m in \u001b[0;36m__init__\u001b[1;34m(self, data, kind, **kwargs)\u001b[0m\n\u001b[0;32m   1624\u001b[0m     \u001b[1;32mdef\u001b[0m \u001b[0m__init__\u001b[0m\u001b[1;33m(\u001b[0m\u001b[0mself\u001b[0m\u001b[1;33m,\u001b[0m \u001b[0mdata\u001b[0m\u001b[1;33m,\u001b[0m \u001b[0mkind\u001b[0m\u001b[1;33m=\u001b[0m\u001b[1;32mNone\u001b[0m\u001b[1;33m,\u001b[0m \u001b[1;33m**\u001b[0m\u001b[0mkwargs\u001b[0m\u001b[1;33m)\u001b[0m\u001b[1;33m:\u001b[0m\u001b[1;33m\u001b[0m\u001b[1;33m\u001b[0m\u001b[0m\n\u001b[0;32m   1625\u001b[0m         \u001b[0mdata\u001b[0m \u001b[1;33m=\u001b[0m \u001b[0mdata\u001b[0m\u001b[1;33m.\u001b[0m\u001b[0mfillna\u001b[0m\u001b[1;33m(\u001b[0m\u001b[0mvalue\u001b[0m\u001b[1;33m=\u001b[0m\u001b[1;36m0\u001b[0m\u001b[1;33m)\u001b[0m\u001b[1;33m\u001b[0m\u001b[1;33m\u001b[0m\u001b[0m\n\u001b[1;32m-> 1626\u001b[1;33m         \u001b[1;32mif\u001b[0m \u001b[1;33m(\u001b[0m\u001b[0mdata\u001b[0m \u001b[1;33m<\u001b[0m \u001b[1;36m0\u001b[0m\u001b[1;33m)\u001b[0m\u001b[1;33m.\u001b[0m\u001b[0many\u001b[0m\u001b[1;33m(\u001b[0m\u001b[1;33m)\u001b[0m\u001b[1;33m.\u001b[0m\u001b[0many\u001b[0m\u001b[1;33m(\u001b[0m\u001b[1;33m)\u001b[0m\u001b[1;33m:\u001b[0m\u001b[1;33m\u001b[0m\u001b[1;33m\u001b[0m\u001b[0m\n\u001b[0m\u001b[0;32m   1627\u001b[0m             \u001b[1;32mraise\u001b[0m \u001b[0mValueError\u001b[0m\u001b[1;33m(\u001b[0m\u001b[1;34mf\"{self._kind} plot doesn't allow negative values\"\u001b[0m\u001b[1;33m)\u001b[0m\u001b[1;33m\u001b[0m\u001b[1;33m\u001b[0m\u001b[0m\n\u001b[0;32m   1628\u001b[0m         \u001b[0mMPLPlot\u001b[0m\u001b[1;33m.\u001b[0m\u001b[0m__init__\u001b[0m\u001b[1;33m(\u001b[0m\u001b[0mself\u001b[0m\u001b[1;33m,\u001b[0m \u001b[0mdata\u001b[0m\u001b[1;33m,\u001b[0m \u001b[0mkind\u001b[0m\u001b[1;33m=\u001b[0m\u001b[0mkind\u001b[0m\u001b[1;33m,\u001b[0m \u001b[1;33m**\u001b[0m\u001b[0mkwargs\u001b[0m\u001b[1;33m)\u001b[0m\u001b[1;33m\u001b[0m\u001b[1;33m\u001b[0m\u001b[0m\n",
      "\u001b[1;32m~\\anaconda3\\lib\\site-packages\\pandas\\core\\ops\\common.py\u001b[0m in \u001b[0;36mnew_method\u001b[1;34m(self, other)\u001b[0m\n\u001b[0;32m     68\u001b[0m         \u001b[0mother\u001b[0m \u001b[1;33m=\u001b[0m \u001b[0mitem_from_zerodim\u001b[0m\u001b[1;33m(\u001b[0m\u001b[0mother\u001b[0m\u001b[1;33m)\u001b[0m\u001b[1;33m\u001b[0m\u001b[1;33m\u001b[0m\u001b[0m\n\u001b[0;32m     69\u001b[0m \u001b[1;33m\u001b[0m\u001b[0m\n\u001b[1;32m---> 70\u001b[1;33m         \u001b[1;32mreturn\u001b[0m \u001b[0mmethod\u001b[0m\u001b[1;33m(\u001b[0m\u001b[0mself\u001b[0m\u001b[1;33m,\u001b[0m \u001b[0mother\u001b[0m\u001b[1;33m)\u001b[0m\u001b[1;33m\u001b[0m\u001b[1;33m\u001b[0m\u001b[0m\n\u001b[0m\u001b[0;32m     71\u001b[0m \u001b[1;33m\u001b[0m\u001b[0m\n\u001b[0;32m     72\u001b[0m     \u001b[1;32mreturn\u001b[0m \u001b[0mnew_method\u001b[0m\u001b[1;33m\u001b[0m\u001b[1;33m\u001b[0m\u001b[0m\n",
      "\u001b[1;32m~\\anaconda3\\lib\\site-packages\\pandas\\core\\arraylike.py\u001b[0m in \u001b[0;36m__lt__\u001b[1;34m(self, other)\u001b[0m\n\u001b[0;32m     46\u001b[0m     \u001b[1;33m@\u001b[0m\u001b[0munpack_zerodim_and_defer\u001b[0m\u001b[1;33m(\u001b[0m\u001b[1;34m\"__lt__\"\u001b[0m\u001b[1;33m)\u001b[0m\u001b[1;33m\u001b[0m\u001b[1;33m\u001b[0m\u001b[0m\n\u001b[0;32m     47\u001b[0m     \u001b[1;32mdef\u001b[0m \u001b[0m__lt__\u001b[0m\u001b[1;33m(\u001b[0m\u001b[0mself\u001b[0m\u001b[1;33m,\u001b[0m \u001b[0mother\u001b[0m\u001b[1;33m)\u001b[0m\u001b[1;33m:\u001b[0m\u001b[1;33m\u001b[0m\u001b[1;33m\u001b[0m\u001b[0m\n\u001b[1;32m---> 48\u001b[1;33m         \u001b[1;32mreturn\u001b[0m \u001b[0mself\u001b[0m\u001b[1;33m.\u001b[0m\u001b[0m_cmp_method\u001b[0m\u001b[1;33m(\u001b[0m\u001b[0mother\u001b[0m\u001b[1;33m,\u001b[0m \u001b[0moperator\u001b[0m\u001b[1;33m.\u001b[0m\u001b[0mlt\u001b[0m\u001b[1;33m)\u001b[0m\u001b[1;33m\u001b[0m\u001b[1;33m\u001b[0m\u001b[0m\n\u001b[0m\u001b[0;32m     49\u001b[0m \u001b[1;33m\u001b[0m\u001b[0m\n\u001b[0;32m     50\u001b[0m     \u001b[1;33m@\u001b[0m\u001b[0munpack_zerodim_and_defer\u001b[0m\u001b[1;33m(\u001b[0m\u001b[1;34m\"__le__\"\u001b[0m\u001b[1;33m)\u001b[0m\u001b[1;33m\u001b[0m\u001b[1;33m\u001b[0m\u001b[0m\n",
      "\u001b[1;32m~\\anaconda3\\lib\\site-packages\\pandas\\core\\series.py\u001b[0m in \u001b[0;36m_cmp_method\u001b[1;34m(self, other, op)\u001b[0m\n\u001b[0;32m   5621\u001b[0m \u001b[1;33m\u001b[0m\u001b[0m\n\u001b[0;32m   5622\u001b[0m         \u001b[1;32mwith\u001b[0m \u001b[0mnp\u001b[0m\u001b[1;33m.\u001b[0m\u001b[0merrstate\u001b[0m\u001b[1;33m(\u001b[0m\u001b[0mall\u001b[0m\u001b[1;33m=\u001b[0m\u001b[1;34m\"ignore\"\u001b[0m\u001b[1;33m)\u001b[0m\u001b[1;33m:\u001b[0m\u001b[1;33m\u001b[0m\u001b[1;33m\u001b[0m\u001b[0m\n\u001b[1;32m-> 5623\u001b[1;33m             \u001b[0mres_values\u001b[0m \u001b[1;33m=\u001b[0m \u001b[0mops\u001b[0m\u001b[1;33m.\u001b[0m\u001b[0mcomparison_op\u001b[0m\u001b[1;33m(\u001b[0m\u001b[0mlvalues\u001b[0m\u001b[1;33m,\u001b[0m \u001b[0mrvalues\u001b[0m\u001b[1;33m,\u001b[0m \u001b[0mop\u001b[0m\u001b[1;33m)\u001b[0m\u001b[1;33m\u001b[0m\u001b[1;33m\u001b[0m\u001b[0m\n\u001b[0m\u001b[0;32m   5624\u001b[0m \u001b[1;33m\u001b[0m\u001b[0m\n\u001b[0;32m   5625\u001b[0m         \u001b[1;32mreturn\u001b[0m \u001b[0mself\u001b[0m\u001b[1;33m.\u001b[0m\u001b[0m_construct_result\u001b[0m\u001b[1;33m(\u001b[0m\u001b[0mres_values\u001b[0m\u001b[1;33m,\u001b[0m \u001b[0mname\u001b[0m\u001b[1;33m=\u001b[0m\u001b[0mres_name\u001b[0m\u001b[1;33m)\u001b[0m\u001b[1;33m\u001b[0m\u001b[1;33m\u001b[0m\u001b[0m\n",
      "\u001b[1;32m~\\anaconda3\\lib\\site-packages\\pandas\\core\\ops\\array_ops.py\u001b[0m in \u001b[0;36mcomparison_op\u001b[1;34m(left, right, op)\u001b[0m\n\u001b[0;32m    281\u001b[0m \u001b[1;33m\u001b[0m\u001b[0m\n\u001b[0;32m    282\u001b[0m     \u001b[1;32melif\u001b[0m \u001b[0mis_object_dtype\u001b[0m\u001b[1;33m(\u001b[0m\u001b[0mlvalues\u001b[0m\u001b[1;33m.\u001b[0m\u001b[0mdtype\u001b[0m\u001b[1;33m)\u001b[0m \u001b[1;32mor\u001b[0m \u001b[0misinstance\u001b[0m\u001b[1;33m(\u001b[0m\u001b[0mrvalues\u001b[0m\u001b[1;33m,\u001b[0m \u001b[0mstr\u001b[0m\u001b[1;33m)\u001b[0m\u001b[1;33m:\u001b[0m\u001b[1;33m\u001b[0m\u001b[1;33m\u001b[0m\u001b[0m\n\u001b[1;32m--> 283\u001b[1;33m         \u001b[0mres_values\u001b[0m \u001b[1;33m=\u001b[0m \u001b[0mcomp_method_OBJECT_ARRAY\u001b[0m\u001b[1;33m(\u001b[0m\u001b[0mop\u001b[0m\u001b[1;33m,\u001b[0m \u001b[0mlvalues\u001b[0m\u001b[1;33m,\u001b[0m \u001b[0mrvalues\u001b[0m\u001b[1;33m)\u001b[0m\u001b[1;33m\u001b[0m\u001b[1;33m\u001b[0m\u001b[0m\n\u001b[0m\u001b[0;32m    284\u001b[0m \u001b[1;33m\u001b[0m\u001b[0m\n\u001b[0;32m    285\u001b[0m     \u001b[1;32melse\u001b[0m\u001b[1;33m:\u001b[0m\u001b[1;33m\u001b[0m\u001b[1;33m\u001b[0m\u001b[0m\n",
      "\u001b[1;32m~\\anaconda3\\lib\\site-packages\\pandas\\core\\ops\\array_ops.py\u001b[0m in \u001b[0;36mcomp_method_OBJECT_ARRAY\u001b[1;34m(op, x, y)\u001b[0m\n\u001b[0;32m     71\u001b[0m         \u001b[0mresult\u001b[0m \u001b[1;33m=\u001b[0m \u001b[0mlibops\u001b[0m\u001b[1;33m.\u001b[0m\u001b[0mvec_compare\u001b[0m\u001b[1;33m(\u001b[0m\u001b[0mx\u001b[0m\u001b[1;33m.\u001b[0m\u001b[0mravel\u001b[0m\u001b[1;33m(\u001b[0m\u001b[1;33m)\u001b[0m\u001b[1;33m,\u001b[0m \u001b[0my\u001b[0m\u001b[1;33m.\u001b[0m\u001b[0mravel\u001b[0m\u001b[1;33m(\u001b[0m\u001b[1;33m)\u001b[0m\u001b[1;33m,\u001b[0m \u001b[0mop\u001b[0m\u001b[1;33m)\u001b[0m\u001b[1;33m\u001b[0m\u001b[1;33m\u001b[0m\u001b[0m\n\u001b[0;32m     72\u001b[0m     \u001b[1;32melse\u001b[0m\u001b[1;33m:\u001b[0m\u001b[1;33m\u001b[0m\u001b[1;33m\u001b[0m\u001b[0m\n\u001b[1;32m---> 73\u001b[1;33m         \u001b[0mresult\u001b[0m \u001b[1;33m=\u001b[0m \u001b[0mlibops\u001b[0m\u001b[1;33m.\u001b[0m\u001b[0mscalar_compare\u001b[0m\u001b[1;33m(\u001b[0m\u001b[0mx\u001b[0m\u001b[1;33m.\u001b[0m\u001b[0mravel\u001b[0m\u001b[1;33m(\u001b[0m\u001b[1;33m)\u001b[0m\u001b[1;33m,\u001b[0m \u001b[0my\u001b[0m\u001b[1;33m,\u001b[0m \u001b[0mop\u001b[0m\u001b[1;33m)\u001b[0m\u001b[1;33m\u001b[0m\u001b[1;33m\u001b[0m\u001b[0m\n\u001b[0m\u001b[0;32m     74\u001b[0m     \u001b[1;32mreturn\u001b[0m \u001b[0mresult\u001b[0m\u001b[1;33m.\u001b[0m\u001b[0mreshape\u001b[0m\u001b[1;33m(\u001b[0m\u001b[0mx\u001b[0m\u001b[1;33m.\u001b[0m\u001b[0mshape\u001b[0m\u001b[1;33m)\u001b[0m\u001b[1;33m\u001b[0m\u001b[1;33m\u001b[0m\u001b[0m\n\u001b[0;32m     75\u001b[0m \u001b[1;33m\u001b[0m\u001b[0m\n",
      "\u001b[1;32m~\\anaconda3\\lib\\site-packages\\pandas\\_libs\\ops.pyx\u001b[0m in \u001b[0;36mpandas._libs.ops.scalar_compare\u001b[1;34m()\u001b[0m\n",
      "\u001b[1;32m~\\anaconda3\\lib\\site-packages\\pandas\\core\\generic.py\u001b[0m in \u001b[0;36m__nonzero__\u001b[1;34m(self)\u001b[0m\n\u001b[0;32m   1525\u001b[0m     \u001b[1;33m@\u001b[0m\u001b[0mfinal\u001b[0m\u001b[1;33m\u001b[0m\u001b[1;33m\u001b[0m\u001b[0m\n\u001b[0;32m   1526\u001b[0m     \u001b[1;32mdef\u001b[0m \u001b[0m__nonzero__\u001b[0m\u001b[1;33m(\u001b[0m\u001b[0mself\u001b[0m\u001b[1;33m)\u001b[0m\u001b[1;33m:\u001b[0m\u001b[1;33m\u001b[0m\u001b[1;33m\u001b[0m\u001b[0m\n\u001b[1;32m-> 1527\u001b[1;33m         raise ValueError(\n\u001b[0m\u001b[0;32m   1528\u001b[0m             \u001b[1;34mf\"The truth value of a {type(self).__name__} is ambiguous. \"\u001b[0m\u001b[1;33m\u001b[0m\u001b[1;33m\u001b[0m\u001b[0m\n\u001b[0;32m   1529\u001b[0m             \u001b[1;34m\"Use a.empty, a.bool(), a.item(), a.any() or a.all().\"\u001b[0m\u001b[1;33m\u001b[0m\u001b[1;33m\u001b[0m\u001b[0m\n",
      "\u001b[1;31mValueError\u001b[0m: The truth value of a Series is ambiguous. Use a.empty, a.bool(), a.item(), a.any() or a.all()."
     ]
    }
   ],
   "source": [
    "# Plot the total value of the member's portfolio (crypto and stock/bond) in a pie chart\n",
    "savings_df.plot.pie( y=\"amount\", figsize=(5,7), title = \"Total value of the Members portfolio (Crypto and Stock/Bonds)\")"
   ]
  },
  {
   "cell_type": "markdown",
   "metadata": {},
   "source": [
    "#### Step 4: Using Python, determine if the current portfolio has enough to create an emergency fund as part of the member’s financial plan. Ideally, an emergency fund should equal to three times the member’s monthly income. To do this, implement the following steps:\n",
    "\n",
    "Step 1. Create a variable named `emergency_fund_value`, and set it equal to three times the value of the member’s `monthly_income` of 12000. (You set this earlier in Part 1).\n",
    "\n",
    "Step 2. Create a series of three if statements to determine if the member’s total portfolio is large enough to fund the emergency portfolio:\n",
    "\n",
    "* If the total portfolio value is greater than the emergency fund value, display a message congratulating the member for having enough money in this fund.\n",
    "\n",
    "* Else if the total portfolio value is equal to the emergency fund value, display a message congratulating the member on reaching this important financial goal.\n",
    "\n",
    "* Else the total portfolio is less than the emergency fund value, so display a message showing how many dollars away the member is from reaching the goal. (Subtract the total portfolio value from the emergency fund value.)\n"
   ]
  },
  {
   "cell_type": "markdown",
   "metadata": {},
   "source": [
    "##### Step 4-1: Create a variable named `emergency_fund_value`, and set it equal to three times the value of the member’s `monthly_income` of 12000. (You set this earlier in Part 1)."
   ]
  },
  {
   "cell_type": "code",
   "execution_count": 28,
   "metadata": {},
   "outputs": [],
   "source": [
    "# Create a variable named emergency_fund_value\n",
    "emergency_fund_value = 36000"
   ]
  },
  {
   "cell_type": "markdown",
   "metadata": {},
   "source": [
    "##### Step 4-2: Create a series of three if statements to determine if the member’s total portfolio is large enough to fund the emergency portfolio:\n",
    "\n",
    "* If the total portfolio value is greater than the emergency fund value, display a message congratulating the member for having enough money in this fund.\n",
    "\n",
    "* Else if the total portfolio value is equal to the emergency fund value, display a message congratulating the member on reaching this important financial goal.\n",
    "\n",
    "* Else the total portfolio is less than the emergency fund value, so display a message showing how many dollars away the member is from reaching the goal. (Subtract the total portfolio value from the emergency fund value.)"
   ]
  },
  {
   "cell_type": "code",
   "execution_count": 29,
   "metadata": {},
   "outputs": [
    {
     "ename": "ValueError",
     "evalue": "The truth value of a Series is ambiguous. Use a.empty, a.bool(), a.item(), a.any() or a.all().",
     "output_type": "error",
     "traceback": [
      "\u001b[1;31m---------------------------------------------------------------------------\u001b[0m",
      "\u001b[1;31mValueError\u001b[0m                                Traceback (most recent call last)",
      "\u001b[1;32m~\\AppData\\Local\\Temp\\ipykernel_17624\\1527538373.py\u001b[0m in \u001b[0;36m<module>\u001b[1;34m\u001b[0m\n\u001b[0;32m      1\u001b[0m \u001b[1;31m# Evaluate the possibility of creating an emergency fund with 3 conditions:\u001b[0m\u001b[1;33m\u001b[0m\u001b[1;33m\u001b[0m\u001b[0m\n\u001b[0;32m      2\u001b[0m \u001b[1;31m#for emergency in emergency_fund_value:\u001b[0m\u001b[1;33m\u001b[0m\u001b[1;33m\u001b[0m\u001b[0m\n\u001b[1;32m----> 3\u001b[1;33m \u001b[1;32mif\u001b[0m \u001b[0mtotal_portfolio_value\u001b[0m \u001b[1;33m>\u001b[0m \u001b[0memergency_fund_value\u001b[0m\u001b[1;33m:\u001b[0m\u001b[1;33m\u001b[0m\u001b[1;33m\u001b[0m\u001b[0m\n\u001b[0m\u001b[0;32m      4\u001b[0m         \u001b[0mprint\u001b[0m\u001b[1;33m(\u001b[0m\u001b[1;34m\"Congratulations! You have enough money in this fund\"\u001b[0m\u001b[1;33m)\u001b[0m\u001b[1;33m\u001b[0m\u001b[1;33m\u001b[0m\u001b[0m\n\u001b[0;32m      5\u001b[0m \u001b[1;32melif\u001b[0m \u001b[0mtotal_portfolio_value\u001b[0m \u001b[1;33m==\u001b[0m \u001b[0memergency_fund_value\u001b[0m\u001b[1;33m:\u001b[0m\u001b[1;33m\u001b[0m\u001b[1;33m\u001b[0m\u001b[0m\n",
      "\u001b[1;32m~\\anaconda3\\lib\\site-packages\\pandas\\core\\generic.py\u001b[0m in \u001b[0;36m__nonzero__\u001b[1;34m(self)\u001b[0m\n\u001b[0;32m   1525\u001b[0m     \u001b[1;33m@\u001b[0m\u001b[0mfinal\u001b[0m\u001b[1;33m\u001b[0m\u001b[1;33m\u001b[0m\u001b[0m\n\u001b[0;32m   1526\u001b[0m     \u001b[1;32mdef\u001b[0m \u001b[0m__nonzero__\u001b[0m\u001b[1;33m(\u001b[0m\u001b[0mself\u001b[0m\u001b[1;33m)\u001b[0m\u001b[1;33m:\u001b[0m\u001b[1;33m\u001b[0m\u001b[1;33m\u001b[0m\u001b[0m\n\u001b[1;32m-> 1527\u001b[1;33m         raise ValueError(\n\u001b[0m\u001b[0;32m   1528\u001b[0m             \u001b[1;34mf\"The truth value of a {type(self).__name__} is ambiguous. \"\u001b[0m\u001b[1;33m\u001b[0m\u001b[1;33m\u001b[0m\u001b[0m\n\u001b[0;32m   1529\u001b[0m             \u001b[1;34m\"Use a.empty, a.bool(), a.item(), a.any() or a.all().\"\u001b[0m\u001b[1;33m\u001b[0m\u001b[1;33m\u001b[0m\u001b[0m\n",
      "\u001b[1;31mValueError\u001b[0m: The truth value of a Series is ambiguous. Use a.empty, a.bool(), a.item(), a.any() or a.all()."
     ]
    }
   ],
   "source": [
    "# Evaluate the possibility of creating an emergency fund with 3 conditions:\n",
    "#for emergency in emergency_fund_value:\n",
    "if total_portfolio_value > emergency_fund_value:\n",
    "        print(\"Congratulations! You have enough money in this fund\")\n",
    "elif total_portfolio_value == emergency_fund_value:\n",
    "        print(\"Congratulations! You have reached an important financial goal.\")\n",
    "else: #total_portfolio_value < emergency_fund_value:\n",
    "        #then price_difference = total_portfolio_value - emergency_fund_value \n",
    "        print(\"Oh No! You are this much away from your financial goal: ${emergency_fund - total_savings:0.2f}\")\n"
   ]
  },
  {
   "cell_type": "markdown",
   "metadata": {},
   "source": [
    "## Part 2: Create a Financial Planner for Retirement"
   ]
  },
  {
   "cell_type": "markdown",
   "metadata": {},
   "source": [
    "### Create the Monte Carlo Simulation\n",
    "\n",
    "In this section, you’ll use the MCForecastTools library to create a Monte Carlo simulation for the member’s savings portfolio. To do this, complete the following steps:\n",
    "\n",
    "1. Make an API call via the Alpaca SDK to get 3 years of historical closing prices for a traditional 60/40 portfolio split: 60% stocks (SPY) and 40% bonds (AGG).\n",
    "\n",
    "2. Run a Monte Carlo simulation of 500 samples and 30 years for the 60/40 portfolio, and then plot the results.The following image shows the overlay line plot resulting from a simulation with these characteristics. However, because a random number generator is used to run each live Monte Carlo simulation, your image will differ slightly from this exact image:\n",
    "\n",
    "![A screenshot depicts the resulting plot.](Images/5-4-monte-carlo-line-plot.png)\n",
    "\n",
    "3. Plot the probability distribution of the Monte Carlo simulation. Plot the probability distribution of the Monte Carlo simulation. The following image shows the histogram plot resulting from a simulation with these characteristics. However, because a random number generator is used to run each live Monte Carlo simulation, your image will differ slightly from this exact image:\n",
    "\n",
    "![A screenshot depicts the histogram plot.](Images/5-4-monte-carlo-histogram.png)\n",
    "\n",
    "4. Generate the summary statistics for the Monte Carlo simulation.\n",
    "\n"
   ]
  },
  {
   "cell_type": "markdown",
   "metadata": {},
   "source": [
    "#### Step 1: Make an API call via the Alpaca SDK to get 3 years of historical closing prices for a traditional 60/40 portfolio split: 60% stocks (SPY) and 40% bonds (AGG)."
   ]
  },
  {
   "cell_type": "code",
   "execution_count": 30,
   "metadata": {},
   "outputs": [],
   "source": [
    "# Set start and end dates of 3 years back from your current date\n",
    "# Alternatively, you can use an end date of 2020-08-07 and work 3 years back from that date \n",
    "start_date = pd.Timestamp(\"2017-08-01\", tz=\"America/New_York\").isoformat()\n",
    "end_date = pd.Timestamp(\"2017-08-07\", tz=\"America/New_York\").isoformat()"
   ]
  },
  {
   "cell_type": "code",
   "execution_count": 31,
   "metadata": {},
   "outputs": [
    {
     "data": {
      "text/html": [
       "<div>\n",
       "<style scoped>\n",
       "    .dataframe tbody tr th:only-of-type {\n",
       "        vertical-align: middle;\n",
       "    }\n",
       "\n",
       "    .dataframe tbody tr th {\n",
       "        vertical-align: top;\n",
       "    }\n",
       "\n",
       "    .dataframe thead tr th {\n",
       "        text-align: left;\n",
       "    }\n",
       "\n",
       "    .dataframe thead tr:last-of-type th {\n",
       "        text-align: right;\n",
       "    }\n",
       "</style>\n",
       "<table border=\"1\" class=\"dataframe\">\n",
       "  <thead>\n",
       "    <tr>\n",
       "      <th></th>\n",
       "      <th colspan=\"7\" halign=\"left\">SPY</th>\n",
       "      <th colspan=\"7\" halign=\"left\">AGG</th>\n",
       "    </tr>\n",
       "    <tr>\n",
       "      <th></th>\n",
       "      <th>open</th>\n",
       "      <th>high</th>\n",
       "      <th>low</th>\n",
       "      <th>close</th>\n",
       "      <th>volume</th>\n",
       "      <th>trade_count</th>\n",
       "      <th>vwap</th>\n",
       "      <th>open</th>\n",
       "      <th>high</th>\n",
       "      <th>low</th>\n",
       "      <th>close</th>\n",
       "      <th>volume</th>\n",
       "      <th>trade_count</th>\n",
       "      <th>vwap</th>\n",
       "    </tr>\n",
       "    <tr>\n",
       "      <th>timestamp</th>\n",
       "      <th></th>\n",
       "      <th></th>\n",
       "      <th></th>\n",
       "      <th></th>\n",
       "      <th></th>\n",
       "      <th></th>\n",
       "      <th></th>\n",
       "      <th></th>\n",
       "      <th></th>\n",
       "      <th></th>\n",
       "      <th></th>\n",
       "      <th></th>\n",
       "      <th></th>\n",
       "      <th></th>\n",
       "    </tr>\n",
       "  </thead>\n",
       "  <tbody>\n",
       "    <tr>\n",
       "      <th>2017-08-01 04:00:00+00:00</th>\n",
       "      <td>247.46</td>\n",
       "      <td>247.50</td>\n",
       "      <td>246.716</td>\n",
       "      <td>247.30</td>\n",
       "      <td>55050401</td>\n",
       "      <td>151132</td>\n",
       "      <td>247.199252</td>\n",
       "      <td>109.38</td>\n",
       "      <td>109.72</td>\n",
       "      <td>109.3600</td>\n",
       "      <td>109.720</td>\n",
       "      <td>2338876</td>\n",
       "      <td>10476</td>\n",
       "      <td>109.649411</td>\n",
       "    </tr>\n",
       "    <tr>\n",
       "      <th>2017-08-02 04:00:00+00:00</th>\n",
       "      <td>247.47</td>\n",
       "      <td>247.60</td>\n",
       "      <td>246.370</td>\n",
       "      <td>247.42</td>\n",
       "      <td>47211216</td>\n",
       "      <td>178076</td>\n",
       "      <td>247.109454</td>\n",
       "      <td>109.71</td>\n",
       "      <td>109.77</td>\n",
       "      <td>109.6400</td>\n",
       "      <td>109.650</td>\n",
       "      <td>2253372</td>\n",
       "      <td>8484</td>\n",
       "      <td>109.700965</td>\n",
       "    </tr>\n",
       "    <tr>\n",
       "      <th>2017-08-03 04:00:00+00:00</th>\n",
       "      <td>247.31</td>\n",
       "      <td>247.34</td>\n",
       "      <td>246.640</td>\n",
       "      <td>246.98</td>\n",
       "      <td>40855997</td>\n",
       "      <td>143604</td>\n",
       "      <td>247.075390</td>\n",
       "      <td>109.77</td>\n",
       "      <td>109.94</td>\n",
       "      <td>109.7400</td>\n",
       "      <td>109.860</td>\n",
       "      <td>1485193</td>\n",
       "      <td>8740</td>\n",
       "      <td>109.830663</td>\n",
       "    </tr>\n",
       "    <tr>\n",
       "      <th>2017-08-04 04:00:00+00:00</th>\n",
       "      <td>247.52</td>\n",
       "      <td>247.79</td>\n",
       "      <td>246.970</td>\n",
       "      <td>247.39</td>\n",
       "      <td>60191838</td>\n",
       "      <td>175911</td>\n",
       "      <td>247.329155</td>\n",
       "      <td>109.70</td>\n",
       "      <td>109.72</td>\n",
       "      <td>109.5350</td>\n",
       "      <td>109.680</td>\n",
       "      <td>2300875</td>\n",
       "      <td>10411</td>\n",
       "      <td>109.656104</td>\n",
       "    </tr>\n",
       "    <tr>\n",
       "      <th>2017-08-07 04:00:00+00:00</th>\n",
       "      <td>247.49</td>\n",
       "      <td>247.87</td>\n",
       "      <td>247.370</td>\n",
       "      <td>247.84</td>\n",
       "      <td>31995021</td>\n",
       "      <td>100111</td>\n",
       "      <td>247.668698</td>\n",
       "      <td>109.69</td>\n",
       "      <td>109.72</td>\n",
       "      <td>109.6066</td>\n",
       "      <td>109.685</td>\n",
       "      <td>2359826</td>\n",
       "      <td>7755</td>\n",
       "      <td>109.674876</td>\n",
       "    </tr>\n",
       "  </tbody>\n",
       "</table>\n",
       "</div>"
      ],
      "text/plain": [
       "                              SPY                                     \\\n",
       "                             open    high      low   close    volume   \n",
       "timestamp                                                              \n",
       "2017-08-01 04:00:00+00:00  247.46  247.50  246.716  247.30  55050401   \n",
       "2017-08-02 04:00:00+00:00  247.47  247.60  246.370  247.42  47211216   \n",
       "2017-08-03 04:00:00+00:00  247.31  247.34  246.640  246.98  40855997   \n",
       "2017-08-04 04:00:00+00:00  247.52  247.79  246.970  247.39  60191838   \n",
       "2017-08-07 04:00:00+00:00  247.49  247.87  247.370  247.84  31995021   \n",
       "\n",
       "                                                      AGG                    \\\n",
       "                          trade_count        vwap    open    high       low   \n",
       "timestamp                                                                     \n",
       "2017-08-01 04:00:00+00:00      151132  247.199252  109.38  109.72  109.3600   \n",
       "2017-08-02 04:00:00+00:00      178076  247.109454  109.71  109.77  109.6400   \n",
       "2017-08-03 04:00:00+00:00      143604  247.075390  109.77  109.94  109.7400   \n",
       "2017-08-04 04:00:00+00:00      175911  247.329155  109.70  109.72  109.5350   \n",
       "2017-08-07 04:00:00+00:00      100111  247.668698  109.69  109.72  109.6066   \n",
       "\n",
       "                                                                     \n",
       "                             close   volume trade_count        vwap  \n",
       "timestamp                                                            \n",
       "2017-08-01 04:00:00+00:00  109.720  2338876       10476  109.649411  \n",
       "2017-08-02 04:00:00+00:00  109.650  2253372        8484  109.700965  \n",
       "2017-08-03 04:00:00+00:00  109.860  1485193        8740  109.830663  \n",
       "2017-08-04 04:00:00+00:00  109.680  2300875       10411  109.656104  \n",
       "2017-08-07 04:00:00+00:00  109.685  2359826        7755  109.674876  "
      ]
     },
     "execution_count": 31,
     "metadata": {},
     "output_type": "execute_result"
    }
   ],
   "source": [
    "# Use the Alpaca get_bars function to make the API call to get the 3 years worth of pricing data\n",
    "# The tickers and timeframe parameters should have been set in Part 1 of this activity \n",
    "# The start and end dates should be updated with the information set above\n",
    "# Remember to add the df property to the end of the call so the response is returned as a DataFrame\n",
    "prices_df = alpaca.get_bars(\n",
    "    tickers,\n",
    "    timeframe,\n",
    "    start=start_date,\n",
    "    end=end_date\n",
    ").df\n",
    "\n",
    "# Reorganize the DataFrame\n",
    "# Separate ticker data\n",
    "SPY= prices_df[prices_df['symbol']=='SPY'].drop('symbol', axis=1)\n",
    "AGG = prices_df[prices_df['symbol']=='AGG'].drop('symbol', axis=1)\n",
    "\n",
    "# Concatenate the ticker DataFrames\n",
    "prices_df = pd.concat([SPY,AGG], axis=1, keys=[\"SPY\", \"AGG\"])\n",
    "\n",
    "\n",
    "# Display both the first and last five rows of the DataFrame\n",
    "prices_df.head()\n",
    "prices_df.tail()\n"
   ]
  },
  {
   "cell_type": "markdown",
   "metadata": {},
   "source": [
    "#### Step 2: Run a Monte Carlo simulation of 500 samples and 30 years for the 60/40 portfolio, and then plot the results."
   ]
  },
  {
   "cell_type": "code",
   "execution_count": 32,
   "metadata": {},
   "outputs": [
    {
     "data": {
      "text/html": [
       "<div>\n",
       "<style scoped>\n",
       "    .dataframe tbody tr th:only-of-type {\n",
       "        vertical-align: middle;\n",
       "    }\n",
       "\n",
       "    .dataframe tbody tr th {\n",
       "        vertical-align: top;\n",
       "    }\n",
       "\n",
       "    .dataframe thead tr th {\n",
       "        text-align: left;\n",
       "    }\n",
       "\n",
       "    .dataframe thead tr:last-of-type th {\n",
       "        text-align: right;\n",
       "    }\n",
       "</style>\n",
       "<table border=\"1\" class=\"dataframe\">\n",
       "  <thead>\n",
       "    <tr>\n",
       "      <th></th>\n",
       "      <th colspan=\"8\" halign=\"left\">SPY</th>\n",
       "      <th colspan=\"8\" halign=\"left\">AGG</th>\n",
       "    </tr>\n",
       "    <tr>\n",
       "      <th></th>\n",
       "      <th>open</th>\n",
       "      <th>high</th>\n",
       "      <th>low</th>\n",
       "      <th>close</th>\n",
       "      <th>volume</th>\n",
       "      <th>trade_count</th>\n",
       "      <th>vwap</th>\n",
       "      <th>daily_return</th>\n",
       "      <th>open</th>\n",
       "      <th>high</th>\n",
       "      <th>low</th>\n",
       "      <th>close</th>\n",
       "      <th>volume</th>\n",
       "      <th>trade_count</th>\n",
       "      <th>vwap</th>\n",
       "      <th>daily_return</th>\n",
       "    </tr>\n",
       "    <tr>\n",
       "      <th>timestamp</th>\n",
       "      <th></th>\n",
       "      <th></th>\n",
       "      <th></th>\n",
       "      <th></th>\n",
       "      <th></th>\n",
       "      <th></th>\n",
       "      <th></th>\n",
       "      <th></th>\n",
       "      <th></th>\n",
       "      <th></th>\n",
       "      <th></th>\n",
       "      <th></th>\n",
       "      <th></th>\n",
       "      <th></th>\n",
       "      <th></th>\n",
       "      <th></th>\n",
       "    </tr>\n",
       "  </thead>\n",
       "  <tbody>\n",
       "    <tr>\n",
       "      <th>2017-08-01 04:00:00+00:00</th>\n",
       "      <td>247.46</td>\n",
       "      <td>247.50</td>\n",
       "      <td>246.716</td>\n",
       "      <td>247.30</td>\n",
       "      <td>55050401</td>\n",
       "      <td>151132</td>\n",
       "      <td>247.199252</td>\n",
       "      <td>NaN</td>\n",
       "      <td>109.38</td>\n",
       "      <td>109.72</td>\n",
       "      <td>109.3600</td>\n",
       "      <td>109.720</td>\n",
       "      <td>2338876</td>\n",
       "      <td>10476</td>\n",
       "      <td>109.649411</td>\n",
       "      <td>NaN</td>\n",
       "    </tr>\n",
       "    <tr>\n",
       "      <th>2017-08-02 04:00:00+00:00</th>\n",
       "      <td>247.47</td>\n",
       "      <td>247.60</td>\n",
       "      <td>246.370</td>\n",
       "      <td>247.42</td>\n",
       "      <td>47211216</td>\n",
       "      <td>178076</td>\n",
       "      <td>247.109454</td>\n",
       "      <td>0.000485</td>\n",
       "      <td>109.71</td>\n",
       "      <td>109.77</td>\n",
       "      <td>109.6400</td>\n",
       "      <td>109.650</td>\n",
       "      <td>2253372</td>\n",
       "      <td>8484</td>\n",
       "      <td>109.700965</td>\n",
       "      <td>-0.000638</td>\n",
       "    </tr>\n",
       "    <tr>\n",
       "      <th>2017-08-03 04:00:00+00:00</th>\n",
       "      <td>247.31</td>\n",
       "      <td>247.34</td>\n",
       "      <td>246.640</td>\n",
       "      <td>246.98</td>\n",
       "      <td>40855997</td>\n",
       "      <td>143604</td>\n",
       "      <td>247.075390</td>\n",
       "      <td>-0.001778</td>\n",
       "      <td>109.77</td>\n",
       "      <td>109.94</td>\n",
       "      <td>109.7400</td>\n",
       "      <td>109.860</td>\n",
       "      <td>1485193</td>\n",
       "      <td>8740</td>\n",
       "      <td>109.830663</td>\n",
       "      <td>0.001915</td>\n",
       "    </tr>\n",
       "    <tr>\n",
       "      <th>2017-08-04 04:00:00+00:00</th>\n",
       "      <td>247.52</td>\n",
       "      <td>247.79</td>\n",
       "      <td>246.970</td>\n",
       "      <td>247.39</td>\n",
       "      <td>60191838</td>\n",
       "      <td>175911</td>\n",
       "      <td>247.329155</td>\n",
       "      <td>0.001660</td>\n",
       "      <td>109.70</td>\n",
       "      <td>109.72</td>\n",
       "      <td>109.5350</td>\n",
       "      <td>109.680</td>\n",
       "      <td>2300875</td>\n",
       "      <td>10411</td>\n",
       "      <td>109.656104</td>\n",
       "      <td>-0.001638</td>\n",
       "    </tr>\n",
       "    <tr>\n",
       "      <th>2017-08-07 04:00:00+00:00</th>\n",
       "      <td>247.49</td>\n",
       "      <td>247.87</td>\n",
       "      <td>247.370</td>\n",
       "      <td>247.84</td>\n",
       "      <td>31995021</td>\n",
       "      <td>100111</td>\n",
       "      <td>247.668698</td>\n",
       "      <td>0.001819</td>\n",
       "      <td>109.69</td>\n",
       "      <td>109.72</td>\n",
       "      <td>109.6066</td>\n",
       "      <td>109.685</td>\n",
       "      <td>2359826</td>\n",
       "      <td>7755</td>\n",
       "      <td>109.674876</td>\n",
       "      <td>0.000046</td>\n",
       "    </tr>\n",
       "  </tbody>\n",
       "</table>\n",
       "</div>"
      ],
      "text/plain": [
       "                              SPY                                     \\\n",
       "                             open    high      low   close    volume   \n",
       "timestamp                                                              \n",
       "2017-08-01 04:00:00+00:00  247.46  247.50  246.716  247.30  55050401   \n",
       "2017-08-02 04:00:00+00:00  247.47  247.60  246.370  247.42  47211216   \n",
       "2017-08-03 04:00:00+00:00  247.31  247.34  246.640  246.98  40855997   \n",
       "2017-08-04 04:00:00+00:00  247.52  247.79  246.970  247.39  60191838   \n",
       "2017-08-07 04:00:00+00:00  247.49  247.87  247.370  247.84  31995021   \n",
       "\n",
       "                                                                   AGG  \\\n",
       "                          trade_count        vwap daily_return    open   \n",
       "timestamp                                                                \n",
       "2017-08-01 04:00:00+00:00      151132  247.199252          NaN  109.38   \n",
       "2017-08-02 04:00:00+00:00      178076  247.109454     0.000485  109.71   \n",
       "2017-08-03 04:00:00+00:00      143604  247.075390    -0.001778  109.77   \n",
       "2017-08-04 04:00:00+00:00      175911  247.329155     0.001660  109.70   \n",
       "2017-08-07 04:00:00+00:00      100111  247.668698     0.001819  109.69   \n",
       "\n",
       "                                                                           \\\n",
       "                             high       low    close   volume trade_count   \n",
       "timestamp                                                                   \n",
       "2017-08-01 04:00:00+00:00  109.72  109.3600  109.720  2338876       10476   \n",
       "2017-08-02 04:00:00+00:00  109.77  109.6400  109.650  2253372        8484   \n",
       "2017-08-03 04:00:00+00:00  109.94  109.7400  109.860  1485193        8740   \n",
       "2017-08-04 04:00:00+00:00  109.72  109.5350  109.680  2300875       10411   \n",
       "2017-08-07 04:00:00+00:00  109.72  109.6066  109.685  2359826        7755   \n",
       "\n",
       "                                                    \n",
       "                                 vwap daily_return  \n",
       "timestamp                                           \n",
       "2017-08-01 04:00:00+00:00  109.649411          NaN  \n",
       "2017-08-02 04:00:00+00:00  109.700965    -0.000638  \n",
       "2017-08-03 04:00:00+00:00  109.830663     0.001915  \n",
       "2017-08-04 04:00:00+00:00  109.656104    -0.001638  \n",
       "2017-08-07 04:00:00+00:00  109.674876     0.000046  "
      ]
     },
     "execution_count": 32,
     "metadata": {},
     "output_type": "execute_result"
    }
   ],
   "source": [
    "# Configure the Monte Carlo simulation to forecast 30 years cumulative returns\n",
    "# The weights should be split 40% to AGG and 60% to SPY.\n",
    "# Run 500 samples.\n",
    "MC_thirty_year = MCSimulation(\n",
    "    portfolio_data = prices_df,\n",
    "    weights = [.60,.40],\n",
    "    num_simulation = 500,\n",
    "    num_trading_days = 252*30\n",
    ")\n",
    "\n",
    "# Review the simulation input data\n",
    "MC_thirty_year.portfolio_data.head()"
   ]
  },
  {
   "cell_type": "code",
   "execution_count": 33,
   "metadata": {},
   "outputs": [
    {
     "name": "stdout",
     "output_type": "stream",
     "text": [
      "Running Monte Carlo simulation number 0.\n",
      "Running Monte Carlo simulation number 10.\n",
      "Running Monte Carlo simulation number 20.\n",
      "Running Monte Carlo simulation number 30.\n",
      "Running Monte Carlo simulation number 40.\n",
      "Running Monte Carlo simulation number 50.\n",
      "Running Monte Carlo simulation number 60.\n",
      "Running Monte Carlo simulation number 70.\n",
      "Running Monte Carlo simulation number 80.\n",
      "Running Monte Carlo simulation number 90.\n",
      "Running Monte Carlo simulation number 100.\n"
     ]
    },
    {
     "name": "stderr",
     "output_type": "stream",
     "text": [
      "C:\\Users\\maris\\Downloads\\Fintech_P5M5-1bf4acc2d69b224c1384771893e8b26bdc73dabf\\Fintech_P5M5-1bf4acc2d69b224c1384771893e8b26bdc73dabf\\Starter_Code-5\\MCForecastTools.py:117: PerformanceWarning: DataFrame is highly fragmented.  This is usually the result of calling `frame.insert` many times, which has poor performance.  Consider joining all columns at once using pd.concat(axis=1) instead. To get a de-fragmented frame, use `newframe = frame.copy()`\n",
      "  portfolio_cumulative_returns[n] = (1 + sim_df.fillna(0)).cumprod()\n",
      "C:\\Users\\maris\\Downloads\\Fintech_P5M5-1bf4acc2d69b224c1384771893e8b26bdc73dabf\\Fintech_P5M5-1bf4acc2d69b224c1384771893e8b26bdc73dabf\\Starter_Code-5\\MCForecastTools.py:117: PerformanceWarning: DataFrame is highly fragmented.  This is usually the result of calling `frame.insert` many times, which has poor performance.  Consider joining all columns at once using pd.concat(axis=1) instead. To get a de-fragmented frame, use `newframe = frame.copy()`\n",
      "  portfolio_cumulative_returns[n] = (1 + sim_df.fillna(0)).cumprod()\n",
      "C:\\Users\\maris\\Downloads\\Fintech_P5M5-1bf4acc2d69b224c1384771893e8b26bdc73dabf\\Fintech_P5M5-1bf4acc2d69b224c1384771893e8b26bdc73dabf\\Starter_Code-5\\MCForecastTools.py:117: PerformanceWarning: DataFrame is highly fragmented.  This is usually the result of calling `frame.insert` many times, which has poor performance.  Consider joining all columns at once using pd.concat(axis=1) instead. To get a de-fragmented frame, use `newframe = frame.copy()`\n",
      "  portfolio_cumulative_returns[n] = (1 + sim_df.fillna(0)).cumprod()\n",
      "C:\\Users\\maris\\Downloads\\Fintech_P5M5-1bf4acc2d69b224c1384771893e8b26bdc73dabf\\Fintech_P5M5-1bf4acc2d69b224c1384771893e8b26bdc73dabf\\Starter_Code-5\\MCForecastTools.py:117: PerformanceWarning: DataFrame is highly fragmented.  This is usually the result of calling `frame.insert` many times, which has poor performance.  Consider joining all columns at once using pd.concat(axis=1) instead. To get a de-fragmented frame, use `newframe = frame.copy()`\n",
      "  portfolio_cumulative_returns[n] = (1 + sim_df.fillna(0)).cumprod()\n",
      "C:\\Users\\maris\\Downloads\\Fintech_P5M5-1bf4acc2d69b224c1384771893e8b26bdc73dabf\\Fintech_P5M5-1bf4acc2d69b224c1384771893e8b26bdc73dabf\\Starter_Code-5\\MCForecastTools.py:117: PerformanceWarning: DataFrame is highly fragmented.  This is usually the result of calling `frame.insert` many times, which has poor performance.  Consider joining all columns at once using pd.concat(axis=1) instead. To get a de-fragmented frame, use `newframe = frame.copy()`\n",
      "  portfolio_cumulative_returns[n] = (1 + sim_df.fillna(0)).cumprod()\n",
      "C:\\Users\\maris\\Downloads\\Fintech_P5M5-1bf4acc2d69b224c1384771893e8b26bdc73dabf\\Fintech_P5M5-1bf4acc2d69b224c1384771893e8b26bdc73dabf\\Starter_Code-5\\MCForecastTools.py:117: PerformanceWarning: DataFrame is highly fragmented.  This is usually the result of calling `frame.insert` many times, which has poor performance.  Consider joining all columns at once using pd.concat(axis=1) instead. To get a de-fragmented frame, use `newframe = frame.copy()`\n",
      "  portfolio_cumulative_returns[n] = (1 + sim_df.fillna(0)).cumprod()\n",
      "C:\\Users\\maris\\Downloads\\Fintech_P5M5-1bf4acc2d69b224c1384771893e8b26bdc73dabf\\Fintech_P5M5-1bf4acc2d69b224c1384771893e8b26bdc73dabf\\Starter_Code-5\\MCForecastTools.py:117: PerformanceWarning: DataFrame is highly fragmented.  This is usually the result of calling `frame.insert` many times, which has poor performance.  Consider joining all columns at once using pd.concat(axis=1) instead. To get a de-fragmented frame, use `newframe = frame.copy()`\n",
      "  portfolio_cumulative_returns[n] = (1 + sim_df.fillna(0)).cumprod()\n",
      "C:\\Users\\maris\\Downloads\\Fintech_P5M5-1bf4acc2d69b224c1384771893e8b26bdc73dabf\\Fintech_P5M5-1bf4acc2d69b224c1384771893e8b26bdc73dabf\\Starter_Code-5\\MCForecastTools.py:117: PerformanceWarning: DataFrame is highly fragmented.  This is usually the result of calling `frame.insert` many times, which has poor performance.  Consider joining all columns at once using pd.concat(axis=1) instead. To get a de-fragmented frame, use `newframe = frame.copy()`\n",
      "  portfolio_cumulative_returns[n] = (1 + sim_df.fillna(0)).cumprod()\n",
      "C:\\Users\\maris\\Downloads\\Fintech_P5M5-1bf4acc2d69b224c1384771893e8b26bdc73dabf\\Fintech_P5M5-1bf4acc2d69b224c1384771893e8b26bdc73dabf\\Starter_Code-5\\MCForecastTools.py:117: PerformanceWarning: DataFrame is highly fragmented.  This is usually the result of calling `frame.insert` many times, which has poor performance.  Consider joining all columns at once using pd.concat(axis=1) instead. To get a de-fragmented frame, use `newframe = frame.copy()`\n",
      "  portfolio_cumulative_returns[n] = (1 + sim_df.fillna(0)).cumprod()\n",
      "C:\\Users\\maris\\Downloads\\Fintech_P5M5-1bf4acc2d69b224c1384771893e8b26bdc73dabf\\Fintech_P5M5-1bf4acc2d69b224c1384771893e8b26bdc73dabf\\Starter_Code-5\\MCForecastTools.py:117: PerformanceWarning: DataFrame is highly fragmented.  This is usually the result of calling `frame.insert` many times, which has poor performance.  Consider joining all columns at once using pd.concat(axis=1) instead. To get a de-fragmented frame, use `newframe = frame.copy()`\n",
      "  portfolio_cumulative_returns[n] = (1 + sim_df.fillna(0)).cumprod()\n"
     ]
    },
    {
     "name": "stdout",
     "output_type": "stream",
     "text": [
      "Running Monte Carlo simulation number 110.\n"
     ]
    },
    {
     "name": "stderr",
     "output_type": "stream",
     "text": [
      "C:\\Users\\maris\\Downloads\\Fintech_P5M5-1bf4acc2d69b224c1384771893e8b26bdc73dabf\\Fintech_P5M5-1bf4acc2d69b224c1384771893e8b26bdc73dabf\\Starter_Code-5\\MCForecastTools.py:117: PerformanceWarning: DataFrame is highly fragmented.  This is usually the result of calling `frame.insert` many times, which has poor performance.  Consider joining all columns at once using pd.concat(axis=1) instead. To get a de-fragmented frame, use `newframe = frame.copy()`\n",
      "  portfolio_cumulative_returns[n] = (1 + sim_df.fillna(0)).cumprod()\n",
      "C:\\Users\\maris\\Downloads\\Fintech_P5M5-1bf4acc2d69b224c1384771893e8b26bdc73dabf\\Fintech_P5M5-1bf4acc2d69b224c1384771893e8b26bdc73dabf\\Starter_Code-5\\MCForecastTools.py:117: PerformanceWarning: DataFrame is highly fragmented.  This is usually the result of calling `frame.insert` many times, which has poor performance.  Consider joining all columns at once using pd.concat(axis=1) instead. To get a de-fragmented frame, use `newframe = frame.copy()`\n",
      "  portfolio_cumulative_returns[n] = (1 + sim_df.fillna(0)).cumprod()\n",
      "C:\\Users\\maris\\Downloads\\Fintech_P5M5-1bf4acc2d69b224c1384771893e8b26bdc73dabf\\Fintech_P5M5-1bf4acc2d69b224c1384771893e8b26bdc73dabf\\Starter_Code-5\\MCForecastTools.py:117: PerformanceWarning: DataFrame is highly fragmented.  This is usually the result of calling `frame.insert` many times, which has poor performance.  Consider joining all columns at once using pd.concat(axis=1) instead. To get a de-fragmented frame, use `newframe = frame.copy()`\n",
      "  portfolio_cumulative_returns[n] = (1 + sim_df.fillna(0)).cumprod()\n",
      "C:\\Users\\maris\\Downloads\\Fintech_P5M5-1bf4acc2d69b224c1384771893e8b26bdc73dabf\\Fintech_P5M5-1bf4acc2d69b224c1384771893e8b26bdc73dabf\\Starter_Code-5\\MCForecastTools.py:117: PerformanceWarning: DataFrame is highly fragmented.  This is usually the result of calling `frame.insert` many times, which has poor performance.  Consider joining all columns at once using pd.concat(axis=1) instead. To get a de-fragmented frame, use `newframe = frame.copy()`\n",
      "  portfolio_cumulative_returns[n] = (1 + sim_df.fillna(0)).cumprod()\n",
      "C:\\Users\\maris\\Downloads\\Fintech_P5M5-1bf4acc2d69b224c1384771893e8b26bdc73dabf\\Fintech_P5M5-1bf4acc2d69b224c1384771893e8b26bdc73dabf\\Starter_Code-5\\MCForecastTools.py:117: PerformanceWarning: DataFrame is highly fragmented.  This is usually the result of calling `frame.insert` many times, which has poor performance.  Consider joining all columns at once using pd.concat(axis=1) instead. To get a de-fragmented frame, use `newframe = frame.copy()`\n",
      "  portfolio_cumulative_returns[n] = (1 + sim_df.fillna(0)).cumprod()\n",
      "C:\\Users\\maris\\Downloads\\Fintech_P5M5-1bf4acc2d69b224c1384771893e8b26bdc73dabf\\Fintech_P5M5-1bf4acc2d69b224c1384771893e8b26bdc73dabf\\Starter_Code-5\\MCForecastTools.py:117: PerformanceWarning: DataFrame is highly fragmented.  This is usually the result of calling `frame.insert` many times, which has poor performance.  Consider joining all columns at once using pd.concat(axis=1) instead. To get a de-fragmented frame, use `newframe = frame.copy()`\n",
      "  portfolio_cumulative_returns[n] = (1 + sim_df.fillna(0)).cumprod()\n",
      "C:\\Users\\maris\\Downloads\\Fintech_P5M5-1bf4acc2d69b224c1384771893e8b26bdc73dabf\\Fintech_P5M5-1bf4acc2d69b224c1384771893e8b26bdc73dabf\\Starter_Code-5\\MCForecastTools.py:117: PerformanceWarning: DataFrame is highly fragmented.  This is usually the result of calling `frame.insert` many times, which has poor performance.  Consider joining all columns at once using pd.concat(axis=1) instead. To get a de-fragmented frame, use `newframe = frame.copy()`\n",
      "  portfolio_cumulative_returns[n] = (1 + sim_df.fillna(0)).cumprod()\n",
      "C:\\Users\\maris\\Downloads\\Fintech_P5M5-1bf4acc2d69b224c1384771893e8b26bdc73dabf\\Fintech_P5M5-1bf4acc2d69b224c1384771893e8b26bdc73dabf\\Starter_Code-5\\MCForecastTools.py:117: PerformanceWarning: DataFrame is highly fragmented.  This is usually the result of calling `frame.insert` many times, which has poor performance.  Consider joining all columns at once using pd.concat(axis=1) instead. To get a de-fragmented frame, use `newframe = frame.copy()`\n",
      "  portfolio_cumulative_returns[n] = (1 + sim_df.fillna(0)).cumprod()\n",
      "C:\\Users\\maris\\Downloads\\Fintech_P5M5-1bf4acc2d69b224c1384771893e8b26bdc73dabf\\Fintech_P5M5-1bf4acc2d69b224c1384771893e8b26bdc73dabf\\Starter_Code-5\\MCForecastTools.py:117: PerformanceWarning: DataFrame is highly fragmented.  This is usually the result of calling `frame.insert` many times, which has poor performance.  Consider joining all columns at once using pd.concat(axis=1) instead. To get a de-fragmented frame, use `newframe = frame.copy()`\n",
      "  portfolio_cumulative_returns[n] = (1 + sim_df.fillna(0)).cumprod()\n",
      "C:\\Users\\maris\\Downloads\\Fintech_P5M5-1bf4acc2d69b224c1384771893e8b26bdc73dabf\\Fintech_P5M5-1bf4acc2d69b224c1384771893e8b26bdc73dabf\\Starter_Code-5\\MCForecastTools.py:117: PerformanceWarning: DataFrame is highly fragmented.  This is usually the result of calling `frame.insert` many times, which has poor performance.  Consider joining all columns at once using pd.concat(axis=1) instead. To get a de-fragmented frame, use `newframe = frame.copy()`\n",
      "  portfolio_cumulative_returns[n] = (1 + sim_df.fillna(0)).cumprod()\n"
     ]
    },
    {
     "name": "stdout",
     "output_type": "stream",
     "text": [
      "Running Monte Carlo simulation number 120.\n"
     ]
    },
    {
     "name": "stderr",
     "output_type": "stream",
     "text": [
      "C:\\Users\\maris\\Downloads\\Fintech_P5M5-1bf4acc2d69b224c1384771893e8b26bdc73dabf\\Fintech_P5M5-1bf4acc2d69b224c1384771893e8b26bdc73dabf\\Starter_Code-5\\MCForecastTools.py:117: PerformanceWarning: DataFrame is highly fragmented.  This is usually the result of calling `frame.insert` many times, which has poor performance.  Consider joining all columns at once using pd.concat(axis=1) instead. To get a de-fragmented frame, use `newframe = frame.copy()`\n",
      "  portfolio_cumulative_returns[n] = (1 + sim_df.fillna(0)).cumprod()\n",
      "C:\\Users\\maris\\Downloads\\Fintech_P5M5-1bf4acc2d69b224c1384771893e8b26bdc73dabf\\Fintech_P5M5-1bf4acc2d69b224c1384771893e8b26bdc73dabf\\Starter_Code-5\\MCForecastTools.py:117: PerformanceWarning: DataFrame is highly fragmented.  This is usually the result of calling `frame.insert` many times, which has poor performance.  Consider joining all columns at once using pd.concat(axis=1) instead. To get a de-fragmented frame, use `newframe = frame.copy()`\n",
      "  portfolio_cumulative_returns[n] = (1 + sim_df.fillna(0)).cumprod()\n",
      "C:\\Users\\maris\\Downloads\\Fintech_P5M5-1bf4acc2d69b224c1384771893e8b26bdc73dabf\\Fintech_P5M5-1bf4acc2d69b224c1384771893e8b26bdc73dabf\\Starter_Code-5\\MCForecastTools.py:117: PerformanceWarning: DataFrame is highly fragmented.  This is usually the result of calling `frame.insert` many times, which has poor performance.  Consider joining all columns at once using pd.concat(axis=1) instead. To get a de-fragmented frame, use `newframe = frame.copy()`\n",
      "  portfolio_cumulative_returns[n] = (1 + sim_df.fillna(0)).cumprod()\n",
      "C:\\Users\\maris\\Downloads\\Fintech_P5M5-1bf4acc2d69b224c1384771893e8b26bdc73dabf\\Fintech_P5M5-1bf4acc2d69b224c1384771893e8b26bdc73dabf\\Starter_Code-5\\MCForecastTools.py:117: PerformanceWarning: DataFrame is highly fragmented.  This is usually the result of calling `frame.insert` many times, which has poor performance.  Consider joining all columns at once using pd.concat(axis=1) instead. To get a de-fragmented frame, use `newframe = frame.copy()`\n",
      "  portfolio_cumulative_returns[n] = (1 + sim_df.fillna(0)).cumprod()\n",
      "C:\\Users\\maris\\Downloads\\Fintech_P5M5-1bf4acc2d69b224c1384771893e8b26bdc73dabf\\Fintech_P5M5-1bf4acc2d69b224c1384771893e8b26bdc73dabf\\Starter_Code-5\\MCForecastTools.py:117: PerformanceWarning: DataFrame is highly fragmented.  This is usually the result of calling `frame.insert` many times, which has poor performance.  Consider joining all columns at once using pd.concat(axis=1) instead. To get a de-fragmented frame, use `newframe = frame.copy()`\n",
      "  portfolio_cumulative_returns[n] = (1 + sim_df.fillna(0)).cumprod()\n",
      "C:\\Users\\maris\\Downloads\\Fintech_P5M5-1bf4acc2d69b224c1384771893e8b26bdc73dabf\\Fintech_P5M5-1bf4acc2d69b224c1384771893e8b26bdc73dabf\\Starter_Code-5\\MCForecastTools.py:117: PerformanceWarning: DataFrame is highly fragmented.  This is usually the result of calling `frame.insert` many times, which has poor performance.  Consider joining all columns at once using pd.concat(axis=1) instead. To get a de-fragmented frame, use `newframe = frame.copy()`\n",
      "  portfolio_cumulative_returns[n] = (1 + sim_df.fillna(0)).cumprod()\n",
      "C:\\Users\\maris\\Downloads\\Fintech_P5M5-1bf4acc2d69b224c1384771893e8b26bdc73dabf\\Fintech_P5M5-1bf4acc2d69b224c1384771893e8b26bdc73dabf\\Starter_Code-5\\MCForecastTools.py:117: PerformanceWarning: DataFrame is highly fragmented.  This is usually the result of calling `frame.insert` many times, which has poor performance.  Consider joining all columns at once using pd.concat(axis=1) instead. To get a de-fragmented frame, use `newframe = frame.copy()`\n",
      "  portfolio_cumulative_returns[n] = (1 + sim_df.fillna(0)).cumprod()\n",
      "C:\\Users\\maris\\Downloads\\Fintech_P5M5-1bf4acc2d69b224c1384771893e8b26bdc73dabf\\Fintech_P5M5-1bf4acc2d69b224c1384771893e8b26bdc73dabf\\Starter_Code-5\\MCForecastTools.py:117: PerformanceWarning: DataFrame is highly fragmented.  This is usually the result of calling `frame.insert` many times, which has poor performance.  Consider joining all columns at once using pd.concat(axis=1) instead. To get a de-fragmented frame, use `newframe = frame.copy()`\n",
      "  portfolio_cumulative_returns[n] = (1 + sim_df.fillna(0)).cumprod()\n",
      "C:\\Users\\maris\\Downloads\\Fintech_P5M5-1bf4acc2d69b224c1384771893e8b26bdc73dabf\\Fintech_P5M5-1bf4acc2d69b224c1384771893e8b26bdc73dabf\\Starter_Code-5\\MCForecastTools.py:117: PerformanceWarning: DataFrame is highly fragmented.  This is usually the result of calling `frame.insert` many times, which has poor performance.  Consider joining all columns at once using pd.concat(axis=1) instead. To get a de-fragmented frame, use `newframe = frame.copy()`\n",
      "  portfolio_cumulative_returns[n] = (1 + sim_df.fillna(0)).cumprod()\n",
      "C:\\Users\\maris\\Downloads\\Fintech_P5M5-1bf4acc2d69b224c1384771893e8b26bdc73dabf\\Fintech_P5M5-1bf4acc2d69b224c1384771893e8b26bdc73dabf\\Starter_Code-5\\MCForecastTools.py:117: PerformanceWarning: DataFrame is highly fragmented.  This is usually the result of calling `frame.insert` many times, which has poor performance.  Consider joining all columns at once using pd.concat(axis=1) instead. To get a de-fragmented frame, use `newframe = frame.copy()`\n",
      "  portfolio_cumulative_returns[n] = (1 + sim_df.fillna(0)).cumprod()\n"
     ]
    },
    {
     "name": "stdout",
     "output_type": "stream",
     "text": [
      "Running Monte Carlo simulation number 130.\n"
     ]
    },
    {
     "name": "stderr",
     "output_type": "stream",
     "text": [
      "C:\\Users\\maris\\Downloads\\Fintech_P5M5-1bf4acc2d69b224c1384771893e8b26bdc73dabf\\Fintech_P5M5-1bf4acc2d69b224c1384771893e8b26bdc73dabf\\Starter_Code-5\\MCForecastTools.py:117: PerformanceWarning: DataFrame is highly fragmented.  This is usually the result of calling `frame.insert` many times, which has poor performance.  Consider joining all columns at once using pd.concat(axis=1) instead. To get a de-fragmented frame, use `newframe = frame.copy()`\n",
      "  portfolio_cumulative_returns[n] = (1 + sim_df.fillna(0)).cumprod()\n",
      "C:\\Users\\maris\\Downloads\\Fintech_P5M5-1bf4acc2d69b224c1384771893e8b26bdc73dabf\\Fintech_P5M5-1bf4acc2d69b224c1384771893e8b26bdc73dabf\\Starter_Code-5\\MCForecastTools.py:117: PerformanceWarning: DataFrame is highly fragmented.  This is usually the result of calling `frame.insert` many times, which has poor performance.  Consider joining all columns at once using pd.concat(axis=1) instead. To get a de-fragmented frame, use `newframe = frame.copy()`\n",
      "  portfolio_cumulative_returns[n] = (1 + sim_df.fillna(0)).cumprod()\n",
      "C:\\Users\\maris\\Downloads\\Fintech_P5M5-1bf4acc2d69b224c1384771893e8b26bdc73dabf\\Fintech_P5M5-1bf4acc2d69b224c1384771893e8b26bdc73dabf\\Starter_Code-5\\MCForecastTools.py:117: PerformanceWarning: DataFrame is highly fragmented.  This is usually the result of calling `frame.insert` many times, which has poor performance.  Consider joining all columns at once using pd.concat(axis=1) instead. To get a de-fragmented frame, use `newframe = frame.copy()`\n",
      "  portfolio_cumulative_returns[n] = (1 + sim_df.fillna(0)).cumprod()\n",
      "C:\\Users\\maris\\Downloads\\Fintech_P5M5-1bf4acc2d69b224c1384771893e8b26bdc73dabf\\Fintech_P5M5-1bf4acc2d69b224c1384771893e8b26bdc73dabf\\Starter_Code-5\\MCForecastTools.py:117: PerformanceWarning: DataFrame is highly fragmented.  This is usually the result of calling `frame.insert` many times, which has poor performance.  Consider joining all columns at once using pd.concat(axis=1) instead. To get a de-fragmented frame, use `newframe = frame.copy()`\n",
      "  portfolio_cumulative_returns[n] = (1 + sim_df.fillna(0)).cumprod()\n",
      "C:\\Users\\maris\\Downloads\\Fintech_P5M5-1bf4acc2d69b224c1384771893e8b26bdc73dabf\\Fintech_P5M5-1bf4acc2d69b224c1384771893e8b26bdc73dabf\\Starter_Code-5\\MCForecastTools.py:117: PerformanceWarning: DataFrame is highly fragmented.  This is usually the result of calling `frame.insert` many times, which has poor performance.  Consider joining all columns at once using pd.concat(axis=1) instead. To get a de-fragmented frame, use `newframe = frame.copy()`\n",
      "  portfolio_cumulative_returns[n] = (1 + sim_df.fillna(0)).cumprod()\n",
      "C:\\Users\\maris\\Downloads\\Fintech_P5M5-1bf4acc2d69b224c1384771893e8b26bdc73dabf\\Fintech_P5M5-1bf4acc2d69b224c1384771893e8b26bdc73dabf\\Starter_Code-5\\MCForecastTools.py:117: PerformanceWarning: DataFrame is highly fragmented.  This is usually the result of calling `frame.insert` many times, which has poor performance.  Consider joining all columns at once using pd.concat(axis=1) instead. To get a de-fragmented frame, use `newframe = frame.copy()`\n",
      "  portfolio_cumulative_returns[n] = (1 + sim_df.fillna(0)).cumprod()\n",
      "C:\\Users\\maris\\Downloads\\Fintech_P5M5-1bf4acc2d69b224c1384771893e8b26bdc73dabf\\Fintech_P5M5-1bf4acc2d69b224c1384771893e8b26bdc73dabf\\Starter_Code-5\\MCForecastTools.py:117: PerformanceWarning: DataFrame is highly fragmented.  This is usually the result of calling `frame.insert` many times, which has poor performance.  Consider joining all columns at once using pd.concat(axis=1) instead. To get a de-fragmented frame, use `newframe = frame.copy()`\n",
      "  portfolio_cumulative_returns[n] = (1 + sim_df.fillna(0)).cumprod()\n",
      "C:\\Users\\maris\\Downloads\\Fintech_P5M5-1bf4acc2d69b224c1384771893e8b26bdc73dabf\\Fintech_P5M5-1bf4acc2d69b224c1384771893e8b26bdc73dabf\\Starter_Code-5\\MCForecastTools.py:117: PerformanceWarning: DataFrame is highly fragmented.  This is usually the result of calling `frame.insert` many times, which has poor performance.  Consider joining all columns at once using pd.concat(axis=1) instead. To get a de-fragmented frame, use `newframe = frame.copy()`\n",
      "  portfolio_cumulative_returns[n] = (1 + sim_df.fillna(0)).cumprod()\n",
      "C:\\Users\\maris\\Downloads\\Fintech_P5M5-1bf4acc2d69b224c1384771893e8b26bdc73dabf\\Fintech_P5M5-1bf4acc2d69b224c1384771893e8b26bdc73dabf\\Starter_Code-5\\MCForecastTools.py:117: PerformanceWarning: DataFrame is highly fragmented.  This is usually the result of calling `frame.insert` many times, which has poor performance.  Consider joining all columns at once using pd.concat(axis=1) instead. To get a de-fragmented frame, use `newframe = frame.copy()`\n",
      "  portfolio_cumulative_returns[n] = (1 + sim_df.fillna(0)).cumprod()\n",
      "C:\\Users\\maris\\Downloads\\Fintech_P5M5-1bf4acc2d69b224c1384771893e8b26bdc73dabf\\Fintech_P5M5-1bf4acc2d69b224c1384771893e8b26bdc73dabf\\Starter_Code-5\\MCForecastTools.py:117: PerformanceWarning: DataFrame is highly fragmented.  This is usually the result of calling `frame.insert` many times, which has poor performance.  Consider joining all columns at once using pd.concat(axis=1) instead. To get a de-fragmented frame, use `newframe = frame.copy()`\n",
      "  portfolio_cumulative_returns[n] = (1 + sim_df.fillna(0)).cumprod()\n"
     ]
    },
    {
     "name": "stdout",
     "output_type": "stream",
     "text": [
      "Running Monte Carlo simulation number 140.\n"
     ]
    },
    {
     "name": "stderr",
     "output_type": "stream",
     "text": [
      "C:\\Users\\maris\\Downloads\\Fintech_P5M5-1bf4acc2d69b224c1384771893e8b26bdc73dabf\\Fintech_P5M5-1bf4acc2d69b224c1384771893e8b26bdc73dabf\\Starter_Code-5\\MCForecastTools.py:117: PerformanceWarning: DataFrame is highly fragmented.  This is usually the result of calling `frame.insert` many times, which has poor performance.  Consider joining all columns at once using pd.concat(axis=1) instead. To get a de-fragmented frame, use `newframe = frame.copy()`\n",
      "  portfolio_cumulative_returns[n] = (1 + sim_df.fillna(0)).cumprod()\n",
      "C:\\Users\\maris\\Downloads\\Fintech_P5M5-1bf4acc2d69b224c1384771893e8b26bdc73dabf\\Fintech_P5M5-1bf4acc2d69b224c1384771893e8b26bdc73dabf\\Starter_Code-5\\MCForecastTools.py:117: PerformanceWarning: DataFrame is highly fragmented.  This is usually the result of calling `frame.insert` many times, which has poor performance.  Consider joining all columns at once using pd.concat(axis=1) instead. To get a de-fragmented frame, use `newframe = frame.copy()`\n",
      "  portfolio_cumulative_returns[n] = (1 + sim_df.fillna(0)).cumprod()\n",
      "C:\\Users\\maris\\Downloads\\Fintech_P5M5-1bf4acc2d69b224c1384771893e8b26bdc73dabf\\Fintech_P5M5-1bf4acc2d69b224c1384771893e8b26bdc73dabf\\Starter_Code-5\\MCForecastTools.py:117: PerformanceWarning: DataFrame is highly fragmented.  This is usually the result of calling `frame.insert` many times, which has poor performance.  Consider joining all columns at once using pd.concat(axis=1) instead. To get a de-fragmented frame, use `newframe = frame.copy()`\n",
      "  portfolio_cumulative_returns[n] = (1 + sim_df.fillna(0)).cumprod()\n",
      "C:\\Users\\maris\\Downloads\\Fintech_P5M5-1bf4acc2d69b224c1384771893e8b26bdc73dabf\\Fintech_P5M5-1bf4acc2d69b224c1384771893e8b26bdc73dabf\\Starter_Code-5\\MCForecastTools.py:117: PerformanceWarning: DataFrame is highly fragmented.  This is usually the result of calling `frame.insert` many times, which has poor performance.  Consider joining all columns at once using pd.concat(axis=1) instead. To get a de-fragmented frame, use `newframe = frame.copy()`\n",
      "  portfolio_cumulative_returns[n] = (1 + sim_df.fillna(0)).cumprod()\n",
      "C:\\Users\\maris\\Downloads\\Fintech_P5M5-1bf4acc2d69b224c1384771893e8b26bdc73dabf\\Fintech_P5M5-1bf4acc2d69b224c1384771893e8b26bdc73dabf\\Starter_Code-5\\MCForecastTools.py:117: PerformanceWarning: DataFrame is highly fragmented.  This is usually the result of calling `frame.insert` many times, which has poor performance.  Consider joining all columns at once using pd.concat(axis=1) instead. To get a de-fragmented frame, use `newframe = frame.copy()`\n",
      "  portfolio_cumulative_returns[n] = (1 + sim_df.fillna(0)).cumprod()\n",
      "C:\\Users\\maris\\Downloads\\Fintech_P5M5-1bf4acc2d69b224c1384771893e8b26bdc73dabf\\Fintech_P5M5-1bf4acc2d69b224c1384771893e8b26bdc73dabf\\Starter_Code-5\\MCForecastTools.py:117: PerformanceWarning: DataFrame is highly fragmented.  This is usually the result of calling `frame.insert` many times, which has poor performance.  Consider joining all columns at once using pd.concat(axis=1) instead. To get a de-fragmented frame, use `newframe = frame.copy()`\n",
      "  portfolio_cumulative_returns[n] = (1 + sim_df.fillna(0)).cumprod()\n",
      "C:\\Users\\maris\\Downloads\\Fintech_P5M5-1bf4acc2d69b224c1384771893e8b26bdc73dabf\\Fintech_P5M5-1bf4acc2d69b224c1384771893e8b26bdc73dabf\\Starter_Code-5\\MCForecastTools.py:117: PerformanceWarning: DataFrame is highly fragmented.  This is usually the result of calling `frame.insert` many times, which has poor performance.  Consider joining all columns at once using pd.concat(axis=1) instead. To get a de-fragmented frame, use `newframe = frame.copy()`\n",
      "  portfolio_cumulative_returns[n] = (1 + sim_df.fillna(0)).cumprod()\n",
      "C:\\Users\\maris\\Downloads\\Fintech_P5M5-1bf4acc2d69b224c1384771893e8b26bdc73dabf\\Fintech_P5M5-1bf4acc2d69b224c1384771893e8b26bdc73dabf\\Starter_Code-5\\MCForecastTools.py:117: PerformanceWarning: DataFrame is highly fragmented.  This is usually the result of calling `frame.insert` many times, which has poor performance.  Consider joining all columns at once using pd.concat(axis=1) instead. To get a de-fragmented frame, use `newframe = frame.copy()`\n",
      "  portfolio_cumulative_returns[n] = (1 + sim_df.fillna(0)).cumprod()\n",
      "C:\\Users\\maris\\Downloads\\Fintech_P5M5-1bf4acc2d69b224c1384771893e8b26bdc73dabf\\Fintech_P5M5-1bf4acc2d69b224c1384771893e8b26bdc73dabf\\Starter_Code-5\\MCForecastTools.py:117: PerformanceWarning: DataFrame is highly fragmented.  This is usually the result of calling `frame.insert` many times, which has poor performance.  Consider joining all columns at once using pd.concat(axis=1) instead. To get a de-fragmented frame, use `newframe = frame.copy()`\n",
      "  portfolio_cumulative_returns[n] = (1 + sim_df.fillna(0)).cumprod()\n",
      "C:\\Users\\maris\\Downloads\\Fintech_P5M5-1bf4acc2d69b224c1384771893e8b26bdc73dabf\\Fintech_P5M5-1bf4acc2d69b224c1384771893e8b26bdc73dabf\\Starter_Code-5\\MCForecastTools.py:117: PerformanceWarning: DataFrame is highly fragmented.  This is usually the result of calling `frame.insert` many times, which has poor performance.  Consider joining all columns at once using pd.concat(axis=1) instead. To get a de-fragmented frame, use `newframe = frame.copy()`\n",
      "  portfolio_cumulative_returns[n] = (1 + sim_df.fillna(0)).cumprod()\n"
     ]
    },
    {
     "name": "stdout",
     "output_type": "stream",
     "text": [
      "Running Monte Carlo simulation number 150.\n"
     ]
    },
    {
     "name": "stderr",
     "output_type": "stream",
     "text": [
      "C:\\Users\\maris\\Downloads\\Fintech_P5M5-1bf4acc2d69b224c1384771893e8b26bdc73dabf\\Fintech_P5M5-1bf4acc2d69b224c1384771893e8b26bdc73dabf\\Starter_Code-5\\MCForecastTools.py:117: PerformanceWarning: DataFrame is highly fragmented.  This is usually the result of calling `frame.insert` many times, which has poor performance.  Consider joining all columns at once using pd.concat(axis=1) instead. To get a de-fragmented frame, use `newframe = frame.copy()`\n",
      "  portfolio_cumulative_returns[n] = (1 + sim_df.fillna(0)).cumprod()\n",
      "C:\\Users\\maris\\Downloads\\Fintech_P5M5-1bf4acc2d69b224c1384771893e8b26bdc73dabf\\Fintech_P5M5-1bf4acc2d69b224c1384771893e8b26bdc73dabf\\Starter_Code-5\\MCForecastTools.py:117: PerformanceWarning: DataFrame is highly fragmented.  This is usually the result of calling `frame.insert` many times, which has poor performance.  Consider joining all columns at once using pd.concat(axis=1) instead. To get a de-fragmented frame, use `newframe = frame.copy()`\n",
      "  portfolio_cumulative_returns[n] = (1 + sim_df.fillna(0)).cumprod()\n",
      "C:\\Users\\maris\\Downloads\\Fintech_P5M5-1bf4acc2d69b224c1384771893e8b26bdc73dabf\\Fintech_P5M5-1bf4acc2d69b224c1384771893e8b26bdc73dabf\\Starter_Code-5\\MCForecastTools.py:117: PerformanceWarning: DataFrame is highly fragmented.  This is usually the result of calling `frame.insert` many times, which has poor performance.  Consider joining all columns at once using pd.concat(axis=1) instead. To get a de-fragmented frame, use `newframe = frame.copy()`\n",
      "  portfolio_cumulative_returns[n] = (1 + sim_df.fillna(0)).cumprod()\n",
      "C:\\Users\\maris\\Downloads\\Fintech_P5M5-1bf4acc2d69b224c1384771893e8b26bdc73dabf\\Fintech_P5M5-1bf4acc2d69b224c1384771893e8b26bdc73dabf\\Starter_Code-5\\MCForecastTools.py:117: PerformanceWarning: DataFrame is highly fragmented.  This is usually the result of calling `frame.insert` many times, which has poor performance.  Consider joining all columns at once using pd.concat(axis=1) instead. To get a de-fragmented frame, use `newframe = frame.copy()`\n",
      "  portfolio_cumulative_returns[n] = (1 + sim_df.fillna(0)).cumprod()\n",
      "C:\\Users\\maris\\Downloads\\Fintech_P5M5-1bf4acc2d69b224c1384771893e8b26bdc73dabf\\Fintech_P5M5-1bf4acc2d69b224c1384771893e8b26bdc73dabf\\Starter_Code-5\\MCForecastTools.py:117: PerformanceWarning: DataFrame is highly fragmented.  This is usually the result of calling `frame.insert` many times, which has poor performance.  Consider joining all columns at once using pd.concat(axis=1) instead. To get a de-fragmented frame, use `newframe = frame.copy()`\n",
      "  portfolio_cumulative_returns[n] = (1 + sim_df.fillna(0)).cumprod()\n",
      "C:\\Users\\maris\\Downloads\\Fintech_P5M5-1bf4acc2d69b224c1384771893e8b26bdc73dabf\\Fintech_P5M5-1bf4acc2d69b224c1384771893e8b26bdc73dabf\\Starter_Code-5\\MCForecastTools.py:117: PerformanceWarning: DataFrame is highly fragmented.  This is usually the result of calling `frame.insert` many times, which has poor performance.  Consider joining all columns at once using pd.concat(axis=1) instead. To get a de-fragmented frame, use `newframe = frame.copy()`\n",
      "  portfolio_cumulative_returns[n] = (1 + sim_df.fillna(0)).cumprod()\n",
      "C:\\Users\\maris\\Downloads\\Fintech_P5M5-1bf4acc2d69b224c1384771893e8b26bdc73dabf\\Fintech_P5M5-1bf4acc2d69b224c1384771893e8b26bdc73dabf\\Starter_Code-5\\MCForecastTools.py:117: PerformanceWarning: DataFrame is highly fragmented.  This is usually the result of calling `frame.insert` many times, which has poor performance.  Consider joining all columns at once using pd.concat(axis=1) instead. To get a de-fragmented frame, use `newframe = frame.copy()`\n",
      "  portfolio_cumulative_returns[n] = (1 + sim_df.fillna(0)).cumprod()\n",
      "C:\\Users\\maris\\Downloads\\Fintech_P5M5-1bf4acc2d69b224c1384771893e8b26bdc73dabf\\Fintech_P5M5-1bf4acc2d69b224c1384771893e8b26bdc73dabf\\Starter_Code-5\\MCForecastTools.py:117: PerformanceWarning: DataFrame is highly fragmented.  This is usually the result of calling `frame.insert` many times, which has poor performance.  Consider joining all columns at once using pd.concat(axis=1) instead. To get a de-fragmented frame, use `newframe = frame.copy()`\n",
      "  portfolio_cumulative_returns[n] = (1 + sim_df.fillna(0)).cumprod()\n",
      "C:\\Users\\maris\\Downloads\\Fintech_P5M5-1bf4acc2d69b224c1384771893e8b26bdc73dabf\\Fintech_P5M5-1bf4acc2d69b224c1384771893e8b26bdc73dabf\\Starter_Code-5\\MCForecastTools.py:117: PerformanceWarning: DataFrame is highly fragmented.  This is usually the result of calling `frame.insert` many times, which has poor performance.  Consider joining all columns at once using pd.concat(axis=1) instead. To get a de-fragmented frame, use `newframe = frame.copy()`\n",
      "  portfolio_cumulative_returns[n] = (1 + sim_df.fillna(0)).cumprod()\n",
      "C:\\Users\\maris\\Downloads\\Fintech_P5M5-1bf4acc2d69b224c1384771893e8b26bdc73dabf\\Fintech_P5M5-1bf4acc2d69b224c1384771893e8b26bdc73dabf\\Starter_Code-5\\MCForecastTools.py:117: PerformanceWarning: DataFrame is highly fragmented.  This is usually the result of calling `frame.insert` many times, which has poor performance.  Consider joining all columns at once using pd.concat(axis=1) instead. To get a de-fragmented frame, use `newframe = frame.copy()`\n",
      "  portfolio_cumulative_returns[n] = (1 + sim_df.fillna(0)).cumprod()\n"
     ]
    },
    {
     "name": "stdout",
     "output_type": "stream",
     "text": [
      "Running Monte Carlo simulation number 160.\n"
     ]
    },
    {
     "name": "stderr",
     "output_type": "stream",
     "text": [
      "C:\\Users\\maris\\Downloads\\Fintech_P5M5-1bf4acc2d69b224c1384771893e8b26bdc73dabf\\Fintech_P5M5-1bf4acc2d69b224c1384771893e8b26bdc73dabf\\Starter_Code-5\\MCForecastTools.py:117: PerformanceWarning: DataFrame is highly fragmented.  This is usually the result of calling `frame.insert` many times, which has poor performance.  Consider joining all columns at once using pd.concat(axis=1) instead. To get a de-fragmented frame, use `newframe = frame.copy()`\n",
      "  portfolio_cumulative_returns[n] = (1 + sim_df.fillna(0)).cumprod()\n",
      "C:\\Users\\maris\\Downloads\\Fintech_P5M5-1bf4acc2d69b224c1384771893e8b26bdc73dabf\\Fintech_P5M5-1bf4acc2d69b224c1384771893e8b26bdc73dabf\\Starter_Code-5\\MCForecastTools.py:117: PerformanceWarning: DataFrame is highly fragmented.  This is usually the result of calling `frame.insert` many times, which has poor performance.  Consider joining all columns at once using pd.concat(axis=1) instead. To get a de-fragmented frame, use `newframe = frame.copy()`\n",
      "  portfolio_cumulative_returns[n] = (1 + sim_df.fillna(0)).cumprod()\n",
      "C:\\Users\\maris\\Downloads\\Fintech_P5M5-1bf4acc2d69b224c1384771893e8b26bdc73dabf\\Fintech_P5M5-1bf4acc2d69b224c1384771893e8b26bdc73dabf\\Starter_Code-5\\MCForecastTools.py:117: PerformanceWarning: DataFrame is highly fragmented.  This is usually the result of calling `frame.insert` many times, which has poor performance.  Consider joining all columns at once using pd.concat(axis=1) instead. To get a de-fragmented frame, use `newframe = frame.copy()`\n",
      "  portfolio_cumulative_returns[n] = (1 + sim_df.fillna(0)).cumprod()\n",
      "C:\\Users\\maris\\Downloads\\Fintech_P5M5-1bf4acc2d69b224c1384771893e8b26bdc73dabf\\Fintech_P5M5-1bf4acc2d69b224c1384771893e8b26bdc73dabf\\Starter_Code-5\\MCForecastTools.py:117: PerformanceWarning: DataFrame is highly fragmented.  This is usually the result of calling `frame.insert` many times, which has poor performance.  Consider joining all columns at once using pd.concat(axis=1) instead. To get a de-fragmented frame, use `newframe = frame.copy()`\n",
      "  portfolio_cumulative_returns[n] = (1 + sim_df.fillna(0)).cumprod()\n",
      "C:\\Users\\maris\\Downloads\\Fintech_P5M5-1bf4acc2d69b224c1384771893e8b26bdc73dabf\\Fintech_P5M5-1bf4acc2d69b224c1384771893e8b26bdc73dabf\\Starter_Code-5\\MCForecastTools.py:117: PerformanceWarning: DataFrame is highly fragmented.  This is usually the result of calling `frame.insert` many times, which has poor performance.  Consider joining all columns at once using pd.concat(axis=1) instead. To get a de-fragmented frame, use `newframe = frame.copy()`\n",
      "  portfolio_cumulative_returns[n] = (1 + sim_df.fillna(0)).cumprod()\n",
      "C:\\Users\\maris\\Downloads\\Fintech_P5M5-1bf4acc2d69b224c1384771893e8b26bdc73dabf\\Fintech_P5M5-1bf4acc2d69b224c1384771893e8b26bdc73dabf\\Starter_Code-5\\MCForecastTools.py:117: PerformanceWarning: DataFrame is highly fragmented.  This is usually the result of calling `frame.insert` many times, which has poor performance.  Consider joining all columns at once using pd.concat(axis=1) instead. To get a de-fragmented frame, use `newframe = frame.copy()`\n",
      "  portfolio_cumulative_returns[n] = (1 + sim_df.fillna(0)).cumprod()\n",
      "C:\\Users\\maris\\Downloads\\Fintech_P5M5-1bf4acc2d69b224c1384771893e8b26bdc73dabf\\Fintech_P5M5-1bf4acc2d69b224c1384771893e8b26bdc73dabf\\Starter_Code-5\\MCForecastTools.py:117: PerformanceWarning: DataFrame is highly fragmented.  This is usually the result of calling `frame.insert` many times, which has poor performance.  Consider joining all columns at once using pd.concat(axis=1) instead. To get a de-fragmented frame, use `newframe = frame.copy()`\n",
      "  portfolio_cumulative_returns[n] = (1 + sim_df.fillna(0)).cumprod()\n",
      "C:\\Users\\maris\\Downloads\\Fintech_P5M5-1bf4acc2d69b224c1384771893e8b26bdc73dabf\\Fintech_P5M5-1bf4acc2d69b224c1384771893e8b26bdc73dabf\\Starter_Code-5\\MCForecastTools.py:117: PerformanceWarning: DataFrame is highly fragmented.  This is usually the result of calling `frame.insert` many times, which has poor performance.  Consider joining all columns at once using pd.concat(axis=1) instead. To get a de-fragmented frame, use `newframe = frame.copy()`\n",
      "  portfolio_cumulative_returns[n] = (1 + sim_df.fillna(0)).cumprod()\n",
      "C:\\Users\\maris\\Downloads\\Fintech_P5M5-1bf4acc2d69b224c1384771893e8b26bdc73dabf\\Fintech_P5M5-1bf4acc2d69b224c1384771893e8b26bdc73dabf\\Starter_Code-5\\MCForecastTools.py:117: PerformanceWarning: DataFrame is highly fragmented.  This is usually the result of calling `frame.insert` many times, which has poor performance.  Consider joining all columns at once using pd.concat(axis=1) instead. To get a de-fragmented frame, use `newframe = frame.copy()`\n",
      "  portfolio_cumulative_returns[n] = (1 + sim_df.fillna(0)).cumprod()\n",
      "C:\\Users\\maris\\Downloads\\Fintech_P5M5-1bf4acc2d69b224c1384771893e8b26bdc73dabf\\Fintech_P5M5-1bf4acc2d69b224c1384771893e8b26bdc73dabf\\Starter_Code-5\\MCForecastTools.py:117: PerformanceWarning: DataFrame is highly fragmented.  This is usually the result of calling `frame.insert` many times, which has poor performance.  Consider joining all columns at once using pd.concat(axis=1) instead. To get a de-fragmented frame, use `newframe = frame.copy()`\n",
      "  portfolio_cumulative_returns[n] = (1 + sim_df.fillna(0)).cumprod()\n"
     ]
    },
    {
     "name": "stdout",
     "output_type": "stream",
     "text": [
      "Running Monte Carlo simulation number 170.\n"
     ]
    },
    {
     "name": "stderr",
     "output_type": "stream",
     "text": [
      "C:\\Users\\maris\\Downloads\\Fintech_P5M5-1bf4acc2d69b224c1384771893e8b26bdc73dabf\\Fintech_P5M5-1bf4acc2d69b224c1384771893e8b26bdc73dabf\\Starter_Code-5\\MCForecastTools.py:117: PerformanceWarning: DataFrame is highly fragmented.  This is usually the result of calling `frame.insert` many times, which has poor performance.  Consider joining all columns at once using pd.concat(axis=1) instead. To get a de-fragmented frame, use `newframe = frame.copy()`\n",
      "  portfolio_cumulative_returns[n] = (1 + sim_df.fillna(0)).cumprod()\n",
      "C:\\Users\\maris\\Downloads\\Fintech_P5M5-1bf4acc2d69b224c1384771893e8b26bdc73dabf\\Fintech_P5M5-1bf4acc2d69b224c1384771893e8b26bdc73dabf\\Starter_Code-5\\MCForecastTools.py:117: PerformanceWarning: DataFrame is highly fragmented.  This is usually the result of calling `frame.insert` many times, which has poor performance.  Consider joining all columns at once using pd.concat(axis=1) instead. To get a de-fragmented frame, use `newframe = frame.copy()`\n",
      "  portfolio_cumulative_returns[n] = (1 + sim_df.fillna(0)).cumprod()\n",
      "C:\\Users\\maris\\Downloads\\Fintech_P5M5-1bf4acc2d69b224c1384771893e8b26bdc73dabf\\Fintech_P5M5-1bf4acc2d69b224c1384771893e8b26bdc73dabf\\Starter_Code-5\\MCForecastTools.py:117: PerformanceWarning: DataFrame is highly fragmented.  This is usually the result of calling `frame.insert` many times, which has poor performance.  Consider joining all columns at once using pd.concat(axis=1) instead. To get a de-fragmented frame, use `newframe = frame.copy()`\n",
      "  portfolio_cumulative_returns[n] = (1 + sim_df.fillna(0)).cumprod()\n",
      "C:\\Users\\maris\\Downloads\\Fintech_P5M5-1bf4acc2d69b224c1384771893e8b26bdc73dabf\\Fintech_P5M5-1bf4acc2d69b224c1384771893e8b26bdc73dabf\\Starter_Code-5\\MCForecastTools.py:117: PerformanceWarning: DataFrame is highly fragmented.  This is usually the result of calling `frame.insert` many times, which has poor performance.  Consider joining all columns at once using pd.concat(axis=1) instead. To get a de-fragmented frame, use `newframe = frame.copy()`\n",
      "  portfolio_cumulative_returns[n] = (1 + sim_df.fillna(0)).cumprod()\n",
      "C:\\Users\\maris\\Downloads\\Fintech_P5M5-1bf4acc2d69b224c1384771893e8b26bdc73dabf\\Fintech_P5M5-1bf4acc2d69b224c1384771893e8b26bdc73dabf\\Starter_Code-5\\MCForecastTools.py:117: PerformanceWarning: DataFrame is highly fragmented.  This is usually the result of calling `frame.insert` many times, which has poor performance.  Consider joining all columns at once using pd.concat(axis=1) instead. To get a de-fragmented frame, use `newframe = frame.copy()`\n",
      "  portfolio_cumulative_returns[n] = (1 + sim_df.fillna(0)).cumprod()\n",
      "C:\\Users\\maris\\Downloads\\Fintech_P5M5-1bf4acc2d69b224c1384771893e8b26bdc73dabf\\Fintech_P5M5-1bf4acc2d69b224c1384771893e8b26bdc73dabf\\Starter_Code-5\\MCForecastTools.py:117: PerformanceWarning: DataFrame is highly fragmented.  This is usually the result of calling `frame.insert` many times, which has poor performance.  Consider joining all columns at once using pd.concat(axis=1) instead. To get a de-fragmented frame, use `newframe = frame.copy()`\n",
      "  portfolio_cumulative_returns[n] = (1 + sim_df.fillna(0)).cumprod()\n",
      "C:\\Users\\maris\\Downloads\\Fintech_P5M5-1bf4acc2d69b224c1384771893e8b26bdc73dabf\\Fintech_P5M5-1bf4acc2d69b224c1384771893e8b26bdc73dabf\\Starter_Code-5\\MCForecastTools.py:117: PerformanceWarning: DataFrame is highly fragmented.  This is usually the result of calling `frame.insert` many times, which has poor performance.  Consider joining all columns at once using pd.concat(axis=1) instead. To get a de-fragmented frame, use `newframe = frame.copy()`\n",
      "  portfolio_cumulative_returns[n] = (1 + sim_df.fillna(0)).cumprod()\n",
      "C:\\Users\\maris\\Downloads\\Fintech_P5M5-1bf4acc2d69b224c1384771893e8b26bdc73dabf\\Fintech_P5M5-1bf4acc2d69b224c1384771893e8b26bdc73dabf\\Starter_Code-5\\MCForecastTools.py:117: PerformanceWarning: DataFrame is highly fragmented.  This is usually the result of calling `frame.insert` many times, which has poor performance.  Consider joining all columns at once using pd.concat(axis=1) instead. To get a de-fragmented frame, use `newframe = frame.copy()`\n",
      "  portfolio_cumulative_returns[n] = (1 + sim_df.fillna(0)).cumprod()\n",
      "C:\\Users\\maris\\Downloads\\Fintech_P5M5-1bf4acc2d69b224c1384771893e8b26bdc73dabf\\Fintech_P5M5-1bf4acc2d69b224c1384771893e8b26bdc73dabf\\Starter_Code-5\\MCForecastTools.py:117: PerformanceWarning: DataFrame is highly fragmented.  This is usually the result of calling `frame.insert` many times, which has poor performance.  Consider joining all columns at once using pd.concat(axis=1) instead. To get a de-fragmented frame, use `newframe = frame.copy()`\n",
      "  portfolio_cumulative_returns[n] = (1 + sim_df.fillna(0)).cumprod()\n",
      "C:\\Users\\maris\\Downloads\\Fintech_P5M5-1bf4acc2d69b224c1384771893e8b26bdc73dabf\\Fintech_P5M5-1bf4acc2d69b224c1384771893e8b26bdc73dabf\\Starter_Code-5\\MCForecastTools.py:117: PerformanceWarning: DataFrame is highly fragmented.  This is usually the result of calling `frame.insert` many times, which has poor performance.  Consider joining all columns at once using pd.concat(axis=1) instead. To get a de-fragmented frame, use `newframe = frame.copy()`\n",
      "  portfolio_cumulative_returns[n] = (1 + sim_df.fillna(0)).cumprod()\n"
     ]
    },
    {
     "name": "stdout",
     "output_type": "stream",
     "text": [
      "Running Monte Carlo simulation number 180.\n"
     ]
    },
    {
     "name": "stderr",
     "output_type": "stream",
     "text": [
      "C:\\Users\\maris\\Downloads\\Fintech_P5M5-1bf4acc2d69b224c1384771893e8b26bdc73dabf\\Fintech_P5M5-1bf4acc2d69b224c1384771893e8b26bdc73dabf\\Starter_Code-5\\MCForecastTools.py:117: PerformanceWarning: DataFrame is highly fragmented.  This is usually the result of calling `frame.insert` many times, which has poor performance.  Consider joining all columns at once using pd.concat(axis=1) instead. To get a de-fragmented frame, use `newframe = frame.copy()`\n",
      "  portfolio_cumulative_returns[n] = (1 + sim_df.fillna(0)).cumprod()\n",
      "C:\\Users\\maris\\Downloads\\Fintech_P5M5-1bf4acc2d69b224c1384771893e8b26bdc73dabf\\Fintech_P5M5-1bf4acc2d69b224c1384771893e8b26bdc73dabf\\Starter_Code-5\\MCForecastTools.py:117: PerformanceWarning: DataFrame is highly fragmented.  This is usually the result of calling `frame.insert` many times, which has poor performance.  Consider joining all columns at once using pd.concat(axis=1) instead. To get a de-fragmented frame, use `newframe = frame.copy()`\n",
      "  portfolio_cumulative_returns[n] = (1 + sim_df.fillna(0)).cumprod()\n",
      "C:\\Users\\maris\\Downloads\\Fintech_P5M5-1bf4acc2d69b224c1384771893e8b26bdc73dabf\\Fintech_P5M5-1bf4acc2d69b224c1384771893e8b26bdc73dabf\\Starter_Code-5\\MCForecastTools.py:117: PerformanceWarning: DataFrame is highly fragmented.  This is usually the result of calling `frame.insert` many times, which has poor performance.  Consider joining all columns at once using pd.concat(axis=1) instead. To get a de-fragmented frame, use `newframe = frame.copy()`\n",
      "  portfolio_cumulative_returns[n] = (1 + sim_df.fillna(0)).cumprod()\n",
      "C:\\Users\\maris\\Downloads\\Fintech_P5M5-1bf4acc2d69b224c1384771893e8b26bdc73dabf\\Fintech_P5M5-1bf4acc2d69b224c1384771893e8b26bdc73dabf\\Starter_Code-5\\MCForecastTools.py:117: PerformanceWarning: DataFrame is highly fragmented.  This is usually the result of calling `frame.insert` many times, which has poor performance.  Consider joining all columns at once using pd.concat(axis=1) instead. To get a de-fragmented frame, use `newframe = frame.copy()`\n",
      "  portfolio_cumulative_returns[n] = (1 + sim_df.fillna(0)).cumprod()\n",
      "C:\\Users\\maris\\Downloads\\Fintech_P5M5-1bf4acc2d69b224c1384771893e8b26bdc73dabf\\Fintech_P5M5-1bf4acc2d69b224c1384771893e8b26bdc73dabf\\Starter_Code-5\\MCForecastTools.py:117: PerformanceWarning: DataFrame is highly fragmented.  This is usually the result of calling `frame.insert` many times, which has poor performance.  Consider joining all columns at once using pd.concat(axis=1) instead. To get a de-fragmented frame, use `newframe = frame.copy()`\n",
      "  portfolio_cumulative_returns[n] = (1 + sim_df.fillna(0)).cumprod()\n",
      "C:\\Users\\maris\\Downloads\\Fintech_P5M5-1bf4acc2d69b224c1384771893e8b26bdc73dabf\\Fintech_P5M5-1bf4acc2d69b224c1384771893e8b26bdc73dabf\\Starter_Code-5\\MCForecastTools.py:117: PerformanceWarning: DataFrame is highly fragmented.  This is usually the result of calling `frame.insert` many times, which has poor performance.  Consider joining all columns at once using pd.concat(axis=1) instead. To get a de-fragmented frame, use `newframe = frame.copy()`\n",
      "  portfolio_cumulative_returns[n] = (1 + sim_df.fillna(0)).cumprod()\n",
      "C:\\Users\\maris\\Downloads\\Fintech_P5M5-1bf4acc2d69b224c1384771893e8b26bdc73dabf\\Fintech_P5M5-1bf4acc2d69b224c1384771893e8b26bdc73dabf\\Starter_Code-5\\MCForecastTools.py:117: PerformanceWarning: DataFrame is highly fragmented.  This is usually the result of calling `frame.insert` many times, which has poor performance.  Consider joining all columns at once using pd.concat(axis=1) instead. To get a de-fragmented frame, use `newframe = frame.copy()`\n",
      "  portfolio_cumulative_returns[n] = (1 + sim_df.fillna(0)).cumprod()\n",
      "C:\\Users\\maris\\Downloads\\Fintech_P5M5-1bf4acc2d69b224c1384771893e8b26bdc73dabf\\Fintech_P5M5-1bf4acc2d69b224c1384771893e8b26bdc73dabf\\Starter_Code-5\\MCForecastTools.py:117: PerformanceWarning: DataFrame is highly fragmented.  This is usually the result of calling `frame.insert` many times, which has poor performance.  Consider joining all columns at once using pd.concat(axis=1) instead. To get a de-fragmented frame, use `newframe = frame.copy()`\n",
      "  portfolio_cumulative_returns[n] = (1 + sim_df.fillna(0)).cumprod()\n",
      "C:\\Users\\maris\\Downloads\\Fintech_P5M5-1bf4acc2d69b224c1384771893e8b26bdc73dabf\\Fintech_P5M5-1bf4acc2d69b224c1384771893e8b26bdc73dabf\\Starter_Code-5\\MCForecastTools.py:117: PerformanceWarning: DataFrame is highly fragmented.  This is usually the result of calling `frame.insert` many times, which has poor performance.  Consider joining all columns at once using pd.concat(axis=1) instead. To get a de-fragmented frame, use `newframe = frame.copy()`\n",
      "  portfolio_cumulative_returns[n] = (1 + sim_df.fillna(0)).cumprod()\n",
      "C:\\Users\\maris\\Downloads\\Fintech_P5M5-1bf4acc2d69b224c1384771893e8b26bdc73dabf\\Fintech_P5M5-1bf4acc2d69b224c1384771893e8b26bdc73dabf\\Starter_Code-5\\MCForecastTools.py:117: PerformanceWarning: DataFrame is highly fragmented.  This is usually the result of calling `frame.insert` many times, which has poor performance.  Consider joining all columns at once using pd.concat(axis=1) instead. To get a de-fragmented frame, use `newframe = frame.copy()`\n",
      "  portfolio_cumulative_returns[n] = (1 + sim_df.fillna(0)).cumprod()\n"
     ]
    },
    {
     "name": "stdout",
     "output_type": "stream",
     "text": [
      "Running Monte Carlo simulation number 190.\n"
     ]
    },
    {
     "name": "stderr",
     "output_type": "stream",
     "text": [
      "C:\\Users\\maris\\Downloads\\Fintech_P5M5-1bf4acc2d69b224c1384771893e8b26bdc73dabf\\Fintech_P5M5-1bf4acc2d69b224c1384771893e8b26bdc73dabf\\Starter_Code-5\\MCForecastTools.py:117: PerformanceWarning: DataFrame is highly fragmented.  This is usually the result of calling `frame.insert` many times, which has poor performance.  Consider joining all columns at once using pd.concat(axis=1) instead. To get a de-fragmented frame, use `newframe = frame.copy()`\n",
      "  portfolio_cumulative_returns[n] = (1 + sim_df.fillna(0)).cumprod()\n",
      "C:\\Users\\maris\\Downloads\\Fintech_P5M5-1bf4acc2d69b224c1384771893e8b26bdc73dabf\\Fintech_P5M5-1bf4acc2d69b224c1384771893e8b26bdc73dabf\\Starter_Code-5\\MCForecastTools.py:117: PerformanceWarning: DataFrame is highly fragmented.  This is usually the result of calling `frame.insert` many times, which has poor performance.  Consider joining all columns at once using pd.concat(axis=1) instead. To get a de-fragmented frame, use `newframe = frame.copy()`\n",
      "  portfolio_cumulative_returns[n] = (1 + sim_df.fillna(0)).cumprod()\n",
      "C:\\Users\\maris\\Downloads\\Fintech_P5M5-1bf4acc2d69b224c1384771893e8b26bdc73dabf\\Fintech_P5M5-1bf4acc2d69b224c1384771893e8b26bdc73dabf\\Starter_Code-5\\MCForecastTools.py:117: PerformanceWarning: DataFrame is highly fragmented.  This is usually the result of calling `frame.insert` many times, which has poor performance.  Consider joining all columns at once using pd.concat(axis=1) instead. To get a de-fragmented frame, use `newframe = frame.copy()`\n",
      "  portfolio_cumulative_returns[n] = (1 + sim_df.fillna(0)).cumprod()\n",
      "C:\\Users\\maris\\Downloads\\Fintech_P5M5-1bf4acc2d69b224c1384771893e8b26bdc73dabf\\Fintech_P5M5-1bf4acc2d69b224c1384771893e8b26bdc73dabf\\Starter_Code-5\\MCForecastTools.py:117: PerformanceWarning: DataFrame is highly fragmented.  This is usually the result of calling `frame.insert` many times, which has poor performance.  Consider joining all columns at once using pd.concat(axis=1) instead. To get a de-fragmented frame, use `newframe = frame.copy()`\n",
      "  portfolio_cumulative_returns[n] = (1 + sim_df.fillna(0)).cumprod()\n",
      "C:\\Users\\maris\\Downloads\\Fintech_P5M5-1bf4acc2d69b224c1384771893e8b26bdc73dabf\\Fintech_P5M5-1bf4acc2d69b224c1384771893e8b26bdc73dabf\\Starter_Code-5\\MCForecastTools.py:117: PerformanceWarning: DataFrame is highly fragmented.  This is usually the result of calling `frame.insert` many times, which has poor performance.  Consider joining all columns at once using pd.concat(axis=1) instead. To get a de-fragmented frame, use `newframe = frame.copy()`\n",
      "  portfolio_cumulative_returns[n] = (1 + sim_df.fillna(0)).cumprod()\n",
      "C:\\Users\\maris\\Downloads\\Fintech_P5M5-1bf4acc2d69b224c1384771893e8b26bdc73dabf\\Fintech_P5M5-1bf4acc2d69b224c1384771893e8b26bdc73dabf\\Starter_Code-5\\MCForecastTools.py:117: PerformanceWarning: DataFrame is highly fragmented.  This is usually the result of calling `frame.insert` many times, which has poor performance.  Consider joining all columns at once using pd.concat(axis=1) instead. To get a de-fragmented frame, use `newframe = frame.copy()`\n",
      "  portfolio_cumulative_returns[n] = (1 + sim_df.fillna(0)).cumprod()\n",
      "C:\\Users\\maris\\Downloads\\Fintech_P5M5-1bf4acc2d69b224c1384771893e8b26bdc73dabf\\Fintech_P5M5-1bf4acc2d69b224c1384771893e8b26bdc73dabf\\Starter_Code-5\\MCForecastTools.py:117: PerformanceWarning: DataFrame is highly fragmented.  This is usually the result of calling `frame.insert` many times, which has poor performance.  Consider joining all columns at once using pd.concat(axis=1) instead. To get a de-fragmented frame, use `newframe = frame.copy()`\n",
      "  portfolio_cumulative_returns[n] = (1 + sim_df.fillna(0)).cumprod()\n",
      "C:\\Users\\maris\\Downloads\\Fintech_P5M5-1bf4acc2d69b224c1384771893e8b26bdc73dabf\\Fintech_P5M5-1bf4acc2d69b224c1384771893e8b26bdc73dabf\\Starter_Code-5\\MCForecastTools.py:117: PerformanceWarning: DataFrame is highly fragmented.  This is usually the result of calling `frame.insert` many times, which has poor performance.  Consider joining all columns at once using pd.concat(axis=1) instead. To get a de-fragmented frame, use `newframe = frame.copy()`\n",
      "  portfolio_cumulative_returns[n] = (1 + sim_df.fillna(0)).cumprod()\n",
      "C:\\Users\\maris\\Downloads\\Fintech_P5M5-1bf4acc2d69b224c1384771893e8b26bdc73dabf\\Fintech_P5M5-1bf4acc2d69b224c1384771893e8b26bdc73dabf\\Starter_Code-5\\MCForecastTools.py:117: PerformanceWarning: DataFrame is highly fragmented.  This is usually the result of calling `frame.insert` many times, which has poor performance.  Consider joining all columns at once using pd.concat(axis=1) instead. To get a de-fragmented frame, use `newframe = frame.copy()`\n",
      "  portfolio_cumulative_returns[n] = (1 + sim_df.fillna(0)).cumprod()\n",
      "C:\\Users\\maris\\Downloads\\Fintech_P5M5-1bf4acc2d69b224c1384771893e8b26bdc73dabf\\Fintech_P5M5-1bf4acc2d69b224c1384771893e8b26bdc73dabf\\Starter_Code-5\\MCForecastTools.py:117: PerformanceWarning: DataFrame is highly fragmented.  This is usually the result of calling `frame.insert` many times, which has poor performance.  Consider joining all columns at once using pd.concat(axis=1) instead. To get a de-fragmented frame, use `newframe = frame.copy()`\n",
      "  portfolio_cumulative_returns[n] = (1 + sim_df.fillna(0)).cumprod()\n"
     ]
    },
    {
     "name": "stdout",
     "output_type": "stream",
     "text": [
      "Running Monte Carlo simulation number 200.\n"
     ]
    },
    {
     "name": "stderr",
     "output_type": "stream",
     "text": [
      "C:\\Users\\maris\\Downloads\\Fintech_P5M5-1bf4acc2d69b224c1384771893e8b26bdc73dabf\\Fintech_P5M5-1bf4acc2d69b224c1384771893e8b26bdc73dabf\\Starter_Code-5\\MCForecastTools.py:117: PerformanceWarning: DataFrame is highly fragmented.  This is usually the result of calling `frame.insert` many times, which has poor performance.  Consider joining all columns at once using pd.concat(axis=1) instead. To get a de-fragmented frame, use `newframe = frame.copy()`\n",
      "  portfolio_cumulative_returns[n] = (1 + sim_df.fillna(0)).cumprod()\n",
      "C:\\Users\\maris\\Downloads\\Fintech_P5M5-1bf4acc2d69b224c1384771893e8b26bdc73dabf\\Fintech_P5M5-1bf4acc2d69b224c1384771893e8b26bdc73dabf\\Starter_Code-5\\MCForecastTools.py:117: PerformanceWarning: DataFrame is highly fragmented.  This is usually the result of calling `frame.insert` many times, which has poor performance.  Consider joining all columns at once using pd.concat(axis=1) instead. To get a de-fragmented frame, use `newframe = frame.copy()`\n",
      "  portfolio_cumulative_returns[n] = (1 + sim_df.fillna(0)).cumprod()\n",
      "C:\\Users\\maris\\Downloads\\Fintech_P5M5-1bf4acc2d69b224c1384771893e8b26bdc73dabf\\Fintech_P5M5-1bf4acc2d69b224c1384771893e8b26bdc73dabf\\Starter_Code-5\\MCForecastTools.py:117: PerformanceWarning: DataFrame is highly fragmented.  This is usually the result of calling `frame.insert` many times, which has poor performance.  Consider joining all columns at once using pd.concat(axis=1) instead. To get a de-fragmented frame, use `newframe = frame.copy()`\n",
      "  portfolio_cumulative_returns[n] = (1 + sim_df.fillna(0)).cumprod()\n",
      "C:\\Users\\maris\\Downloads\\Fintech_P5M5-1bf4acc2d69b224c1384771893e8b26bdc73dabf\\Fintech_P5M5-1bf4acc2d69b224c1384771893e8b26bdc73dabf\\Starter_Code-5\\MCForecastTools.py:117: PerformanceWarning: DataFrame is highly fragmented.  This is usually the result of calling `frame.insert` many times, which has poor performance.  Consider joining all columns at once using pd.concat(axis=1) instead. To get a de-fragmented frame, use `newframe = frame.copy()`\n",
      "  portfolio_cumulative_returns[n] = (1 + sim_df.fillna(0)).cumprod()\n",
      "C:\\Users\\maris\\Downloads\\Fintech_P5M5-1bf4acc2d69b224c1384771893e8b26bdc73dabf\\Fintech_P5M5-1bf4acc2d69b224c1384771893e8b26bdc73dabf\\Starter_Code-5\\MCForecastTools.py:117: PerformanceWarning: DataFrame is highly fragmented.  This is usually the result of calling `frame.insert` many times, which has poor performance.  Consider joining all columns at once using pd.concat(axis=1) instead. To get a de-fragmented frame, use `newframe = frame.copy()`\n",
      "  portfolio_cumulative_returns[n] = (1 + sim_df.fillna(0)).cumprod()\n",
      "C:\\Users\\maris\\Downloads\\Fintech_P5M5-1bf4acc2d69b224c1384771893e8b26bdc73dabf\\Fintech_P5M5-1bf4acc2d69b224c1384771893e8b26bdc73dabf\\Starter_Code-5\\MCForecastTools.py:117: PerformanceWarning: DataFrame is highly fragmented.  This is usually the result of calling `frame.insert` many times, which has poor performance.  Consider joining all columns at once using pd.concat(axis=1) instead. To get a de-fragmented frame, use `newframe = frame.copy()`\n",
      "  portfolio_cumulative_returns[n] = (1 + sim_df.fillna(0)).cumprod()\n",
      "C:\\Users\\maris\\Downloads\\Fintech_P5M5-1bf4acc2d69b224c1384771893e8b26bdc73dabf\\Fintech_P5M5-1bf4acc2d69b224c1384771893e8b26bdc73dabf\\Starter_Code-5\\MCForecastTools.py:117: PerformanceWarning: DataFrame is highly fragmented.  This is usually the result of calling `frame.insert` many times, which has poor performance.  Consider joining all columns at once using pd.concat(axis=1) instead. To get a de-fragmented frame, use `newframe = frame.copy()`\n",
      "  portfolio_cumulative_returns[n] = (1 + sim_df.fillna(0)).cumprod()\n",
      "C:\\Users\\maris\\Downloads\\Fintech_P5M5-1bf4acc2d69b224c1384771893e8b26bdc73dabf\\Fintech_P5M5-1bf4acc2d69b224c1384771893e8b26bdc73dabf\\Starter_Code-5\\MCForecastTools.py:117: PerformanceWarning: DataFrame is highly fragmented.  This is usually the result of calling `frame.insert` many times, which has poor performance.  Consider joining all columns at once using pd.concat(axis=1) instead. To get a de-fragmented frame, use `newframe = frame.copy()`\n",
      "  portfolio_cumulative_returns[n] = (1 + sim_df.fillna(0)).cumprod()\n",
      "C:\\Users\\maris\\Downloads\\Fintech_P5M5-1bf4acc2d69b224c1384771893e8b26bdc73dabf\\Fintech_P5M5-1bf4acc2d69b224c1384771893e8b26bdc73dabf\\Starter_Code-5\\MCForecastTools.py:117: PerformanceWarning: DataFrame is highly fragmented.  This is usually the result of calling `frame.insert` many times, which has poor performance.  Consider joining all columns at once using pd.concat(axis=1) instead. To get a de-fragmented frame, use `newframe = frame.copy()`\n",
      "  portfolio_cumulative_returns[n] = (1 + sim_df.fillna(0)).cumprod()\n",
      "C:\\Users\\maris\\Downloads\\Fintech_P5M5-1bf4acc2d69b224c1384771893e8b26bdc73dabf\\Fintech_P5M5-1bf4acc2d69b224c1384771893e8b26bdc73dabf\\Starter_Code-5\\MCForecastTools.py:117: PerformanceWarning: DataFrame is highly fragmented.  This is usually the result of calling `frame.insert` many times, which has poor performance.  Consider joining all columns at once using pd.concat(axis=1) instead. To get a de-fragmented frame, use `newframe = frame.copy()`\n",
      "  portfolio_cumulative_returns[n] = (1 + sim_df.fillna(0)).cumprod()\n"
     ]
    },
    {
     "name": "stdout",
     "output_type": "stream",
     "text": [
      "Running Monte Carlo simulation number 210.\n"
     ]
    },
    {
     "name": "stderr",
     "output_type": "stream",
     "text": [
      "C:\\Users\\maris\\Downloads\\Fintech_P5M5-1bf4acc2d69b224c1384771893e8b26bdc73dabf\\Fintech_P5M5-1bf4acc2d69b224c1384771893e8b26bdc73dabf\\Starter_Code-5\\MCForecastTools.py:117: PerformanceWarning: DataFrame is highly fragmented.  This is usually the result of calling `frame.insert` many times, which has poor performance.  Consider joining all columns at once using pd.concat(axis=1) instead. To get a de-fragmented frame, use `newframe = frame.copy()`\n",
      "  portfolio_cumulative_returns[n] = (1 + sim_df.fillna(0)).cumprod()\n",
      "C:\\Users\\maris\\Downloads\\Fintech_P5M5-1bf4acc2d69b224c1384771893e8b26bdc73dabf\\Fintech_P5M5-1bf4acc2d69b224c1384771893e8b26bdc73dabf\\Starter_Code-5\\MCForecastTools.py:117: PerformanceWarning: DataFrame is highly fragmented.  This is usually the result of calling `frame.insert` many times, which has poor performance.  Consider joining all columns at once using pd.concat(axis=1) instead. To get a de-fragmented frame, use `newframe = frame.copy()`\n",
      "  portfolio_cumulative_returns[n] = (1 + sim_df.fillna(0)).cumprod()\n",
      "C:\\Users\\maris\\Downloads\\Fintech_P5M5-1bf4acc2d69b224c1384771893e8b26bdc73dabf\\Fintech_P5M5-1bf4acc2d69b224c1384771893e8b26bdc73dabf\\Starter_Code-5\\MCForecastTools.py:117: PerformanceWarning: DataFrame is highly fragmented.  This is usually the result of calling `frame.insert` many times, which has poor performance.  Consider joining all columns at once using pd.concat(axis=1) instead. To get a de-fragmented frame, use `newframe = frame.copy()`\n",
      "  portfolio_cumulative_returns[n] = (1 + sim_df.fillna(0)).cumprod()\n",
      "C:\\Users\\maris\\Downloads\\Fintech_P5M5-1bf4acc2d69b224c1384771893e8b26bdc73dabf\\Fintech_P5M5-1bf4acc2d69b224c1384771893e8b26bdc73dabf\\Starter_Code-5\\MCForecastTools.py:117: PerformanceWarning: DataFrame is highly fragmented.  This is usually the result of calling `frame.insert` many times, which has poor performance.  Consider joining all columns at once using pd.concat(axis=1) instead. To get a de-fragmented frame, use `newframe = frame.copy()`\n",
      "  portfolio_cumulative_returns[n] = (1 + sim_df.fillna(0)).cumprod()\n",
      "C:\\Users\\maris\\Downloads\\Fintech_P5M5-1bf4acc2d69b224c1384771893e8b26bdc73dabf\\Fintech_P5M5-1bf4acc2d69b224c1384771893e8b26bdc73dabf\\Starter_Code-5\\MCForecastTools.py:117: PerformanceWarning: DataFrame is highly fragmented.  This is usually the result of calling `frame.insert` many times, which has poor performance.  Consider joining all columns at once using pd.concat(axis=1) instead. To get a de-fragmented frame, use `newframe = frame.copy()`\n",
      "  portfolio_cumulative_returns[n] = (1 + sim_df.fillna(0)).cumprod()\n",
      "C:\\Users\\maris\\Downloads\\Fintech_P5M5-1bf4acc2d69b224c1384771893e8b26bdc73dabf\\Fintech_P5M5-1bf4acc2d69b224c1384771893e8b26bdc73dabf\\Starter_Code-5\\MCForecastTools.py:117: PerformanceWarning: DataFrame is highly fragmented.  This is usually the result of calling `frame.insert` many times, which has poor performance.  Consider joining all columns at once using pd.concat(axis=1) instead. To get a de-fragmented frame, use `newframe = frame.copy()`\n",
      "  portfolio_cumulative_returns[n] = (1 + sim_df.fillna(0)).cumprod()\n",
      "C:\\Users\\maris\\Downloads\\Fintech_P5M5-1bf4acc2d69b224c1384771893e8b26bdc73dabf\\Fintech_P5M5-1bf4acc2d69b224c1384771893e8b26bdc73dabf\\Starter_Code-5\\MCForecastTools.py:117: PerformanceWarning: DataFrame is highly fragmented.  This is usually the result of calling `frame.insert` many times, which has poor performance.  Consider joining all columns at once using pd.concat(axis=1) instead. To get a de-fragmented frame, use `newframe = frame.copy()`\n",
      "  portfolio_cumulative_returns[n] = (1 + sim_df.fillna(0)).cumprod()\n",
      "C:\\Users\\maris\\Downloads\\Fintech_P5M5-1bf4acc2d69b224c1384771893e8b26bdc73dabf\\Fintech_P5M5-1bf4acc2d69b224c1384771893e8b26bdc73dabf\\Starter_Code-5\\MCForecastTools.py:117: PerformanceWarning: DataFrame is highly fragmented.  This is usually the result of calling `frame.insert` many times, which has poor performance.  Consider joining all columns at once using pd.concat(axis=1) instead. To get a de-fragmented frame, use `newframe = frame.copy()`\n",
      "  portfolio_cumulative_returns[n] = (1 + sim_df.fillna(0)).cumprod()\n",
      "C:\\Users\\maris\\Downloads\\Fintech_P5M5-1bf4acc2d69b224c1384771893e8b26bdc73dabf\\Fintech_P5M5-1bf4acc2d69b224c1384771893e8b26bdc73dabf\\Starter_Code-5\\MCForecastTools.py:117: PerformanceWarning: DataFrame is highly fragmented.  This is usually the result of calling `frame.insert` many times, which has poor performance.  Consider joining all columns at once using pd.concat(axis=1) instead. To get a de-fragmented frame, use `newframe = frame.copy()`\n",
      "  portfolio_cumulative_returns[n] = (1 + sim_df.fillna(0)).cumprod()\n",
      "C:\\Users\\maris\\Downloads\\Fintech_P5M5-1bf4acc2d69b224c1384771893e8b26bdc73dabf\\Fintech_P5M5-1bf4acc2d69b224c1384771893e8b26bdc73dabf\\Starter_Code-5\\MCForecastTools.py:117: PerformanceWarning: DataFrame is highly fragmented.  This is usually the result of calling `frame.insert` many times, which has poor performance.  Consider joining all columns at once using pd.concat(axis=1) instead. To get a de-fragmented frame, use `newframe = frame.copy()`\n",
      "  portfolio_cumulative_returns[n] = (1 + sim_df.fillna(0)).cumprod()\n"
     ]
    },
    {
     "name": "stdout",
     "output_type": "stream",
     "text": [
      "Running Monte Carlo simulation number 220.\n"
     ]
    },
    {
     "name": "stderr",
     "output_type": "stream",
     "text": [
      "C:\\Users\\maris\\Downloads\\Fintech_P5M5-1bf4acc2d69b224c1384771893e8b26bdc73dabf\\Fintech_P5M5-1bf4acc2d69b224c1384771893e8b26bdc73dabf\\Starter_Code-5\\MCForecastTools.py:117: PerformanceWarning: DataFrame is highly fragmented.  This is usually the result of calling `frame.insert` many times, which has poor performance.  Consider joining all columns at once using pd.concat(axis=1) instead. To get a de-fragmented frame, use `newframe = frame.copy()`\n",
      "  portfolio_cumulative_returns[n] = (1 + sim_df.fillna(0)).cumprod()\n",
      "C:\\Users\\maris\\Downloads\\Fintech_P5M5-1bf4acc2d69b224c1384771893e8b26bdc73dabf\\Fintech_P5M5-1bf4acc2d69b224c1384771893e8b26bdc73dabf\\Starter_Code-5\\MCForecastTools.py:117: PerformanceWarning: DataFrame is highly fragmented.  This is usually the result of calling `frame.insert` many times, which has poor performance.  Consider joining all columns at once using pd.concat(axis=1) instead. To get a de-fragmented frame, use `newframe = frame.copy()`\n",
      "  portfolio_cumulative_returns[n] = (1 + sim_df.fillna(0)).cumprod()\n",
      "C:\\Users\\maris\\Downloads\\Fintech_P5M5-1bf4acc2d69b224c1384771893e8b26bdc73dabf\\Fintech_P5M5-1bf4acc2d69b224c1384771893e8b26bdc73dabf\\Starter_Code-5\\MCForecastTools.py:117: PerformanceWarning: DataFrame is highly fragmented.  This is usually the result of calling `frame.insert` many times, which has poor performance.  Consider joining all columns at once using pd.concat(axis=1) instead. To get a de-fragmented frame, use `newframe = frame.copy()`\n",
      "  portfolio_cumulative_returns[n] = (1 + sim_df.fillna(0)).cumprod()\n",
      "C:\\Users\\maris\\Downloads\\Fintech_P5M5-1bf4acc2d69b224c1384771893e8b26bdc73dabf\\Fintech_P5M5-1bf4acc2d69b224c1384771893e8b26bdc73dabf\\Starter_Code-5\\MCForecastTools.py:117: PerformanceWarning: DataFrame is highly fragmented.  This is usually the result of calling `frame.insert` many times, which has poor performance.  Consider joining all columns at once using pd.concat(axis=1) instead. To get a de-fragmented frame, use `newframe = frame.copy()`\n",
      "  portfolio_cumulative_returns[n] = (1 + sim_df.fillna(0)).cumprod()\n",
      "C:\\Users\\maris\\Downloads\\Fintech_P5M5-1bf4acc2d69b224c1384771893e8b26bdc73dabf\\Fintech_P5M5-1bf4acc2d69b224c1384771893e8b26bdc73dabf\\Starter_Code-5\\MCForecastTools.py:117: PerformanceWarning: DataFrame is highly fragmented.  This is usually the result of calling `frame.insert` many times, which has poor performance.  Consider joining all columns at once using pd.concat(axis=1) instead. To get a de-fragmented frame, use `newframe = frame.copy()`\n",
      "  portfolio_cumulative_returns[n] = (1 + sim_df.fillna(0)).cumprod()\n",
      "C:\\Users\\maris\\Downloads\\Fintech_P5M5-1bf4acc2d69b224c1384771893e8b26bdc73dabf\\Fintech_P5M5-1bf4acc2d69b224c1384771893e8b26bdc73dabf\\Starter_Code-5\\MCForecastTools.py:117: PerformanceWarning: DataFrame is highly fragmented.  This is usually the result of calling `frame.insert` many times, which has poor performance.  Consider joining all columns at once using pd.concat(axis=1) instead. To get a de-fragmented frame, use `newframe = frame.copy()`\n",
      "  portfolio_cumulative_returns[n] = (1 + sim_df.fillna(0)).cumprod()\n",
      "C:\\Users\\maris\\Downloads\\Fintech_P5M5-1bf4acc2d69b224c1384771893e8b26bdc73dabf\\Fintech_P5M5-1bf4acc2d69b224c1384771893e8b26bdc73dabf\\Starter_Code-5\\MCForecastTools.py:117: PerformanceWarning: DataFrame is highly fragmented.  This is usually the result of calling `frame.insert` many times, which has poor performance.  Consider joining all columns at once using pd.concat(axis=1) instead. To get a de-fragmented frame, use `newframe = frame.copy()`\n",
      "  portfolio_cumulative_returns[n] = (1 + sim_df.fillna(0)).cumprod()\n",
      "C:\\Users\\maris\\Downloads\\Fintech_P5M5-1bf4acc2d69b224c1384771893e8b26bdc73dabf\\Fintech_P5M5-1bf4acc2d69b224c1384771893e8b26bdc73dabf\\Starter_Code-5\\MCForecastTools.py:117: PerformanceWarning: DataFrame is highly fragmented.  This is usually the result of calling `frame.insert` many times, which has poor performance.  Consider joining all columns at once using pd.concat(axis=1) instead. To get a de-fragmented frame, use `newframe = frame.copy()`\n",
      "  portfolio_cumulative_returns[n] = (1 + sim_df.fillna(0)).cumprod()\n",
      "C:\\Users\\maris\\Downloads\\Fintech_P5M5-1bf4acc2d69b224c1384771893e8b26bdc73dabf\\Fintech_P5M5-1bf4acc2d69b224c1384771893e8b26bdc73dabf\\Starter_Code-5\\MCForecastTools.py:117: PerformanceWarning: DataFrame is highly fragmented.  This is usually the result of calling `frame.insert` many times, which has poor performance.  Consider joining all columns at once using pd.concat(axis=1) instead. To get a de-fragmented frame, use `newframe = frame.copy()`\n",
      "  portfolio_cumulative_returns[n] = (1 + sim_df.fillna(0)).cumprod()\n",
      "C:\\Users\\maris\\Downloads\\Fintech_P5M5-1bf4acc2d69b224c1384771893e8b26bdc73dabf\\Fintech_P5M5-1bf4acc2d69b224c1384771893e8b26bdc73dabf\\Starter_Code-5\\MCForecastTools.py:117: PerformanceWarning: DataFrame is highly fragmented.  This is usually the result of calling `frame.insert` many times, which has poor performance.  Consider joining all columns at once using pd.concat(axis=1) instead. To get a de-fragmented frame, use `newframe = frame.copy()`\n",
      "  portfolio_cumulative_returns[n] = (1 + sim_df.fillna(0)).cumprod()\n"
     ]
    },
    {
     "name": "stdout",
     "output_type": "stream",
     "text": [
      "Running Monte Carlo simulation number 230.\n"
     ]
    },
    {
     "name": "stderr",
     "output_type": "stream",
     "text": [
      "C:\\Users\\maris\\Downloads\\Fintech_P5M5-1bf4acc2d69b224c1384771893e8b26bdc73dabf\\Fintech_P5M5-1bf4acc2d69b224c1384771893e8b26bdc73dabf\\Starter_Code-5\\MCForecastTools.py:117: PerformanceWarning: DataFrame is highly fragmented.  This is usually the result of calling `frame.insert` many times, which has poor performance.  Consider joining all columns at once using pd.concat(axis=1) instead. To get a de-fragmented frame, use `newframe = frame.copy()`\n",
      "  portfolio_cumulative_returns[n] = (1 + sim_df.fillna(0)).cumprod()\n",
      "C:\\Users\\maris\\Downloads\\Fintech_P5M5-1bf4acc2d69b224c1384771893e8b26bdc73dabf\\Fintech_P5M5-1bf4acc2d69b224c1384771893e8b26bdc73dabf\\Starter_Code-5\\MCForecastTools.py:117: PerformanceWarning: DataFrame is highly fragmented.  This is usually the result of calling `frame.insert` many times, which has poor performance.  Consider joining all columns at once using pd.concat(axis=1) instead. To get a de-fragmented frame, use `newframe = frame.copy()`\n",
      "  portfolio_cumulative_returns[n] = (1 + sim_df.fillna(0)).cumprod()\n",
      "C:\\Users\\maris\\Downloads\\Fintech_P5M5-1bf4acc2d69b224c1384771893e8b26bdc73dabf\\Fintech_P5M5-1bf4acc2d69b224c1384771893e8b26bdc73dabf\\Starter_Code-5\\MCForecastTools.py:117: PerformanceWarning: DataFrame is highly fragmented.  This is usually the result of calling `frame.insert` many times, which has poor performance.  Consider joining all columns at once using pd.concat(axis=1) instead. To get a de-fragmented frame, use `newframe = frame.copy()`\n",
      "  portfolio_cumulative_returns[n] = (1 + sim_df.fillna(0)).cumprod()\n",
      "C:\\Users\\maris\\Downloads\\Fintech_P5M5-1bf4acc2d69b224c1384771893e8b26bdc73dabf\\Fintech_P5M5-1bf4acc2d69b224c1384771893e8b26bdc73dabf\\Starter_Code-5\\MCForecastTools.py:117: PerformanceWarning: DataFrame is highly fragmented.  This is usually the result of calling `frame.insert` many times, which has poor performance.  Consider joining all columns at once using pd.concat(axis=1) instead. To get a de-fragmented frame, use `newframe = frame.copy()`\n",
      "  portfolio_cumulative_returns[n] = (1 + sim_df.fillna(0)).cumprod()\n",
      "C:\\Users\\maris\\Downloads\\Fintech_P5M5-1bf4acc2d69b224c1384771893e8b26bdc73dabf\\Fintech_P5M5-1bf4acc2d69b224c1384771893e8b26bdc73dabf\\Starter_Code-5\\MCForecastTools.py:117: PerformanceWarning: DataFrame is highly fragmented.  This is usually the result of calling `frame.insert` many times, which has poor performance.  Consider joining all columns at once using pd.concat(axis=1) instead. To get a de-fragmented frame, use `newframe = frame.copy()`\n",
      "  portfolio_cumulative_returns[n] = (1 + sim_df.fillna(0)).cumprod()\n",
      "C:\\Users\\maris\\Downloads\\Fintech_P5M5-1bf4acc2d69b224c1384771893e8b26bdc73dabf\\Fintech_P5M5-1bf4acc2d69b224c1384771893e8b26bdc73dabf\\Starter_Code-5\\MCForecastTools.py:117: PerformanceWarning: DataFrame is highly fragmented.  This is usually the result of calling `frame.insert` many times, which has poor performance.  Consider joining all columns at once using pd.concat(axis=1) instead. To get a de-fragmented frame, use `newframe = frame.copy()`\n",
      "  portfolio_cumulative_returns[n] = (1 + sim_df.fillna(0)).cumprod()\n",
      "C:\\Users\\maris\\Downloads\\Fintech_P5M5-1bf4acc2d69b224c1384771893e8b26bdc73dabf\\Fintech_P5M5-1bf4acc2d69b224c1384771893e8b26bdc73dabf\\Starter_Code-5\\MCForecastTools.py:117: PerformanceWarning: DataFrame is highly fragmented.  This is usually the result of calling `frame.insert` many times, which has poor performance.  Consider joining all columns at once using pd.concat(axis=1) instead. To get a de-fragmented frame, use `newframe = frame.copy()`\n",
      "  portfolio_cumulative_returns[n] = (1 + sim_df.fillna(0)).cumprod()\n",
      "C:\\Users\\maris\\Downloads\\Fintech_P5M5-1bf4acc2d69b224c1384771893e8b26bdc73dabf\\Fintech_P5M5-1bf4acc2d69b224c1384771893e8b26bdc73dabf\\Starter_Code-5\\MCForecastTools.py:117: PerformanceWarning: DataFrame is highly fragmented.  This is usually the result of calling `frame.insert` many times, which has poor performance.  Consider joining all columns at once using pd.concat(axis=1) instead. To get a de-fragmented frame, use `newframe = frame.copy()`\n",
      "  portfolio_cumulative_returns[n] = (1 + sim_df.fillna(0)).cumprod()\n",
      "C:\\Users\\maris\\Downloads\\Fintech_P5M5-1bf4acc2d69b224c1384771893e8b26bdc73dabf\\Fintech_P5M5-1bf4acc2d69b224c1384771893e8b26bdc73dabf\\Starter_Code-5\\MCForecastTools.py:117: PerformanceWarning: DataFrame is highly fragmented.  This is usually the result of calling `frame.insert` many times, which has poor performance.  Consider joining all columns at once using pd.concat(axis=1) instead. To get a de-fragmented frame, use `newframe = frame.copy()`\n",
      "  portfolio_cumulative_returns[n] = (1 + sim_df.fillna(0)).cumprod()\n",
      "C:\\Users\\maris\\Downloads\\Fintech_P5M5-1bf4acc2d69b224c1384771893e8b26bdc73dabf\\Fintech_P5M5-1bf4acc2d69b224c1384771893e8b26bdc73dabf\\Starter_Code-5\\MCForecastTools.py:117: PerformanceWarning: DataFrame is highly fragmented.  This is usually the result of calling `frame.insert` many times, which has poor performance.  Consider joining all columns at once using pd.concat(axis=1) instead. To get a de-fragmented frame, use `newframe = frame.copy()`\n",
      "  portfolio_cumulative_returns[n] = (1 + sim_df.fillna(0)).cumprod()\n"
     ]
    },
    {
     "name": "stdout",
     "output_type": "stream",
     "text": [
      "Running Monte Carlo simulation number 240.\n"
     ]
    },
    {
     "name": "stderr",
     "output_type": "stream",
     "text": [
      "C:\\Users\\maris\\Downloads\\Fintech_P5M5-1bf4acc2d69b224c1384771893e8b26bdc73dabf\\Fintech_P5M5-1bf4acc2d69b224c1384771893e8b26bdc73dabf\\Starter_Code-5\\MCForecastTools.py:117: PerformanceWarning: DataFrame is highly fragmented.  This is usually the result of calling `frame.insert` many times, which has poor performance.  Consider joining all columns at once using pd.concat(axis=1) instead. To get a de-fragmented frame, use `newframe = frame.copy()`\n",
      "  portfolio_cumulative_returns[n] = (1 + sim_df.fillna(0)).cumprod()\n",
      "C:\\Users\\maris\\Downloads\\Fintech_P5M5-1bf4acc2d69b224c1384771893e8b26bdc73dabf\\Fintech_P5M5-1bf4acc2d69b224c1384771893e8b26bdc73dabf\\Starter_Code-5\\MCForecastTools.py:117: PerformanceWarning: DataFrame is highly fragmented.  This is usually the result of calling `frame.insert` many times, which has poor performance.  Consider joining all columns at once using pd.concat(axis=1) instead. To get a de-fragmented frame, use `newframe = frame.copy()`\n",
      "  portfolio_cumulative_returns[n] = (1 + sim_df.fillna(0)).cumprod()\n",
      "C:\\Users\\maris\\Downloads\\Fintech_P5M5-1bf4acc2d69b224c1384771893e8b26bdc73dabf\\Fintech_P5M5-1bf4acc2d69b224c1384771893e8b26bdc73dabf\\Starter_Code-5\\MCForecastTools.py:117: PerformanceWarning: DataFrame is highly fragmented.  This is usually the result of calling `frame.insert` many times, which has poor performance.  Consider joining all columns at once using pd.concat(axis=1) instead. To get a de-fragmented frame, use `newframe = frame.copy()`\n",
      "  portfolio_cumulative_returns[n] = (1 + sim_df.fillna(0)).cumprod()\n",
      "C:\\Users\\maris\\Downloads\\Fintech_P5M5-1bf4acc2d69b224c1384771893e8b26bdc73dabf\\Fintech_P5M5-1bf4acc2d69b224c1384771893e8b26bdc73dabf\\Starter_Code-5\\MCForecastTools.py:117: PerformanceWarning: DataFrame is highly fragmented.  This is usually the result of calling `frame.insert` many times, which has poor performance.  Consider joining all columns at once using pd.concat(axis=1) instead. To get a de-fragmented frame, use `newframe = frame.copy()`\n",
      "  portfolio_cumulative_returns[n] = (1 + sim_df.fillna(0)).cumprod()\n",
      "C:\\Users\\maris\\Downloads\\Fintech_P5M5-1bf4acc2d69b224c1384771893e8b26bdc73dabf\\Fintech_P5M5-1bf4acc2d69b224c1384771893e8b26bdc73dabf\\Starter_Code-5\\MCForecastTools.py:117: PerformanceWarning: DataFrame is highly fragmented.  This is usually the result of calling `frame.insert` many times, which has poor performance.  Consider joining all columns at once using pd.concat(axis=1) instead. To get a de-fragmented frame, use `newframe = frame.copy()`\n",
      "  portfolio_cumulative_returns[n] = (1 + sim_df.fillna(0)).cumprod()\n",
      "C:\\Users\\maris\\Downloads\\Fintech_P5M5-1bf4acc2d69b224c1384771893e8b26bdc73dabf\\Fintech_P5M5-1bf4acc2d69b224c1384771893e8b26bdc73dabf\\Starter_Code-5\\MCForecastTools.py:117: PerformanceWarning: DataFrame is highly fragmented.  This is usually the result of calling `frame.insert` many times, which has poor performance.  Consider joining all columns at once using pd.concat(axis=1) instead. To get a de-fragmented frame, use `newframe = frame.copy()`\n",
      "  portfolio_cumulative_returns[n] = (1 + sim_df.fillna(0)).cumprod()\n",
      "C:\\Users\\maris\\Downloads\\Fintech_P5M5-1bf4acc2d69b224c1384771893e8b26bdc73dabf\\Fintech_P5M5-1bf4acc2d69b224c1384771893e8b26bdc73dabf\\Starter_Code-5\\MCForecastTools.py:117: PerformanceWarning: DataFrame is highly fragmented.  This is usually the result of calling `frame.insert` many times, which has poor performance.  Consider joining all columns at once using pd.concat(axis=1) instead. To get a de-fragmented frame, use `newframe = frame.copy()`\n",
      "  portfolio_cumulative_returns[n] = (1 + sim_df.fillna(0)).cumprod()\n",
      "C:\\Users\\maris\\Downloads\\Fintech_P5M5-1bf4acc2d69b224c1384771893e8b26bdc73dabf\\Fintech_P5M5-1bf4acc2d69b224c1384771893e8b26bdc73dabf\\Starter_Code-5\\MCForecastTools.py:117: PerformanceWarning: DataFrame is highly fragmented.  This is usually the result of calling `frame.insert` many times, which has poor performance.  Consider joining all columns at once using pd.concat(axis=1) instead. To get a de-fragmented frame, use `newframe = frame.copy()`\n",
      "  portfolio_cumulative_returns[n] = (1 + sim_df.fillna(0)).cumprod()\n",
      "C:\\Users\\maris\\Downloads\\Fintech_P5M5-1bf4acc2d69b224c1384771893e8b26bdc73dabf\\Fintech_P5M5-1bf4acc2d69b224c1384771893e8b26bdc73dabf\\Starter_Code-5\\MCForecastTools.py:117: PerformanceWarning: DataFrame is highly fragmented.  This is usually the result of calling `frame.insert` many times, which has poor performance.  Consider joining all columns at once using pd.concat(axis=1) instead. To get a de-fragmented frame, use `newframe = frame.copy()`\n",
      "  portfolio_cumulative_returns[n] = (1 + sim_df.fillna(0)).cumprod()\n",
      "C:\\Users\\maris\\Downloads\\Fintech_P5M5-1bf4acc2d69b224c1384771893e8b26bdc73dabf\\Fintech_P5M5-1bf4acc2d69b224c1384771893e8b26bdc73dabf\\Starter_Code-5\\MCForecastTools.py:117: PerformanceWarning: DataFrame is highly fragmented.  This is usually the result of calling `frame.insert` many times, which has poor performance.  Consider joining all columns at once using pd.concat(axis=1) instead. To get a de-fragmented frame, use `newframe = frame.copy()`\n",
      "  portfolio_cumulative_returns[n] = (1 + sim_df.fillna(0)).cumprod()\n"
     ]
    },
    {
     "name": "stdout",
     "output_type": "stream",
     "text": [
      "Running Monte Carlo simulation number 250.\n"
     ]
    },
    {
     "name": "stderr",
     "output_type": "stream",
     "text": [
      "C:\\Users\\maris\\Downloads\\Fintech_P5M5-1bf4acc2d69b224c1384771893e8b26bdc73dabf\\Fintech_P5M5-1bf4acc2d69b224c1384771893e8b26bdc73dabf\\Starter_Code-5\\MCForecastTools.py:117: PerformanceWarning: DataFrame is highly fragmented.  This is usually the result of calling `frame.insert` many times, which has poor performance.  Consider joining all columns at once using pd.concat(axis=1) instead. To get a de-fragmented frame, use `newframe = frame.copy()`\n",
      "  portfolio_cumulative_returns[n] = (1 + sim_df.fillna(0)).cumprod()\n",
      "C:\\Users\\maris\\Downloads\\Fintech_P5M5-1bf4acc2d69b224c1384771893e8b26bdc73dabf\\Fintech_P5M5-1bf4acc2d69b224c1384771893e8b26bdc73dabf\\Starter_Code-5\\MCForecastTools.py:117: PerformanceWarning: DataFrame is highly fragmented.  This is usually the result of calling `frame.insert` many times, which has poor performance.  Consider joining all columns at once using pd.concat(axis=1) instead. To get a de-fragmented frame, use `newframe = frame.copy()`\n",
      "  portfolio_cumulative_returns[n] = (1 + sim_df.fillna(0)).cumprod()\n",
      "C:\\Users\\maris\\Downloads\\Fintech_P5M5-1bf4acc2d69b224c1384771893e8b26bdc73dabf\\Fintech_P5M5-1bf4acc2d69b224c1384771893e8b26bdc73dabf\\Starter_Code-5\\MCForecastTools.py:117: PerformanceWarning: DataFrame is highly fragmented.  This is usually the result of calling `frame.insert` many times, which has poor performance.  Consider joining all columns at once using pd.concat(axis=1) instead. To get a de-fragmented frame, use `newframe = frame.copy()`\n",
      "  portfolio_cumulative_returns[n] = (1 + sim_df.fillna(0)).cumprod()\n",
      "C:\\Users\\maris\\Downloads\\Fintech_P5M5-1bf4acc2d69b224c1384771893e8b26bdc73dabf\\Fintech_P5M5-1bf4acc2d69b224c1384771893e8b26bdc73dabf\\Starter_Code-5\\MCForecastTools.py:117: PerformanceWarning: DataFrame is highly fragmented.  This is usually the result of calling `frame.insert` many times, which has poor performance.  Consider joining all columns at once using pd.concat(axis=1) instead. To get a de-fragmented frame, use `newframe = frame.copy()`\n",
      "  portfolio_cumulative_returns[n] = (1 + sim_df.fillna(0)).cumprod()\n",
      "C:\\Users\\maris\\Downloads\\Fintech_P5M5-1bf4acc2d69b224c1384771893e8b26bdc73dabf\\Fintech_P5M5-1bf4acc2d69b224c1384771893e8b26bdc73dabf\\Starter_Code-5\\MCForecastTools.py:117: PerformanceWarning: DataFrame is highly fragmented.  This is usually the result of calling `frame.insert` many times, which has poor performance.  Consider joining all columns at once using pd.concat(axis=1) instead. To get a de-fragmented frame, use `newframe = frame.copy()`\n",
      "  portfolio_cumulative_returns[n] = (1 + sim_df.fillna(0)).cumprod()\n",
      "C:\\Users\\maris\\Downloads\\Fintech_P5M5-1bf4acc2d69b224c1384771893e8b26bdc73dabf\\Fintech_P5M5-1bf4acc2d69b224c1384771893e8b26bdc73dabf\\Starter_Code-5\\MCForecastTools.py:117: PerformanceWarning: DataFrame is highly fragmented.  This is usually the result of calling `frame.insert` many times, which has poor performance.  Consider joining all columns at once using pd.concat(axis=1) instead. To get a de-fragmented frame, use `newframe = frame.copy()`\n",
      "  portfolio_cumulative_returns[n] = (1 + sim_df.fillna(0)).cumprod()\n",
      "C:\\Users\\maris\\Downloads\\Fintech_P5M5-1bf4acc2d69b224c1384771893e8b26bdc73dabf\\Fintech_P5M5-1bf4acc2d69b224c1384771893e8b26bdc73dabf\\Starter_Code-5\\MCForecastTools.py:117: PerformanceWarning: DataFrame is highly fragmented.  This is usually the result of calling `frame.insert` many times, which has poor performance.  Consider joining all columns at once using pd.concat(axis=1) instead. To get a de-fragmented frame, use `newframe = frame.copy()`\n",
      "  portfolio_cumulative_returns[n] = (1 + sim_df.fillna(0)).cumprod()\n",
      "C:\\Users\\maris\\Downloads\\Fintech_P5M5-1bf4acc2d69b224c1384771893e8b26bdc73dabf\\Fintech_P5M5-1bf4acc2d69b224c1384771893e8b26bdc73dabf\\Starter_Code-5\\MCForecastTools.py:117: PerformanceWarning: DataFrame is highly fragmented.  This is usually the result of calling `frame.insert` many times, which has poor performance.  Consider joining all columns at once using pd.concat(axis=1) instead. To get a de-fragmented frame, use `newframe = frame.copy()`\n",
      "  portfolio_cumulative_returns[n] = (1 + sim_df.fillna(0)).cumprod()\n",
      "C:\\Users\\maris\\Downloads\\Fintech_P5M5-1bf4acc2d69b224c1384771893e8b26bdc73dabf\\Fintech_P5M5-1bf4acc2d69b224c1384771893e8b26bdc73dabf\\Starter_Code-5\\MCForecastTools.py:117: PerformanceWarning: DataFrame is highly fragmented.  This is usually the result of calling `frame.insert` many times, which has poor performance.  Consider joining all columns at once using pd.concat(axis=1) instead. To get a de-fragmented frame, use `newframe = frame.copy()`\n",
      "  portfolio_cumulative_returns[n] = (1 + sim_df.fillna(0)).cumprod()\n",
      "C:\\Users\\maris\\Downloads\\Fintech_P5M5-1bf4acc2d69b224c1384771893e8b26bdc73dabf\\Fintech_P5M5-1bf4acc2d69b224c1384771893e8b26bdc73dabf\\Starter_Code-5\\MCForecastTools.py:117: PerformanceWarning: DataFrame is highly fragmented.  This is usually the result of calling `frame.insert` many times, which has poor performance.  Consider joining all columns at once using pd.concat(axis=1) instead. To get a de-fragmented frame, use `newframe = frame.copy()`\n",
      "  portfolio_cumulative_returns[n] = (1 + sim_df.fillna(0)).cumprod()\n"
     ]
    },
    {
     "name": "stdout",
     "output_type": "stream",
     "text": [
      "Running Monte Carlo simulation number 260.\n"
     ]
    },
    {
     "name": "stderr",
     "output_type": "stream",
     "text": [
      "C:\\Users\\maris\\Downloads\\Fintech_P5M5-1bf4acc2d69b224c1384771893e8b26bdc73dabf\\Fintech_P5M5-1bf4acc2d69b224c1384771893e8b26bdc73dabf\\Starter_Code-5\\MCForecastTools.py:117: PerformanceWarning: DataFrame is highly fragmented.  This is usually the result of calling `frame.insert` many times, which has poor performance.  Consider joining all columns at once using pd.concat(axis=1) instead. To get a de-fragmented frame, use `newframe = frame.copy()`\n",
      "  portfolio_cumulative_returns[n] = (1 + sim_df.fillna(0)).cumprod()\n",
      "C:\\Users\\maris\\Downloads\\Fintech_P5M5-1bf4acc2d69b224c1384771893e8b26bdc73dabf\\Fintech_P5M5-1bf4acc2d69b224c1384771893e8b26bdc73dabf\\Starter_Code-5\\MCForecastTools.py:117: PerformanceWarning: DataFrame is highly fragmented.  This is usually the result of calling `frame.insert` many times, which has poor performance.  Consider joining all columns at once using pd.concat(axis=1) instead. To get a de-fragmented frame, use `newframe = frame.copy()`\n",
      "  portfolio_cumulative_returns[n] = (1 + sim_df.fillna(0)).cumprod()\n",
      "C:\\Users\\maris\\Downloads\\Fintech_P5M5-1bf4acc2d69b224c1384771893e8b26bdc73dabf\\Fintech_P5M5-1bf4acc2d69b224c1384771893e8b26bdc73dabf\\Starter_Code-5\\MCForecastTools.py:117: PerformanceWarning: DataFrame is highly fragmented.  This is usually the result of calling `frame.insert` many times, which has poor performance.  Consider joining all columns at once using pd.concat(axis=1) instead. To get a de-fragmented frame, use `newframe = frame.copy()`\n",
      "  portfolio_cumulative_returns[n] = (1 + sim_df.fillna(0)).cumprod()\n",
      "C:\\Users\\maris\\Downloads\\Fintech_P5M5-1bf4acc2d69b224c1384771893e8b26bdc73dabf\\Fintech_P5M5-1bf4acc2d69b224c1384771893e8b26bdc73dabf\\Starter_Code-5\\MCForecastTools.py:117: PerformanceWarning: DataFrame is highly fragmented.  This is usually the result of calling `frame.insert` many times, which has poor performance.  Consider joining all columns at once using pd.concat(axis=1) instead. To get a de-fragmented frame, use `newframe = frame.copy()`\n",
      "  portfolio_cumulative_returns[n] = (1 + sim_df.fillna(0)).cumprod()\n",
      "C:\\Users\\maris\\Downloads\\Fintech_P5M5-1bf4acc2d69b224c1384771893e8b26bdc73dabf\\Fintech_P5M5-1bf4acc2d69b224c1384771893e8b26bdc73dabf\\Starter_Code-5\\MCForecastTools.py:117: PerformanceWarning: DataFrame is highly fragmented.  This is usually the result of calling `frame.insert` many times, which has poor performance.  Consider joining all columns at once using pd.concat(axis=1) instead. To get a de-fragmented frame, use `newframe = frame.copy()`\n",
      "  portfolio_cumulative_returns[n] = (1 + sim_df.fillna(0)).cumprod()\n",
      "C:\\Users\\maris\\Downloads\\Fintech_P5M5-1bf4acc2d69b224c1384771893e8b26bdc73dabf\\Fintech_P5M5-1bf4acc2d69b224c1384771893e8b26bdc73dabf\\Starter_Code-5\\MCForecastTools.py:117: PerformanceWarning: DataFrame is highly fragmented.  This is usually the result of calling `frame.insert` many times, which has poor performance.  Consider joining all columns at once using pd.concat(axis=1) instead. To get a de-fragmented frame, use `newframe = frame.copy()`\n",
      "  portfolio_cumulative_returns[n] = (1 + sim_df.fillna(0)).cumprod()\n",
      "C:\\Users\\maris\\Downloads\\Fintech_P5M5-1bf4acc2d69b224c1384771893e8b26bdc73dabf\\Fintech_P5M5-1bf4acc2d69b224c1384771893e8b26bdc73dabf\\Starter_Code-5\\MCForecastTools.py:117: PerformanceWarning: DataFrame is highly fragmented.  This is usually the result of calling `frame.insert` many times, which has poor performance.  Consider joining all columns at once using pd.concat(axis=1) instead. To get a de-fragmented frame, use `newframe = frame.copy()`\n",
      "  portfolio_cumulative_returns[n] = (1 + sim_df.fillna(0)).cumprod()\n",
      "C:\\Users\\maris\\Downloads\\Fintech_P5M5-1bf4acc2d69b224c1384771893e8b26bdc73dabf\\Fintech_P5M5-1bf4acc2d69b224c1384771893e8b26bdc73dabf\\Starter_Code-5\\MCForecastTools.py:117: PerformanceWarning: DataFrame is highly fragmented.  This is usually the result of calling `frame.insert` many times, which has poor performance.  Consider joining all columns at once using pd.concat(axis=1) instead. To get a de-fragmented frame, use `newframe = frame.copy()`\n",
      "  portfolio_cumulative_returns[n] = (1 + sim_df.fillna(0)).cumprod()\n",
      "C:\\Users\\maris\\Downloads\\Fintech_P5M5-1bf4acc2d69b224c1384771893e8b26bdc73dabf\\Fintech_P5M5-1bf4acc2d69b224c1384771893e8b26bdc73dabf\\Starter_Code-5\\MCForecastTools.py:117: PerformanceWarning: DataFrame is highly fragmented.  This is usually the result of calling `frame.insert` many times, which has poor performance.  Consider joining all columns at once using pd.concat(axis=1) instead. To get a de-fragmented frame, use `newframe = frame.copy()`\n",
      "  portfolio_cumulative_returns[n] = (1 + sim_df.fillna(0)).cumprod()\n",
      "C:\\Users\\maris\\Downloads\\Fintech_P5M5-1bf4acc2d69b224c1384771893e8b26bdc73dabf\\Fintech_P5M5-1bf4acc2d69b224c1384771893e8b26bdc73dabf\\Starter_Code-5\\MCForecastTools.py:117: PerformanceWarning: DataFrame is highly fragmented.  This is usually the result of calling `frame.insert` many times, which has poor performance.  Consider joining all columns at once using pd.concat(axis=1) instead. To get a de-fragmented frame, use `newframe = frame.copy()`\n",
      "  portfolio_cumulative_returns[n] = (1 + sim_df.fillna(0)).cumprod()\n"
     ]
    },
    {
     "name": "stdout",
     "output_type": "stream",
     "text": [
      "Running Monte Carlo simulation number 270.\n"
     ]
    },
    {
     "name": "stderr",
     "output_type": "stream",
     "text": [
      "C:\\Users\\maris\\Downloads\\Fintech_P5M5-1bf4acc2d69b224c1384771893e8b26bdc73dabf\\Fintech_P5M5-1bf4acc2d69b224c1384771893e8b26bdc73dabf\\Starter_Code-5\\MCForecastTools.py:117: PerformanceWarning: DataFrame is highly fragmented.  This is usually the result of calling `frame.insert` many times, which has poor performance.  Consider joining all columns at once using pd.concat(axis=1) instead. To get a de-fragmented frame, use `newframe = frame.copy()`\n",
      "  portfolio_cumulative_returns[n] = (1 + sim_df.fillna(0)).cumprod()\n",
      "C:\\Users\\maris\\Downloads\\Fintech_P5M5-1bf4acc2d69b224c1384771893e8b26bdc73dabf\\Fintech_P5M5-1bf4acc2d69b224c1384771893e8b26bdc73dabf\\Starter_Code-5\\MCForecastTools.py:117: PerformanceWarning: DataFrame is highly fragmented.  This is usually the result of calling `frame.insert` many times, which has poor performance.  Consider joining all columns at once using pd.concat(axis=1) instead. To get a de-fragmented frame, use `newframe = frame.copy()`\n",
      "  portfolio_cumulative_returns[n] = (1 + sim_df.fillna(0)).cumprod()\n",
      "C:\\Users\\maris\\Downloads\\Fintech_P5M5-1bf4acc2d69b224c1384771893e8b26bdc73dabf\\Fintech_P5M5-1bf4acc2d69b224c1384771893e8b26bdc73dabf\\Starter_Code-5\\MCForecastTools.py:117: PerformanceWarning: DataFrame is highly fragmented.  This is usually the result of calling `frame.insert` many times, which has poor performance.  Consider joining all columns at once using pd.concat(axis=1) instead. To get a de-fragmented frame, use `newframe = frame.copy()`\n",
      "  portfolio_cumulative_returns[n] = (1 + sim_df.fillna(0)).cumprod()\n",
      "C:\\Users\\maris\\Downloads\\Fintech_P5M5-1bf4acc2d69b224c1384771893e8b26bdc73dabf\\Fintech_P5M5-1bf4acc2d69b224c1384771893e8b26bdc73dabf\\Starter_Code-5\\MCForecastTools.py:117: PerformanceWarning: DataFrame is highly fragmented.  This is usually the result of calling `frame.insert` many times, which has poor performance.  Consider joining all columns at once using pd.concat(axis=1) instead. To get a de-fragmented frame, use `newframe = frame.copy()`\n",
      "  portfolio_cumulative_returns[n] = (1 + sim_df.fillna(0)).cumprod()\n",
      "C:\\Users\\maris\\Downloads\\Fintech_P5M5-1bf4acc2d69b224c1384771893e8b26bdc73dabf\\Fintech_P5M5-1bf4acc2d69b224c1384771893e8b26bdc73dabf\\Starter_Code-5\\MCForecastTools.py:117: PerformanceWarning: DataFrame is highly fragmented.  This is usually the result of calling `frame.insert` many times, which has poor performance.  Consider joining all columns at once using pd.concat(axis=1) instead. To get a de-fragmented frame, use `newframe = frame.copy()`\n",
      "  portfolio_cumulative_returns[n] = (1 + sim_df.fillna(0)).cumprod()\n",
      "C:\\Users\\maris\\Downloads\\Fintech_P5M5-1bf4acc2d69b224c1384771893e8b26bdc73dabf\\Fintech_P5M5-1bf4acc2d69b224c1384771893e8b26bdc73dabf\\Starter_Code-5\\MCForecastTools.py:117: PerformanceWarning: DataFrame is highly fragmented.  This is usually the result of calling `frame.insert` many times, which has poor performance.  Consider joining all columns at once using pd.concat(axis=1) instead. To get a de-fragmented frame, use `newframe = frame.copy()`\n",
      "  portfolio_cumulative_returns[n] = (1 + sim_df.fillna(0)).cumprod()\n",
      "C:\\Users\\maris\\Downloads\\Fintech_P5M5-1bf4acc2d69b224c1384771893e8b26bdc73dabf\\Fintech_P5M5-1bf4acc2d69b224c1384771893e8b26bdc73dabf\\Starter_Code-5\\MCForecastTools.py:117: PerformanceWarning: DataFrame is highly fragmented.  This is usually the result of calling `frame.insert` many times, which has poor performance.  Consider joining all columns at once using pd.concat(axis=1) instead. To get a de-fragmented frame, use `newframe = frame.copy()`\n",
      "  portfolio_cumulative_returns[n] = (1 + sim_df.fillna(0)).cumprod()\n",
      "C:\\Users\\maris\\Downloads\\Fintech_P5M5-1bf4acc2d69b224c1384771893e8b26bdc73dabf\\Fintech_P5M5-1bf4acc2d69b224c1384771893e8b26bdc73dabf\\Starter_Code-5\\MCForecastTools.py:117: PerformanceWarning: DataFrame is highly fragmented.  This is usually the result of calling `frame.insert` many times, which has poor performance.  Consider joining all columns at once using pd.concat(axis=1) instead. To get a de-fragmented frame, use `newframe = frame.copy()`\n",
      "  portfolio_cumulative_returns[n] = (1 + sim_df.fillna(0)).cumprod()\n",
      "C:\\Users\\maris\\Downloads\\Fintech_P5M5-1bf4acc2d69b224c1384771893e8b26bdc73dabf\\Fintech_P5M5-1bf4acc2d69b224c1384771893e8b26bdc73dabf\\Starter_Code-5\\MCForecastTools.py:117: PerformanceWarning: DataFrame is highly fragmented.  This is usually the result of calling `frame.insert` many times, which has poor performance.  Consider joining all columns at once using pd.concat(axis=1) instead. To get a de-fragmented frame, use `newframe = frame.copy()`\n",
      "  portfolio_cumulative_returns[n] = (1 + sim_df.fillna(0)).cumprod()\n",
      "C:\\Users\\maris\\Downloads\\Fintech_P5M5-1bf4acc2d69b224c1384771893e8b26bdc73dabf\\Fintech_P5M5-1bf4acc2d69b224c1384771893e8b26bdc73dabf\\Starter_Code-5\\MCForecastTools.py:117: PerformanceWarning: DataFrame is highly fragmented.  This is usually the result of calling `frame.insert` many times, which has poor performance.  Consider joining all columns at once using pd.concat(axis=1) instead. To get a de-fragmented frame, use `newframe = frame.copy()`\n",
      "  portfolio_cumulative_returns[n] = (1 + sim_df.fillna(0)).cumprod()\n"
     ]
    },
    {
     "name": "stdout",
     "output_type": "stream",
     "text": [
      "Running Monte Carlo simulation number 280.\n"
     ]
    },
    {
     "name": "stderr",
     "output_type": "stream",
     "text": [
      "C:\\Users\\maris\\Downloads\\Fintech_P5M5-1bf4acc2d69b224c1384771893e8b26bdc73dabf\\Fintech_P5M5-1bf4acc2d69b224c1384771893e8b26bdc73dabf\\Starter_Code-5\\MCForecastTools.py:117: PerformanceWarning: DataFrame is highly fragmented.  This is usually the result of calling `frame.insert` many times, which has poor performance.  Consider joining all columns at once using pd.concat(axis=1) instead. To get a de-fragmented frame, use `newframe = frame.copy()`\n",
      "  portfolio_cumulative_returns[n] = (1 + sim_df.fillna(0)).cumprod()\n",
      "C:\\Users\\maris\\Downloads\\Fintech_P5M5-1bf4acc2d69b224c1384771893e8b26bdc73dabf\\Fintech_P5M5-1bf4acc2d69b224c1384771893e8b26bdc73dabf\\Starter_Code-5\\MCForecastTools.py:117: PerformanceWarning: DataFrame is highly fragmented.  This is usually the result of calling `frame.insert` many times, which has poor performance.  Consider joining all columns at once using pd.concat(axis=1) instead. To get a de-fragmented frame, use `newframe = frame.copy()`\n",
      "  portfolio_cumulative_returns[n] = (1 + sim_df.fillna(0)).cumprod()\n",
      "C:\\Users\\maris\\Downloads\\Fintech_P5M5-1bf4acc2d69b224c1384771893e8b26bdc73dabf\\Fintech_P5M5-1bf4acc2d69b224c1384771893e8b26bdc73dabf\\Starter_Code-5\\MCForecastTools.py:117: PerformanceWarning: DataFrame is highly fragmented.  This is usually the result of calling `frame.insert` many times, which has poor performance.  Consider joining all columns at once using pd.concat(axis=1) instead. To get a de-fragmented frame, use `newframe = frame.copy()`\n",
      "  portfolio_cumulative_returns[n] = (1 + sim_df.fillna(0)).cumprod()\n",
      "C:\\Users\\maris\\Downloads\\Fintech_P5M5-1bf4acc2d69b224c1384771893e8b26bdc73dabf\\Fintech_P5M5-1bf4acc2d69b224c1384771893e8b26bdc73dabf\\Starter_Code-5\\MCForecastTools.py:117: PerformanceWarning: DataFrame is highly fragmented.  This is usually the result of calling `frame.insert` many times, which has poor performance.  Consider joining all columns at once using pd.concat(axis=1) instead. To get a de-fragmented frame, use `newframe = frame.copy()`\n",
      "  portfolio_cumulative_returns[n] = (1 + sim_df.fillna(0)).cumprod()\n",
      "C:\\Users\\maris\\Downloads\\Fintech_P5M5-1bf4acc2d69b224c1384771893e8b26bdc73dabf\\Fintech_P5M5-1bf4acc2d69b224c1384771893e8b26bdc73dabf\\Starter_Code-5\\MCForecastTools.py:117: PerformanceWarning: DataFrame is highly fragmented.  This is usually the result of calling `frame.insert` many times, which has poor performance.  Consider joining all columns at once using pd.concat(axis=1) instead. To get a de-fragmented frame, use `newframe = frame.copy()`\n",
      "  portfolio_cumulative_returns[n] = (1 + sim_df.fillna(0)).cumprod()\n",
      "C:\\Users\\maris\\Downloads\\Fintech_P5M5-1bf4acc2d69b224c1384771893e8b26bdc73dabf\\Fintech_P5M5-1bf4acc2d69b224c1384771893e8b26bdc73dabf\\Starter_Code-5\\MCForecastTools.py:117: PerformanceWarning: DataFrame is highly fragmented.  This is usually the result of calling `frame.insert` many times, which has poor performance.  Consider joining all columns at once using pd.concat(axis=1) instead. To get a de-fragmented frame, use `newframe = frame.copy()`\n",
      "  portfolio_cumulative_returns[n] = (1 + sim_df.fillna(0)).cumprod()\n",
      "C:\\Users\\maris\\Downloads\\Fintech_P5M5-1bf4acc2d69b224c1384771893e8b26bdc73dabf\\Fintech_P5M5-1bf4acc2d69b224c1384771893e8b26bdc73dabf\\Starter_Code-5\\MCForecastTools.py:117: PerformanceWarning: DataFrame is highly fragmented.  This is usually the result of calling `frame.insert` many times, which has poor performance.  Consider joining all columns at once using pd.concat(axis=1) instead. To get a de-fragmented frame, use `newframe = frame.copy()`\n",
      "  portfolio_cumulative_returns[n] = (1 + sim_df.fillna(0)).cumprod()\n",
      "C:\\Users\\maris\\Downloads\\Fintech_P5M5-1bf4acc2d69b224c1384771893e8b26bdc73dabf\\Fintech_P5M5-1bf4acc2d69b224c1384771893e8b26bdc73dabf\\Starter_Code-5\\MCForecastTools.py:117: PerformanceWarning: DataFrame is highly fragmented.  This is usually the result of calling `frame.insert` many times, which has poor performance.  Consider joining all columns at once using pd.concat(axis=1) instead. To get a de-fragmented frame, use `newframe = frame.copy()`\n",
      "  portfolio_cumulative_returns[n] = (1 + sim_df.fillna(0)).cumprod()\n",
      "C:\\Users\\maris\\Downloads\\Fintech_P5M5-1bf4acc2d69b224c1384771893e8b26bdc73dabf\\Fintech_P5M5-1bf4acc2d69b224c1384771893e8b26bdc73dabf\\Starter_Code-5\\MCForecastTools.py:117: PerformanceWarning: DataFrame is highly fragmented.  This is usually the result of calling `frame.insert` many times, which has poor performance.  Consider joining all columns at once using pd.concat(axis=1) instead. To get a de-fragmented frame, use `newframe = frame.copy()`\n",
      "  portfolio_cumulative_returns[n] = (1 + sim_df.fillna(0)).cumprod()\n",
      "C:\\Users\\maris\\Downloads\\Fintech_P5M5-1bf4acc2d69b224c1384771893e8b26bdc73dabf\\Fintech_P5M5-1bf4acc2d69b224c1384771893e8b26bdc73dabf\\Starter_Code-5\\MCForecastTools.py:117: PerformanceWarning: DataFrame is highly fragmented.  This is usually the result of calling `frame.insert` many times, which has poor performance.  Consider joining all columns at once using pd.concat(axis=1) instead. To get a de-fragmented frame, use `newframe = frame.copy()`\n",
      "  portfolio_cumulative_returns[n] = (1 + sim_df.fillna(0)).cumprod()\n"
     ]
    },
    {
     "name": "stdout",
     "output_type": "stream",
     "text": [
      "Running Monte Carlo simulation number 290.\n"
     ]
    },
    {
     "name": "stderr",
     "output_type": "stream",
     "text": [
      "C:\\Users\\maris\\Downloads\\Fintech_P5M5-1bf4acc2d69b224c1384771893e8b26bdc73dabf\\Fintech_P5M5-1bf4acc2d69b224c1384771893e8b26bdc73dabf\\Starter_Code-5\\MCForecastTools.py:117: PerformanceWarning: DataFrame is highly fragmented.  This is usually the result of calling `frame.insert` many times, which has poor performance.  Consider joining all columns at once using pd.concat(axis=1) instead. To get a de-fragmented frame, use `newframe = frame.copy()`\n",
      "  portfolio_cumulative_returns[n] = (1 + sim_df.fillna(0)).cumprod()\n",
      "C:\\Users\\maris\\Downloads\\Fintech_P5M5-1bf4acc2d69b224c1384771893e8b26bdc73dabf\\Fintech_P5M5-1bf4acc2d69b224c1384771893e8b26bdc73dabf\\Starter_Code-5\\MCForecastTools.py:117: PerformanceWarning: DataFrame is highly fragmented.  This is usually the result of calling `frame.insert` many times, which has poor performance.  Consider joining all columns at once using pd.concat(axis=1) instead. To get a de-fragmented frame, use `newframe = frame.copy()`\n",
      "  portfolio_cumulative_returns[n] = (1 + sim_df.fillna(0)).cumprod()\n",
      "C:\\Users\\maris\\Downloads\\Fintech_P5M5-1bf4acc2d69b224c1384771893e8b26bdc73dabf\\Fintech_P5M5-1bf4acc2d69b224c1384771893e8b26bdc73dabf\\Starter_Code-5\\MCForecastTools.py:117: PerformanceWarning: DataFrame is highly fragmented.  This is usually the result of calling `frame.insert` many times, which has poor performance.  Consider joining all columns at once using pd.concat(axis=1) instead. To get a de-fragmented frame, use `newframe = frame.copy()`\n",
      "  portfolio_cumulative_returns[n] = (1 + sim_df.fillna(0)).cumprod()\n",
      "C:\\Users\\maris\\Downloads\\Fintech_P5M5-1bf4acc2d69b224c1384771893e8b26bdc73dabf\\Fintech_P5M5-1bf4acc2d69b224c1384771893e8b26bdc73dabf\\Starter_Code-5\\MCForecastTools.py:117: PerformanceWarning: DataFrame is highly fragmented.  This is usually the result of calling `frame.insert` many times, which has poor performance.  Consider joining all columns at once using pd.concat(axis=1) instead. To get a de-fragmented frame, use `newframe = frame.copy()`\n",
      "  portfolio_cumulative_returns[n] = (1 + sim_df.fillna(0)).cumprod()\n",
      "C:\\Users\\maris\\Downloads\\Fintech_P5M5-1bf4acc2d69b224c1384771893e8b26bdc73dabf\\Fintech_P5M5-1bf4acc2d69b224c1384771893e8b26bdc73dabf\\Starter_Code-5\\MCForecastTools.py:117: PerformanceWarning: DataFrame is highly fragmented.  This is usually the result of calling `frame.insert` many times, which has poor performance.  Consider joining all columns at once using pd.concat(axis=1) instead. To get a de-fragmented frame, use `newframe = frame.copy()`\n",
      "  portfolio_cumulative_returns[n] = (1 + sim_df.fillna(0)).cumprod()\n",
      "C:\\Users\\maris\\Downloads\\Fintech_P5M5-1bf4acc2d69b224c1384771893e8b26bdc73dabf\\Fintech_P5M5-1bf4acc2d69b224c1384771893e8b26bdc73dabf\\Starter_Code-5\\MCForecastTools.py:117: PerformanceWarning: DataFrame is highly fragmented.  This is usually the result of calling `frame.insert` many times, which has poor performance.  Consider joining all columns at once using pd.concat(axis=1) instead. To get a de-fragmented frame, use `newframe = frame.copy()`\n",
      "  portfolio_cumulative_returns[n] = (1 + sim_df.fillna(0)).cumprod()\n",
      "C:\\Users\\maris\\Downloads\\Fintech_P5M5-1bf4acc2d69b224c1384771893e8b26bdc73dabf\\Fintech_P5M5-1bf4acc2d69b224c1384771893e8b26bdc73dabf\\Starter_Code-5\\MCForecastTools.py:117: PerformanceWarning: DataFrame is highly fragmented.  This is usually the result of calling `frame.insert` many times, which has poor performance.  Consider joining all columns at once using pd.concat(axis=1) instead. To get a de-fragmented frame, use `newframe = frame.copy()`\n",
      "  portfolio_cumulative_returns[n] = (1 + sim_df.fillna(0)).cumprod()\n",
      "C:\\Users\\maris\\Downloads\\Fintech_P5M5-1bf4acc2d69b224c1384771893e8b26bdc73dabf\\Fintech_P5M5-1bf4acc2d69b224c1384771893e8b26bdc73dabf\\Starter_Code-5\\MCForecastTools.py:117: PerformanceWarning: DataFrame is highly fragmented.  This is usually the result of calling `frame.insert` many times, which has poor performance.  Consider joining all columns at once using pd.concat(axis=1) instead. To get a de-fragmented frame, use `newframe = frame.copy()`\n",
      "  portfolio_cumulative_returns[n] = (1 + sim_df.fillna(0)).cumprod()\n",
      "C:\\Users\\maris\\Downloads\\Fintech_P5M5-1bf4acc2d69b224c1384771893e8b26bdc73dabf\\Fintech_P5M5-1bf4acc2d69b224c1384771893e8b26bdc73dabf\\Starter_Code-5\\MCForecastTools.py:117: PerformanceWarning: DataFrame is highly fragmented.  This is usually the result of calling `frame.insert` many times, which has poor performance.  Consider joining all columns at once using pd.concat(axis=1) instead. To get a de-fragmented frame, use `newframe = frame.copy()`\n",
      "  portfolio_cumulative_returns[n] = (1 + sim_df.fillna(0)).cumprod()\n",
      "C:\\Users\\maris\\Downloads\\Fintech_P5M5-1bf4acc2d69b224c1384771893e8b26bdc73dabf\\Fintech_P5M5-1bf4acc2d69b224c1384771893e8b26bdc73dabf\\Starter_Code-5\\MCForecastTools.py:117: PerformanceWarning: DataFrame is highly fragmented.  This is usually the result of calling `frame.insert` many times, which has poor performance.  Consider joining all columns at once using pd.concat(axis=1) instead. To get a de-fragmented frame, use `newframe = frame.copy()`\n",
      "  portfolio_cumulative_returns[n] = (1 + sim_df.fillna(0)).cumprod()\n"
     ]
    },
    {
     "name": "stdout",
     "output_type": "stream",
     "text": [
      "Running Monte Carlo simulation number 300.\n"
     ]
    },
    {
     "name": "stderr",
     "output_type": "stream",
     "text": [
      "C:\\Users\\maris\\Downloads\\Fintech_P5M5-1bf4acc2d69b224c1384771893e8b26bdc73dabf\\Fintech_P5M5-1bf4acc2d69b224c1384771893e8b26bdc73dabf\\Starter_Code-5\\MCForecastTools.py:117: PerformanceWarning: DataFrame is highly fragmented.  This is usually the result of calling `frame.insert` many times, which has poor performance.  Consider joining all columns at once using pd.concat(axis=1) instead. To get a de-fragmented frame, use `newframe = frame.copy()`\n",
      "  portfolio_cumulative_returns[n] = (1 + sim_df.fillna(0)).cumprod()\n",
      "C:\\Users\\maris\\Downloads\\Fintech_P5M5-1bf4acc2d69b224c1384771893e8b26bdc73dabf\\Fintech_P5M5-1bf4acc2d69b224c1384771893e8b26bdc73dabf\\Starter_Code-5\\MCForecastTools.py:117: PerformanceWarning: DataFrame is highly fragmented.  This is usually the result of calling `frame.insert` many times, which has poor performance.  Consider joining all columns at once using pd.concat(axis=1) instead. To get a de-fragmented frame, use `newframe = frame.copy()`\n",
      "  portfolio_cumulative_returns[n] = (1 + sim_df.fillna(0)).cumprod()\n",
      "C:\\Users\\maris\\Downloads\\Fintech_P5M5-1bf4acc2d69b224c1384771893e8b26bdc73dabf\\Fintech_P5M5-1bf4acc2d69b224c1384771893e8b26bdc73dabf\\Starter_Code-5\\MCForecastTools.py:117: PerformanceWarning: DataFrame is highly fragmented.  This is usually the result of calling `frame.insert` many times, which has poor performance.  Consider joining all columns at once using pd.concat(axis=1) instead. To get a de-fragmented frame, use `newframe = frame.copy()`\n",
      "  portfolio_cumulative_returns[n] = (1 + sim_df.fillna(0)).cumprod()\n",
      "C:\\Users\\maris\\Downloads\\Fintech_P5M5-1bf4acc2d69b224c1384771893e8b26bdc73dabf\\Fintech_P5M5-1bf4acc2d69b224c1384771893e8b26bdc73dabf\\Starter_Code-5\\MCForecastTools.py:117: PerformanceWarning: DataFrame is highly fragmented.  This is usually the result of calling `frame.insert` many times, which has poor performance.  Consider joining all columns at once using pd.concat(axis=1) instead. To get a de-fragmented frame, use `newframe = frame.copy()`\n",
      "  portfolio_cumulative_returns[n] = (1 + sim_df.fillna(0)).cumprod()\n",
      "C:\\Users\\maris\\Downloads\\Fintech_P5M5-1bf4acc2d69b224c1384771893e8b26bdc73dabf\\Fintech_P5M5-1bf4acc2d69b224c1384771893e8b26bdc73dabf\\Starter_Code-5\\MCForecastTools.py:117: PerformanceWarning: DataFrame is highly fragmented.  This is usually the result of calling `frame.insert` many times, which has poor performance.  Consider joining all columns at once using pd.concat(axis=1) instead. To get a de-fragmented frame, use `newframe = frame.copy()`\n",
      "  portfolio_cumulative_returns[n] = (1 + sim_df.fillna(0)).cumprod()\n",
      "C:\\Users\\maris\\Downloads\\Fintech_P5M5-1bf4acc2d69b224c1384771893e8b26bdc73dabf\\Fintech_P5M5-1bf4acc2d69b224c1384771893e8b26bdc73dabf\\Starter_Code-5\\MCForecastTools.py:117: PerformanceWarning: DataFrame is highly fragmented.  This is usually the result of calling `frame.insert` many times, which has poor performance.  Consider joining all columns at once using pd.concat(axis=1) instead. To get a de-fragmented frame, use `newframe = frame.copy()`\n",
      "  portfolio_cumulative_returns[n] = (1 + sim_df.fillna(0)).cumprod()\n",
      "C:\\Users\\maris\\Downloads\\Fintech_P5M5-1bf4acc2d69b224c1384771893e8b26bdc73dabf\\Fintech_P5M5-1bf4acc2d69b224c1384771893e8b26bdc73dabf\\Starter_Code-5\\MCForecastTools.py:117: PerformanceWarning: DataFrame is highly fragmented.  This is usually the result of calling `frame.insert` many times, which has poor performance.  Consider joining all columns at once using pd.concat(axis=1) instead. To get a de-fragmented frame, use `newframe = frame.copy()`\n",
      "  portfolio_cumulative_returns[n] = (1 + sim_df.fillna(0)).cumprod()\n",
      "C:\\Users\\maris\\Downloads\\Fintech_P5M5-1bf4acc2d69b224c1384771893e8b26bdc73dabf\\Fintech_P5M5-1bf4acc2d69b224c1384771893e8b26bdc73dabf\\Starter_Code-5\\MCForecastTools.py:117: PerformanceWarning: DataFrame is highly fragmented.  This is usually the result of calling `frame.insert` many times, which has poor performance.  Consider joining all columns at once using pd.concat(axis=1) instead. To get a de-fragmented frame, use `newframe = frame.copy()`\n",
      "  portfolio_cumulative_returns[n] = (1 + sim_df.fillna(0)).cumprod()\n",
      "C:\\Users\\maris\\Downloads\\Fintech_P5M5-1bf4acc2d69b224c1384771893e8b26bdc73dabf\\Fintech_P5M5-1bf4acc2d69b224c1384771893e8b26bdc73dabf\\Starter_Code-5\\MCForecastTools.py:117: PerformanceWarning: DataFrame is highly fragmented.  This is usually the result of calling `frame.insert` many times, which has poor performance.  Consider joining all columns at once using pd.concat(axis=1) instead. To get a de-fragmented frame, use `newframe = frame.copy()`\n",
      "  portfolio_cumulative_returns[n] = (1 + sim_df.fillna(0)).cumprod()\n",
      "C:\\Users\\maris\\Downloads\\Fintech_P5M5-1bf4acc2d69b224c1384771893e8b26bdc73dabf\\Fintech_P5M5-1bf4acc2d69b224c1384771893e8b26bdc73dabf\\Starter_Code-5\\MCForecastTools.py:117: PerformanceWarning: DataFrame is highly fragmented.  This is usually the result of calling `frame.insert` many times, which has poor performance.  Consider joining all columns at once using pd.concat(axis=1) instead. To get a de-fragmented frame, use `newframe = frame.copy()`\n",
      "  portfolio_cumulative_returns[n] = (1 + sim_df.fillna(0)).cumprod()\n"
     ]
    },
    {
     "name": "stdout",
     "output_type": "stream",
     "text": [
      "Running Monte Carlo simulation number 310.\n"
     ]
    },
    {
     "name": "stderr",
     "output_type": "stream",
     "text": [
      "C:\\Users\\maris\\Downloads\\Fintech_P5M5-1bf4acc2d69b224c1384771893e8b26bdc73dabf\\Fintech_P5M5-1bf4acc2d69b224c1384771893e8b26bdc73dabf\\Starter_Code-5\\MCForecastTools.py:117: PerformanceWarning: DataFrame is highly fragmented.  This is usually the result of calling `frame.insert` many times, which has poor performance.  Consider joining all columns at once using pd.concat(axis=1) instead. To get a de-fragmented frame, use `newframe = frame.copy()`\n",
      "  portfolio_cumulative_returns[n] = (1 + sim_df.fillna(0)).cumprod()\n",
      "C:\\Users\\maris\\Downloads\\Fintech_P5M5-1bf4acc2d69b224c1384771893e8b26bdc73dabf\\Fintech_P5M5-1bf4acc2d69b224c1384771893e8b26bdc73dabf\\Starter_Code-5\\MCForecastTools.py:117: PerformanceWarning: DataFrame is highly fragmented.  This is usually the result of calling `frame.insert` many times, which has poor performance.  Consider joining all columns at once using pd.concat(axis=1) instead. To get a de-fragmented frame, use `newframe = frame.copy()`\n",
      "  portfolio_cumulative_returns[n] = (1 + sim_df.fillna(0)).cumprod()\n",
      "C:\\Users\\maris\\Downloads\\Fintech_P5M5-1bf4acc2d69b224c1384771893e8b26bdc73dabf\\Fintech_P5M5-1bf4acc2d69b224c1384771893e8b26bdc73dabf\\Starter_Code-5\\MCForecastTools.py:117: PerformanceWarning: DataFrame is highly fragmented.  This is usually the result of calling `frame.insert` many times, which has poor performance.  Consider joining all columns at once using pd.concat(axis=1) instead. To get a de-fragmented frame, use `newframe = frame.copy()`\n",
      "  portfolio_cumulative_returns[n] = (1 + sim_df.fillna(0)).cumprod()\n",
      "C:\\Users\\maris\\Downloads\\Fintech_P5M5-1bf4acc2d69b224c1384771893e8b26bdc73dabf\\Fintech_P5M5-1bf4acc2d69b224c1384771893e8b26bdc73dabf\\Starter_Code-5\\MCForecastTools.py:117: PerformanceWarning: DataFrame is highly fragmented.  This is usually the result of calling `frame.insert` many times, which has poor performance.  Consider joining all columns at once using pd.concat(axis=1) instead. To get a de-fragmented frame, use `newframe = frame.copy()`\n",
      "  portfolio_cumulative_returns[n] = (1 + sim_df.fillna(0)).cumprod()\n",
      "C:\\Users\\maris\\Downloads\\Fintech_P5M5-1bf4acc2d69b224c1384771893e8b26bdc73dabf\\Fintech_P5M5-1bf4acc2d69b224c1384771893e8b26bdc73dabf\\Starter_Code-5\\MCForecastTools.py:117: PerformanceWarning: DataFrame is highly fragmented.  This is usually the result of calling `frame.insert` many times, which has poor performance.  Consider joining all columns at once using pd.concat(axis=1) instead. To get a de-fragmented frame, use `newframe = frame.copy()`\n",
      "  portfolio_cumulative_returns[n] = (1 + sim_df.fillna(0)).cumprod()\n",
      "C:\\Users\\maris\\Downloads\\Fintech_P5M5-1bf4acc2d69b224c1384771893e8b26bdc73dabf\\Fintech_P5M5-1bf4acc2d69b224c1384771893e8b26bdc73dabf\\Starter_Code-5\\MCForecastTools.py:117: PerformanceWarning: DataFrame is highly fragmented.  This is usually the result of calling `frame.insert` many times, which has poor performance.  Consider joining all columns at once using pd.concat(axis=1) instead. To get a de-fragmented frame, use `newframe = frame.copy()`\n",
      "  portfolio_cumulative_returns[n] = (1 + sim_df.fillna(0)).cumprod()\n",
      "C:\\Users\\maris\\Downloads\\Fintech_P5M5-1bf4acc2d69b224c1384771893e8b26bdc73dabf\\Fintech_P5M5-1bf4acc2d69b224c1384771893e8b26bdc73dabf\\Starter_Code-5\\MCForecastTools.py:117: PerformanceWarning: DataFrame is highly fragmented.  This is usually the result of calling `frame.insert` many times, which has poor performance.  Consider joining all columns at once using pd.concat(axis=1) instead. To get a de-fragmented frame, use `newframe = frame.copy()`\n",
      "  portfolio_cumulative_returns[n] = (1 + sim_df.fillna(0)).cumprod()\n",
      "C:\\Users\\maris\\Downloads\\Fintech_P5M5-1bf4acc2d69b224c1384771893e8b26bdc73dabf\\Fintech_P5M5-1bf4acc2d69b224c1384771893e8b26bdc73dabf\\Starter_Code-5\\MCForecastTools.py:117: PerformanceWarning: DataFrame is highly fragmented.  This is usually the result of calling `frame.insert` many times, which has poor performance.  Consider joining all columns at once using pd.concat(axis=1) instead. To get a de-fragmented frame, use `newframe = frame.copy()`\n",
      "  portfolio_cumulative_returns[n] = (1 + sim_df.fillna(0)).cumprod()\n",
      "C:\\Users\\maris\\Downloads\\Fintech_P5M5-1bf4acc2d69b224c1384771893e8b26bdc73dabf\\Fintech_P5M5-1bf4acc2d69b224c1384771893e8b26bdc73dabf\\Starter_Code-5\\MCForecastTools.py:117: PerformanceWarning: DataFrame is highly fragmented.  This is usually the result of calling `frame.insert` many times, which has poor performance.  Consider joining all columns at once using pd.concat(axis=1) instead. To get a de-fragmented frame, use `newframe = frame.copy()`\n",
      "  portfolio_cumulative_returns[n] = (1 + sim_df.fillna(0)).cumprod()\n",
      "C:\\Users\\maris\\Downloads\\Fintech_P5M5-1bf4acc2d69b224c1384771893e8b26bdc73dabf\\Fintech_P5M5-1bf4acc2d69b224c1384771893e8b26bdc73dabf\\Starter_Code-5\\MCForecastTools.py:117: PerformanceWarning: DataFrame is highly fragmented.  This is usually the result of calling `frame.insert` many times, which has poor performance.  Consider joining all columns at once using pd.concat(axis=1) instead. To get a de-fragmented frame, use `newframe = frame.copy()`\n",
      "  portfolio_cumulative_returns[n] = (1 + sim_df.fillna(0)).cumprod()\n"
     ]
    },
    {
     "name": "stdout",
     "output_type": "stream",
     "text": [
      "Running Monte Carlo simulation number 320.\n"
     ]
    },
    {
     "name": "stderr",
     "output_type": "stream",
     "text": [
      "C:\\Users\\maris\\Downloads\\Fintech_P5M5-1bf4acc2d69b224c1384771893e8b26bdc73dabf\\Fintech_P5M5-1bf4acc2d69b224c1384771893e8b26bdc73dabf\\Starter_Code-5\\MCForecastTools.py:117: PerformanceWarning: DataFrame is highly fragmented.  This is usually the result of calling `frame.insert` many times, which has poor performance.  Consider joining all columns at once using pd.concat(axis=1) instead. To get a de-fragmented frame, use `newframe = frame.copy()`\n",
      "  portfolio_cumulative_returns[n] = (1 + sim_df.fillna(0)).cumprod()\n",
      "C:\\Users\\maris\\Downloads\\Fintech_P5M5-1bf4acc2d69b224c1384771893e8b26bdc73dabf\\Fintech_P5M5-1bf4acc2d69b224c1384771893e8b26bdc73dabf\\Starter_Code-5\\MCForecastTools.py:117: PerformanceWarning: DataFrame is highly fragmented.  This is usually the result of calling `frame.insert` many times, which has poor performance.  Consider joining all columns at once using pd.concat(axis=1) instead. To get a de-fragmented frame, use `newframe = frame.copy()`\n",
      "  portfolio_cumulative_returns[n] = (1 + sim_df.fillna(0)).cumprod()\n",
      "C:\\Users\\maris\\Downloads\\Fintech_P5M5-1bf4acc2d69b224c1384771893e8b26bdc73dabf\\Fintech_P5M5-1bf4acc2d69b224c1384771893e8b26bdc73dabf\\Starter_Code-5\\MCForecastTools.py:117: PerformanceWarning: DataFrame is highly fragmented.  This is usually the result of calling `frame.insert` many times, which has poor performance.  Consider joining all columns at once using pd.concat(axis=1) instead. To get a de-fragmented frame, use `newframe = frame.copy()`\n",
      "  portfolio_cumulative_returns[n] = (1 + sim_df.fillna(0)).cumprod()\n",
      "C:\\Users\\maris\\Downloads\\Fintech_P5M5-1bf4acc2d69b224c1384771893e8b26bdc73dabf\\Fintech_P5M5-1bf4acc2d69b224c1384771893e8b26bdc73dabf\\Starter_Code-5\\MCForecastTools.py:117: PerformanceWarning: DataFrame is highly fragmented.  This is usually the result of calling `frame.insert` many times, which has poor performance.  Consider joining all columns at once using pd.concat(axis=1) instead. To get a de-fragmented frame, use `newframe = frame.copy()`\n",
      "  portfolio_cumulative_returns[n] = (1 + sim_df.fillna(0)).cumprod()\n",
      "C:\\Users\\maris\\Downloads\\Fintech_P5M5-1bf4acc2d69b224c1384771893e8b26bdc73dabf\\Fintech_P5M5-1bf4acc2d69b224c1384771893e8b26bdc73dabf\\Starter_Code-5\\MCForecastTools.py:117: PerformanceWarning: DataFrame is highly fragmented.  This is usually the result of calling `frame.insert` many times, which has poor performance.  Consider joining all columns at once using pd.concat(axis=1) instead. To get a de-fragmented frame, use `newframe = frame.copy()`\n",
      "  portfolio_cumulative_returns[n] = (1 + sim_df.fillna(0)).cumprod()\n",
      "C:\\Users\\maris\\Downloads\\Fintech_P5M5-1bf4acc2d69b224c1384771893e8b26bdc73dabf\\Fintech_P5M5-1bf4acc2d69b224c1384771893e8b26bdc73dabf\\Starter_Code-5\\MCForecastTools.py:117: PerformanceWarning: DataFrame is highly fragmented.  This is usually the result of calling `frame.insert` many times, which has poor performance.  Consider joining all columns at once using pd.concat(axis=1) instead. To get a de-fragmented frame, use `newframe = frame.copy()`\n",
      "  portfolio_cumulative_returns[n] = (1 + sim_df.fillna(0)).cumprod()\n",
      "C:\\Users\\maris\\Downloads\\Fintech_P5M5-1bf4acc2d69b224c1384771893e8b26bdc73dabf\\Fintech_P5M5-1bf4acc2d69b224c1384771893e8b26bdc73dabf\\Starter_Code-5\\MCForecastTools.py:117: PerformanceWarning: DataFrame is highly fragmented.  This is usually the result of calling `frame.insert` many times, which has poor performance.  Consider joining all columns at once using pd.concat(axis=1) instead. To get a de-fragmented frame, use `newframe = frame.copy()`\n",
      "  portfolio_cumulative_returns[n] = (1 + sim_df.fillna(0)).cumprod()\n",
      "C:\\Users\\maris\\Downloads\\Fintech_P5M5-1bf4acc2d69b224c1384771893e8b26bdc73dabf\\Fintech_P5M5-1bf4acc2d69b224c1384771893e8b26bdc73dabf\\Starter_Code-5\\MCForecastTools.py:117: PerformanceWarning: DataFrame is highly fragmented.  This is usually the result of calling `frame.insert` many times, which has poor performance.  Consider joining all columns at once using pd.concat(axis=1) instead. To get a de-fragmented frame, use `newframe = frame.copy()`\n",
      "  portfolio_cumulative_returns[n] = (1 + sim_df.fillna(0)).cumprod()\n",
      "C:\\Users\\maris\\Downloads\\Fintech_P5M5-1bf4acc2d69b224c1384771893e8b26bdc73dabf\\Fintech_P5M5-1bf4acc2d69b224c1384771893e8b26bdc73dabf\\Starter_Code-5\\MCForecastTools.py:117: PerformanceWarning: DataFrame is highly fragmented.  This is usually the result of calling `frame.insert` many times, which has poor performance.  Consider joining all columns at once using pd.concat(axis=1) instead. To get a de-fragmented frame, use `newframe = frame.copy()`\n",
      "  portfolio_cumulative_returns[n] = (1 + sim_df.fillna(0)).cumprod()\n",
      "C:\\Users\\maris\\Downloads\\Fintech_P5M5-1bf4acc2d69b224c1384771893e8b26bdc73dabf\\Fintech_P5M5-1bf4acc2d69b224c1384771893e8b26bdc73dabf\\Starter_Code-5\\MCForecastTools.py:117: PerformanceWarning: DataFrame is highly fragmented.  This is usually the result of calling `frame.insert` many times, which has poor performance.  Consider joining all columns at once using pd.concat(axis=1) instead. To get a de-fragmented frame, use `newframe = frame.copy()`\n",
      "  portfolio_cumulative_returns[n] = (1 + sim_df.fillna(0)).cumprod()\n"
     ]
    },
    {
     "name": "stdout",
     "output_type": "stream",
     "text": [
      "Running Monte Carlo simulation number 330.\n"
     ]
    },
    {
     "name": "stderr",
     "output_type": "stream",
     "text": [
      "C:\\Users\\maris\\Downloads\\Fintech_P5M5-1bf4acc2d69b224c1384771893e8b26bdc73dabf\\Fintech_P5M5-1bf4acc2d69b224c1384771893e8b26bdc73dabf\\Starter_Code-5\\MCForecastTools.py:117: PerformanceWarning: DataFrame is highly fragmented.  This is usually the result of calling `frame.insert` many times, which has poor performance.  Consider joining all columns at once using pd.concat(axis=1) instead. To get a de-fragmented frame, use `newframe = frame.copy()`\n",
      "  portfolio_cumulative_returns[n] = (1 + sim_df.fillna(0)).cumprod()\n",
      "C:\\Users\\maris\\Downloads\\Fintech_P5M5-1bf4acc2d69b224c1384771893e8b26bdc73dabf\\Fintech_P5M5-1bf4acc2d69b224c1384771893e8b26bdc73dabf\\Starter_Code-5\\MCForecastTools.py:117: PerformanceWarning: DataFrame is highly fragmented.  This is usually the result of calling `frame.insert` many times, which has poor performance.  Consider joining all columns at once using pd.concat(axis=1) instead. To get a de-fragmented frame, use `newframe = frame.copy()`\n",
      "  portfolio_cumulative_returns[n] = (1 + sim_df.fillna(0)).cumprod()\n",
      "C:\\Users\\maris\\Downloads\\Fintech_P5M5-1bf4acc2d69b224c1384771893e8b26bdc73dabf\\Fintech_P5M5-1bf4acc2d69b224c1384771893e8b26bdc73dabf\\Starter_Code-5\\MCForecastTools.py:117: PerformanceWarning: DataFrame is highly fragmented.  This is usually the result of calling `frame.insert` many times, which has poor performance.  Consider joining all columns at once using pd.concat(axis=1) instead. To get a de-fragmented frame, use `newframe = frame.copy()`\n",
      "  portfolio_cumulative_returns[n] = (1 + sim_df.fillna(0)).cumprod()\n",
      "C:\\Users\\maris\\Downloads\\Fintech_P5M5-1bf4acc2d69b224c1384771893e8b26bdc73dabf\\Fintech_P5M5-1bf4acc2d69b224c1384771893e8b26bdc73dabf\\Starter_Code-5\\MCForecastTools.py:117: PerformanceWarning: DataFrame is highly fragmented.  This is usually the result of calling `frame.insert` many times, which has poor performance.  Consider joining all columns at once using pd.concat(axis=1) instead. To get a de-fragmented frame, use `newframe = frame.copy()`\n",
      "  portfolio_cumulative_returns[n] = (1 + sim_df.fillna(0)).cumprod()\n",
      "C:\\Users\\maris\\Downloads\\Fintech_P5M5-1bf4acc2d69b224c1384771893e8b26bdc73dabf\\Fintech_P5M5-1bf4acc2d69b224c1384771893e8b26bdc73dabf\\Starter_Code-5\\MCForecastTools.py:117: PerformanceWarning: DataFrame is highly fragmented.  This is usually the result of calling `frame.insert` many times, which has poor performance.  Consider joining all columns at once using pd.concat(axis=1) instead. To get a de-fragmented frame, use `newframe = frame.copy()`\n",
      "  portfolio_cumulative_returns[n] = (1 + sim_df.fillna(0)).cumprod()\n",
      "C:\\Users\\maris\\Downloads\\Fintech_P5M5-1bf4acc2d69b224c1384771893e8b26bdc73dabf\\Fintech_P5M5-1bf4acc2d69b224c1384771893e8b26bdc73dabf\\Starter_Code-5\\MCForecastTools.py:117: PerformanceWarning: DataFrame is highly fragmented.  This is usually the result of calling `frame.insert` many times, which has poor performance.  Consider joining all columns at once using pd.concat(axis=1) instead. To get a de-fragmented frame, use `newframe = frame.copy()`\n",
      "  portfolio_cumulative_returns[n] = (1 + sim_df.fillna(0)).cumprod()\n",
      "C:\\Users\\maris\\Downloads\\Fintech_P5M5-1bf4acc2d69b224c1384771893e8b26bdc73dabf\\Fintech_P5M5-1bf4acc2d69b224c1384771893e8b26bdc73dabf\\Starter_Code-5\\MCForecastTools.py:117: PerformanceWarning: DataFrame is highly fragmented.  This is usually the result of calling `frame.insert` many times, which has poor performance.  Consider joining all columns at once using pd.concat(axis=1) instead. To get a de-fragmented frame, use `newframe = frame.copy()`\n",
      "  portfolio_cumulative_returns[n] = (1 + sim_df.fillna(0)).cumprod()\n",
      "C:\\Users\\maris\\Downloads\\Fintech_P5M5-1bf4acc2d69b224c1384771893e8b26bdc73dabf\\Fintech_P5M5-1bf4acc2d69b224c1384771893e8b26bdc73dabf\\Starter_Code-5\\MCForecastTools.py:117: PerformanceWarning: DataFrame is highly fragmented.  This is usually the result of calling `frame.insert` many times, which has poor performance.  Consider joining all columns at once using pd.concat(axis=1) instead. To get a de-fragmented frame, use `newframe = frame.copy()`\n",
      "  portfolio_cumulative_returns[n] = (1 + sim_df.fillna(0)).cumprod()\n",
      "C:\\Users\\maris\\Downloads\\Fintech_P5M5-1bf4acc2d69b224c1384771893e8b26bdc73dabf\\Fintech_P5M5-1bf4acc2d69b224c1384771893e8b26bdc73dabf\\Starter_Code-5\\MCForecastTools.py:117: PerformanceWarning: DataFrame is highly fragmented.  This is usually the result of calling `frame.insert` many times, which has poor performance.  Consider joining all columns at once using pd.concat(axis=1) instead. To get a de-fragmented frame, use `newframe = frame.copy()`\n",
      "  portfolio_cumulative_returns[n] = (1 + sim_df.fillna(0)).cumprod()\n",
      "C:\\Users\\maris\\Downloads\\Fintech_P5M5-1bf4acc2d69b224c1384771893e8b26bdc73dabf\\Fintech_P5M5-1bf4acc2d69b224c1384771893e8b26bdc73dabf\\Starter_Code-5\\MCForecastTools.py:117: PerformanceWarning: DataFrame is highly fragmented.  This is usually the result of calling `frame.insert` many times, which has poor performance.  Consider joining all columns at once using pd.concat(axis=1) instead. To get a de-fragmented frame, use `newframe = frame.copy()`\n",
      "  portfolio_cumulative_returns[n] = (1 + sim_df.fillna(0)).cumprod()\n"
     ]
    },
    {
     "name": "stdout",
     "output_type": "stream",
     "text": [
      "Running Monte Carlo simulation number 340.\n"
     ]
    },
    {
     "name": "stderr",
     "output_type": "stream",
     "text": [
      "C:\\Users\\maris\\Downloads\\Fintech_P5M5-1bf4acc2d69b224c1384771893e8b26bdc73dabf\\Fintech_P5M5-1bf4acc2d69b224c1384771893e8b26bdc73dabf\\Starter_Code-5\\MCForecastTools.py:117: PerformanceWarning: DataFrame is highly fragmented.  This is usually the result of calling `frame.insert` many times, which has poor performance.  Consider joining all columns at once using pd.concat(axis=1) instead. To get a de-fragmented frame, use `newframe = frame.copy()`\n",
      "  portfolio_cumulative_returns[n] = (1 + sim_df.fillna(0)).cumprod()\n",
      "C:\\Users\\maris\\Downloads\\Fintech_P5M5-1bf4acc2d69b224c1384771893e8b26bdc73dabf\\Fintech_P5M5-1bf4acc2d69b224c1384771893e8b26bdc73dabf\\Starter_Code-5\\MCForecastTools.py:117: PerformanceWarning: DataFrame is highly fragmented.  This is usually the result of calling `frame.insert` many times, which has poor performance.  Consider joining all columns at once using pd.concat(axis=1) instead. To get a de-fragmented frame, use `newframe = frame.copy()`\n",
      "  portfolio_cumulative_returns[n] = (1 + sim_df.fillna(0)).cumprod()\n",
      "C:\\Users\\maris\\Downloads\\Fintech_P5M5-1bf4acc2d69b224c1384771893e8b26bdc73dabf\\Fintech_P5M5-1bf4acc2d69b224c1384771893e8b26bdc73dabf\\Starter_Code-5\\MCForecastTools.py:117: PerformanceWarning: DataFrame is highly fragmented.  This is usually the result of calling `frame.insert` many times, which has poor performance.  Consider joining all columns at once using pd.concat(axis=1) instead. To get a de-fragmented frame, use `newframe = frame.copy()`\n",
      "  portfolio_cumulative_returns[n] = (1 + sim_df.fillna(0)).cumprod()\n",
      "C:\\Users\\maris\\Downloads\\Fintech_P5M5-1bf4acc2d69b224c1384771893e8b26bdc73dabf\\Fintech_P5M5-1bf4acc2d69b224c1384771893e8b26bdc73dabf\\Starter_Code-5\\MCForecastTools.py:117: PerformanceWarning: DataFrame is highly fragmented.  This is usually the result of calling `frame.insert` many times, which has poor performance.  Consider joining all columns at once using pd.concat(axis=1) instead. To get a de-fragmented frame, use `newframe = frame.copy()`\n",
      "  portfolio_cumulative_returns[n] = (1 + sim_df.fillna(0)).cumprod()\n",
      "C:\\Users\\maris\\Downloads\\Fintech_P5M5-1bf4acc2d69b224c1384771893e8b26bdc73dabf\\Fintech_P5M5-1bf4acc2d69b224c1384771893e8b26bdc73dabf\\Starter_Code-5\\MCForecastTools.py:117: PerformanceWarning: DataFrame is highly fragmented.  This is usually the result of calling `frame.insert` many times, which has poor performance.  Consider joining all columns at once using pd.concat(axis=1) instead. To get a de-fragmented frame, use `newframe = frame.copy()`\n",
      "  portfolio_cumulative_returns[n] = (1 + sim_df.fillna(0)).cumprod()\n",
      "C:\\Users\\maris\\Downloads\\Fintech_P5M5-1bf4acc2d69b224c1384771893e8b26bdc73dabf\\Fintech_P5M5-1bf4acc2d69b224c1384771893e8b26bdc73dabf\\Starter_Code-5\\MCForecastTools.py:117: PerformanceWarning: DataFrame is highly fragmented.  This is usually the result of calling `frame.insert` many times, which has poor performance.  Consider joining all columns at once using pd.concat(axis=1) instead. To get a de-fragmented frame, use `newframe = frame.copy()`\n",
      "  portfolio_cumulative_returns[n] = (1 + sim_df.fillna(0)).cumprod()\n",
      "C:\\Users\\maris\\Downloads\\Fintech_P5M5-1bf4acc2d69b224c1384771893e8b26bdc73dabf\\Fintech_P5M5-1bf4acc2d69b224c1384771893e8b26bdc73dabf\\Starter_Code-5\\MCForecastTools.py:117: PerformanceWarning: DataFrame is highly fragmented.  This is usually the result of calling `frame.insert` many times, which has poor performance.  Consider joining all columns at once using pd.concat(axis=1) instead. To get a de-fragmented frame, use `newframe = frame.copy()`\n",
      "  portfolio_cumulative_returns[n] = (1 + sim_df.fillna(0)).cumprod()\n",
      "C:\\Users\\maris\\Downloads\\Fintech_P5M5-1bf4acc2d69b224c1384771893e8b26bdc73dabf\\Fintech_P5M5-1bf4acc2d69b224c1384771893e8b26bdc73dabf\\Starter_Code-5\\MCForecastTools.py:117: PerformanceWarning: DataFrame is highly fragmented.  This is usually the result of calling `frame.insert` many times, which has poor performance.  Consider joining all columns at once using pd.concat(axis=1) instead. To get a de-fragmented frame, use `newframe = frame.copy()`\n",
      "  portfolio_cumulative_returns[n] = (1 + sim_df.fillna(0)).cumprod()\n",
      "C:\\Users\\maris\\Downloads\\Fintech_P5M5-1bf4acc2d69b224c1384771893e8b26bdc73dabf\\Fintech_P5M5-1bf4acc2d69b224c1384771893e8b26bdc73dabf\\Starter_Code-5\\MCForecastTools.py:117: PerformanceWarning: DataFrame is highly fragmented.  This is usually the result of calling `frame.insert` many times, which has poor performance.  Consider joining all columns at once using pd.concat(axis=1) instead. To get a de-fragmented frame, use `newframe = frame.copy()`\n",
      "  portfolio_cumulative_returns[n] = (1 + sim_df.fillna(0)).cumprod()\n",
      "C:\\Users\\maris\\Downloads\\Fintech_P5M5-1bf4acc2d69b224c1384771893e8b26bdc73dabf\\Fintech_P5M5-1bf4acc2d69b224c1384771893e8b26bdc73dabf\\Starter_Code-5\\MCForecastTools.py:117: PerformanceWarning: DataFrame is highly fragmented.  This is usually the result of calling `frame.insert` many times, which has poor performance.  Consider joining all columns at once using pd.concat(axis=1) instead. To get a de-fragmented frame, use `newframe = frame.copy()`\n",
      "  portfolio_cumulative_returns[n] = (1 + sim_df.fillna(0)).cumprod()\n"
     ]
    },
    {
     "name": "stdout",
     "output_type": "stream",
     "text": [
      "Running Monte Carlo simulation number 350.\n"
     ]
    },
    {
     "name": "stderr",
     "output_type": "stream",
     "text": [
      "C:\\Users\\maris\\Downloads\\Fintech_P5M5-1bf4acc2d69b224c1384771893e8b26bdc73dabf\\Fintech_P5M5-1bf4acc2d69b224c1384771893e8b26bdc73dabf\\Starter_Code-5\\MCForecastTools.py:117: PerformanceWarning: DataFrame is highly fragmented.  This is usually the result of calling `frame.insert` many times, which has poor performance.  Consider joining all columns at once using pd.concat(axis=1) instead. To get a de-fragmented frame, use `newframe = frame.copy()`\n",
      "  portfolio_cumulative_returns[n] = (1 + sim_df.fillna(0)).cumprod()\n",
      "C:\\Users\\maris\\Downloads\\Fintech_P5M5-1bf4acc2d69b224c1384771893e8b26bdc73dabf\\Fintech_P5M5-1bf4acc2d69b224c1384771893e8b26bdc73dabf\\Starter_Code-5\\MCForecastTools.py:117: PerformanceWarning: DataFrame is highly fragmented.  This is usually the result of calling `frame.insert` many times, which has poor performance.  Consider joining all columns at once using pd.concat(axis=1) instead. To get a de-fragmented frame, use `newframe = frame.copy()`\n",
      "  portfolio_cumulative_returns[n] = (1 + sim_df.fillna(0)).cumprod()\n",
      "C:\\Users\\maris\\Downloads\\Fintech_P5M5-1bf4acc2d69b224c1384771893e8b26bdc73dabf\\Fintech_P5M5-1bf4acc2d69b224c1384771893e8b26bdc73dabf\\Starter_Code-5\\MCForecastTools.py:117: PerformanceWarning: DataFrame is highly fragmented.  This is usually the result of calling `frame.insert` many times, which has poor performance.  Consider joining all columns at once using pd.concat(axis=1) instead. To get a de-fragmented frame, use `newframe = frame.copy()`\n",
      "  portfolio_cumulative_returns[n] = (1 + sim_df.fillna(0)).cumprod()\n",
      "C:\\Users\\maris\\Downloads\\Fintech_P5M5-1bf4acc2d69b224c1384771893e8b26bdc73dabf\\Fintech_P5M5-1bf4acc2d69b224c1384771893e8b26bdc73dabf\\Starter_Code-5\\MCForecastTools.py:117: PerformanceWarning: DataFrame is highly fragmented.  This is usually the result of calling `frame.insert` many times, which has poor performance.  Consider joining all columns at once using pd.concat(axis=1) instead. To get a de-fragmented frame, use `newframe = frame.copy()`\n",
      "  portfolio_cumulative_returns[n] = (1 + sim_df.fillna(0)).cumprod()\n",
      "C:\\Users\\maris\\Downloads\\Fintech_P5M5-1bf4acc2d69b224c1384771893e8b26bdc73dabf\\Fintech_P5M5-1bf4acc2d69b224c1384771893e8b26bdc73dabf\\Starter_Code-5\\MCForecastTools.py:117: PerformanceWarning: DataFrame is highly fragmented.  This is usually the result of calling `frame.insert` many times, which has poor performance.  Consider joining all columns at once using pd.concat(axis=1) instead. To get a de-fragmented frame, use `newframe = frame.copy()`\n",
      "  portfolio_cumulative_returns[n] = (1 + sim_df.fillna(0)).cumprod()\n",
      "C:\\Users\\maris\\Downloads\\Fintech_P5M5-1bf4acc2d69b224c1384771893e8b26bdc73dabf\\Fintech_P5M5-1bf4acc2d69b224c1384771893e8b26bdc73dabf\\Starter_Code-5\\MCForecastTools.py:117: PerformanceWarning: DataFrame is highly fragmented.  This is usually the result of calling `frame.insert` many times, which has poor performance.  Consider joining all columns at once using pd.concat(axis=1) instead. To get a de-fragmented frame, use `newframe = frame.copy()`\n",
      "  portfolio_cumulative_returns[n] = (1 + sim_df.fillna(0)).cumprod()\n",
      "C:\\Users\\maris\\Downloads\\Fintech_P5M5-1bf4acc2d69b224c1384771893e8b26bdc73dabf\\Fintech_P5M5-1bf4acc2d69b224c1384771893e8b26bdc73dabf\\Starter_Code-5\\MCForecastTools.py:117: PerformanceWarning: DataFrame is highly fragmented.  This is usually the result of calling `frame.insert` many times, which has poor performance.  Consider joining all columns at once using pd.concat(axis=1) instead. To get a de-fragmented frame, use `newframe = frame.copy()`\n",
      "  portfolio_cumulative_returns[n] = (1 + sim_df.fillna(0)).cumprod()\n",
      "C:\\Users\\maris\\Downloads\\Fintech_P5M5-1bf4acc2d69b224c1384771893e8b26bdc73dabf\\Fintech_P5M5-1bf4acc2d69b224c1384771893e8b26bdc73dabf\\Starter_Code-5\\MCForecastTools.py:117: PerformanceWarning: DataFrame is highly fragmented.  This is usually the result of calling `frame.insert` many times, which has poor performance.  Consider joining all columns at once using pd.concat(axis=1) instead. To get a de-fragmented frame, use `newframe = frame.copy()`\n",
      "  portfolio_cumulative_returns[n] = (1 + sim_df.fillna(0)).cumprod()\n",
      "C:\\Users\\maris\\Downloads\\Fintech_P5M5-1bf4acc2d69b224c1384771893e8b26bdc73dabf\\Fintech_P5M5-1bf4acc2d69b224c1384771893e8b26bdc73dabf\\Starter_Code-5\\MCForecastTools.py:117: PerformanceWarning: DataFrame is highly fragmented.  This is usually the result of calling `frame.insert` many times, which has poor performance.  Consider joining all columns at once using pd.concat(axis=1) instead. To get a de-fragmented frame, use `newframe = frame.copy()`\n",
      "  portfolio_cumulative_returns[n] = (1 + sim_df.fillna(0)).cumprod()\n",
      "C:\\Users\\maris\\Downloads\\Fintech_P5M5-1bf4acc2d69b224c1384771893e8b26bdc73dabf\\Fintech_P5M5-1bf4acc2d69b224c1384771893e8b26bdc73dabf\\Starter_Code-5\\MCForecastTools.py:117: PerformanceWarning: DataFrame is highly fragmented.  This is usually the result of calling `frame.insert` many times, which has poor performance.  Consider joining all columns at once using pd.concat(axis=1) instead. To get a de-fragmented frame, use `newframe = frame.copy()`\n",
      "  portfolio_cumulative_returns[n] = (1 + sim_df.fillna(0)).cumprod()\n"
     ]
    },
    {
     "name": "stdout",
     "output_type": "stream",
     "text": [
      "Running Monte Carlo simulation number 360.\n"
     ]
    },
    {
     "name": "stderr",
     "output_type": "stream",
     "text": [
      "C:\\Users\\maris\\Downloads\\Fintech_P5M5-1bf4acc2d69b224c1384771893e8b26bdc73dabf\\Fintech_P5M5-1bf4acc2d69b224c1384771893e8b26bdc73dabf\\Starter_Code-5\\MCForecastTools.py:117: PerformanceWarning: DataFrame is highly fragmented.  This is usually the result of calling `frame.insert` many times, which has poor performance.  Consider joining all columns at once using pd.concat(axis=1) instead. To get a de-fragmented frame, use `newframe = frame.copy()`\n",
      "  portfolio_cumulative_returns[n] = (1 + sim_df.fillna(0)).cumprod()\n",
      "C:\\Users\\maris\\Downloads\\Fintech_P5M5-1bf4acc2d69b224c1384771893e8b26bdc73dabf\\Fintech_P5M5-1bf4acc2d69b224c1384771893e8b26bdc73dabf\\Starter_Code-5\\MCForecastTools.py:117: PerformanceWarning: DataFrame is highly fragmented.  This is usually the result of calling `frame.insert` many times, which has poor performance.  Consider joining all columns at once using pd.concat(axis=1) instead. To get a de-fragmented frame, use `newframe = frame.copy()`\n",
      "  portfolio_cumulative_returns[n] = (1 + sim_df.fillna(0)).cumprod()\n",
      "C:\\Users\\maris\\Downloads\\Fintech_P5M5-1bf4acc2d69b224c1384771893e8b26bdc73dabf\\Fintech_P5M5-1bf4acc2d69b224c1384771893e8b26bdc73dabf\\Starter_Code-5\\MCForecastTools.py:117: PerformanceWarning: DataFrame is highly fragmented.  This is usually the result of calling `frame.insert` many times, which has poor performance.  Consider joining all columns at once using pd.concat(axis=1) instead. To get a de-fragmented frame, use `newframe = frame.copy()`\n",
      "  portfolio_cumulative_returns[n] = (1 + sim_df.fillna(0)).cumprod()\n",
      "C:\\Users\\maris\\Downloads\\Fintech_P5M5-1bf4acc2d69b224c1384771893e8b26bdc73dabf\\Fintech_P5M5-1bf4acc2d69b224c1384771893e8b26bdc73dabf\\Starter_Code-5\\MCForecastTools.py:117: PerformanceWarning: DataFrame is highly fragmented.  This is usually the result of calling `frame.insert` many times, which has poor performance.  Consider joining all columns at once using pd.concat(axis=1) instead. To get a de-fragmented frame, use `newframe = frame.copy()`\n",
      "  portfolio_cumulative_returns[n] = (1 + sim_df.fillna(0)).cumprod()\n",
      "C:\\Users\\maris\\Downloads\\Fintech_P5M5-1bf4acc2d69b224c1384771893e8b26bdc73dabf\\Fintech_P5M5-1bf4acc2d69b224c1384771893e8b26bdc73dabf\\Starter_Code-5\\MCForecastTools.py:117: PerformanceWarning: DataFrame is highly fragmented.  This is usually the result of calling `frame.insert` many times, which has poor performance.  Consider joining all columns at once using pd.concat(axis=1) instead. To get a de-fragmented frame, use `newframe = frame.copy()`\n",
      "  portfolio_cumulative_returns[n] = (1 + sim_df.fillna(0)).cumprod()\n",
      "C:\\Users\\maris\\Downloads\\Fintech_P5M5-1bf4acc2d69b224c1384771893e8b26bdc73dabf\\Fintech_P5M5-1bf4acc2d69b224c1384771893e8b26bdc73dabf\\Starter_Code-5\\MCForecastTools.py:117: PerformanceWarning: DataFrame is highly fragmented.  This is usually the result of calling `frame.insert` many times, which has poor performance.  Consider joining all columns at once using pd.concat(axis=1) instead. To get a de-fragmented frame, use `newframe = frame.copy()`\n",
      "  portfolio_cumulative_returns[n] = (1 + sim_df.fillna(0)).cumprod()\n",
      "C:\\Users\\maris\\Downloads\\Fintech_P5M5-1bf4acc2d69b224c1384771893e8b26bdc73dabf\\Fintech_P5M5-1bf4acc2d69b224c1384771893e8b26bdc73dabf\\Starter_Code-5\\MCForecastTools.py:117: PerformanceWarning: DataFrame is highly fragmented.  This is usually the result of calling `frame.insert` many times, which has poor performance.  Consider joining all columns at once using pd.concat(axis=1) instead. To get a de-fragmented frame, use `newframe = frame.copy()`\n",
      "  portfolio_cumulative_returns[n] = (1 + sim_df.fillna(0)).cumprod()\n",
      "C:\\Users\\maris\\Downloads\\Fintech_P5M5-1bf4acc2d69b224c1384771893e8b26bdc73dabf\\Fintech_P5M5-1bf4acc2d69b224c1384771893e8b26bdc73dabf\\Starter_Code-5\\MCForecastTools.py:117: PerformanceWarning: DataFrame is highly fragmented.  This is usually the result of calling `frame.insert` many times, which has poor performance.  Consider joining all columns at once using pd.concat(axis=1) instead. To get a de-fragmented frame, use `newframe = frame.copy()`\n",
      "  portfolio_cumulative_returns[n] = (1 + sim_df.fillna(0)).cumprod()\n",
      "C:\\Users\\maris\\Downloads\\Fintech_P5M5-1bf4acc2d69b224c1384771893e8b26bdc73dabf\\Fintech_P5M5-1bf4acc2d69b224c1384771893e8b26bdc73dabf\\Starter_Code-5\\MCForecastTools.py:117: PerformanceWarning: DataFrame is highly fragmented.  This is usually the result of calling `frame.insert` many times, which has poor performance.  Consider joining all columns at once using pd.concat(axis=1) instead. To get a de-fragmented frame, use `newframe = frame.copy()`\n",
      "  portfolio_cumulative_returns[n] = (1 + sim_df.fillna(0)).cumprod()\n",
      "C:\\Users\\maris\\Downloads\\Fintech_P5M5-1bf4acc2d69b224c1384771893e8b26bdc73dabf\\Fintech_P5M5-1bf4acc2d69b224c1384771893e8b26bdc73dabf\\Starter_Code-5\\MCForecastTools.py:117: PerformanceWarning: DataFrame is highly fragmented.  This is usually the result of calling `frame.insert` many times, which has poor performance.  Consider joining all columns at once using pd.concat(axis=1) instead. To get a de-fragmented frame, use `newframe = frame.copy()`\n",
      "  portfolio_cumulative_returns[n] = (1 + sim_df.fillna(0)).cumprod()\n"
     ]
    },
    {
     "name": "stdout",
     "output_type": "stream",
     "text": [
      "Running Monte Carlo simulation number 370.\n"
     ]
    },
    {
     "name": "stderr",
     "output_type": "stream",
     "text": [
      "C:\\Users\\maris\\Downloads\\Fintech_P5M5-1bf4acc2d69b224c1384771893e8b26bdc73dabf\\Fintech_P5M5-1bf4acc2d69b224c1384771893e8b26bdc73dabf\\Starter_Code-5\\MCForecastTools.py:117: PerformanceWarning: DataFrame is highly fragmented.  This is usually the result of calling `frame.insert` many times, which has poor performance.  Consider joining all columns at once using pd.concat(axis=1) instead. To get a de-fragmented frame, use `newframe = frame.copy()`\n",
      "  portfolio_cumulative_returns[n] = (1 + sim_df.fillna(0)).cumprod()\n",
      "C:\\Users\\maris\\Downloads\\Fintech_P5M5-1bf4acc2d69b224c1384771893e8b26bdc73dabf\\Fintech_P5M5-1bf4acc2d69b224c1384771893e8b26bdc73dabf\\Starter_Code-5\\MCForecastTools.py:117: PerformanceWarning: DataFrame is highly fragmented.  This is usually the result of calling `frame.insert` many times, which has poor performance.  Consider joining all columns at once using pd.concat(axis=1) instead. To get a de-fragmented frame, use `newframe = frame.copy()`\n",
      "  portfolio_cumulative_returns[n] = (1 + sim_df.fillna(0)).cumprod()\n",
      "C:\\Users\\maris\\Downloads\\Fintech_P5M5-1bf4acc2d69b224c1384771893e8b26bdc73dabf\\Fintech_P5M5-1bf4acc2d69b224c1384771893e8b26bdc73dabf\\Starter_Code-5\\MCForecastTools.py:117: PerformanceWarning: DataFrame is highly fragmented.  This is usually the result of calling `frame.insert` many times, which has poor performance.  Consider joining all columns at once using pd.concat(axis=1) instead. To get a de-fragmented frame, use `newframe = frame.copy()`\n",
      "  portfolio_cumulative_returns[n] = (1 + sim_df.fillna(0)).cumprod()\n",
      "C:\\Users\\maris\\Downloads\\Fintech_P5M5-1bf4acc2d69b224c1384771893e8b26bdc73dabf\\Fintech_P5M5-1bf4acc2d69b224c1384771893e8b26bdc73dabf\\Starter_Code-5\\MCForecastTools.py:117: PerformanceWarning: DataFrame is highly fragmented.  This is usually the result of calling `frame.insert` many times, which has poor performance.  Consider joining all columns at once using pd.concat(axis=1) instead. To get a de-fragmented frame, use `newframe = frame.copy()`\n",
      "  portfolio_cumulative_returns[n] = (1 + sim_df.fillna(0)).cumprod()\n",
      "C:\\Users\\maris\\Downloads\\Fintech_P5M5-1bf4acc2d69b224c1384771893e8b26bdc73dabf\\Fintech_P5M5-1bf4acc2d69b224c1384771893e8b26bdc73dabf\\Starter_Code-5\\MCForecastTools.py:117: PerformanceWarning: DataFrame is highly fragmented.  This is usually the result of calling `frame.insert` many times, which has poor performance.  Consider joining all columns at once using pd.concat(axis=1) instead. To get a de-fragmented frame, use `newframe = frame.copy()`\n",
      "  portfolio_cumulative_returns[n] = (1 + sim_df.fillna(0)).cumprod()\n",
      "C:\\Users\\maris\\Downloads\\Fintech_P5M5-1bf4acc2d69b224c1384771893e8b26bdc73dabf\\Fintech_P5M5-1bf4acc2d69b224c1384771893e8b26bdc73dabf\\Starter_Code-5\\MCForecastTools.py:117: PerformanceWarning: DataFrame is highly fragmented.  This is usually the result of calling `frame.insert` many times, which has poor performance.  Consider joining all columns at once using pd.concat(axis=1) instead. To get a de-fragmented frame, use `newframe = frame.copy()`\n",
      "  portfolio_cumulative_returns[n] = (1 + sim_df.fillna(0)).cumprod()\n",
      "C:\\Users\\maris\\Downloads\\Fintech_P5M5-1bf4acc2d69b224c1384771893e8b26bdc73dabf\\Fintech_P5M5-1bf4acc2d69b224c1384771893e8b26bdc73dabf\\Starter_Code-5\\MCForecastTools.py:117: PerformanceWarning: DataFrame is highly fragmented.  This is usually the result of calling `frame.insert` many times, which has poor performance.  Consider joining all columns at once using pd.concat(axis=1) instead. To get a de-fragmented frame, use `newframe = frame.copy()`\n",
      "  portfolio_cumulative_returns[n] = (1 + sim_df.fillna(0)).cumprod()\n",
      "C:\\Users\\maris\\Downloads\\Fintech_P5M5-1bf4acc2d69b224c1384771893e8b26bdc73dabf\\Fintech_P5M5-1bf4acc2d69b224c1384771893e8b26bdc73dabf\\Starter_Code-5\\MCForecastTools.py:117: PerformanceWarning: DataFrame is highly fragmented.  This is usually the result of calling `frame.insert` many times, which has poor performance.  Consider joining all columns at once using pd.concat(axis=1) instead. To get a de-fragmented frame, use `newframe = frame.copy()`\n",
      "  portfolio_cumulative_returns[n] = (1 + sim_df.fillna(0)).cumprod()\n",
      "C:\\Users\\maris\\Downloads\\Fintech_P5M5-1bf4acc2d69b224c1384771893e8b26bdc73dabf\\Fintech_P5M5-1bf4acc2d69b224c1384771893e8b26bdc73dabf\\Starter_Code-5\\MCForecastTools.py:117: PerformanceWarning: DataFrame is highly fragmented.  This is usually the result of calling `frame.insert` many times, which has poor performance.  Consider joining all columns at once using pd.concat(axis=1) instead. To get a de-fragmented frame, use `newframe = frame.copy()`\n",
      "  portfolio_cumulative_returns[n] = (1 + sim_df.fillna(0)).cumprod()\n",
      "C:\\Users\\maris\\Downloads\\Fintech_P5M5-1bf4acc2d69b224c1384771893e8b26bdc73dabf\\Fintech_P5M5-1bf4acc2d69b224c1384771893e8b26bdc73dabf\\Starter_Code-5\\MCForecastTools.py:117: PerformanceWarning: DataFrame is highly fragmented.  This is usually the result of calling `frame.insert` many times, which has poor performance.  Consider joining all columns at once using pd.concat(axis=1) instead. To get a de-fragmented frame, use `newframe = frame.copy()`\n",
      "  portfolio_cumulative_returns[n] = (1 + sim_df.fillna(0)).cumprod()\n"
     ]
    },
    {
     "name": "stdout",
     "output_type": "stream",
     "text": [
      "Running Monte Carlo simulation number 380.\n"
     ]
    },
    {
     "name": "stderr",
     "output_type": "stream",
     "text": [
      "C:\\Users\\maris\\Downloads\\Fintech_P5M5-1bf4acc2d69b224c1384771893e8b26bdc73dabf\\Fintech_P5M5-1bf4acc2d69b224c1384771893e8b26bdc73dabf\\Starter_Code-5\\MCForecastTools.py:117: PerformanceWarning: DataFrame is highly fragmented.  This is usually the result of calling `frame.insert` many times, which has poor performance.  Consider joining all columns at once using pd.concat(axis=1) instead. To get a de-fragmented frame, use `newframe = frame.copy()`\n",
      "  portfolio_cumulative_returns[n] = (1 + sim_df.fillna(0)).cumprod()\n",
      "C:\\Users\\maris\\Downloads\\Fintech_P5M5-1bf4acc2d69b224c1384771893e8b26bdc73dabf\\Fintech_P5M5-1bf4acc2d69b224c1384771893e8b26bdc73dabf\\Starter_Code-5\\MCForecastTools.py:117: PerformanceWarning: DataFrame is highly fragmented.  This is usually the result of calling `frame.insert` many times, which has poor performance.  Consider joining all columns at once using pd.concat(axis=1) instead. To get a de-fragmented frame, use `newframe = frame.copy()`\n",
      "  portfolio_cumulative_returns[n] = (1 + sim_df.fillna(0)).cumprod()\n",
      "C:\\Users\\maris\\Downloads\\Fintech_P5M5-1bf4acc2d69b224c1384771893e8b26bdc73dabf\\Fintech_P5M5-1bf4acc2d69b224c1384771893e8b26bdc73dabf\\Starter_Code-5\\MCForecastTools.py:117: PerformanceWarning: DataFrame is highly fragmented.  This is usually the result of calling `frame.insert` many times, which has poor performance.  Consider joining all columns at once using pd.concat(axis=1) instead. To get a de-fragmented frame, use `newframe = frame.copy()`\n",
      "  portfolio_cumulative_returns[n] = (1 + sim_df.fillna(0)).cumprod()\n",
      "C:\\Users\\maris\\Downloads\\Fintech_P5M5-1bf4acc2d69b224c1384771893e8b26bdc73dabf\\Fintech_P5M5-1bf4acc2d69b224c1384771893e8b26bdc73dabf\\Starter_Code-5\\MCForecastTools.py:117: PerformanceWarning: DataFrame is highly fragmented.  This is usually the result of calling `frame.insert` many times, which has poor performance.  Consider joining all columns at once using pd.concat(axis=1) instead. To get a de-fragmented frame, use `newframe = frame.copy()`\n",
      "  portfolio_cumulative_returns[n] = (1 + sim_df.fillna(0)).cumprod()\n",
      "C:\\Users\\maris\\Downloads\\Fintech_P5M5-1bf4acc2d69b224c1384771893e8b26bdc73dabf\\Fintech_P5M5-1bf4acc2d69b224c1384771893e8b26bdc73dabf\\Starter_Code-5\\MCForecastTools.py:117: PerformanceWarning: DataFrame is highly fragmented.  This is usually the result of calling `frame.insert` many times, which has poor performance.  Consider joining all columns at once using pd.concat(axis=1) instead. To get a de-fragmented frame, use `newframe = frame.copy()`\n",
      "  portfolio_cumulative_returns[n] = (1 + sim_df.fillna(0)).cumprod()\n",
      "C:\\Users\\maris\\Downloads\\Fintech_P5M5-1bf4acc2d69b224c1384771893e8b26bdc73dabf\\Fintech_P5M5-1bf4acc2d69b224c1384771893e8b26bdc73dabf\\Starter_Code-5\\MCForecastTools.py:117: PerformanceWarning: DataFrame is highly fragmented.  This is usually the result of calling `frame.insert` many times, which has poor performance.  Consider joining all columns at once using pd.concat(axis=1) instead. To get a de-fragmented frame, use `newframe = frame.copy()`\n",
      "  portfolio_cumulative_returns[n] = (1 + sim_df.fillna(0)).cumprod()\n",
      "C:\\Users\\maris\\Downloads\\Fintech_P5M5-1bf4acc2d69b224c1384771893e8b26bdc73dabf\\Fintech_P5M5-1bf4acc2d69b224c1384771893e8b26bdc73dabf\\Starter_Code-5\\MCForecastTools.py:117: PerformanceWarning: DataFrame is highly fragmented.  This is usually the result of calling `frame.insert` many times, which has poor performance.  Consider joining all columns at once using pd.concat(axis=1) instead. To get a de-fragmented frame, use `newframe = frame.copy()`\n",
      "  portfolio_cumulative_returns[n] = (1 + sim_df.fillna(0)).cumprod()\n",
      "C:\\Users\\maris\\Downloads\\Fintech_P5M5-1bf4acc2d69b224c1384771893e8b26bdc73dabf\\Fintech_P5M5-1bf4acc2d69b224c1384771893e8b26bdc73dabf\\Starter_Code-5\\MCForecastTools.py:117: PerformanceWarning: DataFrame is highly fragmented.  This is usually the result of calling `frame.insert` many times, which has poor performance.  Consider joining all columns at once using pd.concat(axis=1) instead. To get a de-fragmented frame, use `newframe = frame.copy()`\n",
      "  portfolio_cumulative_returns[n] = (1 + sim_df.fillna(0)).cumprod()\n",
      "C:\\Users\\maris\\Downloads\\Fintech_P5M5-1bf4acc2d69b224c1384771893e8b26bdc73dabf\\Fintech_P5M5-1bf4acc2d69b224c1384771893e8b26bdc73dabf\\Starter_Code-5\\MCForecastTools.py:117: PerformanceWarning: DataFrame is highly fragmented.  This is usually the result of calling `frame.insert` many times, which has poor performance.  Consider joining all columns at once using pd.concat(axis=1) instead. To get a de-fragmented frame, use `newframe = frame.copy()`\n",
      "  portfolio_cumulative_returns[n] = (1 + sim_df.fillna(0)).cumprod()\n",
      "C:\\Users\\maris\\Downloads\\Fintech_P5M5-1bf4acc2d69b224c1384771893e8b26bdc73dabf\\Fintech_P5M5-1bf4acc2d69b224c1384771893e8b26bdc73dabf\\Starter_Code-5\\MCForecastTools.py:117: PerformanceWarning: DataFrame is highly fragmented.  This is usually the result of calling `frame.insert` many times, which has poor performance.  Consider joining all columns at once using pd.concat(axis=1) instead. To get a de-fragmented frame, use `newframe = frame.copy()`\n",
      "  portfolio_cumulative_returns[n] = (1 + sim_df.fillna(0)).cumprod()\n"
     ]
    },
    {
     "name": "stdout",
     "output_type": "stream",
     "text": [
      "Running Monte Carlo simulation number 390.\n"
     ]
    },
    {
     "name": "stderr",
     "output_type": "stream",
     "text": [
      "C:\\Users\\maris\\Downloads\\Fintech_P5M5-1bf4acc2d69b224c1384771893e8b26bdc73dabf\\Fintech_P5M5-1bf4acc2d69b224c1384771893e8b26bdc73dabf\\Starter_Code-5\\MCForecastTools.py:117: PerformanceWarning: DataFrame is highly fragmented.  This is usually the result of calling `frame.insert` many times, which has poor performance.  Consider joining all columns at once using pd.concat(axis=1) instead. To get a de-fragmented frame, use `newframe = frame.copy()`\n",
      "  portfolio_cumulative_returns[n] = (1 + sim_df.fillna(0)).cumprod()\n",
      "C:\\Users\\maris\\Downloads\\Fintech_P5M5-1bf4acc2d69b224c1384771893e8b26bdc73dabf\\Fintech_P5M5-1bf4acc2d69b224c1384771893e8b26bdc73dabf\\Starter_Code-5\\MCForecastTools.py:117: PerformanceWarning: DataFrame is highly fragmented.  This is usually the result of calling `frame.insert` many times, which has poor performance.  Consider joining all columns at once using pd.concat(axis=1) instead. To get a de-fragmented frame, use `newframe = frame.copy()`\n",
      "  portfolio_cumulative_returns[n] = (1 + sim_df.fillna(0)).cumprod()\n",
      "C:\\Users\\maris\\Downloads\\Fintech_P5M5-1bf4acc2d69b224c1384771893e8b26bdc73dabf\\Fintech_P5M5-1bf4acc2d69b224c1384771893e8b26bdc73dabf\\Starter_Code-5\\MCForecastTools.py:117: PerformanceWarning: DataFrame is highly fragmented.  This is usually the result of calling `frame.insert` many times, which has poor performance.  Consider joining all columns at once using pd.concat(axis=1) instead. To get a de-fragmented frame, use `newframe = frame.copy()`\n",
      "  portfolio_cumulative_returns[n] = (1 + sim_df.fillna(0)).cumprod()\n",
      "C:\\Users\\maris\\Downloads\\Fintech_P5M5-1bf4acc2d69b224c1384771893e8b26bdc73dabf\\Fintech_P5M5-1bf4acc2d69b224c1384771893e8b26bdc73dabf\\Starter_Code-5\\MCForecastTools.py:117: PerformanceWarning: DataFrame is highly fragmented.  This is usually the result of calling `frame.insert` many times, which has poor performance.  Consider joining all columns at once using pd.concat(axis=1) instead. To get a de-fragmented frame, use `newframe = frame.copy()`\n",
      "  portfolio_cumulative_returns[n] = (1 + sim_df.fillna(0)).cumprod()\n",
      "C:\\Users\\maris\\Downloads\\Fintech_P5M5-1bf4acc2d69b224c1384771893e8b26bdc73dabf\\Fintech_P5M5-1bf4acc2d69b224c1384771893e8b26bdc73dabf\\Starter_Code-5\\MCForecastTools.py:117: PerformanceWarning: DataFrame is highly fragmented.  This is usually the result of calling `frame.insert` many times, which has poor performance.  Consider joining all columns at once using pd.concat(axis=1) instead. To get a de-fragmented frame, use `newframe = frame.copy()`\n",
      "  portfolio_cumulative_returns[n] = (1 + sim_df.fillna(0)).cumprod()\n",
      "C:\\Users\\maris\\Downloads\\Fintech_P5M5-1bf4acc2d69b224c1384771893e8b26bdc73dabf\\Fintech_P5M5-1bf4acc2d69b224c1384771893e8b26bdc73dabf\\Starter_Code-5\\MCForecastTools.py:117: PerformanceWarning: DataFrame is highly fragmented.  This is usually the result of calling `frame.insert` many times, which has poor performance.  Consider joining all columns at once using pd.concat(axis=1) instead. To get a de-fragmented frame, use `newframe = frame.copy()`\n",
      "  portfolio_cumulative_returns[n] = (1 + sim_df.fillna(0)).cumprod()\n",
      "C:\\Users\\maris\\Downloads\\Fintech_P5M5-1bf4acc2d69b224c1384771893e8b26bdc73dabf\\Fintech_P5M5-1bf4acc2d69b224c1384771893e8b26bdc73dabf\\Starter_Code-5\\MCForecastTools.py:117: PerformanceWarning: DataFrame is highly fragmented.  This is usually the result of calling `frame.insert` many times, which has poor performance.  Consider joining all columns at once using pd.concat(axis=1) instead. To get a de-fragmented frame, use `newframe = frame.copy()`\n",
      "  portfolio_cumulative_returns[n] = (1 + sim_df.fillna(0)).cumprod()\n",
      "C:\\Users\\maris\\Downloads\\Fintech_P5M5-1bf4acc2d69b224c1384771893e8b26bdc73dabf\\Fintech_P5M5-1bf4acc2d69b224c1384771893e8b26bdc73dabf\\Starter_Code-5\\MCForecastTools.py:117: PerformanceWarning: DataFrame is highly fragmented.  This is usually the result of calling `frame.insert` many times, which has poor performance.  Consider joining all columns at once using pd.concat(axis=1) instead. To get a de-fragmented frame, use `newframe = frame.copy()`\n",
      "  portfolio_cumulative_returns[n] = (1 + sim_df.fillna(0)).cumprod()\n",
      "C:\\Users\\maris\\Downloads\\Fintech_P5M5-1bf4acc2d69b224c1384771893e8b26bdc73dabf\\Fintech_P5M5-1bf4acc2d69b224c1384771893e8b26bdc73dabf\\Starter_Code-5\\MCForecastTools.py:117: PerformanceWarning: DataFrame is highly fragmented.  This is usually the result of calling `frame.insert` many times, which has poor performance.  Consider joining all columns at once using pd.concat(axis=1) instead. To get a de-fragmented frame, use `newframe = frame.copy()`\n",
      "  portfolio_cumulative_returns[n] = (1 + sim_df.fillna(0)).cumprod()\n",
      "C:\\Users\\maris\\Downloads\\Fintech_P5M5-1bf4acc2d69b224c1384771893e8b26bdc73dabf\\Fintech_P5M5-1bf4acc2d69b224c1384771893e8b26bdc73dabf\\Starter_Code-5\\MCForecastTools.py:117: PerformanceWarning: DataFrame is highly fragmented.  This is usually the result of calling `frame.insert` many times, which has poor performance.  Consider joining all columns at once using pd.concat(axis=1) instead. To get a de-fragmented frame, use `newframe = frame.copy()`\n",
      "  portfolio_cumulative_returns[n] = (1 + sim_df.fillna(0)).cumprod()\n"
     ]
    },
    {
     "name": "stdout",
     "output_type": "stream",
     "text": [
      "Running Monte Carlo simulation number 400.\n"
     ]
    },
    {
     "name": "stderr",
     "output_type": "stream",
     "text": [
      "C:\\Users\\maris\\Downloads\\Fintech_P5M5-1bf4acc2d69b224c1384771893e8b26bdc73dabf\\Fintech_P5M5-1bf4acc2d69b224c1384771893e8b26bdc73dabf\\Starter_Code-5\\MCForecastTools.py:117: PerformanceWarning: DataFrame is highly fragmented.  This is usually the result of calling `frame.insert` many times, which has poor performance.  Consider joining all columns at once using pd.concat(axis=1) instead. To get a de-fragmented frame, use `newframe = frame.copy()`\n",
      "  portfolio_cumulative_returns[n] = (1 + sim_df.fillna(0)).cumprod()\n",
      "C:\\Users\\maris\\Downloads\\Fintech_P5M5-1bf4acc2d69b224c1384771893e8b26bdc73dabf\\Fintech_P5M5-1bf4acc2d69b224c1384771893e8b26bdc73dabf\\Starter_Code-5\\MCForecastTools.py:117: PerformanceWarning: DataFrame is highly fragmented.  This is usually the result of calling `frame.insert` many times, which has poor performance.  Consider joining all columns at once using pd.concat(axis=1) instead. To get a de-fragmented frame, use `newframe = frame.copy()`\n",
      "  portfolio_cumulative_returns[n] = (1 + sim_df.fillna(0)).cumprod()\n",
      "C:\\Users\\maris\\Downloads\\Fintech_P5M5-1bf4acc2d69b224c1384771893e8b26bdc73dabf\\Fintech_P5M5-1bf4acc2d69b224c1384771893e8b26bdc73dabf\\Starter_Code-5\\MCForecastTools.py:117: PerformanceWarning: DataFrame is highly fragmented.  This is usually the result of calling `frame.insert` many times, which has poor performance.  Consider joining all columns at once using pd.concat(axis=1) instead. To get a de-fragmented frame, use `newframe = frame.copy()`\n",
      "  portfolio_cumulative_returns[n] = (1 + sim_df.fillna(0)).cumprod()\n",
      "C:\\Users\\maris\\Downloads\\Fintech_P5M5-1bf4acc2d69b224c1384771893e8b26bdc73dabf\\Fintech_P5M5-1bf4acc2d69b224c1384771893e8b26bdc73dabf\\Starter_Code-5\\MCForecastTools.py:117: PerformanceWarning: DataFrame is highly fragmented.  This is usually the result of calling `frame.insert` many times, which has poor performance.  Consider joining all columns at once using pd.concat(axis=1) instead. To get a de-fragmented frame, use `newframe = frame.copy()`\n",
      "  portfolio_cumulative_returns[n] = (1 + sim_df.fillna(0)).cumprod()\n",
      "C:\\Users\\maris\\Downloads\\Fintech_P5M5-1bf4acc2d69b224c1384771893e8b26bdc73dabf\\Fintech_P5M5-1bf4acc2d69b224c1384771893e8b26bdc73dabf\\Starter_Code-5\\MCForecastTools.py:117: PerformanceWarning: DataFrame is highly fragmented.  This is usually the result of calling `frame.insert` many times, which has poor performance.  Consider joining all columns at once using pd.concat(axis=1) instead. To get a de-fragmented frame, use `newframe = frame.copy()`\n",
      "  portfolio_cumulative_returns[n] = (1 + sim_df.fillna(0)).cumprod()\n",
      "C:\\Users\\maris\\Downloads\\Fintech_P5M5-1bf4acc2d69b224c1384771893e8b26bdc73dabf\\Fintech_P5M5-1bf4acc2d69b224c1384771893e8b26bdc73dabf\\Starter_Code-5\\MCForecastTools.py:117: PerformanceWarning: DataFrame is highly fragmented.  This is usually the result of calling `frame.insert` many times, which has poor performance.  Consider joining all columns at once using pd.concat(axis=1) instead. To get a de-fragmented frame, use `newframe = frame.copy()`\n",
      "  portfolio_cumulative_returns[n] = (1 + sim_df.fillna(0)).cumprod()\n",
      "C:\\Users\\maris\\Downloads\\Fintech_P5M5-1bf4acc2d69b224c1384771893e8b26bdc73dabf\\Fintech_P5M5-1bf4acc2d69b224c1384771893e8b26bdc73dabf\\Starter_Code-5\\MCForecastTools.py:117: PerformanceWarning: DataFrame is highly fragmented.  This is usually the result of calling `frame.insert` many times, which has poor performance.  Consider joining all columns at once using pd.concat(axis=1) instead. To get a de-fragmented frame, use `newframe = frame.copy()`\n",
      "  portfolio_cumulative_returns[n] = (1 + sim_df.fillna(0)).cumprod()\n",
      "C:\\Users\\maris\\Downloads\\Fintech_P5M5-1bf4acc2d69b224c1384771893e8b26bdc73dabf\\Fintech_P5M5-1bf4acc2d69b224c1384771893e8b26bdc73dabf\\Starter_Code-5\\MCForecastTools.py:117: PerformanceWarning: DataFrame is highly fragmented.  This is usually the result of calling `frame.insert` many times, which has poor performance.  Consider joining all columns at once using pd.concat(axis=1) instead. To get a de-fragmented frame, use `newframe = frame.copy()`\n",
      "  portfolio_cumulative_returns[n] = (1 + sim_df.fillna(0)).cumprod()\n",
      "C:\\Users\\maris\\Downloads\\Fintech_P5M5-1bf4acc2d69b224c1384771893e8b26bdc73dabf\\Fintech_P5M5-1bf4acc2d69b224c1384771893e8b26bdc73dabf\\Starter_Code-5\\MCForecastTools.py:117: PerformanceWarning: DataFrame is highly fragmented.  This is usually the result of calling `frame.insert` many times, which has poor performance.  Consider joining all columns at once using pd.concat(axis=1) instead. To get a de-fragmented frame, use `newframe = frame.copy()`\n",
      "  portfolio_cumulative_returns[n] = (1 + sim_df.fillna(0)).cumprod()\n",
      "C:\\Users\\maris\\Downloads\\Fintech_P5M5-1bf4acc2d69b224c1384771893e8b26bdc73dabf\\Fintech_P5M5-1bf4acc2d69b224c1384771893e8b26bdc73dabf\\Starter_Code-5\\MCForecastTools.py:117: PerformanceWarning: DataFrame is highly fragmented.  This is usually the result of calling `frame.insert` many times, which has poor performance.  Consider joining all columns at once using pd.concat(axis=1) instead. To get a de-fragmented frame, use `newframe = frame.copy()`\n",
      "  portfolio_cumulative_returns[n] = (1 + sim_df.fillna(0)).cumprod()\n"
     ]
    },
    {
     "name": "stdout",
     "output_type": "stream",
     "text": [
      "Running Monte Carlo simulation number 410.\n"
     ]
    },
    {
     "name": "stderr",
     "output_type": "stream",
     "text": [
      "C:\\Users\\maris\\Downloads\\Fintech_P5M5-1bf4acc2d69b224c1384771893e8b26bdc73dabf\\Fintech_P5M5-1bf4acc2d69b224c1384771893e8b26bdc73dabf\\Starter_Code-5\\MCForecastTools.py:117: PerformanceWarning: DataFrame is highly fragmented.  This is usually the result of calling `frame.insert` many times, which has poor performance.  Consider joining all columns at once using pd.concat(axis=1) instead. To get a de-fragmented frame, use `newframe = frame.copy()`\n",
      "  portfolio_cumulative_returns[n] = (1 + sim_df.fillna(0)).cumprod()\n",
      "C:\\Users\\maris\\Downloads\\Fintech_P5M5-1bf4acc2d69b224c1384771893e8b26bdc73dabf\\Fintech_P5M5-1bf4acc2d69b224c1384771893e8b26bdc73dabf\\Starter_Code-5\\MCForecastTools.py:117: PerformanceWarning: DataFrame is highly fragmented.  This is usually the result of calling `frame.insert` many times, which has poor performance.  Consider joining all columns at once using pd.concat(axis=1) instead. To get a de-fragmented frame, use `newframe = frame.copy()`\n",
      "  portfolio_cumulative_returns[n] = (1 + sim_df.fillna(0)).cumprod()\n",
      "C:\\Users\\maris\\Downloads\\Fintech_P5M5-1bf4acc2d69b224c1384771893e8b26bdc73dabf\\Fintech_P5M5-1bf4acc2d69b224c1384771893e8b26bdc73dabf\\Starter_Code-5\\MCForecastTools.py:117: PerformanceWarning: DataFrame is highly fragmented.  This is usually the result of calling `frame.insert` many times, which has poor performance.  Consider joining all columns at once using pd.concat(axis=1) instead. To get a de-fragmented frame, use `newframe = frame.copy()`\n",
      "  portfolio_cumulative_returns[n] = (1 + sim_df.fillna(0)).cumprod()\n",
      "C:\\Users\\maris\\Downloads\\Fintech_P5M5-1bf4acc2d69b224c1384771893e8b26bdc73dabf\\Fintech_P5M5-1bf4acc2d69b224c1384771893e8b26bdc73dabf\\Starter_Code-5\\MCForecastTools.py:117: PerformanceWarning: DataFrame is highly fragmented.  This is usually the result of calling `frame.insert` many times, which has poor performance.  Consider joining all columns at once using pd.concat(axis=1) instead. To get a de-fragmented frame, use `newframe = frame.copy()`\n",
      "  portfolio_cumulative_returns[n] = (1 + sim_df.fillna(0)).cumprod()\n",
      "C:\\Users\\maris\\Downloads\\Fintech_P5M5-1bf4acc2d69b224c1384771893e8b26bdc73dabf\\Fintech_P5M5-1bf4acc2d69b224c1384771893e8b26bdc73dabf\\Starter_Code-5\\MCForecastTools.py:117: PerformanceWarning: DataFrame is highly fragmented.  This is usually the result of calling `frame.insert` many times, which has poor performance.  Consider joining all columns at once using pd.concat(axis=1) instead. To get a de-fragmented frame, use `newframe = frame.copy()`\n",
      "  portfolio_cumulative_returns[n] = (1 + sim_df.fillna(0)).cumprod()\n",
      "C:\\Users\\maris\\Downloads\\Fintech_P5M5-1bf4acc2d69b224c1384771893e8b26bdc73dabf\\Fintech_P5M5-1bf4acc2d69b224c1384771893e8b26bdc73dabf\\Starter_Code-5\\MCForecastTools.py:117: PerformanceWarning: DataFrame is highly fragmented.  This is usually the result of calling `frame.insert` many times, which has poor performance.  Consider joining all columns at once using pd.concat(axis=1) instead. To get a de-fragmented frame, use `newframe = frame.copy()`\n",
      "  portfolio_cumulative_returns[n] = (1 + sim_df.fillna(0)).cumprod()\n",
      "C:\\Users\\maris\\Downloads\\Fintech_P5M5-1bf4acc2d69b224c1384771893e8b26bdc73dabf\\Fintech_P5M5-1bf4acc2d69b224c1384771893e8b26bdc73dabf\\Starter_Code-5\\MCForecastTools.py:117: PerformanceWarning: DataFrame is highly fragmented.  This is usually the result of calling `frame.insert` many times, which has poor performance.  Consider joining all columns at once using pd.concat(axis=1) instead. To get a de-fragmented frame, use `newframe = frame.copy()`\n",
      "  portfolio_cumulative_returns[n] = (1 + sim_df.fillna(0)).cumprod()\n",
      "C:\\Users\\maris\\Downloads\\Fintech_P5M5-1bf4acc2d69b224c1384771893e8b26bdc73dabf\\Fintech_P5M5-1bf4acc2d69b224c1384771893e8b26bdc73dabf\\Starter_Code-5\\MCForecastTools.py:117: PerformanceWarning: DataFrame is highly fragmented.  This is usually the result of calling `frame.insert` many times, which has poor performance.  Consider joining all columns at once using pd.concat(axis=1) instead. To get a de-fragmented frame, use `newframe = frame.copy()`\n",
      "  portfolio_cumulative_returns[n] = (1 + sim_df.fillna(0)).cumprod()\n",
      "C:\\Users\\maris\\Downloads\\Fintech_P5M5-1bf4acc2d69b224c1384771893e8b26bdc73dabf\\Fintech_P5M5-1bf4acc2d69b224c1384771893e8b26bdc73dabf\\Starter_Code-5\\MCForecastTools.py:117: PerformanceWarning: DataFrame is highly fragmented.  This is usually the result of calling `frame.insert` many times, which has poor performance.  Consider joining all columns at once using pd.concat(axis=1) instead. To get a de-fragmented frame, use `newframe = frame.copy()`\n",
      "  portfolio_cumulative_returns[n] = (1 + sim_df.fillna(0)).cumprod()\n",
      "C:\\Users\\maris\\Downloads\\Fintech_P5M5-1bf4acc2d69b224c1384771893e8b26bdc73dabf\\Fintech_P5M5-1bf4acc2d69b224c1384771893e8b26bdc73dabf\\Starter_Code-5\\MCForecastTools.py:117: PerformanceWarning: DataFrame is highly fragmented.  This is usually the result of calling `frame.insert` many times, which has poor performance.  Consider joining all columns at once using pd.concat(axis=1) instead. To get a de-fragmented frame, use `newframe = frame.copy()`\n",
      "  portfolio_cumulative_returns[n] = (1 + sim_df.fillna(0)).cumprod()\n"
     ]
    },
    {
     "name": "stdout",
     "output_type": "stream",
     "text": [
      "Running Monte Carlo simulation number 420.\n"
     ]
    },
    {
     "name": "stderr",
     "output_type": "stream",
     "text": [
      "C:\\Users\\maris\\Downloads\\Fintech_P5M5-1bf4acc2d69b224c1384771893e8b26bdc73dabf\\Fintech_P5M5-1bf4acc2d69b224c1384771893e8b26bdc73dabf\\Starter_Code-5\\MCForecastTools.py:117: PerformanceWarning: DataFrame is highly fragmented.  This is usually the result of calling `frame.insert` many times, which has poor performance.  Consider joining all columns at once using pd.concat(axis=1) instead. To get a de-fragmented frame, use `newframe = frame.copy()`\n",
      "  portfolio_cumulative_returns[n] = (1 + sim_df.fillna(0)).cumprod()\n",
      "C:\\Users\\maris\\Downloads\\Fintech_P5M5-1bf4acc2d69b224c1384771893e8b26bdc73dabf\\Fintech_P5M5-1bf4acc2d69b224c1384771893e8b26bdc73dabf\\Starter_Code-5\\MCForecastTools.py:117: PerformanceWarning: DataFrame is highly fragmented.  This is usually the result of calling `frame.insert` many times, which has poor performance.  Consider joining all columns at once using pd.concat(axis=1) instead. To get a de-fragmented frame, use `newframe = frame.copy()`\n",
      "  portfolio_cumulative_returns[n] = (1 + sim_df.fillna(0)).cumprod()\n",
      "C:\\Users\\maris\\Downloads\\Fintech_P5M5-1bf4acc2d69b224c1384771893e8b26bdc73dabf\\Fintech_P5M5-1bf4acc2d69b224c1384771893e8b26bdc73dabf\\Starter_Code-5\\MCForecastTools.py:117: PerformanceWarning: DataFrame is highly fragmented.  This is usually the result of calling `frame.insert` many times, which has poor performance.  Consider joining all columns at once using pd.concat(axis=1) instead. To get a de-fragmented frame, use `newframe = frame.copy()`\n",
      "  portfolio_cumulative_returns[n] = (1 + sim_df.fillna(0)).cumprod()\n",
      "C:\\Users\\maris\\Downloads\\Fintech_P5M5-1bf4acc2d69b224c1384771893e8b26bdc73dabf\\Fintech_P5M5-1bf4acc2d69b224c1384771893e8b26bdc73dabf\\Starter_Code-5\\MCForecastTools.py:117: PerformanceWarning: DataFrame is highly fragmented.  This is usually the result of calling `frame.insert` many times, which has poor performance.  Consider joining all columns at once using pd.concat(axis=1) instead. To get a de-fragmented frame, use `newframe = frame.copy()`\n",
      "  portfolio_cumulative_returns[n] = (1 + sim_df.fillna(0)).cumprod()\n",
      "C:\\Users\\maris\\Downloads\\Fintech_P5M5-1bf4acc2d69b224c1384771893e8b26bdc73dabf\\Fintech_P5M5-1bf4acc2d69b224c1384771893e8b26bdc73dabf\\Starter_Code-5\\MCForecastTools.py:117: PerformanceWarning: DataFrame is highly fragmented.  This is usually the result of calling `frame.insert` many times, which has poor performance.  Consider joining all columns at once using pd.concat(axis=1) instead. To get a de-fragmented frame, use `newframe = frame.copy()`\n",
      "  portfolio_cumulative_returns[n] = (1 + sim_df.fillna(0)).cumprod()\n",
      "C:\\Users\\maris\\Downloads\\Fintech_P5M5-1bf4acc2d69b224c1384771893e8b26bdc73dabf\\Fintech_P5M5-1bf4acc2d69b224c1384771893e8b26bdc73dabf\\Starter_Code-5\\MCForecastTools.py:117: PerformanceWarning: DataFrame is highly fragmented.  This is usually the result of calling `frame.insert` many times, which has poor performance.  Consider joining all columns at once using pd.concat(axis=1) instead. To get a de-fragmented frame, use `newframe = frame.copy()`\n",
      "  portfolio_cumulative_returns[n] = (1 + sim_df.fillna(0)).cumprod()\n",
      "C:\\Users\\maris\\Downloads\\Fintech_P5M5-1bf4acc2d69b224c1384771893e8b26bdc73dabf\\Fintech_P5M5-1bf4acc2d69b224c1384771893e8b26bdc73dabf\\Starter_Code-5\\MCForecastTools.py:117: PerformanceWarning: DataFrame is highly fragmented.  This is usually the result of calling `frame.insert` many times, which has poor performance.  Consider joining all columns at once using pd.concat(axis=1) instead. To get a de-fragmented frame, use `newframe = frame.copy()`\n",
      "  portfolio_cumulative_returns[n] = (1 + sim_df.fillna(0)).cumprod()\n",
      "C:\\Users\\maris\\Downloads\\Fintech_P5M5-1bf4acc2d69b224c1384771893e8b26bdc73dabf\\Fintech_P5M5-1bf4acc2d69b224c1384771893e8b26bdc73dabf\\Starter_Code-5\\MCForecastTools.py:117: PerformanceWarning: DataFrame is highly fragmented.  This is usually the result of calling `frame.insert` many times, which has poor performance.  Consider joining all columns at once using pd.concat(axis=1) instead. To get a de-fragmented frame, use `newframe = frame.copy()`\n",
      "  portfolio_cumulative_returns[n] = (1 + sim_df.fillna(0)).cumprod()\n",
      "C:\\Users\\maris\\Downloads\\Fintech_P5M5-1bf4acc2d69b224c1384771893e8b26bdc73dabf\\Fintech_P5M5-1bf4acc2d69b224c1384771893e8b26bdc73dabf\\Starter_Code-5\\MCForecastTools.py:117: PerformanceWarning: DataFrame is highly fragmented.  This is usually the result of calling `frame.insert` many times, which has poor performance.  Consider joining all columns at once using pd.concat(axis=1) instead. To get a de-fragmented frame, use `newframe = frame.copy()`\n",
      "  portfolio_cumulative_returns[n] = (1 + sim_df.fillna(0)).cumprod()\n",
      "C:\\Users\\maris\\Downloads\\Fintech_P5M5-1bf4acc2d69b224c1384771893e8b26bdc73dabf\\Fintech_P5M5-1bf4acc2d69b224c1384771893e8b26bdc73dabf\\Starter_Code-5\\MCForecastTools.py:117: PerformanceWarning: DataFrame is highly fragmented.  This is usually the result of calling `frame.insert` many times, which has poor performance.  Consider joining all columns at once using pd.concat(axis=1) instead. To get a de-fragmented frame, use `newframe = frame.copy()`\n",
      "  portfolio_cumulative_returns[n] = (1 + sim_df.fillna(0)).cumprod()\n"
     ]
    },
    {
     "name": "stdout",
     "output_type": "stream",
     "text": [
      "Running Monte Carlo simulation number 430.\n"
     ]
    },
    {
     "name": "stderr",
     "output_type": "stream",
     "text": [
      "C:\\Users\\maris\\Downloads\\Fintech_P5M5-1bf4acc2d69b224c1384771893e8b26bdc73dabf\\Fintech_P5M5-1bf4acc2d69b224c1384771893e8b26bdc73dabf\\Starter_Code-5\\MCForecastTools.py:117: PerformanceWarning: DataFrame is highly fragmented.  This is usually the result of calling `frame.insert` many times, which has poor performance.  Consider joining all columns at once using pd.concat(axis=1) instead. To get a de-fragmented frame, use `newframe = frame.copy()`\n",
      "  portfolio_cumulative_returns[n] = (1 + sim_df.fillna(0)).cumprod()\n",
      "C:\\Users\\maris\\Downloads\\Fintech_P5M5-1bf4acc2d69b224c1384771893e8b26bdc73dabf\\Fintech_P5M5-1bf4acc2d69b224c1384771893e8b26bdc73dabf\\Starter_Code-5\\MCForecastTools.py:117: PerformanceWarning: DataFrame is highly fragmented.  This is usually the result of calling `frame.insert` many times, which has poor performance.  Consider joining all columns at once using pd.concat(axis=1) instead. To get a de-fragmented frame, use `newframe = frame.copy()`\n",
      "  portfolio_cumulative_returns[n] = (1 + sim_df.fillna(0)).cumprod()\n",
      "C:\\Users\\maris\\Downloads\\Fintech_P5M5-1bf4acc2d69b224c1384771893e8b26bdc73dabf\\Fintech_P5M5-1bf4acc2d69b224c1384771893e8b26bdc73dabf\\Starter_Code-5\\MCForecastTools.py:117: PerformanceWarning: DataFrame is highly fragmented.  This is usually the result of calling `frame.insert` many times, which has poor performance.  Consider joining all columns at once using pd.concat(axis=1) instead. To get a de-fragmented frame, use `newframe = frame.copy()`\n",
      "  portfolio_cumulative_returns[n] = (1 + sim_df.fillna(0)).cumprod()\n",
      "C:\\Users\\maris\\Downloads\\Fintech_P5M5-1bf4acc2d69b224c1384771893e8b26bdc73dabf\\Fintech_P5M5-1bf4acc2d69b224c1384771893e8b26bdc73dabf\\Starter_Code-5\\MCForecastTools.py:117: PerformanceWarning: DataFrame is highly fragmented.  This is usually the result of calling `frame.insert` many times, which has poor performance.  Consider joining all columns at once using pd.concat(axis=1) instead. To get a de-fragmented frame, use `newframe = frame.copy()`\n",
      "  portfolio_cumulative_returns[n] = (1 + sim_df.fillna(0)).cumprod()\n",
      "C:\\Users\\maris\\Downloads\\Fintech_P5M5-1bf4acc2d69b224c1384771893e8b26bdc73dabf\\Fintech_P5M5-1bf4acc2d69b224c1384771893e8b26bdc73dabf\\Starter_Code-5\\MCForecastTools.py:117: PerformanceWarning: DataFrame is highly fragmented.  This is usually the result of calling `frame.insert` many times, which has poor performance.  Consider joining all columns at once using pd.concat(axis=1) instead. To get a de-fragmented frame, use `newframe = frame.copy()`\n",
      "  portfolio_cumulative_returns[n] = (1 + sim_df.fillna(0)).cumprod()\n",
      "C:\\Users\\maris\\Downloads\\Fintech_P5M5-1bf4acc2d69b224c1384771893e8b26bdc73dabf\\Fintech_P5M5-1bf4acc2d69b224c1384771893e8b26bdc73dabf\\Starter_Code-5\\MCForecastTools.py:117: PerformanceWarning: DataFrame is highly fragmented.  This is usually the result of calling `frame.insert` many times, which has poor performance.  Consider joining all columns at once using pd.concat(axis=1) instead. To get a de-fragmented frame, use `newframe = frame.copy()`\n",
      "  portfolio_cumulative_returns[n] = (1 + sim_df.fillna(0)).cumprod()\n",
      "C:\\Users\\maris\\Downloads\\Fintech_P5M5-1bf4acc2d69b224c1384771893e8b26bdc73dabf\\Fintech_P5M5-1bf4acc2d69b224c1384771893e8b26bdc73dabf\\Starter_Code-5\\MCForecastTools.py:117: PerformanceWarning: DataFrame is highly fragmented.  This is usually the result of calling `frame.insert` many times, which has poor performance.  Consider joining all columns at once using pd.concat(axis=1) instead. To get a de-fragmented frame, use `newframe = frame.copy()`\n",
      "  portfolio_cumulative_returns[n] = (1 + sim_df.fillna(0)).cumprod()\n",
      "C:\\Users\\maris\\Downloads\\Fintech_P5M5-1bf4acc2d69b224c1384771893e8b26bdc73dabf\\Fintech_P5M5-1bf4acc2d69b224c1384771893e8b26bdc73dabf\\Starter_Code-5\\MCForecastTools.py:117: PerformanceWarning: DataFrame is highly fragmented.  This is usually the result of calling `frame.insert` many times, which has poor performance.  Consider joining all columns at once using pd.concat(axis=1) instead. To get a de-fragmented frame, use `newframe = frame.copy()`\n",
      "  portfolio_cumulative_returns[n] = (1 + sim_df.fillna(0)).cumprod()\n",
      "C:\\Users\\maris\\Downloads\\Fintech_P5M5-1bf4acc2d69b224c1384771893e8b26bdc73dabf\\Fintech_P5M5-1bf4acc2d69b224c1384771893e8b26bdc73dabf\\Starter_Code-5\\MCForecastTools.py:117: PerformanceWarning: DataFrame is highly fragmented.  This is usually the result of calling `frame.insert` many times, which has poor performance.  Consider joining all columns at once using pd.concat(axis=1) instead. To get a de-fragmented frame, use `newframe = frame.copy()`\n",
      "  portfolio_cumulative_returns[n] = (1 + sim_df.fillna(0)).cumprod()\n",
      "C:\\Users\\maris\\Downloads\\Fintech_P5M5-1bf4acc2d69b224c1384771893e8b26bdc73dabf\\Fintech_P5M5-1bf4acc2d69b224c1384771893e8b26bdc73dabf\\Starter_Code-5\\MCForecastTools.py:117: PerformanceWarning: DataFrame is highly fragmented.  This is usually the result of calling `frame.insert` many times, which has poor performance.  Consider joining all columns at once using pd.concat(axis=1) instead. To get a de-fragmented frame, use `newframe = frame.copy()`\n",
      "  portfolio_cumulative_returns[n] = (1 + sim_df.fillna(0)).cumprod()\n"
     ]
    },
    {
     "name": "stdout",
     "output_type": "stream",
     "text": [
      "Running Monte Carlo simulation number 440.\n"
     ]
    },
    {
     "name": "stderr",
     "output_type": "stream",
     "text": [
      "C:\\Users\\maris\\Downloads\\Fintech_P5M5-1bf4acc2d69b224c1384771893e8b26bdc73dabf\\Fintech_P5M5-1bf4acc2d69b224c1384771893e8b26bdc73dabf\\Starter_Code-5\\MCForecastTools.py:117: PerformanceWarning: DataFrame is highly fragmented.  This is usually the result of calling `frame.insert` many times, which has poor performance.  Consider joining all columns at once using pd.concat(axis=1) instead. To get a de-fragmented frame, use `newframe = frame.copy()`\n",
      "  portfolio_cumulative_returns[n] = (1 + sim_df.fillna(0)).cumprod()\n",
      "C:\\Users\\maris\\Downloads\\Fintech_P5M5-1bf4acc2d69b224c1384771893e8b26bdc73dabf\\Fintech_P5M5-1bf4acc2d69b224c1384771893e8b26bdc73dabf\\Starter_Code-5\\MCForecastTools.py:117: PerformanceWarning: DataFrame is highly fragmented.  This is usually the result of calling `frame.insert` many times, which has poor performance.  Consider joining all columns at once using pd.concat(axis=1) instead. To get a de-fragmented frame, use `newframe = frame.copy()`\n",
      "  portfolio_cumulative_returns[n] = (1 + sim_df.fillna(0)).cumprod()\n",
      "C:\\Users\\maris\\Downloads\\Fintech_P5M5-1bf4acc2d69b224c1384771893e8b26bdc73dabf\\Fintech_P5M5-1bf4acc2d69b224c1384771893e8b26bdc73dabf\\Starter_Code-5\\MCForecastTools.py:117: PerformanceWarning: DataFrame is highly fragmented.  This is usually the result of calling `frame.insert` many times, which has poor performance.  Consider joining all columns at once using pd.concat(axis=1) instead. To get a de-fragmented frame, use `newframe = frame.copy()`\n",
      "  portfolio_cumulative_returns[n] = (1 + sim_df.fillna(0)).cumprod()\n",
      "C:\\Users\\maris\\Downloads\\Fintech_P5M5-1bf4acc2d69b224c1384771893e8b26bdc73dabf\\Fintech_P5M5-1bf4acc2d69b224c1384771893e8b26bdc73dabf\\Starter_Code-5\\MCForecastTools.py:117: PerformanceWarning: DataFrame is highly fragmented.  This is usually the result of calling `frame.insert` many times, which has poor performance.  Consider joining all columns at once using pd.concat(axis=1) instead. To get a de-fragmented frame, use `newframe = frame.copy()`\n",
      "  portfolio_cumulative_returns[n] = (1 + sim_df.fillna(0)).cumprod()\n",
      "C:\\Users\\maris\\Downloads\\Fintech_P5M5-1bf4acc2d69b224c1384771893e8b26bdc73dabf\\Fintech_P5M5-1bf4acc2d69b224c1384771893e8b26bdc73dabf\\Starter_Code-5\\MCForecastTools.py:117: PerformanceWarning: DataFrame is highly fragmented.  This is usually the result of calling `frame.insert` many times, which has poor performance.  Consider joining all columns at once using pd.concat(axis=1) instead. To get a de-fragmented frame, use `newframe = frame.copy()`\n",
      "  portfolio_cumulative_returns[n] = (1 + sim_df.fillna(0)).cumprod()\n",
      "C:\\Users\\maris\\Downloads\\Fintech_P5M5-1bf4acc2d69b224c1384771893e8b26bdc73dabf\\Fintech_P5M5-1bf4acc2d69b224c1384771893e8b26bdc73dabf\\Starter_Code-5\\MCForecastTools.py:117: PerformanceWarning: DataFrame is highly fragmented.  This is usually the result of calling `frame.insert` many times, which has poor performance.  Consider joining all columns at once using pd.concat(axis=1) instead. To get a de-fragmented frame, use `newframe = frame.copy()`\n",
      "  portfolio_cumulative_returns[n] = (1 + sim_df.fillna(0)).cumprod()\n",
      "C:\\Users\\maris\\Downloads\\Fintech_P5M5-1bf4acc2d69b224c1384771893e8b26bdc73dabf\\Fintech_P5M5-1bf4acc2d69b224c1384771893e8b26bdc73dabf\\Starter_Code-5\\MCForecastTools.py:117: PerformanceWarning: DataFrame is highly fragmented.  This is usually the result of calling `frame.insert` many times, which has poor performance.  Consider joining all columns at once using pd.concat(axis=1) instead. To get a de-fragmented frame, use `newframe = frame.copy()`\n",
      "  portfolio_cumulative_returns[n] = (1 + sim_df.fillna(0)).cumprod()\n",
      "C:\\Users\\maris\\Downloads\\Fintech_P5M5-1bf4acc2d69b224c1384771893e8b26bdc73dabf\\Fintech_P5M5-1bf4acc2d69b224c1384771893e8b26bdc73dabf\\Starter_Code-5\\MCForecastTools.py:117: PerformanceWarning: DataFrame is highly fragmented.  This is usually the result of calling `frame.insert` many times, which has poor performance.  Consider joining all columns at once using pd.concat(axis=1) instead. To get a de-fragmented frame, use `newframe = frame.copy()`\n",
      "  portfolio_cumulative_returns[n] = (1 + sim_df.fillna(0)).cumprod()\n",
      "C:\\Users\\maris\\Downloads\\Fintech_P5M5-1bf4acc2d69b224c1384771893e8b26bdc73dabf\\Fintech_P5M5-1bf4acc2d69b224c1384771893e8b26bdc73dabf\\Starter_Code-5\\MCForecastTools.py:117: PerformanceWarning: DataFrame is highly fragmented.  This is usually the result of calling `frame.insert` many times, which has poor performance.  Consider joining all columns at once using pd.concat(axis=1) instead. To get a de-fragmented frame, use `newframe = frame.copy()`\n",
      "  portfolio_cumulative_returns[n] = (1 + sim_df.fillna(0)).cumprod()\n",
      "C:\\Users\\maris\\Downloads\\Fintech_P5M5-1bf4acc2d69b224c1384771893e8b26bdc73dabf\\Fintech_P5M5-1bf4acc2d69b224c1384771893e8b26bdc73dabf\\Starter_Code-5\\MCForecastTools.py:117: PerformanceWarning: DataFrame is highly fragmented.  This is usually the result of calling `frame.insert` many times, which has poor performance.  Consider joining all columns at once using pd.concat(axis=1) instead. To get a de-fragmented frame, use `newframe = frame.copy()`\n",
      "  portfolio_cumulative_returns[n] = (1 + sim_df.fillna(0)).cumprod()\n"
     ]
    },
    {
     "name": "stdout",
     "output_type": "stream",
     "text": [
      "Running Monte Carlo simulation number 450.\n"
     ]
    },
    {
     "name": "stderr",
     "output_type": "stream",
     "text": [
      "C:\\Users\\maris\\Downloads\\Fintech_P5M5-1bf4acc2d69b224c1384771893e8b26bdc73dabf\\Fintech_P5M5-1bf4acc2d69b224c1384771893e8b26bdc73dabf\\Starter_Code-5\\MCForecastTools.py:117: PerformanceWarning: DataFrame is highly fragmented.  This is usually the result of calling `frame.insert` many times, which has poor performance.  Consider joining all columns at once using pd.concat(axis=1) instead. To get a de-fragmented frame, use `newframe = frame.copy()`\n",
      "  portfolio_cumulative_returns[n] = (1 + sim_df.fillna(0)).cumprod()\n",
      "C:\\Users\\maris\\Downloads\\Fintech_P5M5-1bf4acc2d69b224c1384771893e8b26bdc73dabf\\Fintech_P5M5-1bf4acc2d69b224c1384771893e8b26bdc73dabf\\Starter_Code-5\\MCForecastTools.py:117: PerformanceWarning: DataFrame is highly fragmented.  This is usually the result of calling `frame.insert` many times, which has poor performance.  Consider joining all columns at once using pd.concat(axis=1) instead. To get a de-fragmented frame, use `newframe = frame.copy()`\n",
      "  portfolio_cumulative_returns[n] = (1 + sim_df.fillna(0)).cumprod()\n",
      "C:\\Users\\maris\\Downloads\\Fintech_P5M5-1bf4acc2d69b224c1384771893e8b26bdc73dabf\\Fintech_P5M5-1bf4acc2d69b224c1384771893e8b26bdc73dabf\\Starter_Code-5\\MCForecastTools.py:117: PerformanceWarning: DataFrame is highly fragmented.  This is usually the result of calling `frame.insert` many times, which has poor performance.  Consider joining all columns at once using pd.concat(axis=1) instead. To get a de-fragmented frame, use `newframe = frame.copy()`\n",
      "  portfolio_cumulative_returns[n] = (1 + sim_df.fillna(0)).cumprod()\n",
      "C:\\Users\\maris\\Downloads\\Fintech_P5M5-1bf4acc2d69b224c1384771893e8b26bdc73dabf\\Fintech_P5M5-1bf4acc2d69b224c1384771893e8b26bdc73dabf\\Starter_Code-5\\MCForecastTools.py:117: PerformanceWarning: DataFrame is highly fragmented.  This is usually the result of calling `frame.insert` many times, which has poor performance.  Consider joining all columns at once using pd.concat(axis=1) instead. To get a de-fragmented frame, use `newframe = frame.copy()`\n",
      "  portfolio_cumulative_returns[n] = (1 + sim_df.fillna(0)).cumprod()\n",
      "C:\\Users\\maris\\Downloads\\Fintech_P5M5-1bf4acc2d69b224c1384771893e8b26bdc73dabf\\Fintech_P5M5-1bf4acc2d69b224c1384771893e8b26bdc73dabf\\Starter_Code-5\\MCForecastTools.py:117: PerformanceWarning: DataFrame is highly fragmented.  This is usually the result of calling `frame.insert` many times, which has poor performance.  Consider joining all columns at once using pd.concat(axis=1) instead. To get a de-fragmented frame, use `newframe = frame.copy()`\n",
      "  portfolio_cumulative_returns[n] = (1 + sim_df.fillna(0)).cumprod()\n",
      "C:\\Users\\maris\\Downloads\\Fintech_P5M5-1bf4acc2d69b224c1384771893e8b26bdc73dabf\\Fintech_P5M5-1bf4acc2d69b224c1384771893e8b26bdc73dabf\\Starter_Code-5\\MCForecastTools.py:117: PerformanceWarning: DataFrame is highly fragmented.  This is usually the result of calling `frame.insert` many times, which has poor performance.  Consider joining all columns at once using pd.concat(axis=1) instead. To get a de-fragmented frame, use `newframe = frame.copy()`\n",
      "  portfolio_cumulative_returns[n] = (1 + sim_df.fillna(0)).cumprod()\n",
      "C:\\Users\\maris\\Downloads\\Fintech_P5M5-1bf4acc2d69b224c1384771893e8b26bdc73dabf\\Fintech_P5M5-1bf4acc2d69b224c1384771893e8b26bdc73dabf\\Starter_Code-5\\MCForecastTools.py:117: PerformanceWarning: DataFrame is highly fragmented.  This is usually the result of calling `frame.insert` many times, which has poor performance.  Consider joining all columns at once using pd.concat(axis=1) instead. To get a de-fragmented frame, use `newframe = frame.copy()`\n",
      "  portfolio_cumulative_returns[n] = (1 + sim_df.fillna(0)).cumprod()\n",
      "C:\\Users\\maris\\Downloads\\Fintech_P5M5-1bf4acc2d69b224c1384771893e8b26bdc73dabf\\Fintech_P5M5-1bf4acc2d69b224c1384771893e8b26bdc73dabf\\Starter_Code-5\\MCForecastTools.py:117: PerformanceWarning: DataFrame is highly fragmented.  This is usually the result of calling `frame.insert` many times, which has poor performance.  Consider joining all columns at once using pd.concat(axis=1) instead. To get a de-fragmented frame, use `newframe = frame.copy()`\n",
      "  portfolio_cumulative_returns[n] = (1 + sim_df.fillna(0)).cumprod()\n",
      "C:\\Users\\maris\\Downloads\\Fintech_P5M5-1bf4acc2d69b224c1384771893e8b26bdc73dabf\\Fintech_P5M5-1bf4acc2d69b224c1384771893e8b26bdc73dabf\\Starter_Code-5\\MCForecastTools.py:117: PerformanceWarning: DataFrame is highly fragmented.  This is usually the result of calling `frame.insert` many times, which has poor performance.  Consider joining all columns at once using pd.concat(axis=1) instead. To get a de-fragmented frame, use `newframe = frame.copy()`\n",
      "  portfolio_cumulative_returns[n] = (1 + sim_df.fillna(0)).cumprod()\n",
      "C:\\Users\\maris\\Downloads\\Fintech_P5M5-1bf4acc2d69b224c1384771893e8b26bdc73dabf\\Fintech_P5M5-1bf4acc2d69b224c1384771893e8b26bdc73dabf\\Starter_Code-5\\MCForecastTools.py:117: PerformanceWarning: DataFrame is highly fragmented.  This is usually the result of calling `frame.insert` many times, which has poor performance.  Consider joining all columns at once using pd.concat(axis=1) instead. To get a de-fragmented frame, use `newframe = frame.copy()`\n",
      "  portfolio_cumulative_returns[n] = (1 + sim_df.fillna(0)).cumprod()\n"
     ]
    },
    {
     "name": "stdout",
     "output_type": "stream",
     "text": [
      "Running Monte Carlo simulation number 460.\n"
     ]
    },
    {
     "name": "stderr",
     "output_type": "stream",
     "text": [
      "C:\\Users\\maris\\Downloads\\Fintech_P5M5-1bf4acc2d69b224c1384771893e8b26bdc73dabf\\Fintech_P5M5-1bf4acc2d69b224c1384771893e8b26bdc73dabf\\Starter_Code-5\\MCForecastTools.py:117: PerformanceWarning: DataFrame is highly fragmented.  This is usually the result of calling `frame.insert` many times, which has poor performance.  Consider joining all columns at once using pd.concat(axis=1) instead. To get a de-fragmented frame, use `newframe = frame.copy()`\n",
      "  portfolio_cumulative_returns[n] = (1 + sim_df.fillna(0)).cumprod()\n",
      "C:\\Users\\maris\\Downloads\\Fintech_P5M5-1bf4acc2d69b224c1384771893e8b26bdc73dabf\\Fintech_P5M5-1bf4acc2d69b224c1384771893e8b26bdc73dabf\\Starter_Code-5\\MCForecastTools.py:117: PerformanceWarning: DataFrame is highly fragmented.  This is usually the result of calling `frame.insert` many times, which has poor performance.  Consider joining all columns at once using pd.concat(axis=1) instead. To get a de-fragmented frame, use `newframe = frame.copy()`\n",
      "  portfolio_cumulative_returns[n] = (1 + sim_df.fillna(0)).cumprod()\n",
      "C:\\Users\\maris\\Downloads\\Fintech_P5M5-1bf4acc2d69b224c1384771893e8b26bdc73dabf\\Fintech_P5M5-1bf4acc2d69b224c1384771893e8b26bdc73dabf\\Starter_Code-5\\MCForecastTools.py:117: PerformanceWarning: DataFrame is highly fragmented.  This is usually the result of calling `frame.insert` many times, which has poor performance.  Consider joining all columns at once using pd.concat(axis=1) instead. To get a de-fragmented frame, use `newframe = frame.copy()`\n",
      "  portfolio_cumulative_returns[n] = (1 + sim_df.fillna(0)).cumprod()\n",
      "C:\\Users\\maris\\Downloads\\Fintech_P5M5-1bf4acc2d69b224c1384771893e8b26bdc73dabf\\Fintech_P5M5-1bf4acc2d69b224c1384771893e8b26bdc73dabf\\Starter_Code-5\\MCForecastTools.py:117: PerformanceWarning: DataFrame is highly fragmented.  This is usually the result of calling `frame.insert` many times, which has poor performance.  Consider joining all columns at once using pd.concat(axis=1) instead. To get a de-fragmented frame, use `newframe = frame.copy()`\n",
      "  portfolio_cumulative_returns[n] = (1 + sim_df.fillna(0)).cumprod()\n",
      "C:\\Users\\maris\\Downloads\\Fintech_P5M5-1bf4acc2d69b224c1384771893e8b26bdc73dabf\\Fintech_P5M5-1bf4acc2d69b224c1384771893e8b26bdc73dabf\\Starter_Code-5\\MCForecastTools.py:117: PerformanceWarning: DataFrame is highly fragmented.  This is usually the result of calling `frame.insert` many times, which has poor performance.  Consider joining all columns at once using pd.concat(axis=1) instead. To get a de-fragmented frame, use `newframe = frame.copy()`\n",
      "  portfolio_cumulative_returns[n] = (1 + sim_df.fillna(0)).cumprod()\n",
      "C:\\Users\\maris\\Downloads\\Fintech_P5M5-1bf4acc2d69b224c1384771893e8b26bdc73dabf\\Fintech_P5M5-1bf4acc2d69b224c1384771893e8b26bdc73dabf\\Starter_Code-5\\MCForecastTools.py:117: PerformanceWarning: DataFrame is highly fragmented.  This is usually the result of calling `frame.insert` many times, which has poor performance.  Consider joining all columns at once using pd.concat(axis=1) instead. To get a de-fragmented frame, use `newframe = frame.copy()`\n",
      "  portfolio_cumulative_returns[n] = (1 + sim_df.fillna(0)).cumprod()\n",
      "C:\\Users\\maris\\Downloads\\Fintech_P5M5-1bf4acc2d69b224c1384771893e8b26bdc73dabf\\Fintech_P5M5-1bf4acc2d69b224c1384771893e8b26bdc73dabf\\Starter_Code-5\\MCForecastTools.py:117: PerformanceWarning: DataFrame is highly fragmented.  This is usually the result of calling `frame.insert` many times, which has poor performance.  Consider joining all columns at once using pd.concat(axis=1) instead. To get a de-fragmented frame, use `newframe = frame.copy()`\n",
      "  portfolio_cumulative_returns[n] = (1 + sim_df.fillna(0)).cumprod()\n",
      "C:\\Users\\maris\\Downloads\\Fintech_P5M5-1bf4acc2d69b224c1384771893e8b26bdc73dabf\\Fintech_P5M5-1bf4acc2d69b224c1384771893e8b26bdc73dabf\\Starter_Code-5\\MCForecastTools.py:117: PerformanceWarning: DataFrame is highly fragmented.  This is usually the result of calling `frame.insert` many times, which has poor performance.  Consider joining all columns at once using pd.concat(axis=1) instead. To get a de-fragmented frame, use `newframe = frame.copy()`\n",
      "  portfolio_cumulative_returns[n] = (1 + sim_df.fillna(0)).cumprod()\n",
      "C:\\Users\\maris\\Downloads\\Fintech_P5M5-1bf4acc2d69b224c1384771893e8b26bdc73dabf\\Fintech_P5M5-1bf4acc2d69b224c1384771893e8b26bdc73dabf\\Starter_Code-5\\MCForecastTools.py:117: PerformanceWarning: DataFrame is highly fragmented.  This is usually the result of calling `frame.insert` many times, which has poor performance.  Consider joining all columns at once using pd.concat(axis=1) instead. To get a de-fragmented frame, use `newframe = frame.copy()`\n",
      "  portfolio_cumulative_returns[n] = (1 + sim_df.fillna(0)).cumprod()\n",
      "C:\\Users\\maris\\Downloads\\Fintech_P5M5-1bf4acc2d69b224c1384771893e8b26bdc73dabf\\Fintech_P5M5-1bf4acc2d69b224c1384771893e8b26bdc73dabf\\Starter_Code-5\\MCForecastTools.py:117: PerformanceWarning: DataFrame is highly fragmented.  This is usually the result of calling `frame.insert` many times, which has poor performance.  Consider joining all columns at once using pd.concat(axis=1) instead. To get a de-fragmented frame, use `newframe = frame.copy()`\n",
      "  portfolio_cumulative_returns[n] = (1 + sim_df.fillna(0)).cumprod()\n"
     ]
    },
    {
     "name": "stdout",
     "output_type": "stream",
     "text": [
      "Running Monte Carlo simulation number 470.\n"
     ]
    },
    {
     "name": "stderr",
     "output_type": "stream",
     "text": [
      "C:\\Users\\maris\\Downloads\\Fintech_P5M5-1bf4acc2d69b224c1384771893e8b26bdc73dabf\\Fintech_P5M5-1bf4acc2d69b224c1384771893e8b26bdc73dabf\\Starter_Code-5\\MCForecastTools.py:117: PerformanceWarning: DataFrame is highly fragmented.  This is usually the result of calling `frame.insert` many times, which has poor performance.  Consider joining all columns at once using pd.concat(axis=1) instead. To get a de-fragmented frame, use `newframe = frame.copy()`\n",
      "  portfolio_cumulative_returns[n] = (1 + sim_df.fillna(0)).cumprod()\n",
      "C:\\Users\\maris\\Downloads\\Fintech_P5M5-1bf4acc2d69b224c1384771893e8b26bdc73dabf\\Fintech_P5M5-1bf4acc2d69b224c1384771893e8b26bdc73dabf\\Starter_Code-5\\MCForecastTools.py:117: PerformanceWarning: DataFrame is highly fragmented.  This is usually the result of calling `frame.insert` many times, which has poor performance.  Consider joining all columns at once using pd.concat(axis=1) instead. To get a de-fragmented frame, use `newframe = frame.copy()`\n",
      "  portfolio_cumulative_returns[n] = (1 + sim_df.fillna(0)).cumprod()\n",
      "C:\\Users\\maris\\Downloads\\Fintech_P5M5-1bf4acc2d69b224c1384771893e8b26bdc73dabf\\Fintech_P5M5-1bf4acc2d69b224c1384771893e8b26bdc73dabf\\Starter_Code-5\\MCForecastTools.py:117: PerformanceWarning: DataFrame is highly fragmented.  This is usually the result of calling `frame.insert` many times, which has poor performance.  Consider joining all columns at once using pd.concat(axis=1) instead. To get a de-fragmented frame, use `newframe = frame.copy()`\n",
      "  portfolio_cumulative_returns[n] = (1 + sim_df.fillna(0)).cumprod()\n",
      "C:\\Users\\maris\\Downloads\\Fintech_P5M5-1bf4acc2d69b224c1384771893e8b26bdc73dabf\\Fintech_P5M5-1bf4acc2d69b224c1384771893e8b26bdc73dabf\\Starter_Code-5\\MCForecastTools.py:117: PerformanceWarning: DataFrame is highly fragmented.  This is usually the result of calling `frame.insert` many times, which has poor performance.  Consider joining all columns at once using pd.concat(axis=1) instead. To get a de-fragmented frame, use `newframe = frame.copy()`\n",
      "  portfolio_cumulative_returns[n] = (1 + sim_df.fillna(0)).cumprod()\n",
      "C:\\Users\\maris\\Downloads\\Fintech_P5M5-1bf4acc2d69b224c1384771893e8b26bdc73dabf\\Fintech_P5M5-1bf4acc2d69b224c1384771893e8b26bdc73dabf\\Starter_Code-5\\MCForecastTools.py:117: PerformanceWarning: DataFrame is highly fragmented.  This is usually the result of calling `frame.insert` many times, which has poor performance.  Consider joining all columns at once using pd.concat(axis=1) instead. To get a de-fragmented frame, use `newframe = frame.copy()`\n",
      "  portfolio_cumulative_returns[n] = (1 + sim_df.fillna(0)).cumprod()\n",
      "C:\\Users\\maris\\Downloads\\Fintech_P5M5-1bf4acc2d69b224c1384771893e8b26bdc73dabf\\Fintech_P5M5-1bf4acc2d69b224c1384771893e8b26bdc73dabf\\Starter_Code-5\\MCForecastTools.py:117: PerformanceWarning: DataFrame is highly fragmented.  This is usually the result of calling `frame.insert` many times, which has poor performance.  Consider joining all columns at once using pd.concat(axis=1) instead. To get a de-fragmented frame, use `newframe = frame.copy()`\n",
      "  portfolio_cumulative_returns[n] = (1 + sim_df.fillna(0)).cumprod()\n",
      "C:\\Users\\maris\\Downloads\\Fintech_P5M5-1bf4acc2d69b224c1384771893e8b26bdc73dabf\\Fintech_P5M5-1bf4acc2d69b224c1384771893e8b26bdc73dabf\\Starter_Code-5\\MCForecastTools.py:117: PerformanceWarning: DataFrame is highly fragmented.  This is usually the result of calling `frame.insert` many times, which has poor performance.  Consider joining all columns at once using pd.concat(axis=1) instead. To get a de-fragmented frame, use `newframe = frame.copy()`\n",
      "  portfolio_cumulative_returns[n] = (1 + sim_df.fillna(0)).cumprod()\n",
      "C:\\Users\\maris\\Downloads\\Fintech_P5M5-1bf4acc2d69b224c1384771893e8b26bdc73dabf\\Fintech_P5M5-1bf4acc2d69b224c1384771893e8b26bdc73dabf\\Starter_Code-5\\MCForecastTools.py:117: PerformanceWarning: DataFrame is highly fragmented.  This is usually the result of calling `frame.insert` many times, which has poor performance.  Consider joining all columns at once using pd.concat(axis=1) instead. To get a de-fragmented frame, use `newframe = frame.copy()`\n",
      "  portfolio_cumulative_returns[n] = (1 + sim_df.fillna(0)).cumprod()\n",
      "C:\\Users\\maris\\Downloads\\Fintech_P5M5-1bf4acc2d69b224c1384771893e8b26bdc73dabf\\Fintech_P5M5-1bf4acc2d69b224c1384771893e8b26bdc73dabf\\Starter_Code-5\\MCForecastTools.py:117: PerformanceWarning: DataFrame is highly fragmented.  This is usually the result of calling `frame.insert` many times, which has poor performance.  Consider joining all columns at once using pd.concat(axis=1) instead. To get a de-fragmented frame, use `newframe = frame.copy()`\n",
      "  portfolio_cumulative_returns[n] = (1 + sim_df.fillna(0)).cumprod()\n",
      "C:\\Users\\maris\\Downloads\\Fintech_P5M5-1bf4acc2d69b224c1384771893e8b26bdc73dabf\\Fintech_P5M5-1bf4acc2d69b224c1384771893e8b26bdc73dabf\\Starter_Code-5\\MCForecastTools.py:117: PerformanceWarning: DataFrame is highly fragmented.  This is usually the result of calling `frame.insert` many times, which has poor performance.  Consider joining all columns at once using pd.concat(axis=1) instead. To get a de-fragmented frame, use `newframe = frame.copy()`\n",
      "  portfolio_cumulative_returns[n] = (1 + sim_df.fillna(0)).cumprod()\n"
     ]
    },
    {
     "name": "stdout",
     "output_type": "stream",
     "text": [
      "Running Monte Carlo simulation number 480.\n"
     ]
    },
    {
     "name": "stderr",
     "output_type": "stream",
     "text": [
      "C:\\Users\\maris\\Downloads\\Fintech_P5M5-1bf4acc2d69b224c1384771893e8b26bdc73dabf\\Fintech_P5M5-1bf4acc2d69b224c1384771893e8b26bdc73dabf\\Starter_Code-5\\MCForecastTools.py:117: PerformanceWarning: DataFrame is highly fragmented.  This is usually the result of calling `frame.insert` many times, which has poor performance.  Consider joining all columns at once using pd.concat(axis=1) instead. To get a de-fragmented frame, use `newframe = frame.copy()`\n",
      "  portfolio_cumulative_returns[n] = (1 + sim_df.fillna(0)).cumprod()\n",
      "C:\\Users\\maris\\Downloads\\Fintech_P5M5-1bf4acc2d69b224c1384771893e8b26bdc73dabf\\Fintech_P5M5-1bf4acc2d69b224c1384771893e8b26bdc73dabf\\Starter_Code-5\\MCForecastTools.py:117: PerformanceWarning: DataFrame is highly fragmented.  This is usually the result of calling `frame.insert` many times, which has poor performance.  Consider joining all columns at once using pd.concat(axis=1) instead. To get a de-fragmented frame, use `newframe = frame.copy()`\n",
      "  portfolio_cumulative_returns[n] = (1 + sim_df.fillna(0)).cumprod()\n",
      "C:\\Users\\maris\\Downloads\\Fintech_P5M5-1bf4acc2d69b224c1384771893e8b26bdc73dabf\\Fintech_P5M5-1bf4acc2d69b224c1384771893e8b26bdc73dabf\\Starter_Code-5\\MCForecastTools.py:117: PerformanceWarning: DataFrame is highly fragmented.  This is usually the result of calling `frame.insert` many times, which has poor performance.  Consider joining all columns at once using pd.concat(axis=1) instead. To get a de-fragmented frame, use `newframe = frame.copy()`\n",
      "  portfolio_cumulative_returns[n] = (1 + sim_df.fillna(0)).cumprod()\n",
      "C:\\Users\\maris\\Downloads\\Fintech_P5M5-1bf4acc2d69b224c1384771893e8b26bdc73dabf\\Fintech_P5M5-1bf4acc2d69b224c1384771893e8b26bdc73dabf\\Starter_Code-5\\MCForecastTools.py:117: PerformanceWarning: DataFrame is highly fragmented.  This is usually the result of calling `frame.insert` many times, which has poor performance.  Consider joining all columns at once using pd.concat(axis=1) instead. To get a de-fragmented frame, use `newframe = frame.copy()`\n",
      "  portfolio_cumulative_returns[n] = (1 + sim_df.fillna(0)).cumprod()\n",
      "C:\\Users\\maris\\Downloads\\Fintech_P5M5-1bf4acc2d69b224c1384771893e8b26bdc73dabf\\Fintech_P5M5-1bf4acc2d69b224c1384771893e8b26bdc73dabf\\Starter_Code-5\\MCForecastTools.py:117: PerformanceWarning: DataFrame is highly fragmented.  This is usually the result of calling `frame.insert` many times, which has poor performance.  Consider joining all columns at once using pd.concat(axis=1) instead. To get a de-fragmented frame, use `newframe = frame.copy()`\n",
      "  portfolio_cumulative_returns[n] = (1 + sim_df.fillna(0)).cumprod()\n",
      "C:\\Users\\maris\\Downloads\\Fintech_P5M5-1bf4acc2d69b224c1384771893e8b26bdc73dabf\\Fintech_P5M5-1bf4acc2d69b224c1384771893e8b26bdc73dabf\\Starter_Code-5\\MCForecastTools.py:117: PerformanceWarning: DataFrame is highly fragmented.  This is usually the result of calling `frame.insert` many times, which has poor performance.  Consider joining all columns at once using pd.concat(axis=1) instead. To get a de-fragmented frame, use `newframe = frame.copy()`\n",
      "  portfolio_cumulative_returns[n] = (1 + sim_df.fillna(0)).cumprod()\n",
      "C:\\Users\\maris\\Downloads\\Fintech_P5M5-1bf4acc2d69b224c1384771893e8b26bdc73dabf\\Fintech_P5M5-1bf4acc2d69b224c1384771893e8b26bdc73dabf\\Starter_Code-5\\MCForecastTools.py:117: PerformanceWarning: DataFrame is highly fragmented.  This is usually the result of calling `frame.insert` many times, which has poor performance.  Consider joining all columns at once using pd.concat(axis=1) instead. To get a de-fragmented frame, use `newframe = frame.copy()`\n",
      "  portfolio_cumulative_returns[n] = (1 + sim_df.fillna(0)).cumprod()\n",
      "C:\\Users\\maris\\Downloads\\Fintech_P5M5-1bf4acc2d69b224c1384771893e8b26bdc73dabf\\Fintech_P5M5-1bf4acc2d69b224c1384771893e8b26bdc73dabf\\Starter_Code-5\\MCForecastTools.py:117: PerformanceWarning: DataFrame is highly fragmented.  This is usually the result of calling `frame.insert` many times, which has poor performance.  Consider joining all columns at once using pd.concat(axis=1) instead. To get a de-fragmented frame, use `newframe = frame.copy()`\n",
      "  portfolio_cumulative_returns[n] = (1 + sim_df.fillna(0)).cumprod()\n",
      "C:\\Users\\maris\\Downloads\\Fintech_P5M5-1bf4acc2d69b224c1384771893e8b26bdc73dabf\\Fintech_P5M5-1bf4acc2d69b224c1384771893e8b26bdc73dabf\\Starter_Code-5\\MCForecastTools.py:117: PerformanceWarning: DataFrame is highly fragmented.  This is usually the result of calling `frame.insert` many times, which has poor performance.  Consider joining all columns at once using pd.concat(axis=1) instead. To get a de-fragmented frame, use `newframe = frame.copy()`\n",
      "  portfolio_cumulative_returns[n] = (1 + sim_df.fillna(0)).cumprod()\n",
      "C:\\Users\\maris\\Downloads\\Fintech_P5M5-1bf4acc2d69b224c1384771893e8b26bdc73dabf\\Fintech_P5M5-1bf4acc2d69b224c1384771893e8b26bdc73dabf\\Starter_Code-5\\MCForecastTools.py:117: PerformanceWarning: DataFrame is highly fragmented.  This is usually the result of calling `frame.insert` many times, which has poor performance.  Consider joining all columns at once using pd.concat(axis=1) instead. To get a de-fragmented frame, use `newframe = frame.copy()`\n",
      "  portfolio_cumulative_returns[n] = (1 + sim_df.fillna(0)).cumprod()\n"
     ]
    },
    {
     "name": "stdout",
     "output_type": "stream",
     "text": [
      "Running Monte Carlo simulation number 490.\n"
     ]
    },
    {
     "name": "stderr",
     "output_type": "stream",
     "text": [
      "C:\\Users\\maris\\Downloads\\Fintech_P5M5-1bf4acc2d69b224c1384771893e8b26bdc73dabf\\Fintech_P5M5-1bf4acc2d69b224c1384771893e8b26bdc73dabf\\Starter_Code-5\\MCForecastTools.py:117: PerformanceWarning: DataFrame is highly fragmented.  This is usually the result of calling `frame.insert` many times, which has poor performance.  Consider joining all columns at once using pd.concat(axis=1) instead. To get a de-fragmented frame, use `newframe = frame.copy()`\n",
      "  portfolio_cumulative_returns[n] = (1 + sim_df.fillna(0)).cumprod()\n",
      "C:\\Users\\maris\\Downloads\\Fintech_P5M5-1bf4acc2d69b224c1384771893e8b26bdc73dabf\\Fintech_P5M5-1bf4acc2d69b224c1384771893e8b26bdc73dabf\\Starter_Code-5\\MCForecastTools.py:117: PerformanceWarning: DataFrame is highly fragmented.  This is usually the result of calling `frame.insert` many times, which has poor performance.  Consider joining all columns at once using pd.concat(axis=1) instead. To get a de-fragmented frame, use `newframe = frame.copy()`\n",
      "  portfolio_cumulative_returns[n] = (1 + sim_df.fillna(0)).cumprod()\n",
      "C:\\Users\\maris\\Downloads\\Fintech_P5M5-1bf4acc2d69b224c1384771893e8b26bdc73dabf\\Fintech_P5M5-1bf4acc2d69b224c1384771893e8b26bdc73dabf\\Starter_Code-5\\MCForecastTools.py:117: PerformanceWarning: DataFrame is highly fragmented.  This is usually the result of calling `frame.insert` many times, which has poor performance.  Consider joining all columns at once using pd.concat(axis=1) instead. To get a de-fragmented frame, use `newframe = frame.copy()`\n",
      "  portfolio_cumulative_returns[n] = (1 + sim_df.fillna(0)).cumprod()\n",
      "C:\\Users\\maris\\Downloads\\Fintech_P5M5-1bf4acc2d69b224c1384771893e8b26bdc73dabf\\Fintech_P5M5-1bf4acc2d69b224c1384771893e8b26bdc73dabf\\Starter_Code-5\\MCForecastTools.py:117: PerformanceWarning: DataFrame is highly fragmented.  This is usually the result of calling `frame.insert` many times, which has poor performance.  Consider joining all columns at once using pd.concat(axis=1) instead. To get a de-fragmented frame, use `newframe = frame.copy()`\n",
      "  portfolio_cumulative_returns[n] = (1 + sim_df.fillna(0)).cumprod()\n",
      "C:\\Users\\maris\\Downloads\\Fintech_P5M5-1bf4acc2d69b224c1384771893e8b26bdc73dabf\\Fintech_P5M5-1bf4acc2d69b224c1384771893e8b26bdc73dabf\\Starter_Code-5\\MCForecastTools.py:117: PerformanceWarning: DataFrame is highly fragmented.  This is usually the result of calling `frame.insert` many times, which has poor performance.  Consider joining all columns at once using pd.concat(axis=1) instead. To get a de-fragmented frame, use `newframe = frame.copy()`\n",
      "  portfolio_cumulative_returns[n] = (1 + sim_df.fillna(0)).cumprod()\n",
      "C:\\Users\\maris\\Downloads\\Fintech_P5M5-1bf4acc2d69b224c1384771893e8b26bdc73dabf\\Fintech_P5M5-1bf4acc2d69b224c1384771893e8b26bdc73dabf\\Starter_Code-5\\MCForecastTools.py:117: PerformanceWarning: DataFrame is highly fragmented.  This is usually the result of calling `frame.insert` many times, which has poor performance.  Consider joining all columns at once using pd.concat(axis=1) instead. To get a de-fragmented frame, use `newframe = frame.copy()`\n",
      "  portfolio_cumulative_returns[n] = (1 + sim_df.fillna(0)).cumprod()\n",
      "C:\\Users\\maris\\Downloads\\Fintech_P5M5-1bf4acc2d69b224c1384771893e8b26bdc73dabf\\Fintech_P5M5-1bf4acc2d69b224c1384771893e8b26bdc73dabf\\Starter_Code-5\\MCForecastTools.py:117: PerformanceWarning: DataFrame is highly fragmented.  This is usually the result of calling `frame.insert` many times, which has poor performance.  Consider joining all columns at once using pd.concat(axis=1) instead. To get a de-fragmented frame, use `newframe = frame.copy()`\n",
      "  portfolio_cumulative_returns[n] = (1 + sim_df.fillna(0)).cumprod()\n",
      "C:\\Users\\maris\\Downloads\\Fintech_P5M5-1bf4acc2d69b224c1384771893e8b26bdc73dabf\\Fintech_P5M5-1bf4acc2d69b224c1384771893e8b26bdc73dabf\\Starter_Code-5\\MCForecastTools.py:117: PerformanceWarning: DataFrame is highly fragmented.  This is usually the result of calling `frame.insert` many times, which has poor performance.  Consider joining all columns at once using pd.concat(axis=1) instead. To get a de-fragmented frame, use `newframe = frame.copy()`\n",
      "  portfolio_cumulative_returns[n] = (1 + sim_df.fillna(0)).cumprod()\n",
      "C:\\Users\\maris\\Downloads\\Fintech_P5M5-1bf4acc2d69b224c1384771893e8b26bdc73dabf\\Fintech_P5M5-1bf4acc2d69b224c1384771893e8b26bdc73dabf\\Starter_Code-5\\MCForecastTools.py:117: PerformanceWarning: DataFrame is highly fragmented.  This is usually the result of calling `frame.insert` many times, which has poor performance.  Consider joining all columns at once using pd.concat(axis=1) instead. To get a de-fragmented frame, use `newframe = frame.copy()`\n",
      "  portfolio_cumulative_returns[n] = (1 + sim_df.fillna(0)).cumprod()\n",
      "C:\\Users\\maris\\Downloads\\Fintech_P5M5-1bf4acc2d69b224c1384771893e8b26bdc73dabf\\Fintech_P5M5-1bf4acc2d69b224c1384771893e8b26bdc73dabf\\Starter_Code-5\\MCForecastTools.py:117: PerformanceWarning: DataFrame is highly fragmented.  This is usually the result of calling `frame.insert` many times, which has poor performance.  Consider joining all columns at once using pd.concat(axis=1) instead. To get a de-fragmented frame, use `newframe = frame.copy()`\n",
      "  portfolio_cumulative_returns[n] = (1 + sim_df.fillna(0)).cumprod()\n"
     ]
    },
    {
     "data": {
      "text/html": [
       "<div>\n",
       "<style scoped>\n",
       "    .dataframe tbody tr th:only-of-type {\n",
       "        vertical-align: middle;\n",
       "    }\n",
       "\n",
       "    .dataframe tbody tr th {\n",
       "        vertical-align: top;\n",
       "    }\n",
       "\n",
       "    .dataframe thead th {\n",
       "        text-align: right;\n",
       "    }\n",
       "</style>\n",
       "<table border=\"1\" class=\"dataframe\">\n",
       "  <thead>\n",
       "    <tr style=\"text-align: right;\">\n",
       "      <th></th>\n",
       "      <th>0</th>\n",
       "      <th>1</th>\n",
       "      <th>2</th>\n",
       "      <th>3</th>\n",
       "      <th>4</th>\n",
       "      <th>5</th>\n",
       "      <th>6</th>\n",
       "      <th>7</th>\n",
       "      <th>8</th>\n",
       "      <th>9</th>\n",
       "      <th>...</th>\n",
       "      <th>490</th>\n",
       "      <th>491</th>\n",
       "      <th>492</th>\n",
       "      <th>493</th>\n",
       "      <th>494</th>\n",
       "      <th>495</th>\n",
       "      <th>496</th>\n",
       "      <th>497</th>\n",
       "      <th>498</th>\n",
       "      <th>499</th>\n",
       "    </tr>\n",
       "  </thead>\n",
       "  <tbody>\n",
       "    <tr>\n",
       "      <th>0</th>\n",
       "      <td>1.000000</td>\n",
       "      <td>1.000000</td>\n",
       "      <td>1.000000</td>\n",
       "      <td>1.000000</td>\n",
       "      <td>1.000000</td>\n",
       "      <td>1.000000</td>\n",
       "      <td>1.000000</td>\n",
       "      <td>1.000000</td>\n",
       "      <td>1.000000</td>\n",
       "      <td>1.000000</td>\n",
       "      <td>...</td>\n",
       "      <td>1.000000</td>\n",
       "      <td>1.000000</td>\n",
       "      <td>1.000000</td>\n",
       "      <td>1.000000</td>\n",
       "      <td>1.000000</td>\n",
       "      <td>1.000000</td>\n",
       "      <td>1.000000</td>\n",
       "      <td>1.000000</td>\n",
       "      <td>1.000000</td>\n",
       "      <td>1.000000</td>\n",
       "    </tr>\n",
       "    <tr>\n",
       "      <th>1</th>\n",
       "      <td>0.998771</td>\n",
       "      <td>1.001262</td>\n",
       "      <td>1.000282</td>\n",
       "      <td>0.999087</td>\n",
       "      <td>1.001092</td>\n",
       "      <td>1.000917</td>\n",
       "      <td>0.999288</td>\n",
       "      <td>1.000000</td>\n",
       "      <td>1.002355</td>\n",
       "      <td>0.999535</td>\n",
       "      <td>...</td>\n",
       "      <td>1.000199</td>\n",
       "      <td>0.998414</td>\n",
       "      <td>1.000282</td>\n",
       "      <td>0.999003</td>\n",
       "      <td>0.999980</td>\n",
       "      <td>1.000335</td>\n",
       "      <td>1.001847</td>\n",
       "      <td>1.000752</td>\n",
       "      <td>0.998934</td>\n",
       "      <td>1.000380</td>\n",
       "    </tr>\n",
       "    <tr>\n",
       "      <th>2</th>\n",
       "      <td>0.998554</td>\n",
       "      <td>1.000375</td>\n",
       "      <td>1.000690</td>\n",
       "      <td>1.001279</td>\n",
       "      <td>1.001749</td>\n",
       "      <td>1.000285</td>\n",
       "      <td>1.000109</td>\n",
       "      <td>1.000649</td>\n",
       "      <td>1.002471</td>\n",
       "      <td>0.999582</td>\n",
       "      <td>...</td>\n",
       "      <td>1.000440</td>\n",
       "      <td>0.998085</td>\n",
       "      <td>0.998894</td>\n",
       "      <td>1.000396</td>\n",
       "      <td>1.001264</td>\n",
       "      <td>1.001721</td>\n",
       "      <td>1.002897</td>\n",
       "      <td>1.000752</td>\n",
       "      <td>0.998675</td>\n",
       "      <td>0.999724</td>\n",
       "    </tr>\n",
       "    <tr>\n",
       "      <th>3</th>\n",
       "      <td>1.001246</td>\n",
       "      <td>1.000439</td>\n",
       "      <td>1.001151</td>\n",
       "      <td>0.997706</td>\n",
       "      <td>1.003139</td>\n",
       "      <td>0.999812</td>\n",
       "      <td>0.999539</td>\n",
       "      <td>0.999503</td>\n",
       "      <td>1.002197</td>\n",
       "      <td>1.001108</td>\n",
       "      <td>...</td>\n",
       "      <td>1.000827</td>\n",
       "      <td>1.001045</td>\n",
       "      <td>0.997754</td>\n",
       "      <td>0.998706</td>\n",
       "      <td>1.002033</td>\n",
       "      <td>1.000027</td>\n",
       "      <td>1.003714</td>\n",
       "      <td>1.001126</td>\n",
       "      <td>0.998684</td>\n",
       "      <td>1.000858</td>\n",
       "    </tr>\n",
       "    <tr>\n",
       "      <th>4</th>\n",
       "      <td>0.999829</td>\n",
       "      <td>1.001506</td>\n",
       "      <td>1.000173</td>\n",
       "      <td>0.998199</td>\n",
       "      <td>1.004106</td>\n",
       "      <td>0.998984</td>\n",
       "      <td>1.000167</td>\n",
       "      <td>0.998433</td>\n",
       "      <td>1.004128</td>\n",
       "      <td>0.999156</td>\n",
       "      <td>...</td>\n",
       "      <td>1.000644</td>\n",
       "      <td>1.000973</td>\n",
       "      <td>0.998208</td>\n",
       "      <td>1.001637</td>\n",
       "      <td>1.001039</td>\n",
       "      <td>0.998137</td>\n",
       "      <td>1.006310</td>\n",
       "      <td>1.000816</td>\n",
       "      <td>0.998630</td>\n",
       "      <td>1.002181</td>\n",
       "    </tr>\n",
       "    <tr>\n",
       "      <th>...</th>\n",
       "      <td>...</td>\n",
       "      <td>...</td>\n",
       "      <td>...</td>\n",
       "      <td>...</td>\n",
       "      <td>...</td>\n",
       "      <td>...</td>\n",
       "      <td>...</td>\n",
       "      <td>...</td>\n",
       "      <td>...</td>\n",
       "      <td>...</td>\n",
       "      <td>...</td>\n",
       "      <td>...</td>\n",
       "      <td>...</td>\n",
       "      <td>...</td>\n",
       "      <td>...</td>\n",
       "      <td>...</td>\n",
       "      <td>...</td>\n",
       "      <td>...</td>\n",
       "      <td>...</td>\n",
       "      <td>...</td>\n",
       "      <td>...</td>\n",
       "    </tr>\n",
       "    <tr>\n",
       "      <th>7556</th>\n",
       "      <td>10.694595</td>\n",
       "      <td>8.121559</td>\n",
       "      <td>10.192241</td>\n",
       "      <td>8.118923</td>\n",
       "      <td>10.216164</td>\n",
       "      <td>9.033052</td>\n",
       "      <td>8.693210</td>\n",
       "      <td>10.511923</td>\n",
       "      <td>9.632637</td>\n",
       "      <td>9.793457</td>\n",
       "      <td>...</td>\n",
       "      <td>9.681248</td>\n",
       "      <td>9.418408</td>\n",
       "      <td>9.031564</td>\n",
       "      <td>9.676205</td>\n",
       "      <td>10.170146</td>\n",
       "      <td>8.762293</td>\n",
       "      <td>8.546001</td>\n",
       "      <td>8.525934</td>\n",
       "      <td>11.460247</td>\n",
       "      <td>9.061333</td>\n",
       "    </tr>\n",
       "    <tr>\n",
       "      <th>7557</th>\n",
       "      <td>10.708996</td>\n",
       "      <td>8.128604</td>\n",
       "      <td>10.191947</td>\n",
       "      <td>8.121232</td>\n",
       "      <td>10.224953</td>\n",
       "      <td>9.043054</td>\n",
       "      <td>8.699807</td>\n",
       "      <td>10.489446</td>\n",
       "      <td>9.636550</td>\n",
       "      <td>9.814346</td>\n",
       "      <td>...</td>\n",
       "      <td>9.695204</td>\n",
       "      <td>9.419879</td>\n",
       "      <td>9.014398</td>\n",
       "      <td>9.643563</td>\n",
       "      <td>10.173538</td>\n",
       "      <td>8.771202</td>\n",
       "      <td>8.549510</td>\n",
       "      <td>8.537837</td>\n",
       "      <td>11.456431</td>\n",
       "      <td>9.068651</td>\n",
       "    </tr>\n",
       "    <tr>\n",
       "      <th>7558</th>\n",
       "      <td>10.704837</td>\n",
       "      <td>8.124949</td>\n",
       "      <td>10.193140</td>\n",
       "      <td>8.113571</td>\n",
       "      <td>10.208224</td>\n",
       "      <td>9.032987</td>\n",
       "      <td>8.700727</td>\n",
       "      <td>10.484689</td>\n",
       "      <td>9.635514</td>\n",
       "      <td>9.805533</td>\n",
       "      <td>...</td>\n",
       "      <td>9.691836</td>\n",
       "      <td>9.425629</td>\n",
       "      <td>9.015440</td>\n",
       "      <td>9.668832</td>\n",
       "      <td>10.167856</td>\n",
       "      <td>8.773222</td>\n",
       "      <td>8.558860</td>\n",
       "      <td>8.555335</td>\n",
       "      <td>11.475956</td>\n",
       "      <td>9.066593</td>\n",
       "    </tr>\n",
       "    <tr>\n",
       "      <th>7559</th>\n",
       "      <td>10.709258</td>\n",
       "      <td>8.149722</td>\n",
       "      <td>10.222695</td>\n",
       "      <td>8.119873</td>\n",
       "      <td>10.191586</td>\n",
       "      <td>9.030125</td>\n",
       "      <td>8.695706</td>\n",
       "      <td>10.499045</td>\n",
       "      <td>9.636594</td>\n",
       "      <td>9.805473</td>\n",
       "      <td>...</td>\n",
       "      <td>9.680697</td>\n",
       "      <td>9.426220</td>\n",
       "      <td>9.025850</td>\n",
       "      <td>9.654171</td>\n",
       "      <td>10.170472</td>\n",
       "      <td>8.785206</td>\n",
       "      <td>8.580123</td>\n",
       "      <td>8.558820</td>\n",
       "      <td>11.492813</td>\n",
       "      <td>9.059107</td>\n",
       "    </tr>\n",
       "    <tr>\n",
       "      <th>7560</th>\n",
       "      <td>10.745800</td>\n",
       "      <td>8.167557</td>\n",
       "      <td>10.216103</td>\n",
       "      <td>8.123144</td>\n",
       "      <td>10.198854</td>\n",
       "      <td>9.022223</td>\n",
       "      <td>8.690284</td>\n",
       "      <td>10.495479</td>\n",
       "      <td>9.633258</td>\n",
       "      <td>9.799153</td>\n",
       "      <td>...</td>\n",
       "      <td>9.707638</td>\n",
       "      <td>9.437977</td>\n",
       "      <td>9.015364</td>\n",
       "      <td>9.659057</td>\n",
       "      <td>10.160645</td>\n",
       "      <td>8.802218</td>\n",
       "      <td>8.567402</td>\n",
       "      <td>8.564175</td>\n",
       "      <td>11.488878</td>\n",
       "      <td>9.065016</td>\n",
       "    </tr>\n",
       "  </tbody>\n",
       "</table>\n",
       "<p>7561 rows × 500 columns</p>\n",
       "</div>"
      ],
      "text/plain": [
       "            0         1          2         3          4         5         6    \\\n",
       "0      1.000000  1.000000   1.000000  1.000000   1.000000  1.000000  1.000000   \n",
       "1      0.998771  1.001262   1.000282  0.999087   1.001092  1.000917  0.999288   \n",
       "2      0.998554  1.000375   1.000690  1.001279   1.001749  1.000285  1.000109   \n",
       "3      1.001246  1.000439   1.001151  0.997706   1.003139  0.999812  0.999539   \n",
       "4      0.999829  1.001506   1.000173  0.998199   1.004106  0.998984  1.000167   \n",
       "...         ...       ...        ...       ...        ...       ...       ...   \n",
       "7556  10.694595  8.121559  10.192241  8.118923  10.216164  9.033052  8.693210   \n",
       "7557  10.708996  8.128604  10.191947  8.121232  10.224953  9.043054  8.699807   \n",
       "7558  10.704837  8.124949  10.193140  8.113571  10.208224  9.032987  8.700727   \n",
       "7559  10.709258  8.149722  10.222695  8.119873  10.191586  9.030125  8.695706   \n",
       "7560  10.745800  8.167557  10.216103  8.123144  10.198854  9.022223  8.690284   \n",
       "\n",
       "            7         8         9    ...       490       491       492  \\\n",
       "0      1.000000  1.000000  1.000000  ...  1.000000  1.000000  1.000000   \n",
       "1      1.000000  1.002355  0.999535  ...  1.000199  0.998414  1.000282   \n",
       "2      1.000649  1.002471  0.999582  ...  1.000440  0.998085  0.998894   \n",
       "3      0.999503  1.002197  1.001108  ...  1.000827  1.001045  0.997754   \n",
       "4      0.998433  1.004128  0.999156  ...  1.000644  1.000973  0.998208   \n",
       "...         ...       ...       ...  ...       ...       ...       ...   \n",
       "7556  10.511923  9.632637  9.793457  ...  9.681248  9.418408  9.031564   \n",
       "7557  10.489446  9.636550  9.814346  ...  9.695204  9.419879  9.014398   \n",
       "7558  10.484689  9.635514  9.805533  ...  9.691836  9.425629  9.015440   \n",
       "7559  10.499045  9.636594  9.805473  ...  9.680697  9.426220  9.025850   \n",
       "7560  10.495479  9.633258  9.799153  ...  9.707638  9.437977  9.015364   \n",
       "\n",
       "           493        494       495       496       497        498       499  \n",
       "0     1.000000   1.000000  1.000000  1.000000  1.000000   1.000000  1.000000  \n",
       "1     0.999003   0.999980  1.000335  1.001847  1.000752   0.998934  1.000380  \n",
       "2     1.000396   1.001264  1.001721  1.002897  1.000752   0.998675  0.999724  \n",
       "3     0.998706   1.002033  1.000027  1.003714  1.001126   0.998684  1.000858  \n",
       "4     1.001637   1.001039  0.998137  1.006310  1.000816   0.998630  1.002181  \n",
       "...        ...        ...       ...       ...       ...        ...       ...  \n",
       "7556  9.676205  10.170146  8.762293  8.546001  8.525934  11.460247  9.061333  \n",
       "7557  9.643563  10.173538  8.771202  8.549510  8.537837  11.456431  9.068651  \n",
       "7558  9.668832  10.167856  8.773222  8.558860  8.555335  11.475956  9.066593  \n",
       "7559  9.654171  10.170472  8.785206  8.580123  8.558820  11.492813  9.059107  \n",
       "7560  9.659057  10.160645  8.802218  8.567402  8.564175  11.488878  9.065016  \n",
       "\n",
       "[7561 rows x 500 columns]"
      ]
     },
     "execution_count": 33,
     "metadata": {},
     "output_type": "execute_result"
    }
   ],
   "source": [
    "# Run the Monte Carlo simulation to forecast 30 years cumulative returns\n",
    "MC_thirty_year.calc_cumulative_return()\n"
   ]
  },
  {
   "cell_type": "code",
   "execution_count": 34,
   "metadata": {},
   "outputs": [
    {
     "data": {
      "image/png": "[encoded data removed]",
      "text/plain": [
       "<Figure size 640x480 with 1 Axes>"
      ]
     },
     "metadata": {},
     "output_type": "display_data"
    }
   ],
   "source": [
    "# Visualize the 30-year Monte Carlo simulation by creating an\n",
    "# overlay line plot\n",
    "MC_sim_line_plot = MC_thirty_year.plot_simulation()"
   ]
  },
  {
   "cell_type": "markdown",
   "metadata": {},
   "source": [
    "#### Step 3: Plot the probability distribution of the Monte Carlo simulation."
   ]
  },
  {
   "cell_type": "code",
   "execution_count": 37,
   "metadata": {},
   "outputs": [
    {
     "data": {
      "image/png": "[encoded data removed]",
      "text/plain": [
       "<Figure size 640x480 with 1 Axes>"
      ]
     },
     "metadata": {},
     "output_type": "display_data"
    }
   ],
   "source": [
    "# Visualize the probability distribution of the 30-year Monte Carlo simulation \n",
    "# by plotting a histogram\n",
    "MC_sim_dist_plot = MC_thirty_year.plot_distribution()"
   ]
  },
  {
   "cell_type": "markdown",
   "metadata": {},
   "source": [
    "#### Step 4: Generate the summary statistics for the Monte Carlo simulation."
   ]
  },
  {
   "cell_type": "code",
   "execution_count": 39,
   "metadata": {},
   "outputs": [
    {
     "name": "stdout",
     "output_type": "stream",
     "text": [
      "count           500.000000\n",
      "mean              9.430190\n",
      "std               0.960855\n",
      "min               6.180905\n",
      "25%               8.756107\n",
      "50%               9.405979\n",
      "75%              10.079249\n",
      "max              12.199370\n",
      "95% CI Lower      7.667177\n",
      "95% CI Upper     11.418257\n",
      "Name: 7560, dtype: float64\n"
     ]
    },
    {
     "name": "stderr",
     "output_type": "stream",
     "text": [
      "C:\\Users\\maris\\Downloads\\Fintech_P5M5-1bf4acc2d69b224c1384771893e8b26bdc73dabf\\Fintech_P5M5-1bf4acc2d69b224c1384771893e8b26bdc73dabf\\Starter_Code-5\\MCForecastTools.py:172: FutureWarning: The series.append method is deprecated and will be removed from pandas in a future version. Use pandas.concat instead.\n",
      "  return metrics.append(ci_series)\n"
     ]
    }
   ],
   "source": [
    "# Generate summary statistics from the 30-year Monte Carlo simulation results\n",
    "# Save the results as a variable\n",
    "MC_summary_statistics = MC_thirty_year.summarize_cumulative_return()\n",
    "\n",
    "\n",
    "\n",
    "# Review the 30-year Monte Carlo summary statistics\n",
    "print(MC_summary_statistics)"
   ]
  },
  {
   "cell_type": "markdown",
   "metadata": {},
   "source": [
    "### Analyze the Retirement Portfolio Forecasts\n",
    "\n",
    "Using the current value of only the stock and bond portion of the member's portfolio and the summary statistics that you generated from the Monte Carlo simulation, answer the following question in your Jupyter notebook:\n",
    "\n",
    "-  What are the lower and upper bounds for the expected value of the portfolio with a 95% confidence interval?\n"
   ]
  },
  {
   "cell_type": "code",
   "execution_count": 40,
   "metadata": {},
   "outputs": [
    {
     "name": "stdout",
     "output_type": "stream",
     "text": [
      "The current balance of the stock and bond portion of the members portfolio timestamp\n",
      "2020-08-03 04:00:00+00:00    83820.24\n",
      "2020-08-04 04:00:00+00:00    84012.54\n",
      "2020-08-05 04:00:00+00:00    84189.84\n",
      "2020-08-06 04:00:00+00:00    84475.74\n",
      "2020-08-07 04:00:00+00:00    84475.24\n",
      "Name: close, dtype: float64\n"
     ]
    }
   ],
   "source": [
    "# Print the current balance of the stock and bond portion of the members portfolio\n",
    "print(\"The current balance of the stock and bond portion of the members portfolio\",total_portfolio_value)\n"
   ]
  },
  {
   "cell_type": "code",
   "execution_count": 42,
   "metadata": {},
   "outputs": [
    {
     "name": "stdout",
     "output_type": "stream",
     "text": [
      "There is a 95% chance that an initial investment of $10,000 in the portfolio over the next 30 years will end within in the range of $ 76671.77 and $ 114182.57.\n"
     ]
    }
   ],
   "source": [
    "# Use the lower and upper `95%` confidence intervals to calculate the range of the possible outcomes for the current stock/bond portfolio\n",
    "ci_lower_thirty_cumulative_return =  MC_summary_statistics[8] * 10000\n",
    "ci_upper_thirty_cumulative_return = MC_summary_statistics[9] * 10000\n",
    "\n",
    "# Print the result of your calculations\n",
    "print(f\"There is a 95% chance that an initial investment of $10,000 in the portfolio\"\n",
    "    f\" over the next 30 years will end within in the range of\"\n",
    "    f\" ${ci_lower_thirty_cumulative_return: .2f} and ${ci_upper_thirty_cumulative_return: .2f}.\")\n"
   ]
  },
  {
   "cell_type": "markdown",
   "metadata": {},
   "source": [
    "### Forecast Cumulative Returns in 10 Years\n",
    "\n",
    "The CTO of the credit union is impressed with your work on these planning tools but wonders if 30 years is a long time to wait until retirement. So, your next task is to adjust the retirement portfolio and run a new Monte Carlo simulation to find out if the changes will allow members to retire earlier.\n",
    "\n",
    "For this new Monte Carlo simulation, do the following: \n",
    "\n",
    "- Forecast the cumulative returns for 10 years from now. Because of the shortened investment horizon (30 years to 10 years), the portfolio needs to invest more heavily in the riskier asset&mdash;that is, stock&mdash;to help accumulate wealth for retirement. \n",
    "\n",
    "- Adjust the weights of the retirement portfolio so that the composition for the Monte Carlo simulation consists of 20% bonds and 80% stocks. \n",
    "\n",
    "- Run the simulation over 500 samples, and use the same data that the API call to Alpaca generated.\n",
    "\n",
    "- Based on the new Monte Carlo simulation, answer the following questions in your Jupyter notebook:\n",
    "\n",
    "    - Using the current value of only the stock and bond portion of the member's portfolio and the summary statistics that you generated from the new Monte Carlo simulation, what are the lower and upper bounds for the expected value of the portfolio (with the new weights) with a 95% confidence interval?\n",
    "\n",
    "    - Will weighting the portfolio more heavily toward stocks allow the credit union members to retire after only 10 years?\n"
   ]
  },
  {
   "cell_type": "code",
   "execution_count": 45,
   "metadata": {},
   "outputs": [
    {
     "data": {
      "text/html": [
       "<div>\n",
       "<style scoped>\n",
       "    .dataframe tbody tr th:only-of-type {\n",
       "        vertical-align: middle;\n",
       "    }\n",
       "\n",
       "    .dataframe tbody tr th {\n",
       "        vertical-align: top;\n",
       "    }\n",
       "\n",
       "    .dataframe thead tr th {\n",
       "        text-align: left;\n",
       "    }\n",
       "\n",
       "    .dataframe thead tr:last-of-type th {\n",
       "        text-align: right;\n",
       "    }\n",
       "</style>\n",
       "<table border=\"1\" class=\"dataframe\">\n",
       "  <thead>\n",
       "    <tr>\n",
       "      <th></th>\n",
       "      <th colspan=\"8\" halign=\"left\">SPY</th>\n",
       "      <th colspan=\"8\" halign=\"left\">AGG</th>\n",
       "    </tr>\n",
       "    <tr>\n",
       "      <th></th>\n",
       "      <th>open</th>\n",
       "      <th>high</th>\n",
       "      <th>low</th>\n",
       "      <th>close</th>\n",
       "      <th>volume</th>\n",
       "      <th>trade_count</th>\n",
       "      <th>vwap</th>\n",
       "      <th>daily_return</th>\n",
       "      <th>open</th>\n",
       "      <th>high</th>\n",
       "      <th>low</th>\n",
       "      <th>close</th>\n",
       "      <th>volume</th>\n",
       "      <th>trade_count</th>\n",
       "      <th>vwap</th>\n",
       "      <th>daily_return</th>\n",
       "    </tr>\n",
       "    <tr>\n",
       "      <th>timestamp</th>\n",
       "      <th></th>\n",
       "      <th></th>\n",
       "      <th></th>\n",
       "      <th></th>\n",
       "      <th></th>\n",
       "      <th></th>\n",
       "      <th></th>\n",
       "      <th></th>\n",
       "      <th></th>\n",
       "      <th></th>\n",
       "      <th></th>\n",
       "      <th></th>\n",
       "      <th></th>\n",
       "      <th></th>\n",
       "      <th></th>\n",
       "      <th></th>\n",
       "    </tr>\n",
       "  </thead>\n",
       "  <tbody>\n",
       "    <tr>\n",
       "      <th>2017-08-01 04:00:00+00:00</th>\n",
       "      <td>247.46</td>\n",
       "      <td>247.50</td>\n",
       "      <td>246.716</td>\n",
       "      <td>247.30</td>\n",
       "      <td>55050401</td>\n",
       "      <td>151132</td>\n",
       "      <td>247.199252</td>\n",
       "      <td>NaN</td>\n",
       "      <td>109.38</td>\n",
       "      <td>109.72</td>\n",
       "      <td>109.3600</td>\n",
       "      <td>109.720</td>\n",
       "      <td>2338876</td>\n",
       "      <td>10476</td>\n",
       "      <td>109.649411</td>\n",
       "      <td>NaN</td>\n",
       "    </tr>\n",
       "    <tr>\n",
       "      <th>2017-08-02 04:00:00+00:00</th>\n",
       "      <td>247.47</td>\n",
       "      <td>247.60</td>\n",
       "      <td>246.370</td>\n",
       "      <td>247.42</td>\n",
       "      <td>47211216</td>\n",
       "      <td>178076</td>\n",
       "      <td>247.109454</td>\n",
       "      <td>0.000485</td>\n",
       "      <td>109.71</td>\n",
       "      <td>109.77</td>\n",
       "      <td>109.6400</td>\n",
       "      <td>109.650</td>\n",
       "      <td>2253372</td>\n",
       "      <td>8484</td>\n",
       "      <td>109.700965</td>\n",
       "      <td>-0.000638</td>\n",
       "    </tr>\n",
       "    <tr>\n",
       "      <th>2017-08-03 04:00:00+00:00</th>\n",
       "      <td>247.31</td>\n",
       "      <td>247.34</td>\n",
       "      <td>246.640</td>\n",
       "      <td>246.98</td>\n",
       "      <td>40855997</td>\n",
       "      <td>143604</td>\n",
       "      <td>247.075390</td>\n",
       "      <td>-0.001778</td>\n",
       "      <td>109.77</td>\n",
       "      <td>109.94</td>\n",
       "      <td>109.7400</td>\n",
       "      <td>109.860</td>\n",
       "      <td>1485193</td>\n",
       "      <td>8740</td>\n",
       "      <td>109.830663</td>\n",
       "      <td>0.001915</td>\n",
       "    </tr>\n",
       "    <tr>\n",
       "      <th>2017-08-04 04:00:00+00:00</th>\n",
       "      <td>247.52</td>\n",
       "      <td>247.79</td>\n",
       "      <td>246.970</td>\n",
       "      <td>247.39</td>\n",
       "      <td>60191838</td>\n",
       "      <td>175911</td>\n",
       "      <td>247.329155</td>\n",
       "      <td>0.001660</td>\n",
       "      <td>109.70</td>\n",
       "      <td>109.72</td>\n",
       "      <td>109.5350</td>\n",
       "      <td>109.680</td>\n",
       "      <td>2300875</td>\n",
       "      <td>10411</td>\n",
       "      <td>109.656104</td>\n",
       "      <td>-0.001638</td>\n",
       "    </tr>\n",
       "    <tr>\n",
       "      <th>2017-08-07 04:00:00+00:00</th>\n",
       "      <td>247.49</td>\n",
       "      <td>247.87</td>\n",
       "      <td>247.370</td>\n",
       "      <td>247.84</td>\n",
       "      <td>31995021</td>\n",
       "      <td>100111</td>\n",
       "      <td>247.668698</td>\n",
       "      <td>0.001819</td>\n",
       "      <td>109.69</td>\n",
       "      <td>109.72</td>\n",
       "      <td>109.6066</td>\n",
       "      <td>109.685</td>\n",
       "      <td>2359826</td>\n",
       "      <td>7755</td>\n",
       "      <td>109.674876</td>\n",
       "      <td>0.000046</td>\n",
       "    </tr>\n",
       "  </tbody>\n",
       "</table>\n",
       "</div>"
      ],
      "text/plain": [
       "                              SPY                                     \\\n",
       "                             open    high      low   close    volume   \n",
       "timestamp                                                              \n",
       "2017-08-01 04:00:00+00:00  247.46  247.50  246.716  247.30  55050401   \n",
       "2017-08-02 04:00:00+00:00  247.47  247.60  246.370  247.42  47211216   \n",
       "2017-08-03 04:00:00+00:00  247.31  247.34  246.640  246.98  40855997   \n",
       "2017-08-04 04:00:00+00:00  247.52  247.79  246.970  247.39  60191838   \n",
       "2017-08-07 04:00:00+00:00  247.49  247.87  247.370  247.84  31995021   \n",
       "\n",
       "                                                                   AGG  \\\n",
       "                          trade_count        vwap daily_return    open   \n",
       "timestamp                                                                \n",
       "2017-08-01 04:00:00+00:00      151132  247.199252          NaN  109.38   \n",
       "2017-08-02 04:00:00+00:00      178076  247.109454     0.000485  109.71   \n",
       "2017-08-03 04:00:00+00:00      143604  247.075390    -0.001778  109.77   \n",
       "2017-08-04 04:00:00+00:00      175911  247.329155     0.001660  109.70   \n",
       "2017-08-07 04:00:00+00:00      100111  247.668698     0.001819  109.69   \n",
       "\n",
       "                                                                           \\\n",
       "                             high       low    close   volume trade_count   \n",
       "timestamp                                                                   \n",
       "2017-08-01 04:00:00+00:00  109.72  109.3600  109.720  2338876       10476   \n",
       "2017-08-02 04:00:00+00:00  109.77  109.6400  109.650  2253372        8484   \n",
       "2017-08-03 04:00:00+00:00  109.94  109.7400  109.860  1485193        8740   \n",
       "2017-08-04 04:00:00+00:00  109.72  109.5350  109.680  2300875       10411   \n",
       "2017-08-07 04:00:00+00:00  109.72  109.6066  109.685  2359826        7755   \n",
       "\n",
       "                                                    \n",
       "                                 vwap daily_return  \n",
       "timestamp                                           \n",
       "2017-08-01 04:00:00+00:00  109.649411          NaN  \n",
       "2017-08-02 04:00:00+00:00  109.700965    -0.000638  \n",
       "2017-08-03 04:00:00+00:00  109.830663     0.001915  \n",
       "2017-08-04 04:00:00+00:00  109.656104    -0.001638  \n",
       "2017-08-07 04:00:00+00:00  109.674876     0.000046  "
      ]
     },
     "execution_count": 45,
     "metadata": {},
     "output_type": "execute_result"
    }
   ],
   "source": [
    "# Configure a Monte Carlo simulation to forecast 10 years cumulative returns\n",
    "# The weights should be split 20% to AGG and 80% to SPY.\n",
    "# Run 500 samples.\n",
    "MC_tenyear = MCSimulation(\n",
    "    portfolio_data = prices_df,\n",
    "    weights = [.80,.20],\n",
    "    num_simulation = 500,\n",
    "    num_trading_days = 252*10\n",
    ")\n",
    "\n",
    "# Review the simulation input data\n",
    "MC_tenyear.portfolio_data.head()\n"
   ]
  },
  {
   "cell_type": "code",
   "execution_count": 46,
   "metadata": {},
   "outputs": [
    {
     "name": "stdout",
     "output_type": "stream",
     "text": [
      "Running Monte Carlo simulation number 0.\n",
      "Running Monte Carlo simulation number 10.\n",
      "Running Monte Carlo simulation number 20.\n",
      "Running Monte Carlo simulation number 30.\n",
      "Running Monte Carlo simulation number 40.\n",
      "Running Monte Carlo simulation number 50.\n",
      "Running Monte Carlo simulation number 60.\n",
      "Running Monte Carlo simulation number 70.\n",
      "Running Monte Carlo simulation number 80.\n",
      "Running Monte Carlo simulation number 90.\n",
      "Running Monte Carlo simulation number 100.\n"
     ]
    },
    {
     "name": "stderr",
     "output_type": "stream",
     "text": [
      "C:\\Users\\maris\\Downloads\\Fintech_P5M5-1bf4acc2d69b224c1384771893e8b26bdc73dabf\\Fintech_P5M5-1bf4acc2d69b224c1384771893e8b26bdc73dabf\\Starter_Code-5\\MCForecastTools.py:117: PerformanceWarning: DataFrame is highly fragmented.  This is usually the result of calling `frame.insert` many times, which has poor performance.  Consider joining all columns at once using pd.concat(axis=1) instead. To get a de-fragmented frame, use `newframe = frame.copy()`\n",
      "  portfolio_cumulative_returns[n] = (1 + sim_df.fillna(0)).cumprod()\n",
      "C:\\Users\\maris\\Downloads\\Fintech_P5M5-1bf4acc2d69b224c1384771893e8b26bdc73dabf\\Fintech_P5M5-1bf4acc2d69b224c1384771893e8b26bdc73dabf\\Starter_Code-5\\MCForecastTools.py:117: PerformanceWarning: DataFrame is highly fragmented.  This is usually the result of calling `frame.insert` many times, which has poor performance.  Consider joining all columns at once using pd.concat(axis=1) instead. To get a de-fragmented frame, use `newframe = frame.copy()`\n",
      "  portfolio_cumulative_returns[n] = (1 + sim_df.fillna(0)).cumprod()\n",
      "C:\\Users\\maris\\Downloads\\Fintech_P5M5-1bf4acc2d69b224c1384771893e8b26bdc73dabf\\Fintech_P5M5-1bf4acc2d69b224c1384771893e8b26bdc73dabf\\Starter_Code-5\\MCForecastTools.py:117: PerformanceWarning: DataFrame is highly fragmented.  This is usually the result of calling `frame.insert` many times, which has poor performance.  Consider joining all columns at once using pd.concat(axis=1) instead. To get a de-fragmented frame, use `newframe = frame.copy()`\n",
      "  portfolio_cumulative_returns[n] = (1 + sim_df.fillna(0)).cumprod()\n",
      "C:\\Users\\maris\\Downloads\\Fintech_P5M5-1bf4acc2d69b224c1384771893e8b26bdc73dabf\\Fintech_P5M5-1bf4acc2d69b224c1384771893e8b26bdc73dabf\\Starter_Code-5\\MCForecastTools.py:117: PerformanceWarning: DataFrame is highly fragmented.  This is usually the result of calling `frame.insert` many times, which has poor performance.  Consider joining all columns at once using pd.concat(axis=1) instead. To get a de-fragmented frame, use `newframe = frame.copy()`\n",
      "  portfolio_cumulative_returns[n] = (1 + sim_df.fillna(0)).cumprod()\n",
      "C:\\Users\\maris\\Downloads\\Fintech_P5M5-1bf4acc2d69b224c1384771893e8b26bdc73dabf\\Fintech_P5M5-1bf4acc2d69b224c1384771893e8b26bdc73dabf\\Starter_Code-5\\MCForecastTools.py:117: PerformanceWarning: DataFrame is highly fragmented.  This is usually the result of calling `frame.insert` many times, which has poor performance.  Consider joining all columns at once using pd.concat(axis=1) instead. To get a de-fragmented frame, use `newframe = frame.copy()`\n",
      "  portfolio_cumulative_returns[n] = (1 + sim_df.fillna(0)).cumprod()\n",
      "C:\\Users\\maris\\Downloads\\Fintech_P5M5-1bf4acc2d69b224c1384771893e8b26bdc73dabf\\Fintech_P5M5-1bf4acc2d69b224c1384771893e8b26bdc73dabf\\Starter_Code-5\\MCForecastTools.py:117: PerformanceWarning: DataFrame is highly fragmented.  This is usually the result of calling `frame.insert` many times, which has poor performance.  Consider joining all columns at once using pd.concat(axis=1) instead. To get a de-fragmented frame, use `newframe = frame.copy()`\n",
      "  portfolio_cumulative_returns[n] = (1 + sim_df.fillna(0)).cumprod()\n",
      "C:\\Users\\maris\\Downloads\\Fintech_P5M5-1bf4acc2d69b224c1384771893e8b26bdc73dabf\\Fintech_P5M5-1bf4acc2d69b224c1384771893e8b26bdc73dabf\\Starter_Code-5\\MCForecastTools.py:117: PerformanceWarning: DataFrame is highly fragmented.  This is usually the result of calling `frame.insert` many times, which has poor performance.  Consider joining all columns at once using pd.concat(axis=1) instead. To get a de-fragmented frame, use `newframe = frame.copy()`\n",
      "  portfolio_cumulative_returns[n] = (1 + sim_df.fillna(0)).cumprod()\n",
      "C:\\Users\\maris\\Downloads\\Fintech_P5M5-1bf4acc2d69b224c1384771893e8b26bdc73dabf\\Fintech_P5M5-1bf4acc2d69b224c1384771893e8b26bdc73dabf\\Starter_Code-5\\MCForecastTools.py:117: PerformanceWarning: DataFrame is highly fragmented.  This is usually the result of calling `frame.insert` many times, which has poor performance.  Consider joining all columns at once using pd.concat(axis=1) instead. To get a de-fragmented frame, use `newframe = frame.copy()`\n",
      "  portfolio_cumulative_returns[n] = (1 + sim_df.fillna(0)).cumprod()\n",
      "C:\\Users\\maris\\Downloads\\Fintech_P5M5-1bf4acc2d69b224c1384771893e8b26bdc73dabf\\Fintech_P5M5-1bf4acc2d69b224c1384771893e8b26bdc73dabf\\Starter_Code-5\\MCForecastTools.py:117: PerformanceWarning: DataFrame is highly fragmented.  This is usually the result of calling `frame.insert` many times, which has poor performance.  Consider joining all columns at once using pd.concat(axis=1) instead. To get a de-fragmented frame, use `newframe = frame.copy()`\n",
      "  portfolio_cumulative_returns[n] = (1 + sim_df.fillna(0)).cumprod()\n",
      "C:\\Users\\maris\\Downloads\\Fintech_P5M5-1bf4acc2d69b224c1384771893e8b26bdc73dabf\\Fintech_P5M5-1bf4acc2d69b224c1384771893e8b26bdc73dabf\\Starter_Code-5\\MCForecastTools.py:117: PerformanceWarning: DataFrame is highly fragmented.  This is usually the result of calling `frame.insert` many times, which has poor performance.  Consider joining all columns at once using pd.concat(axis=1) instead. To get a de-fragmented frame, use `newframe = frame.copy()`\n",
      "  portfolio_cumulative_returns[n] = (1 + sim_df.fillna(0)).cumprod()\n",
      "C:\\Users\\maris\\Downloads\\Fintech_P5M5-1bf4acc2d69b224c1384771893e8b26bdc73dabf\\Fintech_P5M5-1bf4acc2d69b224c1384771893e8b26bdc73dabf\\Starter_Code-5\\MCForecastTools.py:117: PerformanceWarning: DataFrame is highly fragmented.  This is usually the result of calling `frame.insert` many times, which has poor performance.  Consider joining all columns at once using pd.concat(axis=1) instead. To get a de-fragmented frame, use `newframe = frame.copy()`\n",
      "  portfolio_cumulative_returns[n] = (1 + sim_df.fillna(0)).cumprod()\n"
     ]
    },
    {
     "name": "stdout",
     "output_type": "stream",
     "text": [
      "Running Monte Carlo simulation number 110.\n"
     ]
    },
    {
     "name": "stderr",
     "output_type": "stream",
     "text": [
      "C:\\Users\\maris\\Downloads\\Fintech_P5M5-1bf4acc2d69b224c1384771893e8b26bdc73dabf\\Fintech_P5M5-1bf4acc2d69b224c1384771893e8b26bdc73dabf\\Starter_Code-5\\MCForecastTools.py:117: PerformanceWarning: DataFrame is highly fragmented.  This is usually the result of calling `frame.insert` many times, which has poor performance.  Consider joining all columns at once using pd.concat(axis=1) instead. To get a de-fragmented frame, use `newframe = frame.copy()`\n",
      "  portfolio_cumulative_returns[n] = (1 + sim_df.fillna(0)).cumprod()\n",
      "C:\\Users\\maris\\Downloads\\Fintech_P5M5-1bf4acc2d69b224c1384771893e8b26bdc73dabf\\Fintech_P5M5-1bf4acc2d69b224c1384771893e8b26bdc73dabf\\Starter_Code-5\\MCForecastTools.py:117: PerformanceWarning: DataFrame is highly fragmented.  This is usually the result of calling `frame.insert` many times, which has poor performance.  Consider joining all columns at once using pd.concat(axis=1) instead. To get a de-fragmented frame, use `newframe = frame.copy()`\n",
      "  portfolio_cumulative_returns[n] = (1 + sim_df.fillna(0)).cumprod()\n",
      "C:\\Users\\maris\\Downloads\\Fintech_P5M5-1bf4acc2d69b224c1384771893e8b26bdc73dabf\\Fintech_P5M5-1bf4acc2d69b224c1384771893e8b26bdc73dabf\\Starter_Code-5\\MCForecastTools.py:117: PerformanceWarning: DataFrame is highly fragmented.  This is usually the result of calling `frame.insert` many times, which has poor performance.  Consider joining all columns at once using pd.concat(axis=1) instead. To get a de-fragmented frame, use `newframe = frame.copy()`\n",
      "  portfolio_cumulative_returns[n] = (1 + sim_df.fillna(0)).cumprod()\n",
      "C:\\Users\\maris\\Downloads\\Fintech_P5M5-1bf4acc2d69b224c1384771893e8b26bdc73dabf\\Fintech_P5M5-1bf4acc2d69b224c1384771893e8b26bdc73dabf\\Starter_Code-5\\MCForecastTools.py:117: PerformanceWarning: DataFrame is highly fragmented.  This is usually the result of calling `frame.insert` many times, which has poor performance.  Consider joining all columns at once using pd.concat(axis=1) instead. To get a de-fragmented frame, use `newframe = frame.copy()`\n",
      "  portfolio_cumulative_returns[n] = (1 + sim_df.fillna(0)).cumprod()\n",
      "C:\\Users\\maris\\Downloads\\Fintech_P5M5-1bf4acc2d69b224c1384771893e8b26bdc73dabf\\Fintech_P5M5-1bf4acc2d69b224c1384771893e8b26bdc73dabf\\Starter_Code-5\\MCForecastTools.py:117: PerformanceWarning: DataFrame is highly fragmented.  This is usually the result of calling `frame.insert` many times, which has poor performance.  Consider joining all columns at once using pd.concat(axis=1) instead. To get a de-fragmented frame, use `newframe = frame.copy()`\n",
      "  portfolio_cumulative_returns[n] = (1 + sim_df.fillna(0)).cumprod()\n",
      "C:\\Users\\maris\\Downloads\\Fintech_P5M5-1bf4acc2d69b224c1384771893e8b26bdc73dabf\\Fintech_P5M5-1bf4acc2d69b224c1384771893e8b26bdc73dabf\\Starter_Code-5\\MCForecastTools.py:117: PerformanceWarning: DataFrame is highly fragmented.  This is usually the result of calling `frame.insert` many times, which has poor performance.  Consider joining all columns at once using pd.concat(axis=1) instead. To get a de-fragmented frame, use `newframe = frame.copy()`\n",
      "  portfolio_cumulative_returns[n] = (1 + sim_df.fillna(0)).cumprod()\n",
      "C:\\Users\\maris\\Downloads\\Fintech_P5M5-1bf4acc2d69b224c1384771893e8b26bdc73dabf\\Fintech_P5M5-1bf4acc2d69b224c1384771893e8b26bdc73dabf\\Starter_Code-5\\MCForecastTools.py:117: PerformanceWarning: DataFrame is highly fragmented.  This is usually the result of calling `frame.insert` many times, which has poor performance.  Consider joining all columns at once using pd.concat(axis=1) instead. To get a de-fragmented frame, use `newframe = frame.copy()`\n",
      "  portfolio_cumulative_returns[n] = (1 + sim_df.fillna(0)).cumprod()\n",
      "C:\\Users\\maris\\Downloads\\Fintech_P5M5-1bf4acc2d69b224c1384771893e8b26bdc73dabf\\Fintech_P5M5-1bf4acc2d69b224c1384771893e8b26bdc73dabf\\Starter_Code-5\\MCForecastTools.py:117: PerformanceWarning: DataFrame is highly fragmented.  This is usually the result of calling `frame.insert` many times, which has poor performance.  Consider joining all columns at once using pd.concat(axis=1) instead. To get a de-fragmented frame, use `newframe = frame.copy()`\n",
      "  portfolio_cumulative_returns[n] = (1 + sim_df.fillna(0)).cumprod()\n",
      "C:\\Users\\maris\\Downloads\\Fintech_P5M5-1bf4acc2d69b224c1384771893e8b26bdc73dabf\\Fintech_P5M5-1bf4acc2d69b224c1384771893e8b26bdc73dabf\\Starter_Code-5\\MCForecastTools.py:117: PerformanceWarning: DataFrame is highly fragmented.  This is usually the result of calling `frame.insert` many times, which has poor performance.  Consider joining all columns at once using pd.concat(axis=1) instead. To get a de-fragmented frame, use `newframe = frame.copy()`\n",
      "  portfolio_cumulative_returns[n] = (1 + sim_df.fillna(0)).cumprod()\n",
      "C:\\Users\\maris\\Downloads\\Fintech_P5M5-1bf4acc2d69b224c1384771893e8b26bdc73dabf\\Fintech_P5M5-1bf4acc2d69b224c1384771893e8b26bdc73dabf\\Starter_Code-5\\MCForecastTools.py:117: PerformanceWarning: DataFrame is highly fragmented.  This is usually the result of calling `frame.insert` many times, which has poor performance.  Consider joining all columns at once using pd.concat(axis=1) instead. To get a de-fragmented frame, use `newframe = frame.copy()`\n",
      "  portfolio_cumulative_returns[n] = (1 + sim_df.fillna(0)).cumprod()\n"
     ]
    },
    {
     "name": "stdout",
     "output_type": "stream",
     "text": [
      "Running Monte Carlo simulation number 120.\n"
     ]
    },
    {
     "name": "stderr",
     "output_type": "stream",
     "text": [
      "C:\\Users\\maris\\Downloads\\Fintech_P5M5-1bf4acc2d69b224c1384771893e8b26bdc73dabf\\Fintech_P5M5-1bf4acc2d69b224c1384771893e8b26bdc73dabf\\Starter_Code-5\\MCForecastTools.py:117: PerformanceWarning: DataFrame is highly fragmented.  This is usually the result of calling `frame.insert` many times, which has poor performance.  Consider joining all columns at once using pd.concat(axis=1) instead. To get a de-fragmented frame, use `newframe = frame.copy()`\n",
      "  portfolio_cumulative_returns[n] = (1 + sim_df.fillna(0)).cumprod()\n",
      "C:\\Users\\maris\\Downloads\\Fintech_P5M5-1bf4acc2d69b224c1384771893e8b26bdc73dabf\\Fintech_P5M5-1bf4acc2d69b224c1384771893e8b26bdc73dabf\\Starter_Code-5\\MCForecastTools.py:117: PerformanceWarning: DataFrame is highly fragmented.  This is usually the result of calling `frame.insert` many times, which has poor performance.  Consider joining all columns at once using pd.concat(axis=1) instead. To get a de-fragmented frame, use `newframe = frame.copy()`\n",
      "  portfolio_cumulative_returns[n] = (1 + sim_df.fillna(0)).cumprod()\n",
      "C:\\Users\\maris\\Downloads\\Fintech_P5M5-1bf4acc2d69b224c1384771893e8b26bdc73dabf\\Fintech_P5M5-1bf4acc2d69b224c1384771893e8b26bdc73dabf\\Starter_Code-5\\MCForecastTools.py:117: PerformanceWarning: DataFrame is highly fragmented.  This is usually the result of calling `frame.insert` many times, which has poor performance.  Consider joining all columns at once using pd.concat(axis=1) instead. To get a de-fragmented frame, use `newframe = frame.copy()`\n",
      "  portfolio_cumulative_returns[n] = (1 + sim_df.fillna(0)).cumprod()\n",
      "C:\\Users\\maris\\Downloads\\Fintech_P5M5-1bf4acc2d69b224c1384771893e8b26bdc73dabf\\Fintech_P5M5-1bf4acc2d69b224c1384771893e8b26bdc73dabf\\Starter_Code-5\\MCForecastTools.py:117: PerformanceWarning: DataFrame is highly fragmented.  This is usually the result of calling `frame.insert` many times, which has poor performance.  Consider joining all columns at once using pd.concat(axis=1) instead. To get a de-fragmented frame, use `newframe = frame.copy()`\n",
      "  portfolio_cumulative_returns[n] = (1 + sim_df.fillna(0)).cumprod()\n",
      "C:\\Users\\maris\\Downloads\\Fintech_P5M5-1bf4acc2d69b224c1384771893e8b26bdc73dabf\\Fintech_P5M5-1bf4acc2d69b224c1384771893e8b26bdc73dabf\\Starter_Code-5\\MCForecastTools.py:117: PerformanceWarning: DataFrame is highly fragmented.  This is usually the result of calling `frame.insert` many times, which has poor performance.  Consider joining all columns at once using pd.concat(axis=1) instead. To get a de-fragmented frame, use `newframe = frame.copy()`\n",
      "  portfolio_cumulative_returns[n] = (1 + sim_df.fillna(0)).cumprod()\n",
      "C:\\Users\\maris\\Downloads\\Fintech_P5M5-1bf4acc2d69b224c1384771893e8b26bdc73dabf\\Fintech_P5M5-1bf4acc2d69b224c1384771893e8b26bdc73dabf\\Starter_Code-5\\MCForecastTools.py:117: PerformanceWarning: DataFrame is highly fragmented.  This is usually the result of calling `frame.insert` many times, which has poor performance.  Consider joining all columns at once using pd.concat(axis=1) instead. To get a de-fragmented frame, use `newframe = frame.copy()`\n",
      "  portfolio_cumulative_returns[n] = (1 + sim_df.fillna(0)).cumprod()\n",
      "C:\\Users\\maris\\Downloads\\Fintech_P5M5-1bf4acc2d69b224c1384771893e8b26bdc73dabf\\Fintech_P5M5-1bf4acc2d69b224c1384771893e8b26bdc73dabf\\Starter_Code-5\\MCForecastTools.py:117: PerformanceWarning: DataFrame is highly fragmented.  This is usually the result of calling `frame.insert` many times, which has poor performance.  Consider joining all columns at once using pd.concat(axis=1) instead. To get a de-fragmented frame, use `newframe = frame.copy()`\n",
      "  portfolio_cumulative_returns[n] = (1 + sim_df.fillna(0)).cumprod()\n",
      "C:\\Users\\maris\\Downloads\\Fintech_P5M5-1bf4acc2d69b224c1384771893e8b26bdc73dabf\\Fintech_P5M5-1bf4acc2d69b224c1384771893e8b26bdc73dabf\\Starter_Code-5\\MCForecastTools.py:117: PerformanceWarning: DataFrame is highly fragmented.  This is usually the result of calling `frame.insert` many times, which has poor performance.  Consider joining all columns at once using pd.concat(axis=1) instead. To get a de-fragmented frame, use `newframe = frame.copy()`\n",
      "  portfolio_cumulative_returns[n] = (1 + sim_df.fillna(0)).cumprod()\n",
      "C:\\Users\\maris\\Downloads\\Fintech_P5M5-1bf4acc2d69b224c1384771893e8b26bdc73dabf\\Fintech_P5M5-1bf4acc2d69b224c1384771893e8b26bdc73dabf\\Starter_Code-5\\MCForecastTools.py:117: PerformanceWarning: DataFrame is highly fragmented.  This is usually the result of calling `frame.insert` many times, which has poor performance.  Consider joining all columns at once using pd.concat(axis=1) instead. To get a de-fragmented frame, use `newframe = frame.copy()`\n",
      "  portfolio_cumulative_returns[n] = (1 + sim_df.fillna(0)).cumprod()\n"
     ]
    },
    {
     "name": "stdout",
     "output_type": "stream",
     "text": [
      "Running Monte Carlo simulation number 130.\n"
     ]
    },
    {
     "name": "stderr",
     "output_type": "stream",
     "text": [
      "C:\\Users\\maris\\Downloads\\Fintech_P5M5-1bf4acc2d69b224c1384771893e8b26bdc73dabf\\Fintech_P5M5-1bf4acc2d69b224c1384771893e8b26bdc73dabf\\Starter_Code-5\\MCForecastTools.py:117: PerformanceWarning: DataFrame is highly fragmented.  This is usually the result of calling `frame.insert` many times, which has poor performance.  Consider joining all columns at once using pd.concat(axis=1) instead. To get a de-fragmented frame, use `newframe = frame.copy()`\n",
      "  portfolio_cumulative_returns[n] = (1 + sim_df.fillna(0)).cumprod()\n",
      "C:\\Users\\maris\\Downloads\\Fintech_P5M5-1bf4acc2d69b224c1384771893e8b26bdc73dabf\\Fintech_P5M5-1bf4acc2d69b224c1384771893e8b26bdc73dabf\\Starter_Code-5\\MCForecastTools.py:117: PerformanceWarning: DataFrame is highly fragmented.  This is usually the result of calling `frame.insert` many times, which has poor performance.  Consider joining all columns at once using pd.concat(axis=1) instead. To get a de-fragmented frame, use `newframe = frame.copy()`\n",
      "  portfolio_cumulative_returns[n] = (1 + sim_df.fillna(0)).cumprod()\n",
      "C:\\Users\\maris\\Downloads\\Fintech_P5M5-1bf4acc2d69b224c1384771893e8b26bdc73dabf\\Fintech_P5M5-1bf4acc2d69b224c1384771893e8b26bdc73dabf\\Starter_Code-5\\MCForecastTools.py:117: PerformanceWarning: DataFrame is highly fragmented.  This is usually the result of calling `frame.insert` many times, which has poor performance.  Consider joining all columns at once using pd.concat(axis=1) instead. To get a de-fragmented frame, use `newframe = frame.copy()`\n",
      "  portfolio_cumulative_returns[n] = (1 + sim_df.fillna(0)).cumprod()\n",
      "C:\\Users\\maris\\Downloads\\Fintech_P5M5-1bf4acc2d69b224c1384771893e8b26bdc73dabf\\Fintech_P5M5-1bf4acc2d69b224c1384771893e8b26bdc73dabf\\Starter_Code-5\\MCForecastTools.py:117: PerformanceWarning: DataFrame is highly fragmented.  This is usually the result of calling `frame.insert` many times, which has poor performance.  Consider joining all columns at once using pd.concat(axis=1) instead. To get a de-fragmented frame, use `newframe = frame.copy()`\n",
      "  portfolio_cumulative_returns[n] = (1 + sim_df.fillna(0)).cumprod()\n",
      "C:\\Users\\maris\\Downloads\\Fintech_P5M5-1bf4acc2d69b224c1384771893e8b26bdc73dabf\\Fintech_P5M5-1bf4acc2d69b224c1384771893e8b26bdc73dabf\\Starter_Code-5\\MCForecastTools.py:117: PerformanceWarning: DataFrame is highly fragmented.  This is usually the result of calling `frame.insert` many times, which has poor performance.  Consider joining all columns at once using pd.concat(axis=1) instead. To get a de-fragmented frame, use `newframe = frame.copy()`\n",
      "  portfolio_cumulative_returns[n] = (1 + sim_df.fillna(0)).cumprod()\n",
      "C:\\Users\\maris\\Downloads\\Fintech_P5M5-1bf4acc2d69b224c1384771893e8b26bdc73dabf\\Fintech_P5M5-1bf4acc2d69b224c1384771893e8b26bdc73dabf\\Starter_Code-5\\MCForecastTools.py:117: PerformanceWarning: DataFrame is highly fragmented.  This is usually the result of calling `frame.insert` many times, which has poor performance.  Consider joining all columns at once using pd.concat(axis=1) instead. To get a de-fragmented frame, use `newframe = frame.copy()`\n",
      "  portfolio_cumulative_returns[n] = (1 + sim_df.fillna(0)).cumprod()\n",
      "C:\\Users\\maris\\Downloads\\Fintech_P5M5-1bf4acc2d69b224c1384771893e8b26bdc73dabf\\Fintech_P5M5-1bf4acc2d69b224c1384771893e8b26bdc73dabf\\Starter_Code-5\\MCForecastTools.py:117: PerformanceWarning: DataFrame is highly fragmented.  This is usually the result of calling `frame.insert` many times, which has poor performance.  Consider joining all columns at once using pd.concat(axis=1) instead. To get a de-fragmented frame, use `newframe = frame.copy()`\n",
      "  portfolio_cumulative_returns[n] = (1 + sim_df.fillna(0)).cumprod()\n",
      "C:\\Users\\maris\\Downloads\\Fintech_P5M5-1bf4acc2d69b224c1384771893e8b26bdc73dabf\\Fintech_P5M5-1bf4acc2d69b224c1384771893e8b26bdc73dabf\\Starter_Code-5\\MCForecastTools.py:117: PerformanceWarning: DataFrame is highly fragmented.  This is usually the result of calling `frame.insert` many times, which has poor performance.  Consider joining all columns at once using pd.concat(axis=1) instead. To get a de-fragmented frame, use `newframe = frame.copy()`\n",
      "  portfolio_cumulative_returns[n] = (1 + sim_df.fillna(0)).cumprod()\n",
      "C:\\Users\\maris\\Downloads\\Fintech_P5M5-1bf4acc2d69b224c1384771893e8b26bdc73dabf\\Fintech_P5M5-1bf4acc2d69b224c1384771893e8b26bdc73dabf\\Starter_Code-5\\MCForecastTools.py:117: PerformanceWarning: DataFrame is highly fragmented.  This is usually the result of calling `frame.insert` many times, which has poor performance.  Consider joining all columns at once using pd.concat(axis=1) instead. To get a de-fragmented frame, use `newframe = frame.copy()`\n",
      "  portfolio_cumulative_returns[n] = (1 + sim_df.fillna(0)).cumprod()\n",
      "C:\\Users\\maris\\Downloads\\Fintech_P5M5-1bf4acc2d69b224c1384771893e8b26bdc73dabf\\Fintech_P5M5-1bf4acc2d69b224c1384771893e8b26bdc73dabf\\Starter_Code-5\\MCForecastTools.py:117: PerformanceWarning: DataFrame is highly fragmented.  This is usually the result of calling `frame.insert` many times, which has poor performance.  Consider joining all columns at once using pd.concat(axis=1) instead. To get a de-fragmented frame, use `newframe = frame.copy()`\n",
      "  portfolio_cumulative_returns[n] = (1 + sim_df.fillna(0)).cumprod()\n"
     ]
    },
    {
     "name": "stdout",
     "output_type": "stream",
     "text": [
      "Running Monte Carlo simulation number 140.\n"
     ]
    },
    {
     "name": "stderr",
     "output_type": "stream",
     "text": [
      "C:\\Users\\maris\\Downloads\\Fintech_P5M5-1bf4acc2d69b224c1384771893e8b26bdc73dabf\\Fintech_P5M5-1bf4acc2d69b224c1384771893e8b26bdc73dabf\\Starter_Code-5\\MCForecastTools.py:117: PerformanceWarning: DataFrame is highly fragmented.  This is usually the result of calling `frame.insert` many times, which has poor performance.  Consider joining all columns at once using pd.concat(axis=1) instead. To get a de-fragmented frame, use `newframe = frame.copy()`\n",
      "  portfolio_cumulative_returns[n] = (1 + sim_df.fillna(0)).cumprod()\n",
      "C:\\Users\\maris\\Downloads\\Fintech_P5M5-1bf4acc2d69b224c1384771893e8b26bdc73dabf\\Fintech_P5M5-1bf4acc2d69b224c1384771893e8b26bdc73dabf\\Starter_Code-5\\MCForecastTools.py:117: PerformanceWarning: DataFrame is highly fragmented.  This is usually the result of calling `frame.insert` many times, which has poor performance.  Consider joining all columns at once using pd.concat(axis=1) instead. To get a de-fragmented frame, use `newframe = frame.copy()`\n",
      "  portfolio_cumulative_returns[n] = (1 + sim_df.fillna(0)).cumprod()\n",
      "C:\\Users\\maris\\Downloads\\Fintech_P5M5-1bf4acc2d69b224c1384771893e8b26bdc73dabf\\Fintech_P5M5-1bf4acc2d69b224c1384771893e8b26bdc73dabf\\Starter_Code-5\\MCForecastTools.py:117: PerformanceWarning: DataFrame is highly fragmented.  This is usually the result of calling `frame.insert` many times, which has poor performance.  Consider joining all columns at once using pd.concat(axis=1) instead. To get a de-fragmented frame, use `newframe = frame.copy()`\n",
      "  portfolio_cumulative_returns[n] = (1 + sim_df.fillna(0)).cumprod()\n",
      "C:\\Users\\maris\\Downloads\\Fintech_P5M5-1bf4acc2d69b224c1384771893e8b26bdc73dabf\\Fintech_P5M5-1bf4acc2d69b224c1384771893e8b26bdc73dabf\\Starter_Code-5\\MCForecastTools.py:117: PerformanceWarning: DataFrame is highly fragmented.  This is usually the result of calling `frame.insert` many times, which has poor performance.  Consider joining all columns at once using pd.concat(axis=1) instead. To get a de-fragmented frame, use `newframe = frame.copy()`\n",
      "  portfolio_cumulative_returns[n] = (1 + sim_df.fillna(0)).cumprod()\n",
      "C:\\Users\\maris\\Downloads\\Fintech_P5M5-1bf4acc2d69b224c1384771893e8b26bdc73dabf\\Fintech_P5M5-1bf4acc2d69b224c1384771893e8b26bdc73dabf\\Starter_Code-5\\MCForecastTools.py:117: PerformanceWarning: DataFrame is highly fragmented.  This is usually the result of calling `frame.insert` many times, which has poor performance.  Consider joining all columns at once using pd.concat(axis=1) instead. To get a de-fragmented frame, use `newframe = frame.copy()`\n",
      "  portfolio_cumulative_returns[n] = (1 + sim_df.fillna(0)).cumprod()\n",
      "C:\\Users\\maris\\Downloads\\Fintech_P5M5-1bf4acc2d69b224c1384771893e8b26bdc73dabf\\Fintech_P5M5-1bf4acc2d69b224c1384771893e8b26bdc73dabf\\Starter_Code-5\\MCForecastTools.py:117: PerformanceWarning: DataFrame is highly fragmented.  This is usually the result of calling `frame.insert` many times, which has poor performance.  Consider joining all columns at once using pd.concat(axis=1) instead. To get a de-fragmented frame, use `newframe = frame.copy()`\n",
      "  portfolio_cumulative_returns[n] = (1 + sim_df.fillna(0)).cumprod()\n",
      "C:\\Users\\maris\\Downloads\\Fintech_P5M5-1bf4acc2d69b224c1384771893e8b26bdc73dabf\\Fintech_P5M5-1bf4acc2d69b224c1384771893e8b26bdc73dabf\\Starter_Code-5\\MCForecastTools.py:117: PerformanceWarning: DataFrame is highly fragmented.  This is usually the result of calling `frame.insert` many times, which has poor performance.  Consider joining all columns at once using pd.concat(axis=1) instead. To get a de-fragmented frame, use `newframe = frame.copy()`\n",
      "  portfolio_cumulative_returns[n] = (1 + sim_df.fillna(0)).cumprod()\n",
      "C:\\Users\\maris\\Downloads\\Fintech_P5M5-1bf4acc2d69b224c1384771893e8b26bdc73dabf\\Fintech_P5M5-1bf4acc2d69b224c1384771893e8b26bdc73dabf\\Starter_Code-5\\MCForecastTools.py:117: PerformanceWarning: DataFrame is highly fragmented.  This is usually the result of calling `frame.insert` many times, which has poor performance.  Consider joining all columns at once using pd.concat(axis=1) instead. To get a de-fragmented frame, use `newframe = frame.copy()`\n",
      "  portfolio_cumulative_returns[n] = (1 + sim_df.fillna(0)).cumprod()\n",
      "C:\\Users\\maris\\Downloads\\Fintech_P5M5-1bf4acc2d69b224c1384771893e8b26bdc73dabf\\Fintech_P5M5-1bf4acc2d69b224c1384771893e8b26bdc73dabf\\Starter_Code-5\\MCForecastTools.py:117: PerformanceWarning: DataFrame is highly fragmented.  This is usually the result of calling `frame.insert` many times, which has poor performance.  Consider joining all columns at once using pd.concat(axis=1) instead. To get a de-fragmented frame, use `newframe = frame.copy()`\n",
      "  portfolio_cumulative_returns[n] = (1 + sim_df.fillna(0)).cumprod()\n",
      "C:\\Users\\maris\\Downloads\\Fintech_P5M5-1bf4acc2d69b224c1384771893e8b26bdc73dabf\\Fintech_P5M5-1bf4acc2d69b224c1384771893e8b26bdc73dabf\\Starter_Code-5\\MCForecastTools.py:117: PerformanceWarning: DataFrame is highly fragmented.  This is usually the result of calling `frame.insert` many times, which has poor performance.  Consider joining all columns at once using pd.concat(axis=1) instead. To get a de-fragmented frame, use `newframe = frame.copy()`\n",
      "  portfolio_cumulative_returns[n] = (1 + sim_df.fillna(0)).cumprod()\n"
     ]
    },
    {
     "name": "stdout",
     "output_type": "stream",
     "text": [
      "Running Monte Carlo simulation number 150.\n"
     ]
    },
    {
     "name": "stderr",
     "output_type": "stream",
     "text": [
      "C:\\Users\\maris\\Downloads\\Fintech_P5M5-1bf4acc2d69b224c1384771893e8b26bdc73dabf\\Fintech_P5M5-1bf4acc2d69b224c1384771893e8b26bdc73dabf\\Starter_Code-5\\MCForecastTools.py:117: PerformanceWarning: DataFrame is highly fragmented.  This is usually the result of calling `frame.insert` many times, which has poor performance.  Consider joining all columns at once using pd.concat(axis=1) instead. To get a de-fragmented frame, use `newframe = frame.copy()`\n",
      "  portfolio_cumulative_returns[n] = (1 + sim_df.fillna(0)).cumprod()\n",
      "C:\\Users\\maris\\Downloads\\Fintech_P5M5-1bf4acc2d69b224c1384771893e8b26bdc73dabf\\Fintech_P5M5-1bf4acc2d69b224c1384771893e8b26bdc73dabf\\Starter_Code-5\\MCForecastTools.py:117: PerformanceWarning: DataFrame is highly fragmented.  This is usually the result of calling `frame.insert` many times, which has poor performance.  Consider joining all columns at once using pd.concat(axis=1) instead. To get a de-fragmented frame, use `newframe = frame.copy()`\n",
      "  portfolio_cumulative_returns[n] = (1 + sim_df.fillna(0)).cumprod()\n",
      "C:\\Users\\maris\\Downloads\\Fintech_P5M5-1bf4acc2d69b224c1384771893e8b26bdc73dabf\\Fintech_P5M5-1bf4acc2d69b224c1384771893e8b26bdc73dabf\\Starter_Code-5\\MCForecastTools.py:117: PerformanceWarning: DataFrame is highly fragmented.  This is usually the result of calling `frame.insert` many times, which has poor performance.  Consider joining all columns at once using pd.concat(axis=1) instead. To get a de-fragmented frame, use `newframe = frame.copy()`\n",
      "  portfolio_cumulative_returns[n] = (1 + sim_df.fillna(0)).cumprod()\n",
      "C:\\Users\\maris\\Downloads\\Fintech_P5M5-1bf4acc2d69b224c1384771893e8b26bdc73dabf\\Fintech_P5M5-1bf4acc2d69b224c1384771893e8b26bdc73dabf\\Starter_Code-5\\MCForecastTools.py:117: PerformanceWarning: DataFrame is highly fragmented.  This is usually the result of calling `frame.insert` many times, which has poor performance.  Consider joining all columns at once using pd.concat(axis=1) instead. To get a de-fragmented frame, use `newframe = frame.copy()`\n",
      "  portfolio_cumulative_returns[n] = (1 + sim_df.fillna(0)).cumprod()\n",
      "C:\\Users\\maris\\Downloads\\Fintech_P5M5-1bf4acc2d69b224c1384771893e8b26bdc73dabf\\Fintech_P5M5-1bf4acc2d69b224c1384771893e8b26bdc73dabf\\Starter_Code-5\\MCForecastTools.py:117: PerformanceWarning: DataFrame is highly fragmented.  This is usually the result of calling `frame.insert` many times, which has poor performance.  Consider joining all columns at once using pd.concat(axis=1) instead. To get a de-fragmented frame, use `newframe = frame.copy()`\n",
      "  portfolio_cumulative_returns[n] = (1 + sim_df.fillna(0)).cumprod()\n",
      "C:\\Users\\maris\\Downloads\\Fintech_P5M5-1bf4acc2d69b224c1384771893e8b26bdc73dabf\\Fintech_P5M5-1bf4acc2d69b224c1384771893e8b26bdc73dabf\\Starter_Code-5\\MCForecastTools.py:117: PerformanceWarning: DataFrame is highly fragmented.  This is usually the result of calling `frame.insert` many times, which has poor performance.  Consider joining all columns at once using pd.concat(axis=1) instead. To get a de-fragmented frame, use `newframe = frame.copy()`\n",
      "  portfolio_cumulative_returns[n] = (1 + sim_df.fillna(0)).cumprod()\n",
      "C:\\Users\\maris\\Downloads\\Fintech_P5M5-1bf4acc2d69b224c1384771893e8b26bdc73dabf\\Fintech_P5M5-1bf4acc2d69b224c1384771893e8b26bdc73dabf\\Starter_Code-5\\MCForecastTools.py:117: PerformanceWarning: DataFrame is highly fragmented.  This is usually the result of calling `frame.insert` many times, which has poor performance.  Consider joining all columns at once using pd.concat(axis=1) instead. To get a de-fragmented frame, use `newframe = frame.copy()`\n",
      "  portfolio_cumulative_returns[n] = (1 + sim_df.fillna(0)).cumprod()\n",
      "C:\\Users\\maris\\Downloads\\Fintech_P5M5-1bf4acc2d69b224c1384771893e8b26bdc73dabf\\Fintech_P5M5-1bf4acc2d69b224c1384771893e8b26bdc73dabf\\Starter_Code-5\\MCForecastTools.py:117: PerformanceWarning: DataFrame is highly fragmented.  This is usually the result of calling `frame.insert` many times, which has poor performance.  Consider joining all columns at once using pd.concat(axis=1) instead. To get a de-fragmented frame, use `newframe = frame.copy()`\n",
      "  portfolio_cumulative_returns[n] = (1 + sim_df.fillna(0)).cumprod()\n",
      "C:\\Users\\maris\\Downloads\\Fintech_P5M5-1bf4acc2d69b224c1384771893e8b26bdc73dabf\\Fintech_P5M5-1bf4acc2d69b224c1384771893e8b26bdc73dabf\\Starter_Code-5\\MCForecastTools.py:117: PerformanceWarning: DataFrame is highly fragmented.  This is usually the result of calling `frame.insert` many times, which has poor performance.  Consider joining all columns at once using pd.concat(axis=1) instead. To get a de-fragmented frame, use `newframe = frame.copy()`\n",
      "  portfolio_cumulative_returns[n] = (1 + sim_df.fillna(0)).cumprod()\n",
      "C:\\Users\\maris\\Downloads\\Fintech_P5M5-1bf4acc2d69b224c1384771893e8b26bdc73dabf\\Fintech_P5M5-1bf4acc2d69b224c1384771893e8b26bdc73dabf\\Starter_Code-5\\MCForecastTools.py:117: PerformanceWarning: DataFrame is highly fragmented.  This is usually the result of calling `frame.insert` many times, which has poor performance.  Consider joining all columns at once using pd.concat(axis=1) instead. To get a de-fragmented frame, use `newframe = frame.copy()`\n",
      "  portfolio_cumulative_returns[n] = (1 + sim_df.fillna(0)).cumprod()\n",
      "C:\\Users\\maris\\Downloads\\Fintech_P5M5-1bf4acc2d69b224c1384771893e8b26bdc73dabf\\Fintech_P5M5-1bf4acc2d69b224c1384771893e8b26bdc73dabf\\Starter_Code-5\\MCForecastTools.py:117: PerformanceWarning: DataFrame is highly fragmented.  This is usually the result of calling `frame.insert` many times, which has poor performance.  Consider joining all columns at once using pd.concat(axis=1) instead. To get a de-fragmented frame, use `newframe = frame.copy()`\n",
      "  portfolio_cumulative_returns[n] = (1 + sim_df.fillna(0)).cumprod()\n"
     ]
    },
    {
     "name": "stdout",
     "output_type": "stream",
     "text": [
      "Running Monte Carlo simulation number 160.\n"
     ]
    },
    {
     "name": "stderr",
     "output_type": "stream",
     "text": [
      "C:\\Users\\maris\\Downloads\\Fintech_P5M5-1bf4acc2d69b224c1384771893e8b26bdc73dabf\\Fintech_P5M5-1bf4acc2d69b224c1384771893e8b26bdc73dabf\\Starter_Code-5\\MCForecastTools.py:117: PerformanceWarning: DataFrame is highly fragmented.  This is usually the result of calling `frame.insert` many times, which has poor performance.  Consider joining all columns at once using pd.concat(axis=1) instead. To get a de-fragmented frame, use `newframe = frame.copy()`\n",
      "  portfolio_cumulative_returns[n] = (1 + sim_df.fillna(0)).cumprod()\n",
      "C:\\Users\\maris\\Downloads\\Fintech_P5M5-1bf4acc2d69b224c1384771893e8b26bdc73dabf\\Fintech_P5M5-1bf4acc2d69b224c1384771893e8b26bdc73dabf\\Starter_Code-5\\MCForecastTools.py:117: PerformanceWarning: DataFrame is highly fragmented.  This is usually the result of calling `frame.insert` many times, which has poor performance.  Consider joining all columns at once using pd.concat(axis=1) instead. To get a de-fragmented frame, use `newframe = frame.copy()`\n",
      "  portfolio_cumulative_returns[n] = (1 + sim_df.fillna(0)).cumprod()\n",
      "C:\\Users\\maris\\Downloads\\Fintech_P5M5-1bf4acc2d69b224c1384771893e8b26bdc73dabf\\Fintech_P5M5-1bf4acc2d69b224c1384771893e8b26bdc73dabf\\Starter_Code-5\\MCForecastTools.py:117: PerformanceWarning: DataFrame is highly fragmented.  This is usually the result of calling `frame.insert` many times, which has poor performance.  Consider joining all columns at once using pd.concat(axis=1) instead. To get a de-fragmented frame, use `newframe = frame.copy()`\n",
      "  portfolio_cumulative_returns[n] = (1 + sim_df.fillna(0)).cumprod()\n",
      "C:\\Users\\maris\\Downloads\\Fintech_P5M5-1bf4acc2d69b224c1384771893e8b26bdc73dabf\\Fintech_P5M5-1bf4acc2d69b224c1384771893e8b26bdc73dabf\\Starter_Code-5\\MCForecastTools.py:117: PerformanceWarning: DataFrame is highly fragmented.  This is usually the result of calling `frame.insert` many times, which has poor performance.  Consider joining all columns at once using pd.concat(axis=1) instead. To get a de-fragmented frame, use `newframe = frame.copy()`\n",
      "  portfolio_cumulative_returns[n] = (1 + sim_df.fillna(0)).cumprod()\n",
      "C:\\Users\\maris\\Downloads\\Fintech_P5M5-1bf4acc2d69b224c1384771893e8b26bdc73dabf\\Fintech_P5M5-1bf4acc2d69b224c1384771893e8b26bdc73dabf\\Starter_Code-5\\MCForecastTools.py:117: PerformanceWarning: DataFrame is highly fragmented.  This is usually the result of calling `frame.insert` many times, which has poor performance.  Consider joining all columns at once using pd.concat(axis=1) instead. To get a de-fragmented frame, use `newframe = frame.copy()`\n",
      "  portfolio_cumulative_returns[n] = (1 + sim_df.fillna(0)).cumprod()\n",
      "C:\\Users\\maris\\Downloads\\Fintech_P5M5-1bf4acc2d69b224c1384771893e8b26bdc73dabf\\Fintech_P5M5-1bf4acc2d69b224c1384771893e8b26bdc73dabf\\Starter_Code-5\\MCForecastTools.py:117: PerformanceWarning: DataFrame is highly fragmented.  This is usually the result of calling `frame.insert` many times, which has poor performance.  Consider joining all columns at once using pd.concat(axis=1) instead. To get a de-fragmented frame, use `newframe = frame.copy()`\n",
      "  portfolio_cumulative_returns[n] = (1 + sim_df.fillna(0)).cumprod()\n",
      "C:\\Users\\maris\\Downloads\\Fintech_P5M5-1bf4acc2d69b224c1384771893e8b26bdc73dabf\\Fintech_P5M5-1bf4acc2d69b224c1384771893e8b26bdc73dabf\\Starter_Code-5\\MCForecastTools.py:117: PerformanceWarning: DataFrame is highly fragmented.  This is usually the result of calling `frame.insert` many times, which has poor performance.  Consider joining all columns at once using pd.concat(axis=1) instead. To get a de-fragmented frame, use `newframe = frame.copy()`\n",
      "  portfolio_cumulative_returns[n] = (1 + sim_df.fillna(0)).cumprod()\n",
      "C:\\Users\\maris\\Downloads\\Fintech_P5M5-1bf4acc2d69b224c1384771893e8b26bdc73dabf\\Fintech_P5M5-1bf4acc2d69b224c1384771893e8b26bdc73dabf\\Starter_Code-5\\MCForecastTools.py:117: PerformanceWarning: DataFrame is highly fragmented.  This is usually the result of calling `frame.insert` many times, which has poor performance.  Consider joining all columns at once using pd.concat(axis=1) instead. To get a de-fragmented frame, use `newframe = frame.copy()`\n",
      "  portfolio_cumulative_returns[n] = (1 + sim_df.fillna(0)).cumprod()\n",
      "C:\\Users\\maris\\Downloads\\Fintech_P5M5-1bf4acc2d69b224c1384771893e8b26bdc73dabf\\Fintech_P5M5-1bf4acc2d69b224c1384771893e8b26bdc73dabf\\Starter_Code-5\\MCForecastTools.py:117: PerformanceWarning: DataFrame is highly fragmented.  This is usually the result of calling `frame.insert` many times, which has poor performance.  Consider joining all columns at once using pd.concat(axis=1) instead. To get a de-fragmented frame, use `newframe = frame.copy()`\n",
      "  portfolio_cumulative_returns[n] = (1 + sim_df.fillna(0)).cumprod()\n",
      "C:\\Users\\maris\\Downloads\\Fintech_P5M5-1bf4acc2d69b224c1384771893e8b26bdc73dabf\\Fintech_P5M5-1bf4acc2d69b224c1384771893e8b26bdc73dabf\\Starter_Code-5\\MCForecastTools.py:117: PerformanceWarning: DataFrame is highly fragmented.  This is usually the result of calling `frame.insert` many times, which has poor performance.  Consider joining all columns at once using pd.concat(axis=1) instead. To get a de-fragmented frame, use `newframe = frame.copy()`\n",
      "  portfolio_cumulative_returns[n] = (1 + sim_df.fillna(0)).cumprod()\n"
     ]
    },
    {
     "name": "stdout",
     "output_type": "stream",
     "text": [
      "Running Monte Carlo simulation number 170.\n"
     ]
    },
    {
     "name": "stderr",
     "output_type": "stream",
     "text": [
      "C:\\Users\\maris\\Downloads\\Fintech_P5M5-1bf4acc2d69b224c1384771893e8b26bdc73dabf\\Fintech_P5M5-1bf4acc2d69b224c1384771893e8b26bdc73dabf\\Starter_Code-5\\MCForecastTools.py:117: PerformanceWarning: DataFrame is highly fragmented.  This is usually the result of calling `frame.insert` many times, which has poor performance.  Consider joining all columns at once using pd.concat(axis=1) instead. To get a de-fragmented frame, use `newframe = frame.copy()`\n",
      "  portfolio_cumulative_returns[n] = (1 + sim_df.fillna(0)).cumprod()\n",
      "C:\\Users\\maris\\Downloads\\Fintech_P5M5-1bf4acc2d69b224c1384771893e8b26bdc73dabf\\Fintech_P5M5-1bf4acc2d69b224c1384771893e8b26bdc73dabf\\Starter_Code-5\\MCForecastTools.py:117: PerformanceWarning: DataFrame is highly fragmented.  This is usually the result of calling `frame.insert` many times, which has poor performance.  Consider joining all columns at once using pd.concat(axis=1) instead. To get a de-fragmented frame, use `newframe = frame.copy()`\n",
      "  portfolio_cumulative_returns[n] = (1 + sim_df.fillna(0)).cumprod()\n",
      "C:\\Users\\maris\\Downloads\\Fintech_P5M5-1bf4acc2d69b224c1384771893e8b26bdc73dabf\\Fintech_P5M5-1bf4acc2d69b224c1384771893e8b26bdc73dabf\\Starter_Code-5\\MCForecastTools.py:117: PerformanceWarning: DataFrame is highly fragmented.  This is usually the result of calling `frame.insert` many times, which has poor performance.  Consider joining all columns at once using pd.concat(axis=1) instead. To get a de-fragmented frame, use `newframe = frame.copy()`\n",
      "  portfolio_cumulative_returns[n] = (1 + sim_df.fillna(0)).cumprod()\n",
      "C:\\Users\\maris\\Downloads\\Fintech_P5M5-1bf4acc2d69b224c1384771893e8b26bdc73dabf\\Fintech_P5M5-1bf4acc2d69b224c1384771893e8b26bdc73dabf\\Starter_Code-5\\MCForecastTools.py:117: PerformanceWarning: DataFrame is highly fragmented.  This is usually the result of calling `frame.insert` many times, which has poor performance.  Consider joining all columns at once using pd.concat(axis=1) instead. To get a de-fragmented frame, use `newframe = frame.copy()`\n",
      "  portfolio_cumulative_returns[n] = (1 + sim_df.fillna(0)).cumprod()\n",
      "C:\\Users\\maris\\Downloads\\Fintech_P5M5-1bf4acc2d69b224c1384771893e8b26bdc73dabf\\Fintech_P5M5-1bf4acc2d69b224c1384771893e8b26bdc73dabf\\Starter_Code-5\\MCForecastTools.py:117: PerformanceWarning: DataFrame is highly fragmented.  This is usually the result of calling `frame.insert` many times, which has poor performance.  Consider joining all columns at once using pd.concat(axis=1) instead. To get a de-fragmented frame, use `newframe = frame.copy()`\n",
      "  portfolio_cumulative_returns[n] = (1 + sim_df.fillna(0)).cumprod()\n",
      "C:\\Users\\maris\\Downloads\\Fintech_P5M5-1bf4acc2d69b224c1384771893e8b26bdc73dabf\\Fintech_P5M5-1bf4acc2d69b224c1384771893e8b26bdc73dabf\\Starter_Code-5\\MCForecastTools.py:117: PerformanceWarning: DataFrame is highly fragmented.  This is usually the result of calling `frame.insert` many times, which has poor performance.  Consider joining all columns at once using pd.concat(axis=1) instead. To get a de-fragmented frame, use `newframe = frame.copy()`\n",
      "  portfolio_cumulative_returns[n] = (1 + sim_df.fillna(0)).cumprod()\n",
      "C:\\Users\\maris\\Downloads\\Fintech_P5M5-1bf4acc2d69b224c1384771893e8b26bdc73dabf\\Fintech_P5M5-1bf4acc2d69b224c1384771893e8b26bdc73dabf\\Starter_Code-5\\MCForecastTools.py:117: PerformanceWarning: DataFrame is highly fragmented.  This is usually the result of calling `frame.insert` many times, which has poor performance.  Consider joining all columns at once using pd.concat(axis=1) instead. To get a de-fragmented frame, use `newframe = frame.copy()`\n",
      "  portfolio_cumulative_returns[n] = (1 + sim_df.fillna(0)).cumprod()\n",
      "C:\\Users\\maris\\Downloads\\Fintech_P5M5-1bf4acc2d69b224c1384771893e8b26bdc73dabf\\Fintech_P5M5-1bf4acc2d69b224c1384771893e8b26bdc73dabf\\Starter_Code-5\\MCForecastTools.py:117: PerformanceWarning: DataFrame is highly fragmented.  This is usually the result of calling `frame.insert` many times, which has poor performance.  Consider joining all columns at once using pd.concat(axis=1) instead. To get a de-fragmented frame, use `newframe = frame.copy()`\n",
      "  portfolio_cumulative_returns[n] = (1 + sim_df.fillna(0)).cumprod()\n",
      "C:\\Users\\maris\\Downloads\\Fintech_P5M5-1bf4acc2d69b224c1384771893e8b26bdc73dabf\\Fintech_P5M5-1bf4acc2d69b224c1384771893e8b26bdc73dabf\\Starter_Code-5\\MCForecastTools.py:117: PerformanceWarning: DataFrame is highly fragmented.  This is usually the result of calling `frame.insert` many times, which has poor performance.  Consider joining all columns at once using pd.concat(axis=1) instead. To get a de-fragmented frame, use `newframe = frame.copy()`\n",
      "  portfolio_cumulative_returns[n] = (1 + sim_df.fillna(0)).cumprod()\n"
     ]
    },
    {
     "name": "stdout",
     "output_type": "stream",
     "text": [
      "Running Monte Carlo simulation number 180.\n"
     ]
    },
    {
     "name": "stderr",
     "output_type": "stream",
     "text": [
      "C:\\Users\\maris\\Downloads\\Fintech_P5M5-1bf4acc2d69b224c1384771893e8b26bdc73dabf\\Fintech_P5M5-1bf4acc2d69b224c1384771893e8b26bdc73dabf\\Starter_Code-5\\MCForecastTools.py:117: PerformanceWarning: DataFrame is highly fragmented.  This is usually the result of calling `frame.insert` many times, which has poor performance.  Consider joining all columns at once using pd.concat(axis=1) instead. To get a de-fragmented frame, use `newframe = frame.copy()`\n",
      "  portfolio_cumulative_returns[n] = (1 + sim_df.fillna(0)).cumprod()\n",
      "C:\\Users\\maris\\Downloads\\Fintech_P5M5-1bf4acc2d69b224c1384771893e8b26bdc73dabf\\Fintech_P5M5-1bf4acc2d69b224c1384771893e8b26bdc73dabf\\Starter_Code-5\\MCForecastTools.py:117: PerformanceWarning: DataFrame is highly fragmented.  This is usually the result of calling `frame.insert` many times, which has poor performance.  Consider joining all columns at once using pd.concat(axis=1) instead. To get a de-fragmented frame, use `newframe = frame.copy()`\n",
      "  portfolio_cumulative_returns[n] = (1 + sim_df.fillna(0)).cumprod()\n",
      "C:\\Users\\maris\\Downloads\\Fintech_P5M5-1bf4acc2d69b224c1384771893e8b26bdc73dabf\\Fintech_P5M5-1bf4acc2d69b224c1384771893e8b26bdc73dabf\\Starter_Code-5\\MCForecastTools.py:117: PerformanceWarning: DataFrame is highly fragmented.  This is usually the result of calling `frame.insert` many times, which has poor performance.  Consider joining all columns at once using pd.concat(axis=1) instead. To get a de-fragmented frame, use `newframe = frame.copy()`\n",
      "  portfolio_cumulative_returns[n] = (1 + sim_df.fillna(0)).cumprod()\n",
      "C:\\Users\\maris\\Downloads\\Fintech_P5M5-1bf4acc2d69b224c1384771893e8b26bdc73dabf\\Fintech_P5M5-1bf4acc2d69b224c1384771893e8b26bdc73dabf\\Starter_Code-5\\MCForecastTools.py:117: PerformanceWarning: DataFrame is highly fragmented.  This is usually the result of calling `frame.insert` many times, which has poor performance.  Consider joining all columns at once using pd.concat(axis=1) instead. To get a de-fragmented frame, use `newframe = frame.copy()`\n",
      "  portfolio_cumulative_returns[n] = (1 + sim_df.fillna(0)).cumprod()\n",
      "C:\\Users\\maris\\Downloads\\Fintech_P5M5-1bf4acc2d69b224c1384771893e8b26bdc73dabf\\Fintech_P5M5-1bf4acc2d69b224c1384771893e8b26bdc73dabf\\Starter_Code-5\\MCForecastTools.py:117: PerformanceWarning: DataFrame is highly fragmented.  This is usually the result of calling `frame.insert` many times, which has poor performance.  Consider joining all columns at once using pd.concat(axis=1) instead. To get a de-fragmented frame, use `newframe = frame.copy()`\n",
      "  portfolio_cumulative_returns[n] = (1 + sim_df.fillna(0)).cumprod()\n",
      "C:\\Users\\maris\\Downloads\\Fintech_P5M5-1bf4acc2d69b224c1384771893e8b26bdc73dabf\\Fintech_P5M5-1bf4acc2d69b224c1384771893e8b26bdc73dabf\\Starter_Code-5\\MCForecastTools.py:117: PerformanceWarning: DataFrame is highly fragmented.  This is usually the result of calling `frame.insert` many times, which has poor performance.  Consider joining all columns at once using pd.concat(axis=1) instead. To get a de-fragmented frame, use `newframe = frame.copy()`\n",
      "  portfolio_cumulative_returns[n] = (1 + sim_df.fillna(0)).cumprod()\n",
      "C:\\Users\\maris\\Downloads\\Fintech_P5M5-1bf4acc2d69b224c1384771893e8b26bdc73dabf\\Fintech_P5M5-1bf4acc2d69b224c1384771893e8b26bdc73dabf\\Starter_Code-5\\MCForecastTools.py:117: PerformanceWarning: DataFrame is highly fragmented.  This is usually the result of calling `frame.insert` many times, which has poor performance.  Consider joining all columns at once using pd.concat(axis=1) instead. To get a de-fragmented frame, use `newframe = frame.copy()`\n",
      "  portfolio_cumulative_returns[n] = (1 + sim_df.fillna(0)).cumprod()\n",
      "C:\\Users\\maris\\Downloads\\Fintech_P5M5-1bf4acc2d69b224c1384771893e8b26bdc73dabf\\Fintech_P5M5-1bf4acc2d69b224c1384771893e8b26bdc73dabf\\Starter_Code-5\\MCForecastTools.py:117: PerformanceWarning: DataFrame is highly fragmented.  This is usually the result of calling `frame.insert` many times, which has poor performance.  Consider joining all columns at once using pd.concat(axis=1) instead. To get a de-fragmented frame, use `newframe = frame.copy()`\n",
      "  portfolio_cumulative_returns[n] = (1 + sim_df.fillna(0)).cumprod()\n",
      "C:\\Users\\maris\\Downloads\\Fintech_P5M5-1bf4acc2d69b224c1384771893e8b26bdc73dabf\\Fintech_P5M5-1bf4acc2d69b224c1384771893e8b26bdc73dabf\\Starter_Code-5\\MCForecastTools.py:117: PerformanceWarning: DataFrame is highly fragmented.  This is usually the result of calling `frame.insert` many times, which has poor performance.  Consider joining all columns at once using pd.concat(axis=1) instead. To get a de-fragmented frame, use `newframe = frame.copy()`\n",
      "  portfolio_cumulative_returns[n] = (1 + sim_df.fillna(0)).cumprod()\n",
      "C:\\Users\\maris\\Downloads\\Fintech_P5M5-1bf4acc2d69b224c1384771893e8b26bdc73dabf\\Fintech_P5M5-1bf4acc2d69b224c1384771893e8b26bdc73dabf\\Starter_Code-5\\MCForecastTools.py:117: PerformanceWarning: DataFrame is highly fragmented.  This is usually the result of calling `frame.insert` many times, which has poor performance.  Consider joining all columns at once using pd.concat(axis=1) instead. To get a de-fragmented frame, use `newframe = frame.copy()`\n",
      "  portfolio_cumulative_returns[n] = (1 + sim_df.fillna(0)).cumprod()\n"
     ]
    },
    {
     "name": "stdout",
     "output_type": "stream",
     "text": [
      "Running Monte Carlo simulation number 190.\n"
     ]
    },
    {
     "name": "stderr",
     "output_type": "stream",
     "text": [
      "C:\\Users\\maris\\Downloads\\Fintech_P5M5-1bf4acc2d69b224c1384771893e8b26bdc73dabf\\Fintech_P5M5-1bf4acc2d69b224c1384771893e8b26bdc73dabf\\Starter_Code-5\\MCForecastTools.py:117: PerformanceWarning: DataFrame is highly fragmented.  This is usually the result of calling `frame.insert` many times, which has poor performance.  Consider joining all columns at once using pd.concat(axis=1) instead. To get a de-fragmented frame, use `newframe = frame.copy()`\n",
      "  portfolio_cumulative_returns[n] = (1 + sim_df.fillna(0)).cumprod()\n",
      "C:\\Users\\maris\\Downloads\\Fintech_P5M5-1bf4acc2d69b224c1384771893e8b26bdc73dabf\\Fintech_P5M5-1bf4acc2d69b224c1384771893e8b26bdc73dabf\\Starter_Code-5\\MCForecastTools.py:117: PerformanceWarning: DataFrame is highly fragmented.  This is usually the result of calling `frame.insert` many times, which has poor performance.  Consider joining all columns at once using pd.concat(axis=1) instead. To get a de-fragmented frame, use `newframe = frame.copy()`\n",
      "  portfolio_cumulative_returns[n] = (1 + sim_df.fillna(0)).cumprod()\n",
      "C:\\Users\\maris\\Downloads\\Fintech_P5M5-1bf4acc2d69b224c1384771893e8b26bdc73dabf\\Fintech_P5M5-1bf4acc2d69b224c1384771893e8b26bdc73dabf\\Starter_Code-5\\MCForecastTools.py:117: PerformanceWarning: DataFrame is highly fragmented.  This is usually the result of calling `frame.insert` many times, which has poor performance.  Consider joining all columns at once using pd.concat(axis=1) instead. To get a de-fragmented frame, use `newframe = frame.copy()`\n",
      "  portfolio_cumulative_returns[n] = (1 + sim_df.fillna(0)).cumprod()\n",
      "C:\\Users\\maris\\Downloads\\Fintech_P5M5-1bf4acc2d69b224c1384771893e8b26bdc73dabf\\Fintech_P5M5-1bf4acc2d69b224c1384771893e8b26bdc73dabf\\Starter_Code-5\\MCForecastTools.py:117: PerformanceWarning: DataFrame is highly fragmented.  This is usually the result of calling `frame.insert` many times, which has poor performance.  Consider joining all columns at once using pd.concat(axis=1) instead. To get a de-fragmented frame, use `newframe = frame.copy()`\n",
      "  portfolio_cumulative_returns[n] = (1 + sim_df.fillna(0)).cumprod()\n",
      "C:\\Users\\maris\\Downloads\\Fintech_P5M5-1bf4acc2d69b224c1384771893e8b26bdc73dabf\\Fintech_P5M5-1bf4acc2d69b224c1384771893e8b26bdc73dabf\\Starter_Code-5\\MCForecastTools.py:117: PerformanceWarning: DataFrame is highly fragmented.  This is usually the result of calling `frame.insert` many times, which has poor performance.  Consider joining all columns at once using pd.concat(axis=1) instead. To get a de-fragmented frame, use `newframe = frame.copy()`\n",
      "  portfolio_cumulative_returns[n] = (1 + sim_df.fillna(0)).cumprod()\n",
      "C:\\Users\\maris\\Downloads\\Fintech_P5M5-1bf4acc2d69b224c1384771893e8b26bdc73dabf\\Fintech_P5M5-1bf4acc2d69b224c1384771893e8b26bdc73dabf\\Starter_Code-5\\MCForecastTools.py:117: PerformanceWarning: DataFrame is highly fragmented.  This is usually the result of calling `frame.insert` many times, which has poor performance.  Consider joining all columns at once using pd.concat(axis=1) instead. To get a de-fragmented frame, use `newframe = frame.copy()`\n",
      "  portfolio_cumulative_returns[n] = (1 + sim_df.fillna(0)).cumprod()\n",
      "C:\\Users\\maris\\Downloads\\Fintech_P5M5-1bf4acc2d69b224c1384771893e8b26bdc73dabf\\Fintech_P5M5-1bf4acc2d69b224c1384771893e8b26bdc73dabf\\Starter_Code-5\\MCForecastTools.py:117: PerformanceWarning: DataFrame is highly fragmented.  This is usually the result of calling `frame.insert` many times, which has poor performance.  Consider joining all columns at once using pd.concat(axis=1) instead. To get a de-fragmented frame, use `newframe = frame.copy()`\n",
      "  portfolio_cumulative_returns[n] = (1 + sim_df.fillna(0)).cumprod()\n",
      "C:\\Users\\maris\\Downloads\\Fintech_P5M5-1bf4acc2d69b224c1384771893e8b26bdc73dabf\\Fintech_P5M5-1bf4acc2d69b224c1384771893e8b26bdc73dabf\\Starter_Code-5\\MCForecastTools.py:117: PerformanceWarning: DataFrame is highly fragmented.  This is usually the result of calling `frame.insert` many times, which has poor performance.  Consider joining all columns at once using pd.concat(axis=1) instead. To get a de-fragmented frame, use `newframe = frame.copy()`\n",
      "  portfolio_cumulative_returns[n] = (1 + sim_df.fillna(0)).cumprod()\n",
      "C:\\Users\\maris\\Downloads\\Fintech_P5M5-1bf4acc2d69b224c1384771893e8b26bdc73dabf\\Fintech_P5M5-1bf4acc2d69b224c1384771893e8b26bdc73dabf\\Starter_Code-5\\MCForecastTools.py:117: PerformanceWarning: DataFrame is highly fragmented.  This is usually the result of calling `frame.insert` many times, which has poor performance.  Consider joining all columns at once using pd.concat(axis=1) instead. To get a de-fragmented frame, use `newframe = frame.copy()`\n",
      "  portfolio_cumulative_returns[n] = (1 + sim_df.fillna(0)).cumprod()\n",
      "C:\\Users\\maris\\Downloads\\Fintech_P5M5-1bf4acc2d69b224c1384771893e8b26bdc73dabf\\Fintech_P5M5-1bf4acc2d69b224c1384771893e8b26bdc73dabf\\Starter_Code-5\\MCForecastTools.py:117: PerformanceWarning: DataFrame is highly fragmented.  This is usually the result of calling `frame.insert` many times, which has poor performance.  Consider joining all columns at once using pd.concat(axis=1) instead. To get a de-fragmented frame, use `newframe = frame.copy()`\n",
      "  portfolio_cumulative_returns[n] = (1 + sim_df.fillna(0)).cumprod()\n",
      "C:\\Users\\maris\\Downloads\\Fintech_P5M5-1bf4acc2d69b224c1384771893e8b26bdc73dabf\\Fintech_P5M5-1bf4acc2d69b224c1384771893e8b26bdc73dabf\\Starter_Code-5\\MCForecastTools.py:117: PerformanceWarning: DataFrame is highly fragmented.  This is usually the result of calling `frame.insert` many times, which has poor performance.  Consider joining all columns at once using pd.concat(axis=1) instead. To get a de-fragmented frame, use `newframe = frame.copy()`\n",
      "  portfolio_cumulative_returns[n] = (1 + sim_df.fillna(0)).cumprod()\n"
     ]
    },
    {
     "name": "stdout",
     "output_type": "stream",
     "text": [
      "Running Monte Carlo simulation number 200.\n"
     ]
    },
    {
     "name": "stderr",
     "output_type": "stream",
     "text": [
      "C:\\Users\\maris\\Downloads\\Fintech_P5M5-1bf4acc2d69b224c1384771893e8b26bdc73dabf\\Fintech_P5M5-1bf4acc2d69b224c1384771893e8b26bdc73dabf\\Starter_Code-5\\MCForecastTools.py:117: PerformanceWarning: DataFrame is highly fragmented.  This is usually the result of calling `frame.insert` many times, which has poor performance.  Consider joining all columns at once using pd.concat(axis=1) instead. To get a de-fragmented frame, use `newframe = frame.copy()`\n",
      "  portfolio_cumulative_returns[n] = (1 + sim_df.fillna(0)).cumprod()\n",
      "C:\\Users\\maris\\Downloads\\Fintech_P5M5-1bf4acc2d69b224c1384771893e8b26bdc73dabf\\Fintech_P5M5-1bf4acc2d69b224c1384771893e8b26bdc73dabf\\Starter_Code-5\\MCForecastTools.py:117: PerformanceWarning: DataFrame is highly fragmented.  This is usually the result of calling `frame.insert` many times, which has poor performance.  Consider joining all columns at once using pd.concat(axis=1) instead. To get a de-fragmented frame, use `newframe = frame.copy()`\n",
      "  portfolio_cumulative_returns[n] = (1 + sim_df.fillna(0)).cumprod()\n",
      "C:\\Users\\maris\\Downloads\\Fintech_P5M5-1bf4acc2d69b224c1384771893e8b26bdc73dabf\\Fintech_P5M5-1bf4acc2d69b224c1384771893e8b26bdc73dabf\\Starter_Code-5\\MCForecastTools.py:117: PerformanceWarning: DataFrame is highly fragmented.  This is usually the result of calling `frame.insert` many times, which has poor performance.  Consider joining all columns at once using pd.concat(axis=1) instead. To get a de-fragmented frame, use `newframe = frame.copy()`\n",
      "  portfolio_cumulative_returns[n] = (1 + sim_df.fillna(0)).cumprod()\n",
      "C:\\Users\\maris\\Downloads\\Fintech_P5M5-1bf4acc2d69b224c1384771893e8b26bdc73dabf\\Fintech_P5M5-1bf4acc2d69b224c1384771893e8b26bdc73dabf\\Starter_Code-5\\MCForecastTools.py:117: PerformanceWarning: DataFrame is highly fragmented.  This is usually the result of calling `frame.insert` many times, which has poor performance.  Consider joining all columns at once using pd.concat(axis=1) instead. To get a de-fragmented frame, use `newframe = frame.copy()`\n",
      "  portfolio_cumulative_returns[n] = (1 + sim_df.fillna(0)).cumprod()\n",
      "C:\\Users\\maris\\Downloads\\Fintech_P5M5-1bf4acc2d69b224c1384771893e8b26bdc73dabf\\Fintech_P5M5-1bf4acc2d69b224c1384771893e8b26bdc73dabf\\Starter_Code-5\\MCForecastTools.py:117: PerformanceWarning: DataFrame is highly fragmented.  This is usually the result of calling `frame.insert` many times, which has poor performance.  Consider joining all columns at once using pd.concat(axis=1) instead. To get a de-fragmented frame, use `newframe = frame.copy()`\n",
      "  portfolio_cumulative_returns[n] = (1 + sim_df.fillna(0)).cumprod()\n",
      "C:\\Users\\maris\\Downloads\\Fintech_P5M5-1bf4acc2d69b224c1384771893e8b26bdc73dabf\\Fintech_P5M5-1bf4acc2d69b224c1384771893e8b26bdc73dabf\\Starter_Code-5\\MCForecastTools.py:117: PerformanceWarning: DataFrame is highly fragmented.  This is usually the result of calling `frame.insert` many times, which has poor performance.  Consider joining all columns at once using pd.concat(axis=1) instead. To get a de-fragmented frame, use `newframe = frame.copy()`\n",
      "  portfolio_cumulative_returns[n] = (1 + sim_df.fillna(0)).cumprod()\n",
      "C:\\Users\\maris\\Downloads\\Fintech_P5M5-1bf4acc2d69b224c1384771893e8b26bdc73dabf\\Fintech_P5M5-1bf4acc2d69b224c1384771893e8b26bdc73dabf\\Starter_Code-5\\MCForecastTools.py:117: PerformanceWarning: DataFrame is highly fragmented.  This is usually the result of calling `frame.insert` many times, which has poor performance.  Consider joining all columns at once using pd.concat(axis=1) instead. To get a de-fragmented frame, use `newframe = frame.copy()`\n",
      "  portfolio_cumulative_returns[n] = (1 + sim_df.fillna(0)).cumprod()\n",
      "C:\\Users\\maris\\Downloads\\Fintech_P5M5-1bf4acc2d69b224c1384771893e8b26bdc73dabf\\Fintech_P5M5-1bf4acc2d69b224c1384771893e8b26bdc73dabf\\Starter_Code-5\\MCForecastTools.py:117: PerformanceWarning: DataFrame is highly fragmented.  This is usually the result of calling `frame.insert` many times, which has poor performance.  Consider joining all columns at once using pd.concat(axis=1) instead. To get a de-fragmented frame, use `newframe = frame.copy()`\n",
      "  portfolio_cumulative_returns[n] = (1 + sim_df.fillna(0)).cumprod()\n",
      "C:\\Users\\maris\\Downloads\\Fintech_P5M5-1bf4acc2d69b224c1384771893e8b26bdc73dabf\\Fintech_P5M5-1bf4acc2d69b224c1384771893e8b26bdc73dabf\\Starter_Code-5\\MCForecastTools.py:117: PerformanceWarning: DataFrame is highly fragmented.  This is usually the result of calling `frame.insert` many times, which has poor performance.  Consider joining all columns at once using pd.concat(axis=1) instead. To get a de-fragmented frame, use `newframe = frame.copy()`\n",
      "  portfolio_cumulative_returns[n] = (1 + sim_df.fillna(0)).cumprod()\n",
      "C:\\Users\\maris\\Downloads\\Fintech_P5M5-1bf4acc2d69b224c1384771893e8b26bdc73dabf\\Fintech_P5M5-1bf4acc2d69b224c1384771893e8b26bdc73dabf\\Starter_Code-5\\MCForecastTools.py:117: PerformanceWarning: DataFrame is highly fragmented.  This is usually the result of calling `frame.insert` many times, which has poor performance.  Consider joining all columns at once using pd.concat(axis=1) instead. To get a de-fragmented frame, use `newframe = frame.copy()`\n",
      "  portfolio_cumulative_returns[n] = (1 + sim_df.fillna(0)).cumprod()\n"
     ]
    },
    {
     "name": "stdout",
     "output_type": "stream",
     "text": [
      "Running Monte Carlo simulation number 210.\n"
     ]
    },
    {
     "name": "stderr",
     "output_type": "stream",
     "text": [
      "C:\\Users\\maris\\Downloads\\Fintech_P5M5-1bf4acc2d69b224c1384771893e8b26bdc73dabf\\Fintech_P5M5-1bf4acc2d69b224c1384771893e8b26bdc73dabf\\Starter_Code-5\\MCForecastTools.py:117: PerformanceWarning: DataFrame is highly fragmented.  This is usually the result of calling `frame.insert` many times, which has poor performance.  Consider joining all columns at once using pd.concat(axis=1) instead. To get a de-fragmented frame, use `newframe = frame.copy()`\n",
      "  portfolio_cumulative_returns[n] = (1 + sim_df.fillna(0)).cumprod()\n",
      "C:\\Users\\maris\\Downloads\\Fintech_P5M5-1bf4acc2d69b224c1384771893e8b26bdc73dabf\\Fintech_P5M5-1bf4acc2d69b224c1384771893e8b26bdc73dabf\\Starter_Code-5\\MCForecastTools.py:117: PerformanceWarning: DataFrame is highly fragmented.  This is usually the result of calling `frame.insert` many times, which has poor performance.  Consider joining all columns at once using pd.concat(axis=1) instead. To get a de-fragmented frame, use `newframe = frame.copy()`\n",
      "  portfolio_cumulative_returns[n] = (1 + sim_df.fillna(0)).cumprod()\n",
      "C:\\Users\\maris\\Downloads\\Fintech_P5M5-1bf4acc2d69b224c1384771893e8b26bdc73dabf\\Fintech_P5M5-1bf4acc2d69b224c1384771893e8b26bdc73dabf\\Starter_Code-5\\MCForecastTools.py:117: PerformanceWarning: DataFrame is highly fragmented.  This is usually the result of calling `frame.insert` many times, which has poor performance.  Consider joining all columns at once using pd.concat(axis=1) instead. To get a de-fragmented frame, use `newframe = frame.copy()`\n",
      "  portfolio_cumulative_returns[n] = (1 + sim_df.fillna(0)).cumprod()\n",
      "C:\\Users\\maris\\Downloads\\Fintech_P5M5-1bf4acc2d69b224c1384771893e8b26bdc73dabf\\Fintech_P5M5-1bf4acc2d69b224c1384771893e8b26bdc73dabf\\Starter_Code-5\\MCForecastTools.py:117: PerformanceWarning: DataFrame is highly fragmented.  This is usually the result of calling `frame.insert` many times, which has poor performance.  Consider joining all columns at once using pd.concat(axis=1) instead. To get a de-fragmented frame, use `newframe = frame.copy()`\n",
      "  portfolio_cumulative_returns[n] = (1 + sim_df.fillna(0)).cumprod()\n",
      "C:\\Users\\maris\\Downloads\\Fintech_P5M5-1bf4acc2d69b224c1384771893e8b26bdc73dabf\\Fintech_P5M5-1bf4acc2d69b224c1384771893e8b26bdc73dabf\\Starter_Code-5\\MCForecastTools.py:117: PerformanceWarning: DataFrame is highly fragmented.  This is usually the result of calling `frame.insert` many times, which has poor performance.  Consider joining all columns at once using pd.concat(axis=1) instead. To get a de-fragmented frame, use `newframe = frame.copy()`\n",
      "  portfolio_cumulative_returns[n] = (1 + sim_df.fillna(0)).cumprod()\n",
      "C:\\Users\\maris\\Downloads\\Fintech_P5M5-1bf4acc2d69b224c1384771893e8b26bdc73dabf\\Fintech_P5M5-1bf4acc2d69b224c1384771893e8b26bdc73dabf\\Starter_Code-5\\MCForecastTools.py:117: PerformanceWarning: DataFrame is highly fragmented.  This is usually the result of calling `frame.insert` many times, which has poor performance.  Consider joining all columns at once using pd.concat(axis=1) instead. To get a de-fragmented frame, use `newframe = frame.copy()`\n",
      "  portfolio_cumulative_returns[n] = (1 + sim_df.fillna(0)).cumprod()\n",
      "C:\\Users\\maris\\Downloads\\Fintech_P5M5-1bf4acc2d69b224c1384771893e8b26bdc73dabf\\Fintech_P5M5-1bf4acc2d69b224c1384771893e8b26bdc73dabf\\Starter_Code-5\\MCForecastTools.py:117: PerformanceWarning: DataFrame is highly fragmented.  This is usually the result of calling `frame.insert` many times, which has poor performance.  Consider joining all columns at once using pd.concat(axis=1) instead. To get a de-fragmented frame, use `newframe = frame.copy()`\n",
      "  portfolio_cumulative_returns[n] = (1 + sim_df.fillna(0)).cumprod()\n",
      "C:\\Users\\maris\\Downloads\\Fintech_P5M5-1bf4acc2d69b224c1384771893e8b26bdc73dabf\\Fintech_P5M5-1bf4acc2d69b224c1384771893e8b26bdc73dabf\\Starter_Code-5\\MCForecastTools.py:117: PerformanceWarning: DataFrame is highly fragmented.  This is usually the result of calling `frame.insert` many times, which has poor performance.  Consider joining all columns at once using pd.concat(axis=1) instead. To get a de-fragmented frame, use `newframe = frame.copy()`\n",
      "  portfolio_cumulative_returns[n] = (1 + sim_df.fillna(0)).cumprod()\n",
      "C:\\Users\\maris\\Downloads\\Fintech_P5M5-1bf4acc2d69b224c1384771893e8b26bdc73dabf\\Fintech_P5M5-1bf4acc2d69b224c1384771893e8b26bdc73dabf\\Starter_Code-5\\MCForecastTools.py:117: PerformanceWarning: DataFrame is highly fragmented.  This is usually the result of calling `frame.insert` many times, which has poor performance.  Consider joining all columns at once using pd.concat(axis=1) instead. To get a de-fragmented frame, use `newframe = frame.copy()`\n",
      "  portfolio_cumulative_returns[n] = (1 + sim_df.fillna(0)).cumprod()\n",
      "C:\\Users\\maris\\Downloads\\Fintech_P5M5-1bf4acc2d69b224c1384771893e8b26bdc73dabf\\Fintech_P5M5-1bf4acc2d69b224c1384771893e8b26bdc73dabf\\Starter_Code-5\\MCForecastTools.py:117: PerformanceWarning: DataFrame is highly fragmented.  This is usually the result of calling `frame.insert` many times, which has poor performance.  Consider joining all columns at once using pd.concat(axis=1) instead. To get a de-fragmented frame, use `newframe = frame.copy()`\n",
      "  portfolio_cumulative_returns[n] = (1 + sim_df.fillna(0)).cumprod()\n"
     ]
    },
    {
     "name": "stdout",
     "output_type": "stream",
     "text": [
      "Running Monte Carlo simulation number 220.\n"
     ]
    },
    {
     "name": "stderr",
     "output_type": "stream",
     "text": [
      "C:\\Users\\maris\\Downloads\\Fintech_P5M5-1bf4acc2d69b224c1384771893e8b26bdc73dabf\\Fintech_P5M5-1bf4acc2d69b224c1384771893e8b26bdc73dabf\\Starter_Code-5\\MCForecastTools.py:117: PerformanceWarning: DataFrame is highly fragmented.  This is usually the result of calling `frame.insert` many times, which has poor performance.  Consider joining all columns at once using pd.concat(axis=1) instead. To get a de-fragmented frame, use `newframe = frame.copy()`\n",
      "  portfolio_cumulative_returns[n] = (1 + sim_df.fillna(0)).cumprod()\n",
      "C:\\Users\\maris\\Downloads\\Fintech_P5M5-1bf4acc2d69b224c1384771893e8b26bdc73dabf\\Fintech_P5M5-1bf4acc2d69b224c1384771893e8b26bdc73dabf\\Starter_Code-5\\MCForecastTools.py:117: PerformanceWarning: DataFrame is highly fragmented.  This is usually the result of calling `frame.insert` many times, which has poor performance.  Consider joining all columns at once using pd.concat(axis=1) instead. To get a de-fragmented frame, use `newframe = frame.copy()`\n",
      "  portfolio_cumulative_returns[n] = (1 + sim_df.fillna(0)).cumprod()\n",
      "C:\\Users\\maris\\Downloads\\Fintech_P5M5-1bf4acc2d69b224c1384771893e8b26bdc73dabf\\Fintech_P5M5-1bf4acc2d69b224c1384771893e8b26bdc73dabf\\Starter_Code-5\\MCForecastTools.py:117: PerformanceWarning: DataFrame is highly fragmented.  This is usually the result of calling `frame.insert` many times, which has poor performance.  Consider joining all columns at once using pd.concat(axis=1) instead. To get a de-fragmented frame, use `newframe = frame.copy()`\n",
      "  portfolio_cumulative_returns[n] = (1 + sim_df.fillna(0)).cumprod()\n",
      "C:\\Users\\maris\\Downloads\\Fintech_P5M5-1bf4acc2d69b224c1384771893e8b26bdc73dabf\\Fintech_P5M5-1bf4acc2d69b224c1384771893e8b26bdc73dabf\\Starter_Code-5\\MCForecastTools.py:117: PerformanceWarning: DataFrame is highly fragmented.  This is usually the result of calling `frame.insert` many times, which has poor performance.  Consider joining all columns at once using pd.concat(axis=1) instead. To get a de-fragmented frame, use `newframe = frame.copy()`\n",
      "  portfolio_cumulative_returns[n] = (1 + sim_df.fillna(0)).cumprod()\n",
      "C:\\Users\\maris\\Downloads\\Fintech_P5M5-1bf4acc2d69b224c1384771893e8b26bdc73dabf\\Fintech_P5M5-1bf4acc2d69b224c1384771893e8b26bdc73dabf\\Starter_Code-5\\MCForecastTools.py:117: PerformanceWarning: DataFrame is highly fragmented.  This is usually the result of calling `frame.insert` many times, which has poor performance.  Consider joining all columns at once using pd.concat(axis=1) instead. To get a de-fragmented frame, use `newframe = frame.copy()`\n",
      "  portfolio_cumulative_returns[n] = (1 + sim_df.fillna(0)).cumprod()\n",
      "C:\\Users\\maris\\Downloads\\Fintech_P5M5-1bf4acc2d69b224c1384771893e8b26bdc73dabf\\Fintech_P5M5-1bf4acc2d69b224c1384771893e8b26bdc73dabf\\Starter_Code-5\\MCForecastTools.py:117: PerformanceWarning: DataFrame is highly fragmented.  This is usually the result of calling `frame.insert` many times, which has poor performance.  Consider joining all columns at once using pd.concat(axis=1) instead. To get a de-fragmented frame, use `newframe = frame.copy()`\n",
      "  portfolio_cumulative_returns[n] = (1 + sim_df.fillna(0)).cumprod()\n",
      "C:\\Users\\maris\\Downloads\\Fintech_P5M5-1bf4acc2d69b224c1384771893e8b26bdc73dabf\\Fintech_P5M5-1bf4acc2d69b224c1384771893e8b26bdc73dabf\\Starter_Code-5\\MCForecastTools.py:117: PerformanceWarning: DataFrame is highly fragmented.  This is usually the result of calling `frame.insert` many times, which has poor performance.  Consider joining all columns at once using pd.concat(axis=1) instead. To get a de-fragmented frame, use `newframe = frame.copy()`\n",
      "  portfolio_cumulative_returns[n] = (1 + sim_df.fillna(0)).cumprod()\n",
      "C:\\Users\\maris\\Downloads\\Fintech_P5M5-1bf4acc2d69b224c1384771893e8b26bdc73dabf\\Fintech_P5M5-1bf4acc2d69b224c1384771893e8b26bdc73dabf\\Starter_Code-5\\MCForecastTools.py:117: PerformanceWarning: DataFrame is highly fragmented.  This is usually the result of calling `frame.insert` many times, which has poor performance.  Consider joining all columns at once using pd.concat(axis=1) instead. To get a de-fragmented frame, use `newframe = frame.copy()`\n",
      "  portfolio_cumulative_returns[n] = (1 + sim_df.fillna(0)).cumprod()\n",
      "C:\\Users\\maris\\Downloads\\Fintech_P5M5-1bf4acc2d69b224c1384771893e8b26bdc73dabf\\Fintech_P5M5-1bf4acc2d69b224c1384771893e8b26bdc73dabf\\Starter_Code-5\\MCForecastTools.py:117: PerformanceWarning: DataFrame is highly fragmented.  This is usually the result of calling `frame.insert` many times, which has poor performance.  Consider joining all columns at once using pd.concat(axis=1) instead. To get a de-fragmented frame, use `newframe = frame.copy()`\n",
      "  portfolio_cumulative_returns[n] = (1 + sim_df.fillna(0)).cumprod()\n"
     ]
    },
    {
     "name": "stdout",
     "output_type": "stream",
     "text": [
      "Running Monte Carlo simulation number 230.\n"
     ]
    },
    {
     "name": "stderr",
     "output_type": "stream",
     "text": [
      "C:\\Users\\maris\\Downloads\\Fintech_P5M5-1bf4acc2d69b224c1384771893e8b26bdc73dabf\\Fintech_P5M5-1bf4acc2d69b224c1384771893e8b26bdc73dabf\\Starter_Code-5\\MCForecastTools.py:117: PerformanceWarning: DataFrame is highly fragmented.  This is usually the result of calling `frame.insert` many times, which has poor performance.  Consider joining all columns at once using pd.concat(axis=1) instead. To get a de-fragmented frame, use `newframe = frame.copy()`\n",
      "  portfolio_cumulative_returns[n] = (1 + sim_df.fillna(0)).cumprod()\n",
      "C:\\Users\\maris\\Downloads\\Fintech_P5M5-1bf4acc2d69b224c1384771893e8b26bdc73dabf\\Fintech_P5M5-1bf4acc2d69b224c1384771893e8b26bdc73dabf\\Starter_Code-5\\MCForecastTools.py:117: PerformanceWarning: DataFrame is highly fragmented.  This is usually the result of calling `frame.insert` many times, which has poor performance.  Consider joining all columns at once using pd.concat(axis=1) instead. To get a de-fragmented frame, use `newframe = frame.copy()`\n",
      "  portfolio_cumulative_returns[n] = (1 + sim_df.fillna(0)).cumprod()\n",
      "C:\\Users\\maris\\Downloads\\Fintech_P5M5-1bf4acc2d69b224c1384771893e8b26bdc73dabf\\Fintech_P5M5-1bf4acc2d69b224c1384771893e8b26bdc73dabf\\Starter_Code-5\\MCForecastTools.py:117: PerformanceWarning: DataFrame is highly fragmented.  This is usually the result of calling `frame.insert` many times, which has poor performance.  Consider joining all columns at once using pd.concat(axis=1) instead. To get a de-fragmented frame, use `newframe = frame.copy()`\n",
      "  portfolio_cumulative_returns[n] = (1 + sim_df.fillna(0)).cumprod()\n",
      "C:\\Users\\maris\\Downloads\\Fintech_P5M5-1bf4acc2d69b224c1384771893e8b26bdc73dabf\\Fintech_P5M5-1bf4acc2d69b224c1384771893e8b26bdc73dabf\\Starter_Code-5\\MCForecastTools.py:117: PerformanceWarning: DataFrame is highly fragmented.  This is usually the result of calling `frame.insert` many times, which has poor performance.  Consider joining all columns at once using pd.concat(axis=1) instead. To get a de-fragmented frame, use `newframe = frame.copy()`\n",
      "  portfolio_cumulative_returns[n] = (1 + sim_df.fillna(0)).cumprod()\n",
      "C:\\Users\\maris\\Downloads\\Fintech_P5M5-1bf4acc2d69b224c1384771893e8b26bdc73dabf\\Fintech_P5M5-1bf4acc2d69b224c1384771893e8b26bdc73dabf\\Starter_Code-5\\MCForecastTools.py:117: PerformanceWarning: DataFrame is highly fragmented.  This is usually the result of calling `frame.insert` many times, which has poor performance.  Consider joining all columns at once using pd.concat(axis=1) instead. To get a de-fragmented frame, use `newframe = frame.copy()`\n",
      "  portfolio_cumulative_returns[n] = (1 + sim_df.fillna(0)).cumprod()\n",
      "C:\\Users\\maris\\Downloads\\Fintech_P5M5-1bf4acc2d69b224c1384771893e8b26bdc73dabf\\Fintech_P5M5-1bf4acc2d69b224c1384771893e8b26bdc73dabf\\Starter_Code-5\\MCForecastTools.py:117: PerformanceWarning: DataFrame is highly fragmented.  This is usually the result of calling `frame.insert` many times, which has poor performance.  Consider joining all columns at once using pd.concat(axis=1) instead. To get a de-fragmented frame, use `newframe = frame.copy()`\n",
      "  portfolio_cumulative_returns[n] = (1 + sim_df.fillna(0)).cumprod()\n",
      "C:\\Users\\maris\\Downloads\\Fintech_P5M5-1bf4acc2d69b224c1384771893e8b26bdc73dabf\\Fintech_P5M5-1bf4acc2d69b224c1384771893e8b26bdc73dabf\\Starter_Code-5\\MCForecastTools.py:117: PerformanceWarning: DataFrame is highly fragmented.  This is usually the result of calling `frame.insert` many times, which has poor performance.  Consider joining all columns at once using pd.concat(axis=1) instead. To get a de-fragmented frame, use `newframe = frame.copy()`\n",
      "  portfolio_cumulative_returns[n] = (1 + sim_df.fillna(0)).cumprod()\n",
      "C:\\Users\\maris\\Downloads\\Fintech_P5M5-1bf4acc2d69b224c1384771893e8b26bdc73dabf\\Fintech_P5M5-1bf4acc2d69b224c1384771893e8b26bdc73dabf\\Starter_Code-5\\MCForecastTools.py:117: PerformanceWarning: DataFrame is highly fragmented.  This is usually the result of calling `frame.insert` many times, which has poor performance.  Consider joining all columns at once using pd.concat(axis=1) instead. To get a de-fragmented frame, use `newframe = frame.copy()`\n",
      "  portfolio_cumulative_returns[n] = (1 + sim_df.fillna(0)).cumprod()\n",
      "C:\\Users\\maris\\Downloads\\Fintech_P5M5-1bf4acc2d69b224c1384771893e8b26bdc73dabf\\Fintech_P5M5-1bf4acc2d69b224c1384771893e8b26bdc73dabf\\Starter_Code-5\\MCForecastTools.py:117: PerformanceWarning: DataFrame is highly fragmented.  This is usually the result of calling `frame.insert` many times, which has poor performance.  Consider joining all columns at once using pd.concat(axis=1) instead. To get a de-fragmented frame, use `newframe = frame.copy()`\n",
      "  portfolio_cumulative_returns[n] = (1 + sim_df.fillna(0)).cumprod()\n",
      "C:\\Users\\maris\\Downloads\\Fintech_P5M5-1bf4acc2d69b224c1384771893e8b26bdc73dabf\\Fintech_P5M5-1bf4acc2d69b224c1384771893e8b26bdc73dabf\\Starter_Code-5\\MCForecastTools.py:117: PerformanceWarning: DataFrame is highly fragmented.  This is usually the result of calling `frame.insert` many times, which has poor performance.  Consider joining all columns at once using pd.concat(axis=1) instead. To get a de-fragmented frame, use `newframe = frame.copy()`\n",
      "  portfolio_cumulative_returns[n] = (1 + sim_df.fillna(0)).cumprod()\n",
      "C:\\Users\\maris\\Downloads\\Fintech_P5M5-1bf4acc2d69b224c1384771893e8b26bdc73dabf\\Fintech_P5M5-1bf4acc2d69b224c1384771893e8b26bdc73dabf\\Starter_Code-5\\MCForecastTools.py:117: PerformanceWarning: DataFrame is highly fragmented.  This is usually the result of calling `frame.insert` many times, which has poor performance.  Consider joining all columns at once using pd.concat(axis=1) instead. To get a de-fragmented frame, use `newframe = frame.copy()`\n",
      "  portfolio_cumulative_returns[n] = (1 + sim_df.fillna(0)).cumprod()\n"
     ]
    },
    {
     "name": "stdout",
     "output_type": "stream",
     "text": [
      "Running Monte Carlo simulation number 240.\n"
     ]
    },
    {
     "name": "stderr",
     "output_type": "stream",
     "text": [
      "C:\\Users\\maris\\Downloads\\Fintech_P5M5-1bf4acc2d69b224c1384771893e8b26bdc73dabf\\Fintech_P5M5-1bf4acc2d69b224c1384771893e8b26bdc73dabf\\Starter_Code-5\\MCForecastTools.py:117: PerformanceWarning: DataFrame is highly fragmented.  This is usually the result of calling `frame.insert` many times, which has poor performance.  Consider joining all columns at once using pd.concat(axis=1) instead. To get a de-fragmented frame, use `newframe = frame.copy()`\n",
      "  portfolio_cumulative_returns[n] = (1 + sim_df.fillna(0)).cumprod()\n",
      "C:\\Users\\maris\\Downloads\\Fintech_P5M5-1bf4acc2d69b224c1384771893e8b26bdc73dabf\\Fintech_P5M5-1bf4acc2d69b224c1384771893e8b26bdc73dabf\\Starter_Code-5\\MCForecastTools.py:117: PerformanceWarning: DataFrame is highly fragmented.  This is usually the result of calling `frame.insert` many times, which has poor performance.  Consider joining all columns at once using pd.concat(axis=1) instead. To get a de-fragmented frame, use `newframe = frame.copy()`\n",
      "  portfolio_cumulative_returns[n] = (1 + sim_df.fillna(0)).cumprod()\n",
      "C:\\Users\\maris\\Downloads\\Fintech_P5M5-1bf4acc2d69b224c1384771893e8b26bdc73dabf\\Fintech_P5M5-1bf4acc2d69b224c1384771893e8b26bdc73dabf\\Starter_Code-5\\MCForecastTools.py:117: PerformanceWarning: DataFrame is highly fragmented.  This is usually the result of calling `frame.insert` many times, which has poor performance.  Consider joining all columns at once using pd.concat(axis=1) instead. To get a de-fragmented frame, use `newframe = frame.copy()`\n",
      "  portfolio_cumulative_returns[n] = (1 + sim_df.fillna(0)).cumprod()\n",
      "C:\\Users\\maris\\Downloads\\Fintech_P5M5-1bf4acc2d69b224c1384771893e8b26bdc73dabf\\Fintech_P5M5-1bf4acc2d69b224c1384771893e8b26bdc73dabf\\Starter_Code-5\\MCForecastTools.py:117: PerformanceWarning: DataFrame is highly fragmented.  This is usually the result of calling `frame.insert` many times, which has poor performance.  Consider joining all columns at once using pd.concat(axis=1) instead. To get a de-fragmented frame, use `newframe = frame.copy()`\n",
      "  portfolio_cumulative_returns[n] = (1 + sim_df.fillna(0)).cumprod()\n",
      "C:\\Users\\maris\\Downloads\\Fintech_P5M5-1bf4acc2d69b224c1384771893e8b26bdc73dabf\\Fintech_P5M5-1bf4acc2d69b224c1384771893e8b26bdc73dabf\\Starter_Code-5\\MCForecastTools.py:117: PerformanceWarning: DataFrame is highly fragmented.  This is usually the result of calling `frame.insert` many times, which has poor performance.  Consider joining all columns at once using pd.concat(axis=1) instead. To get a de-fragmented frame, use `newframe = frame.copy()`\n",
      "  portfolio_cumulative_returns[n] = (1 + sim_df.fillna(0)).cumprod()\n",
      "C:\\Users\\maris\\Downloads\\Fintech_P5M5-1bf4acc2d69b224c1384771893e8b26bdc73dabf\\Fintech_P5M5-1bf4acc2d69b224c1384771893e8b26bdc73dabf\\Starter_Code-5\\MCForecastTools.py:117: PerformanceWarning: DataFrame is highly fragmented.  This is usually the result of calling `frame.insert` many times, which has poor performance.  Consider joining all columns at once using pd.concat(axis=1) instead. To get a de-fragmented frame, use `newframe = frame.copy()`\n",
      "  portfolio_cumulative_returns[n] = (1 + sim_df.fillna(0)).cumprod()\n",
      "C:\\Users\\maris\\Downloads\\Fintech_P5M5-1bf4acc2d69b224c1384771893e8b26bdc73dabf\\Fintech_P5M5-1bf4acc2d69b224c1384771893e8b26bdc73dabf\\Starter_Code-5\\MCForecastTools.py:117: PerformanceWarning: DataFrame is highly fragmented.  This is usually the result of calling `frame.insert` many times, which has poor performance.  Consider joining all columns at once using pd.concat(axis=1) instead. To get a de-fragmented frame, use `newframe = frame.copy()`\n",
      "  portfolio_cumulative_returns[n] = (1 + sim_df.fillna(0)).cumprod()\n",
      "C:\\Users\\maris\\Downloads\\Fintech_P5M5-1bf4acc2d69b224c1384771893e8b26bdc73dabf\\Fintech_P5M5-1bf4acc2d69b224c1384771893e8b26bdc73dabf\\Starter_Code-5\\MCForecastTools.py:117: PerformanceWarning: DataFrame is highly fragmented.  This is usually the result of calling `frame.insert` many times, which has poor performance.  Consider joining all columns at once using pd.concat(axis=1) instead. To get a de-fragmented frame, use `newframe = frame.copy()`\n",
      "  portfolio_cumulative_returns[n] = (1 + sim_df.fillna(0)).cumprod()\n",
      "C:\\Users\\maris\\Downloads\\Fintech_P5M5-1bf4acc2d69b224c1384771893e8b26bdc73dabf\\Fintech_P5M5-1bf4acc2d69b224c1384771893e8b26bdc73dabf\\Starter_Code-5\\MCForecastTools.py:117: PerformanceWarning: DataFrame is highly fragmented.  This is usually the result of calling `frame.insert` many times, which has poor performance.  Consider joining all columns at once using pd.concat(axis=1) instead. To get a de-fragmented frame, use `newframe = frame.copy()`\n",
      "  portfolio_cumulative_returns[n] = (1 + sim_df.fillna(0)).cumprod()\n"
     ]
    },
    {
     "name": "stdout",
     "output_type": "stream",
     "text": [
      "Running Monte Carlo simulation number 250.\n"
     ]
    },
    {
     "name": "stderr",
     "output_type": "stream",
     "text": [
      "C:\\Users\\maris\\Downloads\\Fintech_P5M5-1bf4acc2d69b224c1384771893e8b26bdc73dabf\\Fintech_P5M5-1bf4acc2d69b224c1384771893e8b26bdc73dabf\\Starter_Code-5\\MCForecastTools.py:117: PerformanceWarning: DataFrame is highly fragmented.  This is usually the result of calling `frame.insert` many times, which has poor performance.  Consider joining all columns at once using pd.concat(axis=1) instead. To get a de-fragmented frame, use `newframe = frame.copy()`\n",
      "  portfolio_cumulative_returns[n] = (1 + sim_df.fillna(0)).cumprod()\n",
      "C:\\Users\\maris\\Downloads\\Fintech_P5M5-1bf4acc2d69b224c1384771893e8b26bdc73dabf\\Fintech_P5M5-1bf4acc2d69b224c1384771893e8b26bdc73dabf\\Starter_Code-5\\MCForecastTools.py:117: PerformanceWarning: DataFrame is highly fragmented.  This is usually the result of calling `frame.insert` many times, which has poor performance.  Consider joining all columns at once using pd.concat(axis=1) instead. To get a de-fragmented frame, use `newframe = frame.copy()`\n",
      "  portfolio_cumulative_returns[n] = (1 + sim_df.fillna(0)).cumprod()\n",
      "C:\\Users\\maris\\Downloads\\Fintech_P5M5-1bf4acc2d69b224c1384771893e8b26bdc73dabf\\Fintech_P5M5-1bf4acc2d69b224c1384771893e8b26bdc73dabf\\Starter_Code-5\\MCForecastTools.py:117: PerformanceWarning: DataFrame is highly fragmented.  This is usually the result of calling `frame.insert` many times, which has poor performance.  Consider joining all columns at once using pd.concat(axis=1) instead. To get a de-fragmented frame, use `newframe = frame.copy()`\n",
      "  portfolio_cumulative_returns[n] = (1 + sim_df.fillna(0)).cumprod()\n",
      "C:\\Users\\maris\\Downloads\\Fintech_P5M5-1bf4acc2d69b224c1384771893e8b26bdc73dabf\\Fintech_P5M5-1bf4acc2d69b224c1384771893e8b26bdc73dabf\\Starter_Code-5\\MCForecastTools.py:117: PerformanceWarning: DataFrame is highly fragmented.  This is usually the result of calling `frame.insert` many times, which has poor performance.  Consider joining all columns at once using pd.concat(axis=1) instead. To get a de-fragmented frame, use `newframe = frame.copy()`\n",
      "  portfolio_cumulative_returns[n] = (1 + sim_df.fillna(0)).cumprod()\n",
      "C:\\Users\\maris\\Downloads\\Fintech_P5M5-1bf4acc2d69b224c1384771893e8b26bdc73dabf\\Fintech_P5M5-1bf4acc2d69b224c1384771893e8b26bdc73dabf\\Starter_Code-5\\MCForecastTools.py:117: PerformanceWarning: DataFrame is highly fragmented.  This is usually the result of calling `frame.insert` many times, which has poor performance.  Consider joining all columns at once using pd.concat(axis=1) instead. To get a de-fragmented frame, use `newframe = frame.copy()`\n",
      "  portfolio_cumulative_returns[n] = (1 + sim_df.fillna(0)).cumprod()\n",
      "C:\\Users\\maris\\Downloads\\Fintech_P5M5-1bf4acc2d69b224c1384771893e8b26bdc73dabf\\Fintech_P5M5-1bf4acc2d69b224c1384771893e8b26bdc73dabf\\Starter_Code-5\\MCForecastTools.py:117: PerformanceWarning: DataFrame is highly fragmented.  This is usually the result of calling `frame.insert` many times, which has poor performance.  Consider joining all columns at once using pd.concat(axis=1) instead. To get a de-fragmented frame, use `newframe = frame.copy()`\n",
      "  portfolio_cumulative_returns[n] = (1 + sim_df.fillna(0)).cumprod()\n",
      "C:\\Users\\maris\\Downloads\\Fintech_P5M5-1bf4acc2d69b224c1384771893e8b26bdc73dabf\\Fintech_P5M5-1bf4acc2d69b224c1384771893e8b26bdc73dabf\\Starter_Code-5\\MCForecastTools.py:117: PerformanceWarning: DataFrame is highly fragmented.  This is usually the result of calling `frame.insert` many times, which has poor performance.  Consider joining all columns at once using pd.concat(axis=1) instead. To get a de-fragmented frame, use `newframe = frame.copy()`\n",
      "  portfolio_cumulative_returns[n] = (1 + sim_df.fillna(0)).cumprod()\n",
      "C:\\Users\\maris\\Downloads\\Fintech_P5M5-1bf4acc2d69b224c1384771893e8b26bdc73dabf\\Fintech_P5M5-1bf4acc2d69b224c1384771893e8b26bdc73dabf\\Starter_Code-5\\MCForecastTools.py:117: PerformanceWarning: DataFrame is highly fragmented.  This is usually the result of calling `frame.insert` many times, which has poor performance.  Consider joining all columns at once using pd.concat(axis=1) instead. To get a de-fragmented frame, use `newframe = frame.copy()`\n",
      "  portfolio_cumulative_returns[n] = (1 + sim_df.fillna(0)).cumprod()\n",
      "C:\\Users\\maris\\Downloads\\Fintech_P5M5-1bf4acc2d69b224c1384771893e8b26bdc73dabf\\Fintech_P5M5-1bf4acc2d69b224c1384771893e8b26bdc73dabf\\Starter_Code-5\\MCForecastTools.py:117: PerformanceWarning: DataFrame is highly fragmented.  This is usually the result of calling `frame.insert` many times, which has poor performance.  Consider joining all columns at once using pd.concat(axis=1) instead. To get a de-fragmented frame, use `newframe = frame.copy()`\n",
      "  portfolio_cumulative_returns[n] = (1 + sim_df.fillna(0)).cumprod()\n",
      "C:\\Users\\maris\\Downloads\\Fintech_P5M5-1bf4acc2d69b224c1384771893e8b26bdc73dabf\\Fintech_P5M5-1bf4acc2d69b224c1384771893e8b26bdc73dabf\\Starter_Code-5\\MCForecastTools.py:117: PerformanceWarning: DataFrame is highly fragmented.  This is usually the result of calling `frame.insert` many times, which has poor performance.  Consider joining all columns at once using pd.concat(axis=1) instead. To get a de-fragmented frame, use `newframe = frame.copy()`\n",
      "  portfolio_cumulative_returns[n] = (1 + sim_df.fillna(0)).cumprod()\n",
      "C:\\Users\\maris\\Downloads\\Fintech_P5M5-1bf4acc2d69b224c1384771893e8b26bdc73dabf\\Fintech_P5M5-1bf4acc2d69b224c1384771893e8b26bdc73dabf\\Starter_Code-5\\MCForecastTools.py:117: PerformanceWarning: DataFrame is highly fragmented.  This is usually the result of calling `frame.insert` many times, which has poor performance.  Consider joining all columns at once using pd.concat(axis=1) instead. To get a de-fragmented frame, use `newframe = frame.copy()`\n",
      "  portfolio_cumulative_returns[n] = (1 + sim_df.fillna(0)).cumprod()\n",
      "C:\\Users\\maris\\Downloads\\Fintech_P5M5-1bf4acc2d69b224c1384771893e8b26bdc73dabf\\Fintech_P5M5-1bf4acc2d69b224c1384771893e8b26bdc73dabf\\Starter_Code-5\\MCForecastTools.py:117: PerformanceWarning: DataFrame is highly fragmented.  This is usually the result of calling `frame.insert` many times, which has poor performance.  Consider joining all columns at once using pd.concat(axis=1) instead. To get a de-fragmented frame, use `newframe = frame.copy()`\n",
      "  portfolio_cumulative_returns[n] = (1 + sim_df.fillna(0)).cumprod()\n"
     ]
    },
    {
     "name": "stdout",
     "output_type": "stream",
     "text": [
      "Running Monte Carlo simulation number 260.\n"
     ]
    },
    {
     "name": "stderr",
     "output_type": "stream",
     "text": [
      "C:\\Users\\maris\\Downloads\\Fintech_P5M5-1bf4acc2d69b224c1384771893e8b26bdc73dabf\\Fintech_P5M5-1bf4acc2d69b224c1384771893e8b26bdc73dabf\\Starter_Code-5\\MCForecastTools.py:117: PerformanceWarning: DataFrame is highly fragmented.  This is usually the result of calling `frame.insert` many times, which has poor performance.  Consider joining all columns at once using pd.concat(axis=1) instead. To get a de-fragmented frame, use `newframe = frame.copy()`\n",
      "  portfolio_cumulative_returns[n] = (1 + sim_df.fillna(0)).cumprod()\n",
      "C:\\Users\\maris\\Downloads\\Fintech_P5M5-1bf4acc2d69b224c1384771893e8b26bdc73dabf\\Fintech_P5M5-1bf4acc2d69b224c1384771893e8b26bdc73dabf\\Starter_Code-5\\MCForecastTools.py:117: PerformanceWarning: DataFrame is highly fragmented.  This is usually the result of calling `frame.insert` many times, which has poor performance.  Consider joining all columns at once using pd.concat(axis=1) instead. To get a de-fragmented frame, use `newframe = frame.copy()`\n",
      "  portfolio_cumulative_returns[n] = (1 + sim_df.fillna(0)).cumprod()\n",
      "C:\\Users\\maris\\Downloads\\Fintech_P5M5-1bf4acc2d69b224c1384771893e8b26bdc73dabf\\Fintech_P5M5-1bf4acc2d69b224c1384771893e8b26bdc73dabf\\Starter_Code-5\\MCForecastTools.py:117: PerformanceWarning: DataFrame is highly fragmented.  This is usually the result of calling `frame.insert` many times, which has poor performance.  Consider joining all columns at once using pd.concat(axis=1) instead. To get a de-fragmented frame, use `newframe = frame.copy()`\n",
      "  portfolio_cumulative_returns[n] = (1 + sim_df.fillna(0)).cumprod()\n",
      "C:\\Users\\maris\\Downloads\\Fintech_P5M5-1bf4acc2d69b224c1384771893e8b26bdc73dabf\\Fintech_P5M5-1bf4acc2d69b224c1384771893e8b26bdc73dabf\\Starter_Code-5\\MCForecastTools.py:117: PerformanceWarning: DataFrame is highly fragmented.  This is usually the result of calling `frame.insert` many times, which has poor performance.  Consider joining all columns at once using pd.concat(axis=1) instead. To get a de-fragmented frame, use `newframe = frame.copy()`\n",
      "  portfolio_cumulative_returns[n] = (1 + sim_df.fillna(0)).cumprod()\n",
      "C:\\Users\\maris\\Downloads\\Fintech_P5M5-1bf4acc2d69b224c1384771893e8b26bdc73dabf\\Fintech_P5M5-1bf4acc2d69b224c1384771893e8b26bdc73dabf\\Starter_Code-5\\MCForecastTools.py:117: PerformanceWarning: DataFrame is highly fragmented.  This is usually the result of calling `frame.insert` many times, which has poor performance.  Consider joining all columns at once using pd.concat(axis=1) instead. To get a de-fragmented frame, use `newframe = frame.copy()`\n",
      "  portfolio_cumulative_returns[n] = (1 + sim_df.fillna(0)).cumprod()\n",
      "C:\\Users\\maris\\Downloads\\Fintech_P5M5-1bf4acc2d69b224c1384771893e8b26bdc73dabf\\Fintech_P5M5-1bf4acc2d69b224c1384771893e8b26bdc73dabf\\Starter_Code-5\\MCForecastTools.py:117: PerformanceWarning: DataFrame is highly fragmented.  This is usually the result of calling `frame.insert` many times, which has poor performance.  Consider joining all columns at once using pd.concat(axis=1) instead. To get a de-fragmented frame, use `newframe = frame.copy()`\n",
      "  portfolio_cumulative_returns[n] = (1 + sim_df.fillna(0)).cumprod()\n",
      "C:\\Users\\maris\\Downloads\\Fintech_P5M5-1bf4acc2d69b224c1384771893e8b26bdc73dabf\\Fintech_P5M5-1bf4acc2d69b224c1384771893e8b26bdc73dabf\\Starter_Code-5\\MCForecastTools.py:117: PerformanceWarning: DataFrame is highly fragmented.  This is usually the result of calling `frame.insert` many times, which has poor performance.  Consider joining all columns at once using pd.concat(axis=1) instead. To get a de-fragmented frame, use `newframe = frame.copy()`\n",
      "  portfolio_cumulative_returns[n] = (1 + sim_df.fillna(0)).cumprod()\n",
      "C:\\Users\\maris\\Downloads\\Fintech_P5M5-1bf4acc2d69b224c1384771893e8b26bdc73dabf\\Fintech_P5M5-1bf4acc2d69b224c1384771893e8b26bdc73dabf\\Starter_Code-5\\MCForecastTools.py:117: PerformanceWarning: DataFrame is highly fragmented.  This is usually the result of calling `frame.insert` many times, which has poor performance.  Consider joining all columns at once using pd.concat(axis=1) instead. To get a de-fragmented frame, use `newframe = frame.copy()`\n",
      "  portfolio_cumulative_returns[n] = (1 + sim_df.fillna(0)).cumprod()\n",
      "C:\\Users\\maris\\Downloads\\Fintech_P5M5-1bf4acc2d69b224c1384771893e8b26bdc73dabf\\Fintech_P5M5-1bf4acc2d69b224c1384771893e8b26bdc73dabf\\Starter_Code-5\\MCForecastTools.py:117: PerformanceWarning: DataFrame is highly fragmented.  This is usually the result of calling `frame.insert` many times, which has poor performance.  Consider joining all columns at once using pd.concat(axis=1) instead. To get a de-fragmented frame, use `newframe = frame.copy()`\n",
      "  portfolio_cumulative_returns[n] = (1 + sim_df.fillna(0)).cumprod()\n"
     ]
    },
    {
     "name": "stdout",
     "output_type": "stream",
     "text": [
      "Running Monte Carlo simulation number 270.\n"
     ]
    },
    {
     "name": "stderr",
     "output_type": "stream",
     "text": [
      "C:\\Users\\maris\\Downloads\\Fintech_P5M5-1bf4acc2d69b224c1384771893e8b26bdc73dabf\\Fintech_P5M5-1bf4acc2d69b224c1384771893e8b26bdc73dabf\\Starter_Code-5\\MCForecastTools.py:117: PerformanceWarning: DataFrame is highly fragmented.  This is usually the result of calling `frame.insert` many times, which has poor performance.  Consider joining all columns at once using pd.concat(axis=1) instead. To get a de-fragmented frame, use `newframe = frame.copy()`\n",
      "  portfolio_cumulative_returns[n] = (1 + sim_df.fillna(0)).cumprod()\n",
      "C:\\Users\\maris\\Downloads\\Fintech_P5M5-1bf4acc2d69b224c1384771893e8b26bdc73dabf\\Fintech_P5M5-1bf4acc2d69b224c1384771893e8b26bdc73dabf\\Starter_Code-5\\MCForecastTools.py:117: PerformanceWarning: DataFrame is highly fragmented.  This is usually the result of calling `frame.insert` many times, which has poor performance.  Consider joining all columns at once using pd.concat(axis=1) instead. To get a de-fragmented frame, use `newframe = frame.copy()`\n",
      "  portfolio_cumulative_returns[n] = (1 + sim_df.fillna(0)).cumprod()\n",
      "C:\\Users\\maris\\Downloads\\Fintech_P5M5-1bf4acc2d69b224c1384771893e8b26bdc73dabf\\Fintech_P5M5-1bf4acc2d69b224c1384771893e8b26bdc73dabf\\Starter_Code-5\\MCForecastTools.py:117: PerformanceWarning: DataFrame is highly fragmented.  This is usually the result of calling `frame.insert` many times, which has poor performance.  Consider joining all columns at once using pd.concat(axis=1) instead. To get a de-fragmented frame, use `newframe = frame.copy()`\n",
      "  portfolio_cumulative_returns[n] = (1 + sim_df.fillna(0)).cumprod()\n",
      "C:\\Users\\maris\\Downloads\\Fintech_P5M5-1bf4acc2d69b224c1384771893e8b26bdc73dabf\\Fintech_P5M5-1bf4acc2d69b224c1384771893e8b26bdc73dabf\\Starter_Code-5\\MCForecastTools.py:117: PerformanceWarning: DataFrame is highly fragmented.  This is usually the result of calling `frame.insert` many times, which has poor performance.  Consider joining all columns at once using pd.concat(axis=1) instead. To get a de-fragmented frame, use `newframe = frame.copy()`\n",
      "  portfolio_cumulative_returns[n] = (1 + sim_df.fillna(0)).cumprod()\n",
      "C:\\Users\\maris\\Downloads\\Fintech_P5M5-1bf4acc2d69b224c1384771893e8b26bdc73dabf\\Fintech_P5M5-1bf4acc2d69b224c1384771893e8b26bdc73dabf\\Starter_Code-5\\MCForecastTools.py:117: PerformanceWarning: DataFrame is highly fragmented.  This is usually the result of calling `frame.insert` many times, which has poor performance.  Consider joining all columns at once using pd.concat(axis=1) instead. To get a de-fragmented frame, use `newframe = frame.copy()`\n",
      "  portfolio_cumulative_returns[n] = (1 + sim_df.fillna(0)).cumprod()\n",
      "C:\\Users\\maris\\Downloads\\Fintech_P5M5-1bf4acc2d69b224c1384771893e8b26bdc73dabf\\Fintech_P5M5-1bf4acc2d69b224c1384771893e8b26bdc73dabf\\Starter_Code-5\\MCForecastTools.py:117: PerformanceWarning: DataFrame is highly fragmented.  This is usually the result of calling `frame.insert` many times, which has poor performance.  Consider joining all columns at once using pd.concat(axis=1) instead. To get a de-fragmented frame, use `newframe = frame.copy()`\n",
      "  portfolio_cumulative_returns[n] = (1 + sim_df.fillna(0)).cumprod()\n",
      "C:\\Users\\maris\\Downloads\\Fintech_P5M5-1bf4acc2d69b224c1384771893e8b26bdc73dabf\\Fintech_P5M5-1bf4acc2d69b224c1384771893e8b26bdc73dabf\\Starter_Code-5\\MCForecastTools.py:117: PerformanceWarning: DataFrame is highly fragmented.  This is usually the result of calling `frame.insert` many times, which has poor performance.  Consider joining all columns at once using pd.concat(axis=1) instead. To get a de-fragmented frame, use `newframe = frame.copy()`\n",
      "  portfolio_cumulative_returns[n] = (1 + sim_df.fillna(0)).cumprod()\n",
      "C:\\Users\\maris\\Downloads\\Fintech_P5M5-1bf4acc2d69b224c1384771893e8b26bdc73dabf\\Fintech_P5M5-1bf4acc2d69b224c1384771893e8b26bdc73dabf\\Starter_Code-5\\MCForecastTools.py:117: PerformanceWarning: DataFrame is highly fragmented.  This is usually the result of calling `frame.insert` many times, which has poor performance.  Consider joining all columns at once using pd.concat(axis=1) instead. To get a de-fragmented frame, use `newframe = frame.copy()`\n",
      "  portfolio_cumulative_returns[n] = (1 + sim_df.fillna(0)).cumprod()\n",
      "C:\\Users\\maris\\Downloads\\Fintech_P5M5-1bf4acc2d69b224c1384771893e8b26bdc73dabf\\Fintech_P5M5-1bf4acc2d69b224c1384771893e8b26bdc73dabf\\Starter_Code-5\\MCForecastTools.py:117: PerformanceWarning: DataFrame is highly fragmented.  This is usually the result of calling `frame.insert` many times, which has poor performance.  Consider joining all columns at once using pd.concat(axis=1) instead. To get a de-fragmented frame, use `newframe = frame.copy()`\n",
      "  portfolio_cumulative_returns[n] = (1 + sim_df.fillna(0)).cumprod()\n",
      "C:\\Users\\maris\\Downloads\\Fintech_P5M5-1bf4acc2d69b224c1384771893e8b26bdc73dabf\\Fintech_P5M5-1bf4acc2d69b224c1384771893e8b26bdc73dabf\\Starter_Code-5\\MCForecastTools.py:117: PerformanceWarning: DataFrame is highly fragmented.  This is usually the result of calling `frame.insert` many times, which has poor performance.  Consider joining all columns at once using pd.concat(axis=1) instead. To get a de-fragmented frame, use `newframe = frame.copy()`\n",
      "  portfolio_cumulative_returns[n] = (1 + sim_df.fillna(0)).cumprod()\n"
     ]
    },
    {
     "name": "stdout",
     "output_type": "stream",
     "text": [
      "Running Monte Carlo simulation number 280.\n"
     ]
    },
    {
     "name": "stderr",
     "output_type": "stream",
     "text": [
      "C:\\Users\\maris\\Downloads\\Fintech_P5M5-1bf4acc2d69b224c1384771893e8b26bdc73dabf\\Fintech_P5M5-1bf4acc2d69b224c1384771893e8b26bdc73dabf\\Starter_Code-5\\MCForecastTools.py:117: PerformanceWarning: DataFrame is highly fragmented.  This is usually the result of calling `frame.insert` many times, which has poor performance.  Consider joining all columns at once using pd.concat(axis=1) instead. To get a de-fragmented frame, use `newframe = frame.copy()`\n",
      "  portfolio_cumulative_returns[n] = (1 + sim_df.fillna(0)).cumprod()\n",
      "C:\\Users\\maris\\Downloads\\Fintech_P5M5-1bf4acc2d69b224c1384771893e8b26bdc73dabf\\Fintech_P5M5-1bf4acc2d69b224c1384771893e8b26bdc73dabf\\Starter_Code-5\\MCForecastTools.py:117: PerformanceWarning: DataFrame is highly fragmented.  This is usually the result of calling `frame.insert` many times, which has poor performance.  Consider joining all columns at once using pd.concat(axis=1) instead. To get a de-fragmented frame, use `newframe = frame.copy()`\n",
      "  portfolio_cumulative_returns[n] = (1 + sim_df.fillna(0)).cumprod()\n",
      "C:\\Users\\maris\\Downloads\\Fintech_P5M5-1bf4acc2d69b224c1384771893e8b26bdc73dabf\\Fintech_P5M5-1bf4acc2d69b224c1384771893e8b26bdc73dabf\\Starter_Code-5\\MCForecastTools.py:117: PerformanceWarning: DataFrame is highly fragmented.  This is usually the result of calling `frame.insert` many times, which has poor performance.  Consider joining all columns at once using pd.concat(axis=1) instead. To get a de-fragmented frame, use `newframe = frame.copy()`\n",
      "  portfolio_cumulative_returns[n] = (1 + sim_df.fillna(0)).cumprod()\n",
      "C:\\Users\\maris\\Downloads\\Fintech_P5M5-1bf4acc2d69b224c1384771893e8b26bdc73dabf\\Fintech_P5M5-1bf4acc2d69b224c1384771893e8b26bdc73dabf\\Starter_Code-5\\MCForecastTools.py:117: PerformanceWarning: DataFrame is highly fragmented.  This is usually the result of calling `frame.insert` many times, which has poor performance.  Consider joining all columns at once using pd.concat(axis=1) instead. To get a de-fragmented frame, use `newframe = frame.copy()`\n",
      "  portfolio_cumulative_returns[n] = (1 + sim_df.fillna(0)).cumprod()\n",
      "C:\\Users\\maris\\Downloads\\Fintech_P5M5-1bf4acc2d69b224c1384771893e8b26bdc73dabf\\Fintech_P5M5-1bf4acc2d69b224c1384771893e8b26bdc73dabf\\Starter_Code-5\\MCForecastTools.py:117: PerformanceWarning: DataFrame is highly fragmented.  This is usually the result of calling `frame.insert` many times, which has poor performance.  Consider joining all columns at once using pd.concat(axis=1) instead. To get a de-fragmented frame, use `newframe = frame.copy()`\n",
      "  portfolio_cumulative_returns[n] = (1 + sim_df.fillna(0)).cumprod()\n",
      "C:\\Users\\maris\\Downloads\\Fintech_P5M5-1bf4acc2d69b224c1384771893e8b26bdc73dabf\\Fintech_P5M5-1bf4acc2d69b224c1384771893e8b26bdc73dabf\\Starter_Code-5\\MCForecastTools.py:117: PerformanceWarning: DataFrame is highly fragmented.  This is usually the result of calling `frame.insert` many times, which has poor performance.  Consider joining all columns at once using pd.concat(axis=1) instead. To get a de-fragmented frame, use `newframe = frame.copy()`\n",
      "  portfolio_cumulative_returns[n] = (1 + sim_df.fillna(0)).cumprod()\n",
      "C:\\Users\\maris\\Downloads\\Fintech_P5M5-1bf4acc2d69b224c1384771893e8b26bdc73dabf\\Fintech_P5M5-1bf4acc2d69b224c1384771893e8b26bdc73dabf\\Starter_Code-5\\MCForecastTools.py:117: PerformanceWarning: DataFrame is highly fragmented.  This is usually the result of calling `frame.insert` many times, which has poor performance.  Consider joining all columns at once using pd.concat(axis=1) instead. To get a de-fragmented frame, use `newframe = frame.copy()`\n",
      "  portfolio_cumulative_returns[n] = (1 + sim_df.fillna(0)).cumprod()\n",
      "C:\\Users\\maris\\Downloads\\Fintech_P5M5-1bf4acc2d69b224c1384771893e8b26bdc73dabf\\Fintech_P5M5-1bf4acc2d69b224c1384771893e8b26bdc73dabf\\Starter_Code-5\\MCForecastTools.py:117: PerformanceWarning: DataFrame is highly fragmented.  This is usually the result of calling `frame.insert` many times, which has poor performance.  Consider joining all columns at once using pd.concat(axis=1) instead. To get a de-fragmented frame, use `newframe = frame.copy()`\n",
      "  portfolio_cumulative_returns[n] = (1 + sim_df.fillna(0)).cumprod()\n",
      "C:\\Users\\maris\\Downloads\\Fintech_P5M5-1bf4acc2d69b224c1384771893e8b26bdc73dabf\\Fintech_P5M5-1bf4acc2d69b224c1384771893e8b26bdc73dabf\\Starter_Code-5\\MCForecastTools.py:117: PerformanceWarning: DataFrame is highly fragmented.  This is usually the result of calling `frame.insert` many times, which has poor performance.  Consider joining all columns at once using pd.concat(axis=1) instead. To get a de-fragmented frame, use `newframe = frame.copy()`\n",
      "  portfolio_cumulative_returns[n] = (1 + sim_df.fillna(0)).cumprod()\n"
     ]
    },
    {
     "name": "stdout",
     "output_type": "stream",
     "text": [
      "Running Monte Carlo simulation number 290.\n"
     ]
    },
    {
     "name": "stderr",
     "output_type": "stream",
     "text": [
      "C:\\Users\\maris\\Downloads\\Fintech_P5M5-1bf4acc2d69b224c1384771893e8b26bdc73dabf\\Fintech_P5M5-1bf4acc2d69b224c1384771893e8b26bdc73dabf\\Starter_Code-5\\MCForecastTools.py:117: PerformanceWarning: DataFrame is highly fragmented.  This is usually the result of calling `frame.insert` many times, which has poor performance.  Consider joining all columns at once using pd.concat(axis=1) instead. To get a de-fragmented frame, use `newframe = frame.copy()`\n",
      "  portfolio_cumulative_returns[n] = (1 + sim_df.fillna(0)).cumprod()\n",
      "C:\\Users\\maris\\Downloads\\Fintech_P5M5-1bf4acc2d69b224c1384771893e8b26bdc73dabf\\Fintech_P5M5-1bf4acc2d69b224c1384771893e8b26bdc73dabf\\Starter_Code-5\\MCForecastTools.py:117: PerformanceWarning: DataFrame is highly fragmented.  This is usually the result of calling `frame.insert` many times, which has poor performance.  Consider joining all columns at once using pd.concat(axis=1) instead. To get a de-fragmented frame, use `newframe = frame.copy()`\n",
      "  portfolio_cumulative_returns[n] = (1 + sim_df.fillna(0)).cumprod()\n",
      "C:\\Users\\maris\\Downloads\\Fintech_P5M5-1bf4acc2d69b224c1384771893e8b26bdc73dabf\\Fintech_P5M5-1bf4acc2d69b224c1384771893e8b26bdc73dabf\\Starter_Code-5\\MCForecastTools.py:117: PerformanceWarning: DataFrame is highly fragmented.  This is usually the result of calling `frame.insert` many times, which has poor performance.  Consider joining all columns at once using pd.concat(axis=1) instead. To get a de-fragmented frame, use `newframe = frame.copy()`\n",
      "  portfolio_cumulative_returns[n] = (1 + sim_df.fillna(0)).cumprod()\n",
      "C:\\Users\\maris\\Downloads\\Fintech_P5M5-1bf4acc2d69b224c1384771893e8b26bdc73dabf\\Fintech_P5M5-1bf4acc2d69b224c1384771893e8b26bdc73dabf\\Starter_Code-5\\MCForecastTools.py:117: PerformanceWarning: DataFrame is highly fragmented.  This is usually the result of calling `frame.insert` many times, which has poor performance.  Consider joining all columns at once using pd.concat(axis=1) instead. To get a de-fragmented frame, use `newframe = frame.copy()`\n",
      "  portfolio_cumulative_returns[n] = (1 + sim_df.fillna(0)).cumprod()\n",
      "C:\\Users\\maris\\Downloads\\Fintech_P5M5-1bf4acc2d69b224c1384771893e8b26bdc73dabf\\Fintech_P5M5-1bf4acc2d69b224c1384771893e8b26bdc73dabf\\Starter_Code-5\\MCForecastTools.py:117: PerformanceWarning: DataFrame is highly fragmented.  This is usually the result of calling `frame.insert` many times, which has poor performance.  Consider joining all columns at once using pd.concat(axis=1) instead. To get a de-fragmented frame, use `newframe = frame.copy()`\n",
      "  portfolio_cumulative_returns[n] = (1 + sim_df.fillna(0)).cumprod()\n",
      "C:\\Users\\maris\\Downloads\\Fintech_P5M5-1bf4acc2d69b224c1384771893e8b26bdc73dabf\\Fintech_P5M5-1bf4acc2d69b224c1384771893e8b26bdc73dabf\\Starter_Code-5\\MCForecastTools.py:117: PerformanceWarning: DataFrame is highly fragmented.  This is usually the result of calling `frame.insert` many times, which has poor performance.  Consider joining all columns at once using pd.concat(axis=1) instead. To get a de-fragmented frame, use `newframe = frame.copy()`\n",
      "  portfolio_cumulative_returns[n] = (1 + sim_df.fillna(0)).cumprod()\n",
      "C:\\Users\\maris\\Downloads\\Fintech_P5M5-1bf4acc2d69b224c1384771893e8b26bdc73dabf\\Fintech_P5M5-1bf4acc2d69b224c1384771893e8b26bdc73dabf\\Starter_Code-5\\MCForecastTools.py:117: PerformanceWarning: DataFrame is highly fragmented.  This is usually the result of calling `frame.insert` many times, which has poor performance.  Consider joining all columns at once using pd.concat(axis=1) instead. To get a de-fragmented frame, use `newframe = frame.copy()`\n",
      "  portfolio_cumulative_returns[n] = (1 + sim_df.fillna(0)).cumprod()\n",
      "C:\\Users\\maris\\Downloads\\Fintech_P5M5-1bf4acc2d69b224c1384771893e8b26bdc73dabf\\Fintech_P5M5-1bf4acc2d69b224c1384771893e8b26bdc73dabf\\Starter_Code-5\\MCForecastTools.py:117: PerformanceWarning: DataFrame is highly fragmented.  This is usually the result of calling `frame.insert` many times, which has poor performance.  Consider joining all columns at once using pd.concat(axis=1) instead. To get a de-fragmented frame, use `newframe = frame.copy()`\n",
      "  portfolio_cumulative_returns[n] = (1 + sim_df.fillna(0)).cumprod()\n",
      "C:\\Users\\maris\\Downloads\\Fintech_P5M5-1bf4acc2d69b224c1384771893e8b26bdc73dabf\\Fintech_P5M5-1bf4acc2d69b224c1384771893e8b26bdc73dabf\\Starter_Code-5\\MCForecastTools.py:117: PerformanceWarning: DataFrame is highly fragmented.  This is usually the result of calling `frame.insert` many times, which has poor performance.  Consider joining all columns at once using pd.concat(axis=1) instead. To get a de-fragmented frame, use `newframe = frame.copy()`\n",
      "  portfolio_cumulative_returns[n] = (1 + sim_df.fillna(0)).cumprod()\n",
      "C:\\Users\\maris\\Downloads\\Fintech_P5M5-1bf4acc2d69b224c1384771893e8b26bdc73dabf\\Fintech_P5M5-1bf4acc2d69b224c1384771893e8b26bdc73dabf\\Starter_Code-5\\MCForecastTools.py:117: PerformanceWarning: DataFrame is highly fragmented.  This is usually the result of calling `frame.insert` many times, which has poor performance.  Consider joining all columns at once using pd.concat(axis=1) instead. To get a de-fragmented frame, use `newframe = frame.copy()`\n",
      "  portfolio_cumulative_returns[n] = (1 + sim_df.fillna(0)).cumprod()\n",
      "C:\\Users\\maris\\Downloads\\Fintech_P5M5-1bf4acc2d69b224c1384771893e8b26bdc73dabf\\Fintech_P5M5-1bf4acc2d69b224c1384771893e8b26bdc73dabf\\Starter_Code-5\\MCForecastTools.py:117: PerformanceWarning: DataFrame is highly fragmented.  This is usually the result of calling `frame.insert` many times, which has poor performance.  Consider joining all columns at once using pd.concat(axis=1) instead. To get a de-fragmented frame, use `newframe = frame.copy()`\n",
      "  portfolio_cumulative_returns[n] = (1 + sim_df.fillna(0)).cumprod()\n"
     ]
    },
    {
     "name": "stdout",
     "output_type": "stream",
     "text": [
      "Running Monte Carlo simulation number 300.\n"
     ]
    },
    {
     "name": "stderr",
     "output_type": "stream",
     "text": [
      "C:\\Users\\maris\\Downloads\\Fintech_P5M5-1bf4acc2d69b224c1384771893e8b26bdc73dabf\\Fintech_P5M5-1bf4acc2d69b224c1384771893e8b26bdc73dabf\\Starter_Code-5\\MCForecastTools.py:117: PerformanceWarning: DataFrame is highly fragmented.  This is usually the result of calling `frame.insert` many times, which has poor performance.  Consider joining all columns at once using pd.concat(axis=1) instead. To get a de-fragmented frame, use `newframe = frame.copy()`\n",
      "  portfolio_cumulative_returns[n] = (1 + sim_df.fillna(0)).cumprod()\n",
      "C:\\Users\\maris\\Downloads\\Fintech_P5M5-1bf4acc2d69b224c1384771893e8b26bdc73dabf\\Fintech_P5M5-1bf4acc2d69b224c1384771893e8b26bdc73dabf\\Starter_Code-5\\MCForecastTools.py:117: PerformanceWarning: DataFrame is highly fragmented.  This is usually the result of calling `frame.insert` many times, which has poor performance.  Consider joining all columns at once using pd.concat(axis=1) instead. To get a de-fragmented frame, use `newframe = frame.copy()`\n",
      "  portfolio_cumulative_returns[n] = (1 + sim_df.fillna(0)).cumprod()\n",
      "C:\\Users\\maris\\Downloads\\Fintech_P5M5-1bf4acc2d69b224c1384771893e8b26bdc73dabf\\Fintech_P5M5-1bf4acc2d69b224c1384771893e8b26bdc73dabf\\Starter_Code-5\\MCForecastTools.py:117: PerformanceWarning: DataFrame is highly fragmented.  This is usually the result of calling `frame.insert` many times, which has poor performance.  Consider joining all columns at once using pd.concat(axis=1) instead. To get a de-fragmented frame, use `newframe = frame.copy()`\n",
      "  portfolio_cumulative_returns[n] = (1 + sim_df.fillna(0)).cumprod()\n",
      "C:\\Users\\maris\\Downloads\\Fintech_P5M5-1bf4acc2d69b224c1384771893e8b26bdc73dabf\\Fintech_P5M5-1bf4acc2d69b224c1384771893e8b26bdc73dabf\\Starter_Code-5\\MCForecastTools.py:117: PerformanceWarning: DataFrame is highly fragmented.  This is usually the result of calling `frame.insert` many times, which has poor performance.  Consider joining all columns at once using pd.concat(axis=1) instead. To get a de-fragmented frame, use `newframe = frame.copy()`\n",
      "  portfolio_cumulative_returns[n] = (1 + sim_df.fillna(0)).cumprod()\n",
      "C:\\Users\\maris\\Downloads\\Fintech_P5M5-1bf4acc2d69b224c1384771893e8b26bdc73dabf\\Fintech_P5M5-1bf4acc2d69b224c1384771893e8b26bdc73dabf\\Starter_Code-5\\MCForecastTools.py:117: PerformanceWarning: DataFrame is highly fragmented.  This is usually the result of calling `frame.insert` many times, which has poor performance.  Consider joining all columns at once using pd.concat(axis=1) instead. To get a de-fragmented frame, use `newframe = frame.copy()`\n",
      "  portfolio_cumulative_returns[n] = (1 + sim_df.fillna(0)).cumprod()\n",
      "C:\\Users\\maris\\Downloads\\Fintech_P5M5-1bf4acc2d69b224c1384771893e8b26bdc73dabf\\Fintech_P5M5-1bf4acc2d69b224c1384771893e8b26bdc73dabf\\Starter_Code-5\\MCForecastTools.py:117: PerformanceWarning: DataFrame is highly fragmented.  This is usually the result of calling `frame.insert` many times, which has poor performance.  Consider joining all columns at once using pd.concat(axis=1) instead. To get a de-fragmented frame, use `newframe = frame.copy()`\n",
      "  portfolio_cumulative_returns[n] = (1 + sim_df.fillna(0)).cumprod()\n",
      "C:\\Users\\maris\\Downloads\\Fintech_P5M5-1bf4acc2d69b224c1384771893e8b26bdc73dabf\\Fintech_P5M5-1bf4acc2d69b224c1384771893e8b26bdc73dabf\\Starter_Code-5\\MCForecastTools.py:117: PerformanceWarning: DataFrame is highly fragmented.  This is usually the result of calling `frame.insert` many times, which has poor performance.  Consider joining all columns at once using pd.concat(axis=1) instead. To get a de-fragmented frame, use `newframe = frame.copy()`\n",
      "  portfolio_cumulative_returns[n] = (1 + sim_df.fillna(0)).cumprod()\n",
      "C:\\Users\\maris\\Downloads\\Fintech_P5M5-1bf4acc2d69b224c1384771893e8b26bdc73dabf\\Fintech_P5M5-1bf4acc2d69b224c1384771893e8b26bdc73dabf\\Starter_Code-5\\MCForecastTools.py:117: PerformanceWarning: DataFrame is highly fragmented.  This is usually the result of calling `frame.insert` many times, which has poor performance.  Consider joining all columns at once using pd.concat(axis=1) instead. To get a de-fragmented frame, use `newframe = frame.copy()`\n",
      "  portfolio_cumulative_returns[n] = (1 + sim_df.fillna(0)).cumprod()\n",
      "C:\\Users\\maris\\Downloads\\Fintech_P5M5-1bf4acc2d69b224c1384771893e8b26bdc73dabf\\Fintech_P5M5-1bf4acc2d69b224c1384771893e8b26bdc73dabf\\Starter_Code-5\\MCForecastTools.py:117: PerformanceWarning: DataFrame is highly fragmented.  This is usually the result of calling `frame.insert` many times, which has poor performance.  Consider joining all columns at once using pd.concat(axis=1) instead. To get a de-fragmented frame, use `newframe = frame.copy()`\n",
      "  portfolio_cumulative_returns[n] = (1 + sim_df.fillna(0)).cumprod()\n",
      "C:\\Users\\maris\\Downloads\\Fintech_P5M5-1bf4acc2d69b224c1384771893e8b26bdc73dabf\\Fintech_P5M5-1bf4acc2d69b224c1384771893e8b26bdc73dabf\\Starter_Code-5\\MCForecastTools.py:117: PerformanceWarning: DataFrame is highly fragmented.  This is usually the result of calling `frame.insert` many times, which has poor performance.  Consider joining all columns at once using pd.concat(axis=1) instead. To get a de-fragmented frame, use `newframe = frame.copy()`\n",
      "  portfolio_cumulative_returns[n] = (1 + sim_df.fillna(0)).cumprod()\n"
     ]
    },
    {
     "name": "stdout",
     "output_type": "stream",
     "text": [
      "Running Monte Carlo simulation number 310.\n"
     ]
    },
    {
     "name": "stderr",
     "output_type": "stream",
     "text": [
      "C:\\Users\\maris\\Downloads\\Fintech_P5M5-1bf4acc2d69b224c1384771893e8b26bdc73dabf\\Fintech_P5M5-1bf4acc2d69b224c1384771893e8b26bdc73dabf\\Starter_Code-5\\MCForecastTools.py:117: PerformanceWarning: DataFrame is highly fragmented.  This is usually the result of calling `frame.insert` many times, which has poor performance.  Consider joining all columns at once using pd.concat(axis=1) instead. To get a de-fragmented frame, use `newframe = frame.copy()`\n",
      "  portfolio_cumulative_returns[n] = (1 + sim_df.fillna(0)).cumprod()\n",
      "C:\\Users\\maris\\Downloads\\Fintech_P5M5-1bf4acc2d69b224c1384771893e8b26bdc73dabf\\Fintech_P5M5-1bf4acc2d69b224c1384771893e8b26bdc73dabf\\Starter_Code-5\\MCForecastTools.py:117: PerformanceWarning: DataFrame is highly fragmented.  This is usually the result of calling `frame.insert` many times, which has poor performance.  Consider joining all columns at once using pd.concat(axis=1) instead. To get a de-fragmented frame, use `newframe = frame.copy()`\n",
      "  portfolio_cumulative_returns[n] = (1 + sim_df.fillna(0)).cumprod()\n",
      "C:\\Users\\maris\\Downloads\\Fintech_P5M5-1bf4acc2d69b224c1384771893e8b26bdc73dabf\\Fintech_P5M5-1bf4acc2d69b224c1384771893e8b26bdc73dabf\\Starter_Code-5\\MCForecastTools.py:117: PerformanceWarning: DataFrame is highly fragmented.  This is usually the result of calling `frame.insert` many times, which has poor performance.  Consider joining all columns at once using pd.concat(axis=1) instead. To get a de-fragmented frame, use `newframe = frame.copy()`\n",
      "  portfolio_cumulative_returns[n] = (1 + sim_df.fillna(0)).cumprod()\n",
      "C:\\Users\\maris\\Downloads\\Fintech_P5M5-1bf4acc2d69b224c1384771893e8b26bdc73dabf\\Fintech_P5M5-1bf4acc2d69b224c1384771893e8b26bdc73dabf\\Starter_Code-5\\MCForecastTools.py:117: PerformanceWarning: DataFrame is highly fragmented.  This is usually the result of calling `frame.insert` many times, which has poor performance.  Consider joining all columns at once using pd.concat(axis=1) instead. To get a de-fragmented frame, use `newframe = frame.copy()`\n",
      "  portfolio_cumulative_returns[n] = (1 + sim_df.fillna(0)).cumprod()\n",
      "C:\\Users\\maris\\Downloads\\Fintech_P5M5-1bf4acc2d69b224c1384771893e8b26bdc73dabf\\Fintech_P5M5-1bf4acc2d69b224c1384771893e8b26bdc73dabf\\Starter_Code-5\\MCForecastTools.py:117: PerformanceWarning: DataFrame is highly fragmented.  This is usually the result of calling `frame.insert` many times, which has poor performance.  Consider joining all columns at once using pd.concat(axis=1) instead. To get a de-fragmented frame, use `newframe = frame.copy()`\n",
      "  portfolio_cumulative_returns[n] = (1 + sim_df.fillna(0)).cumprod()\n",
      "C:\\Users\\maris\\Downloads\\Fintech_P5M5-1bf4acc2d69b224c1384771893e8b26bdc73dabf\\Fintech_P5M5-1bf4acc2d69b224c1384771893e8b26bdc73dabf\\Starter_Code-5\\MCForecastTools.py:117: PerformanceWarning: DataFrame is highly fragmented.  This is usually the result of calling `frame.insert` many times, which has poor performance.  Consider joining all columns at once using pd.concat(axis=1) instead. To get a de-fragmented frame, use `newframe = frame.copy()`\n",
      "  portfolio_cumulative_returns[n] = (1 + sim_df.fillna(0)).cumprod()\n",
      "C:\\Users\\maris\\Downloads\\Fintech_P5M5-1bf4acc2d69b224c1384771893e8b26bdc73dabf\\Fintech_P5M5-1bf4acc2d69b224c1384771893e8b26bdc73dabf\\Starter_Code-5\\MCForecastTools.py:117: PerformanceWarning: DataFrame is highly fragmented.  This is usually the result of calling `frame.insert` many times, which has poor performance.  Consider joining all columns at once using pd.concat(axis=1) instead. To get a de-fragmented frame, use `newframe = frame.copy()`\n",
      "  portfolio_cumulative_returns[n] = (1 + sim_df.fillna(0)).cumprod()\n",
      "C:\\Users\\maris\\Downloads\\Fintech_P5M5-1bf4acc2d69b224c1384771893e8b26bdc73dabf\\Fintech_P5M5-1bf4acc2d69b224c1384771893e8b26bdc73dabf\\Starter_Code-5\\MCForecastTools.py:117: PerformanceWarning: DataFrame is highly fragmented.  This is usually the result of calling `frame.insert` many times, which has poor performance.  Consider joining all columns at once using pd.concat(axis=1) instead. To get a de-fragmented frame, use `newframe = frame.copy()`\n",
      "  portfolio_cumulative_returns[n] = (1 + sim_df.fillna(0)).cumprod()\n",
      "C:\\Users\\maris\\Downloads\\Fintech_P5M5-1bf4acc2d69b224c1384771893e8b26bdc73dabf\\Fintech_P5M5-1bf4acc2d69b224c1384771893e8b26bdc73dabf\\Starter_Code-5\\MCForecastTools.py:117: PerformanceWarning: DataFrame is highly fragmented.  This is usually the result of calling `frame.insert` many times, which has poor performance.  Consider joining all columns at once using pd.concat(axis=1) instead. To get a de-fragmented frame, use `newframe = frame.copy()`\n",
      "  portfolio_cumulative_returns[n] = (1 + sim_df.fillna(0)).cumprod()\n"
     ]
    },
    {
     "name": "stdout",
     "output_type": "stream",
     "text": [
      "Running Monte Carlo simulation number 320.\n"
     ]
    },
    {
     "name": "stderr",
     "output_type": "stream",
     "text": [
      "C:\\Users\\maris\\Downloads\\Fintech_P5M5-1bf4acc2d69b224c1384771893e8b26bdc73dabf\\Fintech_P5M5-1bf4acc2d69b224c1384771893e8b26bdc73dabf\\Starter_Code-5\\MCForecastTools.py:117: PerformanceWarning: DataFrame is highly fragmented.  This is usually the result of calling `frame.insert` many times, which has poor performance.  Consider joining all columns at once using pd.concat(axis=1) instead. To get a de-fragmented frame, use `newframe = frame.copy()`\n",
      "  portfolio_cumulative_returns[n] = (1 + sim_df.fillna(0)).cumprod()\n",
      "C:\\Users\\maris\\Downloads\\Fintech_P5M5-1bf4acc2d69b224c1384771893e8b26bdc73dabf\\Fintech_P5M5-1bf4acc2d69b224c1384771893e8b26bdc73dabf\\Starter_Code-5\\MCForecastTools.py:117: PerformanceWarning: DataFrame is highly fragmented.  This is usually the result of calling `frame.insert` many times, which has poor performance.  Consider joining all columns at once using pd.concat(axis=1) instead. To get a de-fragmented frame, use `newframe = frame.copy()`\n",
      "  portfolio_cumulative_returns[n] = (1 + sim_df.fillna(0)).cumprod()\n",
      "C:\\Users\\maris\\Downloads\\Fintech_P5M5-1bf4acc2d69b224c1384771893e8b26bdc73dabf\\Fintech_P5M5-1bf4acc2d69b224c1384771893e8b26bdc73dabf\\Starter_Code-5\\MCForecastTools.py:117: PerformanceWarning: DataFrame is highly fragmented.  This is usually the result of calling `frame.insert` many times, which has poor performance.  Consider joining all columns at once using pd.concat(axis=1) instead. To get a de-fragmented frame, use `newframe = frame.copy()`\n",
      "  portfolio_cumulative_returns[n] = (1 + sim_df.fillna(0)).cumprod()\n",
      "C:\\Users\\maris\\Downloads\\Fintech_P5M5-1bf4acc2d69b224c1384771893e8b26bdc73dabf\\Fintech_P5M5-1bf4acc2d69b224c1384771893e8b26bdc73dabf\\Starter_Code-5\\MCForecastTools.py:117: PerformanceWarning: DataFrame is highly fragmented.  This is usually the result of calling `frame.insert` many times, which has poor performance.  Consider joining all columns at once using pd.concat(axis=1) instead. To get a de-fragmented frame, use `newframe = frame.copy()`\n",
      "  portfolio_cumulative_returns[n] = (1 + sim_df.fillna(0)).cumprod()\n",
      "C:\\Users\\maris\\Downloads\\Fintech_P5M5-1bf4acc2d69b224c1384771893e8b26bdc73dabf\\Fintech_P5M5-1bf4acc2d69b224c1384771893e8b26bdc73dabf\\Starter_Code-5\\MCForecastTools.py:117: PerformanceWarning: DataFrame is highly fragmented.  This is usually the result of calling `frame.insert` many times, which has poor performance.  Consider joining all columns at once using pd.concat(axis=1) instead. To get a de-fragmented frame, use `newframe = frame.copy()`\n",
      "  portfolio_cumulative_returns[n] = (1 + sim_df.fillna(0)).cumprod()\n",
      "C:\\Users\\maris\\Downloads\\Fintech_P5M5-1bf4acc2d69b224c1384771893e8b26bdc73dabf\\Fintech_P5M5-1bf4acc2d69b224c1384771893e8b26bdc73dabf\\Starter_Code-5\\MCForecastTools.py:117: PerformanceWarning: DataFrame is highly fragmented.  This is usually the result of calling `frame.insert` many times, which has poor performance.  Consider joining all columns at once using pd.concat(axis=1) instead. To get a de-fragmented frame, use `newframe = frame.copy()`\n",
      "  portfolio_cumulative_returns[n] = (1 + sim_df.fillna(0)).cumprod()\n",
      "C:\\Users\\maris\\Downloads\\Fintech_P5M5-1bf4acc2d69b224c1384771893e8b26bdc73dabf\\Fintech_P5M5-1bf4acc2d69b224c1384771893e8b26bdc73dabf\\Starter_Code-5\\MCForecastTools.py:117: PerformanceWarning: DataFrame is highly fragmented.  This is usually the result of calling `frame.insert` many times, which has poor performance.  Consider joining all columns at once using pd.concat(axis=1) instead. To get a de-fragmented frame, use `newframe = frame.copy()`\n",
      "  portfolio_cumulative_returns[n] = (1 + sim_df.fillna(0)).cumprod()\n",
      "C:\\Users\\maris\\Downloads\\Fintech_P5M5-1bf4acc2d69b224c1384771893e8b26bdc73dabf\\Fintech_P5M5-1bf4acc2d69b224c1384771893e8b26bdc73dabf\\Starter_Code-5\\MCForecastTools.py:117: PerformanceWarning: DataFrame is highly fragmented.  This is usually the result of calling `frame.insert` many times, which has poor performance.  Consider joining all columns at once using pd.concat(axis=1) instead. To get a de-fragmented frame, use `newframe = frame.copy()`\n",
      "  portfolio_cumulative_returns[n] = (1 + sim_df.fillna(0)).cumprod()\n",
      "C:\\Users\\maris\\Downloads\\Fintech_P5M5-1bf4acc2d69b224c1384771893e8b26bdc73dabf\\Fintech_P5M5-1bf4acc2d69b224c1384771893e8b26bdc73dabf\\Starter_Code-5\\MCForecastTools.py:117: PerformanceWarning: DataFrame is highly fragmented.  This is usually the result of calling `frame.insert` many times, which has poor performance.  Consider joining all columns at once using pd.concat(axis=1) instead. To get a de-fragmented frame, use `newframe = frame.copy()`\n",
      "  portfolio_cumulative_returns[n] = (1 + sim_df.fillna(0)).cumprod()\n",
      "C:\\Users\\maris\\Downloads\\Fintech_P5M5-1bf4acc2d69b224c1384771893e8b26bdc73dabf\\Fintech_P5M5-1bf4acc2d69b224c1384771893e8b26bdc73dabf\\Starter_Code-5\\MCForecastTools.py:117: PerformanceWarning: DataFrame is highly fragmented.  This is usually the result of calling `frame.insert` many times, which has poor performance.  Consider joining all columns at once using pd.concat(axis=1) instead. To get a de-fragmented frame, use `newframe = frame.copy()`\n",
      "  portfolio_cumulative_returns[n] = (1 + sim_df.fillna(0)).cumprod()\n",
      "C:\\Users\\maris\\Downloads\\Fintech_P5M5-1bf4acc2d69b224c1384771893e8b26bdc73dabf\\Fintech_P5M5-1bf4acc2d69b224c1384771893e8b26bdc73dabf\\Starter_Code-5\\MCForecastTools.py:117: PerformanceWarning: DataFrame is highly fragmented.  This is usually the result of calling `frame.insert` many times, which has poor performance.  Consider joining all columns at once using pd.concat(axis=1) instead. To get a de-fragmented frame, use `newframe = frame.copy()`\n",
      "  portfolio_cumulative_returns[n] = (1 + sim_df.fillna(0)).cumprod()\n"
     ]
    },
    {
     "name": "stdout",
     "output_type": "stream",
     "text": [
      "Running Monte Carlo simulation number 330.\n"
     ]
    },
    {
     "name": "stderr",
     "output_type": "stream",
     "text": [
      "C:\\Users\\maris\\Downloads\\Fintech_P5M5-1bf4acc2d69b224c1384771893e8b26bdc73dabf\\Fintech_P5M5-1bf4acc2d69b224c1384771893e8b26bdc73dabf\\Starter_Code-5\\MCForecastTools.py:117: PerformanceWarning: DataFrame is highly fragmented.  This is usually the result of calling `frame.insert` many times, which has poor performance.  Consider joining all columns at once using pd.concat(axis=1) instead. To get a de-fragmented frame, use `newframe = frame.copy()`\n",
      "  portfolio_cumulative_returns[n] = (1 + sim_df.fillna(0)).cumprod()\n",
      "C:\\Users\\maris\\Downloads\\Fintech_P5M5-1bf4acc2d69b224c1384771893e8b26bdc73dabf\\Fintech_P5M5-1bf4acc2d69b224c1384771893e8b26bdc73dabf\\Starter_Code-5\\MCForecastTools.py:117: PerformanceWarning: DataFrame is highly fragmented.  This is usually the result of calling `frame.insert` many times, which has poor performance.  Consider joining all columns at once using pd.concat(axis=1) instead. To get a de-fragmented frame, use `newframe = frame.copy()`\n",
      "  portfolio_cumulative_returns[n] = (1 + sim_df.fillna(0)).cumprod()\n",
      "C:\\Users\\maris\\Downloads\\Fintech_P5M5-1bf4acc2d69b224c1384771893e8b26bdc73dabf\\Fintech_P5M5-1bf4acc2d69b224c1384771893e8b26bdc73dabf\\Starter_Code-5\\MCForecastTools.py:117: PerformanceWarning: DataFrame is highly fragmented.  This is usually the result of calling `frame.insert` many times, which has poor performance.  Consider joining all columns at once using pd.concat(axis=1) instead. To get a de-fragmented frame, use `newframe = frame.copy()`\n",
      "  portfolio_cumulative_returns[n] = (1 + sim_df.fillna(0)).cumprod()\n",
      "C:\\Users\\maris\\Downloads\\Fintech_P5M5-1bf4acc2d69b224c1384771893e8b26bdc73dabf\\Fintech_P5M5-1bf4acc2d69b224c1384771893e8b26bdc73dabf\\Starter_Code-5\\MCForecastTools.py:117: PerformanceWarning: DataFrame is highly fragmented.  This is usually the result of calling `frame.insert` many times, which has poor performance.  Consider joining all columns at once using pd.concat(axis=1) instead. To get a de-fragmented frame, use `newframe = frame.copy()`\n",
      "  portfolio_cumulative_returns[n] = (1 + sim_df.fillna(0)).cumprod()\n",
      "C:\\Users\\maris\\Downloads\\Fintech_P5M5-1bf4acc2d69b224c1384771893e8b26bdc73dabf\\Fintech_P5M5-1bf4acc2d69b224c1384771893e8b26bdc73dabf\\Starter_Code-5\\MCForecastTools.py:117: PerformanceWarning: DataFrame is highly fragmented.  This is usually the result of calling `frame.insert` many times, which has poor performance.  Consider joining all columns at once using pd.concat(axis=1) instead. To get a de-fragmented frame, use `newframe = frame.copy()`\n",
      "  portfolio_cumulative_returns[n] = (1 + sim_df.fillna(0)).cumprod()\n",
      "C:\\Users\\maris\\Downloads\\Fintech_P5M5-1bf4acc2d69b224c1384771893e8b26bdc73dabf\\Fintech_P5M5-1bf4acc2d69b224c1384771893e8b26bdc73dabf\\Starter_Code-5\\MCForecastTools.py:117: PerformanceWarning: DataFrame is highly fragmented.  This is usually the result of calling `frame.insert` many times, which has poor performance.  Consider joining all columns at once using pd.concat(axis=1) instead. To get a de-fragmented frame, use `newframe = frame.copy()`\n",
      "  portfolio_cumulative_returns[n] = (1 + sim_df.fillna(0)).cumprod()\n",
      "C:\\Users\\maris\\Downloads\\Fintech_P5M5-1bf4acc2d69b224c1384771893e8b26bdc73dabf\\Fintech_P5M5-1bf4acc2d69b224c1384771893e8b26bdc73dabf\\Starter_Code-5\\MCForecastTools.py:117: PerformanceWarning: DataFrame is highly fragmented.  This is usually the result of calling `frame.insert` many times, which has poor performance.  Consider joining all columns at once using pd.concat(axis=1) instead. To get a de-fragmented frame, use `newframe = frame.copy()`\n",
      "  portfolio_cumulative_returns[n] = (1 + sim_df.fillna(0)).cumprod()\n",
      "C:\\Users\\maris\\Downloads\\Fintech_P5M5-1bf4acc2d69b224c1384771893e8b26bdc73dabf\\Fintech_P5M5-1bf4acc2d69b224c1384771893e8b26bdc73dabf\\Starter_Code-5\\MCForecastTools.py:117: PerformanceWarning: DataFrame is highly fragmented.  This is usually the result of calling `frame.insert` many times, which has poor performance.  Consider joining all columns at once using pd.concat(axis=1) instead. To get a de-fragmented frame, use `newframe = frame.copy()`\n",
      "  portfolio_cumulative_returns[n] = (1 + sim_df.fillna(0)).cumprod()\n",
      "C:\\Users\\maris\\Downloads\\Fintech_P5M5-1bf4acc2d69b224c1384771893e8b26bdc73dabf\\Fintech_P5M5-1bf4acc2d69b224c1384771893e8b26bdc73dabf\\Starter_Code-5\\MCForecastTools.py:117: PerformanceWarning: DataFrame is highly fragmented.  This is usually the result of calling `frame.insert` many times, which has poor performance.  Consider joining all columns at once using pd.concat(axis=1) instead. To get a de-fragmented frame, use `newframe = frame.copy()`\n",
      "  portfolio_cumulative_returns[n] = (1 + sim_df.fillna(0)).cumprod()\n",
      "C:\\Users\\maris\\Downloads\\Fintech_P5M5-1bf4acc2d69b224c1384771893e8b26bdc73dabf\\Fintech_P5M5-1bf4acc2d69b224c1384771893e8b26bdc73dabf\\Starter_Code-5\\MCForecastTools.py:117: PerformanceWarning: DataFrame is highly fragmented.  This is usually the result of calling `frame.insert` many times, which has poor performance.  Consider joining all columns at once using pd.concat(axis=1) instead. To get a de-fragmented frame, use `newframe = frame.copy()`\n",
      "  portfolio_cumulative_returns[n] = (1 + sim_df.fillna(0)).cumprod()\n"
     ]
    },
    {
     "name": "stdout",
     "output_type": "stream",
     "text": [
      "Running Monte Carlo simulation number 340.\n"
     ]
    },
    {
     "name": "stderr",
     "output_type": "stream",
     "text": [
      "C:\\Users\\maris\\Downloads\\Fintech_P5M5-1bf4acc2d69b224c1384771893e8b26bdc73dabf\\Fintech_P5M5-1bf4acc2d69b224c1384771893e8b26bdc73dabf\\Starter_Code-5\\MCForecastTools.py:117: PerformanceWarning: DataFrame is highly fragmented.  This is usually the result of calling `frame.insert` many times, which has poor performance.  Consider joining all columns at once using pd.concat(axis=1) instead. To get a de-fragmented frame, use `newframe = frame.copy()`\n",
      "  portfolio_cumulative_returns[n] = (1 + sim_df.fillna(0)).cumprod()\n",
      "C:\\Users\\maris\\Downloads\\Fintech_P5M5-1bf4acc2d69b224c1384771893e8b26bdc73dabf\\Fintech_P5M5-1bf4acc2d69b224c1384771893e8b26bdc73dabf\\Starter_Code-5\\MCForecastTools.py:117: PerformanceWarning: DataFrame is highly fragmented.  This is usually the result of calling `frame.insert` many times, which has poor performance.  Consider joining all columns at once using pd.concat(axis=1) instead. To get a de-fragmented frame, use `newframe = frame.copy()`\n",
      "  portfolio_cumulative_returns[n] = (1 + sim_df.fillna(0)).cumprod()\n",
      "C:\\Users\\maris\\Downloads\\Fintech_P5M5-1bf4acc2d69b224c1384771893e8b26bdc73dabf\\Fintech_P5M5-1bf4acc2d69b224c1384771893e8b26bdc73dabf\\Starter_Code-5\\MCForecastTools.py:117: PerformanceWarning: DataFrame is highly fragmented.  This is usually the result of calling `frame.insert` many times, which has poor performance.  Consider joining all columns at once using pd.concat(axis=1) instead. To get a de-fragmented frame, use `newframe = frame.copy()`\n",
      "  portfolio_cumulative_returns[n] = (1 + sim_df.fillna(0)).cumprod()\n",
      "C:\\Users\\maris\\Downloads\\Fintech_P5M5-1bf4acc2d69b224c1384771893e8b26bdc73dabf\\Fintech_P5M5-1bf4acc2d69b224c1384771893e8b26bdc73dabf\\Starter_Code-5\\MCForecastTools.py:117: PerformanceWarning: DataFrame is highly fragmented.  This is usually the result of calling `frame.insert` many times, which has poor performance.  Consider joining all columns at once using pd.concat(axis=1) instead. To get a de-fragmented frame, use `newframe = frame.copy()`\n",
      "  portfolio_cumulative_returns[n] = (1 + sim_df.fillna(0)).cumprod()\n",
      "C:\\Users\\maris\\Downloads\\Fintech_P5M5-1bf4acc2d69b224c1384771893e8b26bdc73dabf\\Fintech_P5M5-1bf4acc2d69b224c1384771893e8b26bdc73dabf\\Starter_Code-5\\MCForecastTools.py:117: PerformanceWarning: DataFrame is highly fragmented.  This is usually the result of calling `frame.insert` many times, which has poor performance.  Consider joining all columns at once using pd.concat(axis=1) instead. To get a de-fragmented frame, use `newframe = frame.copy()`\n",
      "  portfolio_cumulative_returns[n] = (1 + sim_df.fillna(0)).cumprod()\n",
      "C:\\Users\\maris\\Downloads\\Fintech_P5M5-1bf4acc2d69b224c1384771893e8b26bdc73dabf\\Fintech_P5M5-1bf4acc2d69b224c1384771893e8b26bdc73dabf\\Starter_Code-5\\MCForecastTools.py:117: PerformanceWarning: DataFrame is highly fragmented.  This is usually the result of calling `frame.insert` many times, which has poor performance.  Consider joining all columns at once using pd.concat(axis=1) instead. To get a de-fragmented frame, use `newframe = frame.copy()`\n",
      "  portfolio_cumulative_returns[n] = (1 + sim_df.fillna(0)).cumprod()\n",
      "C:\\Users\\maris\\Downloads\\Fintech_P5M5-1bf4acc2d69b224c1384771893e8b26bdc73dabf\\Fintech_P5M5-1bf4acc2d69b224c1384771893e8b26bdc73dabf\\Starter_Code-5\\MCForecastTools.py:117: PerformanceWarning: DataFrame is highly fragmented.  This is usually the result of calling `frame.insert` many times, which has poor performance.  Consider joining all columns at once using pd.concat(axis=1) instead. To get a de-fragmented frame, use `newframe = frame.copy()`\n",
      "  portfolio_cumulative_returns[n] = (1 + sim_df.fillna(0)).cumprod()\n",
      "C:\\Users\\maris\\Downloads\\Fintech_P5M5-1bf4acc2d69b224c1384771893e8b26bdc73dabf\\Fintech_P5M5-1bf4acc2d69b224c1384771893e8b26bdc73dabf\\Starter_Code-5\\MCForecastTools.py:117: PerformanceWarning: DataFrame is highly fragmented.  This is usually the result of calling `frame.insert` many times, which has poor performance.  Consider joining all columns at once using pd.concat(axis=1) instead. To get a de-fragmented frame, use `newframe = frame.copy()`\n",
      "  portfolio_cumulative_returns[n] = (1 + sim_df.fillna(0)).cumprod()\n",
      "C:\\Users\\maris\\Downloads\\Fintech_P5M5-1bf4acc2d69b224c1384771893e8b26bdc73dabf\\Fintech_P5M5-1bf4acc2d69b224c1384771893e8b26bdc73dabf\\Starter_Code-5\\MCForecastTools.py:117: PerformanceWarning: DataFrame is highly fragmented.  This is usually the result of calling `frame.insert` many times, which has poor performance.  Consider joining all columns at once using pd.concat(axis=1) instead. To get a de-fragmented frame, use `newframe = frame.copy()`\n",
      "  portfolio_cumulative_returns[n] = (1 + sim_df.fillna(0)).cumprod()\n",
      "C:\\Users\\maris\\Downloads\\Fintech_P5M5-1bf4acc2d69b224c1384771893e8b26bdc73dabf\\Fintech_P5M5-1bf4acc2d69b224c1384771893e8b26bdc73dabf\\Starter_Code-5\\MCForecastTools.py:117: PerformanceWarning: DataFrame is highly fragmented.  This is usually the result of calling `frame.insert` many times, which has poor performance.  Consider joining all columns at once using pd.concat(axis=1) instead. To get a de-fragmented frame, use `newframe = frame.copy()`\n",
      "  portfolio_cumulative_returns[n] = (1 + sim_df.fillna(0)).cumprod()\n"
     ]
    },
    {
     "name": "stdout",
     "output_type": "stream",
     "text": [
      "Running Monte Carlo simulation number 350.\n"
     ]
    },
    {
     "name": "stderr",
     "output_type": "stream",
     "text": [
      "C:\\Users\\maris\\Downloads\\Fintech_P5M5-1bf4acc2d69b224c1384771893e8b26bdc73dabf\\Fintech_P5M5-1bf4acc2d69b224c1384771893e8b26bdc73dabf\\Starter_Code-5\\MCForecastTools.py:117: PerformanceWarning: DataFrame is highly fragmented.  This is usually the result of calling `frame.insert` many times, which has poor performance.  Consider joining all columns at once using pd.concat(axis=1) instead. To get a de-fragmented frame, use `newframe = frame.copy()`\n",
      "  portfolio_cumulative_returns[n] = (1 + sim_df.fillna(0)).cumprod()\n",
      "C:\\Users\\maris\\Downloads\\Fintech_P5M5-1bf4acc2d69b224c1384771893e8b26bdc73dabf\\Fintech_P5M5-1bf4acc2d69b224c1384771893e8b26bdc73dabf\\Starter_Code-5\\MCForecastTools.py:117: PerformanceWarning: DataFrame is highly fragmented.  This is usually the result of calling `frame.insert` many times, which has poor performance.  Consider joining all columns at once using pd.concat(axis=1) instead. To get a de-fragmented frame, use `newframe = frame.copy()`\n",
      "  portfolio_cumulative_returns[n] = (1 + sim_df.fillna(0)).cumprod()\n",
      "C:\\Users\\maris\\Downloads\\Fintech_P5M5-1bf4acc2d69b224c1384771893e8b26bdc73dabf\\Fintech_P5M5-1bf4acc2d69b224c1384771893e8b26bdc73dabf\\Starter_Code-5\\MCForecastTools.py:117: PerformanceWarning: DataFrame is highly fragmented.  This is usually the result of calling `frame.insert` many times, which has poor performance.  Consider joining all columns at once using pd.concat(axis=1) instead. To get a de-fragmented frame, use `newframe = frame.copy()`\n",
      "  portfolio_cumulative_returns[n] = (1 + sim_df.fillna(0)).cumprod()\n",
      "C:\\Users\\maris\\Downloads\\Fintech_P5M5-1bf4acc2d69b224c1384771893e8b26bdc73dabf\\Fintech_P5M5-1bf4acc2d69b224c1384771893e8b26bdc73dabf\\Starter_Code-5\\MCForecastTools.py:117: PerformanceWarning: DataFrame is highly fragmented.  This is usually the result of calling `frame.insert` many times, which has poor performance.  Consider joining all columns at once using pd.concat(axis=1) instead. To get a de-fragmented frame, use `newframe = frame.copy()`\n",
      "  portfolio_cumulative_returns[n] = (1 + sim_df.fillna(0)).cumprod()\n",
      "C:\\Users\\maris\\Downloads\\Fintech_P5M5-1bf4acc2d69b224c1384771893e8b26bdc73dabf\\Fintech_P5M5-1bf4acc2d69b224c1384771893e8b26bdc73dabf\\Starter_Code-5\\MCForecastTools.py:117: PerformanceWarning: DataFrame is highly fragmented.  This is usually the result of calling `frame.insert` many times, which has poor performance.  Consider joining all columns at once using pd.concat(axis=1) instead. To get a de-fragmented frame, use `newframe = frame.copy()`\n",
      "  portfolio_cumulative_returns[n] = (1 + sim_df.fillna(0)).cumprod()\n",
      "C:\\Users\\maris\\Downloads\\Fintech_P5M5-1bf4acc2d69b224c1384771893e8b26bdc73dabf\\Fintech_P5M5-1bf4acc2d69b224c1384771893e8b26bdc73dabf\\Starter_Code-5\\MCForecastTools.py:117: PerformanceWarning: DataFrame is highly fragmented.  This is usually the result of calling `frame.insert` many times, which has poor performance.  Consider joining all columns at once using pd.concat(axis=1) instead. To get a de-fragmented frame, use `newframe = frame.copy()`\n",
      "  portfolio_cumulative_returns[n] = (1 + sim_df.fillna(0)).cumprod()\n",
      "C:\\Users\\maris\\Downloads\\Fintech_P5M5-1bf4acc2d69b224c1384771893e8b26bdc73dabf\\Fintech_P5M5-1bf4acc2d69b224c1384771893e8b26bdc73dabf\\Starter_Code-5\\MCForecastTools.py:117: PerformanceWarning: DataFrame is highly fragmented.  This is usually the result of calling `frame.insert` many times, which has poor performance.  Consider joining all columns at once using pd.concat(axis=1) instead. To get a de-fragmented frame, use `newframe = frame.copy()`\n",
      "  portfolio_cumulative_returns[n] = (1 + sim_df.fillna(0)).cumprod()\n",
      "C:\\Users\\maris\\Downloads\\Fintech_P5M5-1bf4acc2d69b224c1384771893e8b26bdc73dabf\\Fintech_P5M5-1bf4acc2d69b224c1384771893e8b26bdc73dabf\\Starter_Code-5\\MCForecastTools.py:117: PerformanceWarning: DataFrame is highly fragmented.  This is usually the result of calling `frame.insert` many times, which has poor performance.  Consider joining all columns at once using pd.concat(axis=1) instead. To get a de-fragmented frame, use `newframe = frame.copy()`\n",
      "  portfolio_cumulative_returns[n] = (1 + sim_df.fillna(0)).cumprod()\n",
      "C:\\Users\\maris\\Downloads\\Fintech_P5M5-1bf4acc2d69b224c1384771893e8b26bdc73dabf\\Fintech_P5M5-1bf4acc2d69b224c1384771893e8b26bdc73dabf\\Starter_Code-5\\MCForecastTools.py:117: PerformanceWarning: DataFrame is highly fragmented.  This is usually the result of calling `frame.insert` many times, which has poor performance.  Consider joining all columns at once using pd.concat(axis=1) instead. To get a de-fragmented frame, use `newframe = frame.copy()`\n",
      "  portfolio_cumulative_returns[n] = (1 + sim_df.fillna(0)).cumprod()\n"
     ]
    },
    {
     "name": "stdout",
     "output_type": "stream",
     "text": [
      "Running Monte Carlo simulation number 360.\n"
     ]
    },
    {
     "name": "stderr",
     "output_type": "stream",
     "text": [
      "C:\\Users\\maris\\Downloads\\Fintech_P5M5-1bf4acc2d69b224c1384771893e8b26bdc73dabf\\Fintech_P5M5-1bf4acc2d69b224c1384771893e8b26bdc73dabf\\Starter_Code-5\\MCForecastTools.py:117: PerformanceWarning: DataFrame is highly fragmented.  This is usually the result of calling `frame.insert` many times, which has poor performance.  Consider joining all columns at once using pd.concat(axis=1) instead. To get a de-fragmented frame, use `newframe = frame.copy()`\n",
      "  portfolio_cumulative_returns[n] = (1 + sim_df.fillna(0)).cumprod()\n",
      "C:\\Users\\maris\\Downloads\\Fintech_P5M5-1bf4acc2d69b224c1384771893e8b26bdc73dabf\\Fintech_P5M5-1bf4acc2d69b224c1384771893e8b26bdc73dabf\\Starter_Code-5\\MCForecastTools.py:117: PerformanceWarning: DataFrame is highly fragmented.  This is usually the result of calling `frame.insert` many times, which has poor performance.  Consider joining all columns at once using pd.concat(axis=1) instead. To get a de-fragmented frame, use `newframe = frame.copy()`\n",
      "  portfolio_cumulative_returns[n] = (1 + sim_df.fillna(0)).cumprod()\n",
      "C:\\Users\\maris\\Downloads\\Fintech_P5M5-1bf4acc2d69b224c1384771893e8b26bdc73dabf\\Fintech_P5M5-1bf4acc2d69b224c1384771893e8b26bdc73dabf\\Starter_Code-5\\MCForecastTools.py:117: PerformanceWarning: DataFrame is highly fragmented.  This is usually the result of calling `frame.insert` many times, which has poor performance.  Consider joining all columns at once using pd.concat(axis=1) instead. To get a de-fragmented frame, use `newframe = frame.copy()`\n",
      "  portfolio_cumulative_returns[n] = (1 + sim_df.fillna(0)).cumprod()\n",
      "C:\\Users\\maris\\Downloads\\Fintech_P5M5-1bf4acc2d69b224c1384771893e8b26bdc73dabf\\Fintech_P5M5-1bf4acc2d69b224c1384771893e8b26bdc73dabf\\Starter_Code-5\\MCForecastTools.py:117: PerformanceWarning: DataFrame is highly fragmented.  This is usually the result of calling `frame.insert` many times, which has poor performance.  Consider joining all columns at once using pd.concat(axis=1) instead. To get a de-fragmented frame, use `newframe = frame.copy()`\n",
      "  portfolio_cumulative_returns[n] = (1 + sim_df.fillna(0)).cumprod()\n",
      "C:\\Users\\maris\\Downloads\\Fintech_P5M5-1bf4acc2d69b224c1384771893e8b26bdc73dabf\\Fintech_P5M5-1bf4acc2d69b224c1384771893e8b26bdc73dabf\\Starter_Code-5\\MCForecastTools.py:117: PerformanceWarning: DataFrame is highly fragmented.  This is usually the result of calling `frame.insert` many times, which has poor performance.  Consider joining all columns at once using pd.concat(axis=1) instead. To get a de-fragmented frame, use `newframe = frame.copy()`\n",
      "  portfolio_cumulative_returns[n] = (1 + sim_df.fillna(0)).cumprod()\n",
      "C:\\Users\\maris\\Downloads\\Fintech_P5M5-1bf4acc2d69b224c1384771893e8b26bdc73dabf\\Fintech_P5M5-1bf4acc2d69b224c1384771893e8b26bdc73dabf\\Starter_Code-5\\MCForecastTools.py:117: PerformanceWarning: DataFrame is highly fragmented.  This is usually the result of calling `frame.insert` many times, which has poor performance.  Consider joining all columns at once using pd.concat(axis=1) instead. To get a de-fragmented frame, use `newframe = frame.copy()`\n",
      "  portfolio_cumulative_returns[n] = (1 + sim_df.fillna(0)).cumprod()\n",
      "C:\\Users\\maris\\Downloads\\Fintech_P5M5-1bf4acc2d69b224c1384771893e8b26bdc73dabf\\Fintech_P5M5-1bf4acc2d69b224c1384771893e8b26bdc73dabf\\Starter_Code-5\\MCForecastTools.py:117: PerformanceWarning: DataFrame is highly fragmented.  This is usually the result of calling `frame.insert` many times, which has poor performance.  Consider joining all columns at once using pd.concat(axis=1) instead. To get a de-fragmented frame, use `newframe = frame.copy()`\n",
      "  portfolio_cumulative_returns[n] = (1 + sim_df.fillna(0)).cumprod()\n",
      "C:\\Users\\maris\\Downloads\\Fintech_P5M5-1bf4acc2d69b224c1384771893e8b26bdc73dabf\\Fintech_P5M5-1bf4acc2d69b224c1384771893e8b26bdc73dabf\\Starter_Code-5\\MCForecastTools.py:117: PerformanceWarning: DataFrame is highly fragmented.  This is usually the result of calling `frame.insert` many times, which has poor performance.  Consider joining all columns at once using pd.concat(axis=1) instead. To get a de-fragmented frame, use `newframe = frame.copy()`\n",
      "  portfolio_cumulative_returns[n] = (1 + sim_df.fillna(0)).cumprod()\n",
      "C:\\Users\\maris\\Downloads\\Fintech_P5M5-1bf4acc2d69b224c1384771893e8b26bdc73dabf\\Fintech_P5M5-1bf4acc2d69b224c1384771893e8b26bdc73dabf\\Starter_Code-5\\MCForecastTools.py:117: PerformanceWarning: DataFrame is highly fragmented.  This is usually the result of calling `frame.insert` many times, which has poor performance.  Consider joining all columns at once using pd.concat(axis=1) instead. To get a de-fragmented frame, use `newframe = frame.copy()`\n",
      "  portfolio_cumulative_returns[n] = (1 + sim_df.fillna(0)).cumprod()\n",
      "C:\\Users\\maris\\Downloads\\Fintech_P5M5-1bf4acc2d69b224c1384771893e8b26bdc73dabf\\Fintech_P5M5-1bf4acc2d69b224c1384771893e8b26bdc73dabf\\Starter_Code-5\\MCForecastTools.py:117: PerformanceWarning: DataFrame is highly fragmented.  This is usually the result of calling `frame.insert` many times, which has poor performance.  Consider joining all columns at once using pd.concat(axis=1) instead. To get a de-fragmented frame, use `newframe = frame.copy()`\n",
      "  portfolio_cumulative_returns[n] = (1 + sim_df.fillna(0)).cumprod()\n",
      "C:\\Users\\maris\\Downloads\\Fintech_P5M5-1bf4acc2d69b224c1384771893e8b26bdc73dabf\\Fintech_P5M5-1bf4acc2d69b224c1384771893e8b26bdc73dabf\\Starter_Code-5\\MCForecastTools.py:117: PerformanceWarning: DataFrame is highly fragmented.  This is usually the result of calling `frame.insert` many times, which has poor performance.  Consider joining all columns at once using pd.concat(axis=1) instead. To get a de-fragmented frame, use `newframe = frame.copy()`\n",
      "  portfolio_cumulative_returns[n] = (1 + sim_df.fillna(0)).cumprod()\n"
     ]
    },
    {
     "name": "stdout",
     "output_type": "stream",
     "text": [
      "Running Monte Carlo simulation number 370.\n"
     ]
    },
    {
     "name": "stderr",
     "output_type": "stream",
     "text": [
      "C:\\Users\\maris\\Downloads\\Fintech_P5M5-1bf4acc2d69b224c1384771893e8b26bdc73dabf\\Fintech_P5M5-1bf4acc2d69b224c1384771893e8b26bdc73dabf\\Starter_Code-5\\MCForecastTools.py:117: PerformanceWarning: DataFrame is highly fragmented.  This is usually the result of calling `frame.insert` many times, which has poor performance.  Consider joining all columns at once using pd.concat(axis=1) instead. To get a de-fragmented frame, use `newframe = frame.copy()`\n",
      "  portfolio_cumulative_returns[n] = (1 + sim_df.fillna(0)).cumprod()\n",
      "C:\\Users\\maris\\Downloads\\Fintech_P5M5-1bf4acc2d69b224c1384771893e8b26bdc73dabf\\Fintech_P5M5-1bf4acc2d69b224c1384771893e8b26bdc73dabf\\Starter_Code-5\\MCForecastTools.py:117: PerformanceWarning: DataFrame is highly fragmented.  This is usually the result of calling `frame.insert` many times, which has poor performance.  Consider joining all columns at once using pd.concat(axis=1) instead. To get a de-fragmented frame, use `newframe = frame.copy()`\n",
      "  portfolio_cumulative_returns[n] = (1 + sim_df.fillna(0)).cumprod()\n",
      "C:\\Users\\maris\\Downloads\\Fintech_P5M5-1bf4acc2d69b224c1384771893e8b26bdc73dabf\\Fintech_P5M5-1bf4acc2d69b224c1384771893e8b26bdc73dabf\\Starter_Code-5\\MCForecastTools.py:117: PerformanceWarning: DataFrame is highly fragmented.  This is usually the result of calling `frame.insert` many times, which has poor performance.  Consider joining all columns at once using pd.concat(axis=1) instead. To get a de-fragmented frame, use `newframe = frame.copy()`\n",
      "  portfolio_cumulative_returns[n] = (1 + sim_df.fillna(0)).cumprod()\n",
      "C:\\Users\\maris\\Downloads\\Fintech_P5M5-1bf4acc2d69b224c1384771893e8b26bdc73dabf\\Fintech_P5M5-1bf4acc2d69b224c1384771893e8b26bdc73dabf\\Starter_Code-5\\MCForecastTools.py:117: PerformanceWarning: DataFrame is highly fragmented.  This is usually the result of calling `frame.insert` many times, which has poor performance.  Consider joining all columns at once using pd.concat(axis=1) instead. To get a de-fragmented frame, use `newframe = frame.copy()`\n",
      "  portfolio_cumulative_returns[n] = (1 + sim_df.fillna(0)).cumprod()\n",
      "C:\\Users\\maris\\Downloads\\Fintech_P5M5-1bf4acc2d69b224c1384771893e8b26bdc73dabf\\Fintech_P5M5-1bf4acc2d69b224c1384771893e8b26bdc73dabf\\Starter_Code-5\\MCForecastTools.py:117: PerformanceWarning: DataFrame is highly fragmented.  This is usually the result of calling `frame.insert` many times, which has poor performance.  Consider joining all columns at once using pd.concat(axis=1) instead. To get a de-fragmented frame, use `newframe = frame.copy()`\n",
      "  portfolio_cumulative_returns[n] = (1 + sim_df.fillna(0)).cumprod()\n",
      "C:\\Users\\maris\\Downloads\\Fintech_P5M5-1bf4acc2d69b224c1384771893e8b26bdc73dabf\\Fintech_P5M5-1bf4acc2d69b224c1384771893e8b26bdc73dabf\\Starter_Code-5\\MCForecastTools.py:117: PerformanceWarning: DataFrame is highly fragmented.  This is usually the result of calling `frame.insert` many times, which has poor performance.  Consider joining all columns at once using pd.concat(axis=1) instead. To get a de-fragmented frame, use `newframe = frame.copy()`\n",
      "  portfolio_cumulative_returns[n] = (1 + sim_df.fillna(0)).cumprod()\n",
      "C:\\Users\\maris\\Downloads\\Fintech_P5M5-1bf4acc2d69b224c1384771893e8b26bdc73dabf\\Fintech_P5M5-1bf4acc2d69b224c1384771893e8b26bdc73dabf\\Starter_Code-5\\MCForecastTools.py:117: PerformanceWarning: DataFrame is highly fragmented.  This is usually the result of calling `frame.insert` many times, which has poor performance.  Consider joining all columns at once using pd.concat(axis=1) instead. To get a de-fragmented frame, use `newframe = frame.copy()`\n",
      "  portfolio_cumulative_returns[n] = (1 + sim_df.fillna(0)).cumprod()\n",
      "C:\\Users\\maris\\Downloads\\Fintech_P5M5-1bf4acc2d69b224c1384771893e8b26bdc73dabf\\Fintech_P5M5-1bf4acc2d69b224c1384771893e8b26bdc73dabf\\Starter_Code-5\\MCForecastTools.py:117: PerformanceWarning: DataFrame is highly fragmented.  This is usually the result of calling `frame.insert` many times, which has poor performance.  Consider joining all columns at once using pd.concat(axis=1) instead. To get a de-fragmented frame, use `newframe = frame.copy()`\n",
      "  portfolio_cumulative_returns[n] = (1 + sim_df.fillna(0)).cumprod()\n",
      "C:\\Users\\maris\\Downloads\\Fintech_P5M5-1bf4acc2d69b224c1384771893e8b26bdc73dabf\\Fintech_P5M5-1bf4acc2d69b224c1384771893e8b26bdc73dabf\\Starter_Code-5\\MCForecastTools.py:117: PerformanceWarning: DataFrame is highly fragmented.  This is usually the result of calling `frame.insert` many times, which has poor performance.  Consider joining all columns at once using pd.concat(axis=1) instead. To get a de-fragmented frame, use `newframe = frame.copy()`\n",
      "  portfolio_cumulative_returns[n] = (1 + sim_df.fillna(0)).cumprod()\n",
      "C:\\Users\\maris\\Downloads\\Fintech_P5M5-1bf4acc2d69b224c1384771893e8b26bdc73dabf\\Fintech_P5M5-1bf4acc2d69b224c1384771893e8b26bdc73dabf\\Starter_Code-5\\MCForecastTools.py:117: PerformanceWarning: DataFrame is highly fragmented.  This is usually the result of calling `frame.insert` many times, which has poor performance.  Consider joining all columns at once using pd.concat(axis=1) instead. To get a de-fragmented frame, use `newframe = frame.copy()`\n",
      "  portfolio_cumulative_returns[n] = (1 + sim_df.fillna(0)).cumprod()\n"
     ]
    },
    {
     "name": "stdout",
     "output_type": "stream",
     "text": [
      "Running Monte Carlo simulation number 380.\n"
     ]
    },
    {
     "name": "stderr",
     "output_type": "stream",
     "text": [
      "C:\\Users\\maris\\Downloads\\Fintech_P5M5-1bf4acc2d69b224c1384771893e8b26bdc73dabf\\Fintech_P5M5-1bf4acc2d69b224c1384771893e8b26bdc73dabf\\Starter_Code-5\\MCForecastTools.py:117: PerformanceWarning: DataFrame is highly fragmented.  This is usually the result of calling `frame.insert` many times, which has poor performance.  Consider joining all columns at once using pd.concat(axis=1) instead. To get a de-fragmented frame, use `newframe = frame.copy()`\n",
      "  portfolio_cumulative_returns[n] = (1 + sim_df.fillna(0)).cumprod()\n",
      "C:\\Users\\maris\\Downloads\\Fintech_P5M5-1bf4acc2d69b224c1384771893e8b26bdc73dabf\\Fintech_P5M5-1bf4acc2d69b224c1384771893e8b26bdc73dabf\\Starter_Code-5\\MCForecastTools.py:117: PerformanceWarning: DataFrame is highly fragmented.  This is usually the result of calling `frame.insert` many times, which has poor performance.  Consider joining all columns at once using pd.concat(axis=1) instead. To get a de-fragmented frame, use `newframe = frame.copy()`\n",
      "  portfolio_cumulative_returns[n] = (1 + sim_df.fillna(0)).cumprod()\n",
      "C:\\Users\\maris\\Downloads\\Fintech_P5M5-1bf4acc2d69b224c1384771893e8b26bdc73dabf\\Fintech_P5M5-1bf4acc2d69b224c1384771893e8b26bdc73dabf\\Starter_Code-5\\MCForecastTools.py:117: PerformanceWarning: DataFrame is highly fragmented.  This is usually the result of calling `frame.insert` many times, which has poor performance.  Consider joining all columns at once using pd.concat(axis=1) instead. To get a de-fragmented frame, use `newframe = frame.copy()`\n",
      "  portfolio_cumulative_returns[n] = (1 + sim_df.fillna(0)).cumprod()\n",
      "C:\\Users\\maris\\Downloads\\Fintech_P5M5-1bf4acc2d69b224c1384771893e8b26bdc73dabf\\Fintech_P5M5-1bf4acc2d69b224c1384771893e8b26bdc73dabf\\Starter_Code-5\\MCForecastTools.py:117: PerformanceWarning: DataFrame is highly fragmented.  This is usually the result of calling `frame.insert` many times, which has poor performance.  Consider joining all columns at once using pd.concat(axis=1) instead. To get a de-fragmented frame, use `newframe = frame.copy()`\n",
      "  portfolio_cumulative_returns[n] = (1 + sim_df.fillna(0)).cumprod()\n",
      "C:\\Users\\maris\\Downloads\\Fintech_P5M5-1bf4acc2d69b224c1384771893e8b26bdc73dabf\\Fintech_P5M5-1bf4acc2d69b224c1384771893e8b26bdc73dabf\\Starter_Code-5\\MCForecastTools.py:117: PerformanceWarning: DataFrame is highly fragmented.  This is usually the result of calling `frame.insert` many times, which has poor performance.  Consider joining all columns at once using pd.concat(axis=1) instead. To get a de-fragmented frame, use `newframe = frame.copy()`\n",
      "  portfolio_cumulative_returns[n] = (1 + sim_df.fillna(0)).cumprod()\n",
      "C:\\Users\\maris\\Downloads\\Fintech_P5M5-1bf4acc2d69b224c1384771893e8b26bdc73dabf\\Fintech_P5M5-1bf4acc2d69b224c1384771893e8b26bdc73dabf\\Starter_Code-5\\MCForecastTools.py:117: PerformanceWarning: DataFrame is highly fragmented.  This is usually the result of calling `frame.insert` many times, which has poor performance.  Consider joining all columns at once using pd.concat(axis=1) instead. To get a de-fragmented frame, use `newframe = frame.copy()`\n",
      "  portfolio_cumulative_returns[n] = (1 + sim_df.fillna(0)).cumprod()\n",
      "C:\\Users\\maris\\Downloads\\Fintech_P5M5-1bf4acc2d69b224c1384771893e8b26bdc73dabf\\Fintech_P5M5-1bf4acc2d69b224c1384771893e8b26bdc73dabf\\Starter_Code-5\\MCForecastTools.py:117: PerformanceWarning: DataFrame is highly fragmented.  This is usually the result of calling `frame.insert` many times, which has poor performance.  Consider joining all columns at once using pd.concat(axis=1) instead. To get a de-fragmented frame, use `newframe = frame.copy()`\n",
      "  portfolio_cumulative_returns[n] = (1 + sim_df.fillna(0)).cumprod()\n",
      "C:\\Users\\maris\\Downloads\\Fintech_P5M5-1bf4acc2d69b224c1384771893e8b26bdc73dabf\\Fintech_P5M5-1bf4acc2d69b224c1384771893e8b26bdc73dabf\\Starter_Code-5\\MCForecastTools.py:117: PerformanceWarning: DataFrame is highly fragmented.  This is usually the result of calling `frame.insert` many times, which has poor performance.  Consider joining all columns at once using pd.concat(axis=1) instead. To get a de-fragmented frame, use `newframe = frame.copy()`\n",
      "  portfolio_cumulative_returns[n] = (1 + sim_df.fillna(0)).cumprod()\n",
      "C:\\Users\\maris\\Downloads\\Fintech_P5M5-1bf4acc2d69b224c1384771893e8b26bdc73dabf\\Fintech_P5M5-1bf4acc2d69b224c1384771893e8b26bdc73dabf\\Starter_Code-5\\MCForecastTools.py:117: PerformanceWarning: DataFrame is highly fragmented.  This is usually the result of calling `frame.insert` many times, which has poor performance.  Consider joining all columns at once using pd.concat(axis=1) instead. To get a de-fragmented frame, use `newframe = frame.copy()`\n",
      "  portfolio_cumulative_returns[n] = (1 + sim_df.fillna(0)).cumprod()\n"
     ]
    },
    {
     "name": "stdout",
     "output_type": "stream",
     "text": [
      "Running Monte Carlo simulation number 390.\n"
     ]
    },
    {
     "name": "stderr",
     "output_type": "stream",
     "text": [
      "C:\\Users\\maris\\Downloads\\Fintech_P5M5-1bf4acc2d69b224c1384771893e8b26bdc73dabf\\Fintech_P5M5-1bf4acc2d69b224c1384771893e8b26bdc73dabf\\Starter_Code-5\\MCForecastTools.py:117: PerformanceWarning: DataFrame is highly fragmented.  This is usually the result of calling `frame.insert` many times, which has poor performance.  Consider joining all columns at once using pd.concat(axis=1) instead. To get a de-fragmented frame, use `newframe = frame.copy()`\n",
      "  portfolio_cumulative_returns[n] = (1 + sim_df.fillna(0)).cumprod()\n",
      "C:\\Users\\maris\\Downloads\\Fintech_P5M5-1bf4acc2d69b224c1384771893e8b26bdc73dabf\\Fintech_P5M5-1bf4acc2d69b224c1384771893e8b26bdc73dabf\\Starter_Code-5\\MCForecastTools.py:117: PerformanceWarning: DataFrame is highly fragmented.  This is usually the result of calling `frame.insert` many times, which has poor performance.  Consider joining all columns at once using pd.concat(axis=1) instead. To get a de-fragmented frame, use `newframe = frame.copy()`\n",
      "  portfolio_cumulative_returns[n] = (1 + sim_df.fillna(0)).cumprod()\n",
      "C:\\Users\\maris\\Downloads\\Fintech_P5M5-1bf4acc2d69b224c1384771893e8b26bdc73dabf\\Fintech_P5M5-1bf4acc2d69b224c1384771893e8b26bdc73dabf\\Starter_Code-5\\MCForecastTools.py:117: PerformanceWarning: DataFrame is highly fragmented.  This is usually the result of calling `frame.insert` many times, which has poor performance.  Consider joining all columns at once using pd.concat(axis=1) instead. To get a de-fragmented frame, use `newframe = frame.copy()`\n",
      "  portfolio_cumulative_returns[n] = (1 + sim_df.fillna(0)).cumprod()\n",
      "C:\\Users\\maris\\Downloads\\Fintech_P5M5-1bf4acc2d69b224c1384771893e8b26bdc73dabf\\Fintech_P5M5-1bf4acc2d69b224c1384771893e8b26bdc73dabf\\Starter_Code-5\\MCForecastTools.py:117: PerformanceWarning: DataFrame is highly fragmented.  This is usually the result of calling `frame.insert` many times, which has poor performance.  Consider joining all columns at once using pd.concat(axis=1) instead. To get a de-fragmented frame, use `newframe = frame.copy()`\n",
      "  portfolio_cumulative_returns[n] = (1 + sim_df.fillna(0)).cumprod()\n",
      "C:\\Users\\maris\\Downloads\\Fintech_P5M5-1bf4acc2d69b224c1384771893e8b26bdc73dabf\\Fintech_P5M5-1bf4acc2d69b224c1384771893e8b26bdc73dabf\\Starter_Code-5\\MCForecastTools.py:117: PerformanceWarning: DataFrame is highly fragmented.  This is usually the result of calling `frame.insert` many times, which has poor performance.  Consider joining all columns at once using pd.concat(axis=1) instead. To get a de-fragmented frame, use `newframe = frame.copy()`\n",
      "  portfolio_cumulative_returns[n] = (1 + sim_df.fillna(0)).cumprod()\n",
      "C:\\Users\\maris\\Downloads\\Fintech_P5M5-1bf4acc2d69b224c1384771893e8b26bdc73dabf\\Fintech_P5M5-1bf4acc2d69b224c1384771893e8b26bdc73dabf\\Starter_Code-5\\MCForecastTools.py:117: PerformanceWarning: DataFrame is highly fragmented.  This is usually the result of calling `frame.insert` many times, which has poor performance.  Consider joining all columns at once using pd.concat(axis=1) instead. To get a de-fragmented frame, use `newframe = frame.copy()`\n",
      "  portfolio_cumulative_returns[n] = (1 + sim_df.fillna(0)).cumprod()\n",
      "C:\\Users\\maris\\Downloads\\Fintech_P5M5-1bf4acc2d69b224c1384771893e8b26bdc73dabf\\Fintech_P5M5-1bf4acc2d69b224c1384771893e8b26bdc73dabf\\Starter_Code-5\\MCForecastTools.py:117: PerformanceWarning: DataFrame is highly fragmented.  This is usually the result of calling `frame.insert` many times, which has poor performance.  Consider joining all columns at once using pd.concat(axis=1) instead. To get a de-fragmented frame, use `newframe = frame.copy()`\n",
      "  portfolio_cumulative_returns[n] = (1 + sim_df.fillna(0)).cumprod()\n",
      "C:\\Users\\maris\\Downloads\\Fintech_P5M5-1bf4acc2d69b224c1384771893e8b26bdc73dabf\\Fintech_P5M5-1bf4acc2d69b224c1384771893e8b26bdc73dabf\\Starter_Code-5\\MCForecastTools.py:117: PerformanceWarning: DataFrame is highly fragmented.  This is usually the result of calling `frame.insert` many times, which has poor performance.  Consider joining all columns at once using pd.concat(axis=1) instead. To get a de-fragmented frame, use `newframe = frame.copy()`\n",
      "  portfolio_cumulative_returns[n] = (1 + sim_df.fillna(0)).cumprod()\n",
      "C:\\Users\\maris\\Downloads\\Fintech_P5M5-1bf4acc2d69b224c1384771893e8b26bdc73dabf\\Fintech_P5M5-1bf4acc2d69b224c1384771893e8b26bdc73dabf\\Starter_Code-5\\MCForecastTools.py:117: PerformanceWarning: DataFrame is highly fragmented.  This is usually the result of calling `frame.insert` many times, which has poor performance.  Consider joining all columns at once using pd.concat(axis=1) instead. To get a de-fragmented frame, use `newframe = frame.copy()`\n",
      "  portfolio_cumulative_returns[n] = (1 + sim_df.fillna(0)).cumprod()\n",
      "C:\\Users\\maris\\Downloads\\Fintech_P5M5-1bf4acc2d69b224c1384771893e8b26bdc73dabf\\Fintech_P5M5-1bf4acc2d69b224c1384771893e8b26bdc73dabf\\Starter_Code-5\\MCForecastTools.py:117: PerformanceWarning: DataFrame is highly fragmented.  This is usually the result of calling `frame.insert` many times, which has poor performance.  Consider joining all columns at once using pd.concat(axis=1) instead. To get a de-fragmented frame, use `newframe = frame.copy()`\n",
      "  portfolio_cumulative_returns[n] = (1 + sim_df.fillna(0)).cumprod()\n",
      "C:\\Users\\maris\\Downloads\\Fintech_P5M5-1bf4acc2d69b224c1384771893e8b26bdc73dabf\\Fintech_P5M5-1bf4acc2d69b224c1384771893e8b26bdc73dabf\\Starter_Code-5\\MCForecastTools.py:117: PerformanceWarning: DataFrame is highly fragmented.  This is usually the result of calling `frame.insert` many times, which has poor performance.  Consider joining all columns at once using pd.concat(axis=1) instead. To get a de-fragmented frame, use `newframe = frame.copy()`\n",
      "  portfolio_cumulative_returns[n] = (1 + sim_df.fillna(0)).cumprod()\n"
     ]
    },
    {
     "name": "stdout",
     "output_type": "stream",
     "text": [
      "Running Monte Carlo simulation number 400.\n"
     ]
    },
    {
     "name": "stderr",
     "output_type": "stream",
     "text": [
      "C:\\Users\\maris\\Downloads\\Fintech_P5M5-1bf4acc2d69b224c1384771893e8b26bdc73dabf\\Fintech_P5M5-1bf4acc2d69b224c1384771893e8b26bdc73dabf\\Starter_Code-5\\MCForecastTools.py:117: PerformanceWarning: DataFrame is highly fragmented.  This is usually the result of calling `frame.insert` many times, which has poor performance.  Consider joining all columns at once using pd.concat(axis=1) instead. To get a de-fragmented frame, use `newframe = frame.copy()`\n",
      "  portfolio_cumulative_returns[n] = (1 + sim_df.fillna(0)).cumprod()\n",
      "C:\\Users\\maris\\Downloads\\Fintech_P5M5-1bf4acc2d69b224c1384771893e8b26bdc73dabf\\Fintech_P5M5-1bf4acc2d69b224c1384771893e8b26bdc73dabf\\Starter_Code-5\\MCForecastTools.py:117: PerformanceWarning: DataFrame is highly fragmented.  This is usually the result of calling `frame.insert` many times, which has poor performance.  Consider joining all columns at once using pd.concat(axis=1) instead. To get a de-fragmented frame, use `newframe = frame.copy()`\n",
      "  portfolio_cumulative_returns[n] = (1 + sim_df.fillna(0)).cumprod()\n",
      "C:\\Users\\maris\\Downloads\\Fintech_P5M5-1bf4acc2d69b224c1384771893e8b26bdc73dabf\\Fintech_P5M5-1bf4acc2d69b224c1384771893e8b26bdc73dabf\\Starter_Code-5\\MCForecastTools.py:117: PerformanceWarning: DataFrame is highly fragmented.  This is usually the result of calling `frame.insert` many times, which has poor performance.  Consider joining all columns at once using pd.concat(axis=1) instead. To get a de-fragmented frame, use `newframe = frame.copy()`\n",
      "  portfolio_cumulative_returns[n] = (1 + sim_df.fillna(0)).cumprod()\n",
      "C:\\Users\\maris\\Downloads\\Fintech_P5M5-1bf4acc2d69b224c1384771893e8b26bdc73dabf\\Fintech_P5M5-1bf4acc2d69b224c1384771893e8b26bdc73dabf\\Starter_Code-5\\MCForecastTools.py:117: PerformanceWarning: DataFrame is highly fragmented.  This is usually the result of calling `frame.insert` many times, which has poor performance.  Consider joining all columns at once using pd.concat(axis=1) instead. To get a de-fragmented frame, use `newframe = frame.copy()`\n",
      "  portfolio_cumulative_returns[n] = (1 + sim_df.fillna(0)).cumprod()\n",
      "C:\\Users\\maris\\Downloads\\Fintech_P5M5-1bf4acc2d69b224c1384771893e8b26bdc73dabf\\Fintech_P5M5-1bf4acc2d69b224c1384771893e8b26bdc73dabf\\Starter_Code-5\\MCForecastTools.py:117: PerformanceWarning: DataFrame is highly fragmented.  This is usually the result of calling `frame.insert` many times, which has poor performance.  Consider joining all columns at once using pd.concat(axis=1) instead. To get a de-fragmented frame, use `newframe = frame.copy()`\n",
      "  portfolio_cumulative_returns[n] = (1 + sim_df.fillna(0)).cumprod()\n",
      "C:\\Users\\maris\\Downloads\\Fintech_P5M5-1bf4acc2d69b224c1384771893e8b26bdc73dabf\\Fintech_P5M5-1bf4acc2d69b224c1384771893e8b26bdc73dabf\\Starter_Code-5\\MCForecastTools.py:117: PerformanceWarning: DataFrame is highly fragmented.  This is usually the result of calling `frame.insert` many times, which has poor performance.  Consider joining all columns at once using pd.concat(axis=1) instead. To get a de-fragmented frame, use `newframe = frame.copy()`\n",
      "  portfolio_cumulative_returns[n] = (1 + sim_df.fillna(0)).cumprod()\n",
      "C:\\Users\\maris\\Downloads\\Fintech_P5M5-1bf4acc2d69b224c1384771893e8b26bdc73dabf\\Fintech_P5M5-1bf4acc2d69b224c1384771893e8b26bdc73dabf\\Starter_Code-5\\MCForecastTools.py:117: PerformanceWarning: DataFrame is highly fragmented.  This is usually the result of calling `frame.insert` many times, which has poor performance.  Consider joining all columns at once using pd.concat(axis=1) instead. To get a de-fragmented frame, use `newframe = frame.copy()`\n",
      "  portfolio_cumulative_returns[n] = (1 + sim_df.fillna(0)).cumprod()\n",
      "C:\\Users\\maris\\Downloads\\Fintech_P5M5-1bf4acc2d69b224c1384771893e8b26bdc73dabf\\Fintech_P5M5-1bf4acc2d69b224c1384771893e8b26bdc73dabf\\Starter_Code-5\\MCForecastTools.py:117: PerformanceWarning: DataFrame is highly fragmented.  This is usually the result of calling `frame.insert` many times, which has poor performance.  Consider joining all columns at once using pd.concat(axis=1) instead. To get a de-fragmented frame, use `newframe = frame.copy()`\n",
      "  portfolio_cumulative_returns[n] = (1 + sim_df.fillna(0)).cumprod()\n",
      "C:\\Users\\maris\\Downloads\\Fintech_P5M5-1bf4acc2d69b224c1384771893e8b26bdc73dabf\\Fintech_P5M5-1bf4acc2d69b224c1384771893e8b26bdc73dabf\\Starter_Code-5\\MCForecastTools.py:117: PerformanceWarning: DataFrame is highly fragmented.  This is usually the result of calling `frame.insert` many times, which has poor performance.  Consider joining all columns at once using pd.concat(axis=1) instead. To get a de-fragmented frame, use `newframe = frame.copy()`\n",
      "  portfolio_cumulative_returns[n] = (1 + sim_df.fillna(0)).cumprod()\n",
      "C:\\Users\\maris\\Downloads\\Fintech_P5M5-1bf4acc2d69b224c1384771893e8b26bdc73dabf\\Fintech_P5M5-1bf4acc2d69b224c1384771893e8b26bdc73dabf\\Starter_Code-5\\MCForecastTools.py:117: PerformanceWarning: DataFrame is highly fragmented.  This is usually the result of calling `frame.insert` many times, which has poor performance.  Consider joining all columns at once using pd.concat(axis=1) instead. To get a de-fragmented frame, use `newframe = frame.copy()`\n",
      "  portfolio_cumulative_returns[n] = (1 + sim_df.fillna(0)).cumprod()\n"
     ]
    },
    {
     "name": "stdout",
     "output_type": "stream",
     "text": [
      "Running Monte Carlo simulation number 410.\n"
     ]
    },
    {
     "name": "stderr",
     "output_type": "stream",
     "text": [
      "C:\\Users\\maris\\Downloads\\Fintech_P5M5-1bf4acc2d69b224c1384771893e8b26bdc73dabf\\Fintech_P5M5-1bf4acc2d69b224c1384771893e8b26bdc73dabf\\Starter_Code-5\\MCForecastTools.py:117: PerformanceWarning: DataFrame is highly fragmented.  This is usually the result of calling `frame.insert` many times, which has poor performance.  Consider joining all columns at once using pd.concat(axis=1) instead. To get a de-fragmented frame, use `newframe = frame.copy()`\n",
      "  portfolio_cumulative_returns[n] = (1 + sim_df.fillna(0)).cumprod()\n",
      "C:\\Users\\maris\\Downloads\\Fintech_P5M5-1bf4acc2d69b224c1384771893e8b26bdc73dabf\\Fintech_P5M5-1bf4acc2d69b224c1384771893e8b26bdc73dabf\\Starter_Code-5\\MCForecastTools.py:117: PerformanceWarning: DataFrame is highly fragmented.  This is usually the result of calling `frame.insert` many times, which has poor performance.  Consider joining all columns at once using pd.concat(axis=1) instead. To get a de-fragmented frame, use `newframe = frame.copy()`\n",
      "  portfolio_cumulative_returns[n] = (1 + sim_df.fillna(0)).cumprod()\n",
      "C:\\Users\\maris\\Downloads\\Fintech_P5M5-1bf4acc2d69b224c1384771893e8b26bdc73dabf\\Fintech_P5M5-1bf4acc2d69b224c1384771893e8b26bdc73dabf\\Starter_Code-5\\MCForecastTools.py:117: PerformanceWarning: DataFrame is highly fragmented.  This is usually the result of calling `frame.insert` many times, which has poor performance.  Consider joining all columns at once using pd.concat(axis=1) instead. To get a de-fragmented frame, use `newframe = frame.copy()`\n",
      "  portfolio_cumulative_returns[n] = (1 + sim_df.fillna(0)).cumprod()\n",
      "C:\\Users\\maris\\Downloads\\Fintech_P5M5-1bf4acc2d69b224c1384771893e8b26bdc73dabf\\Fintech_P5M5-1bf4acc2d69b224c1384771893e8b26bdc73dabf\\Starter_Code-5\\MCForecastTools.py:117: PerformanceWarning: DataFrame is highly fragmented.  This is usually the result of calling `frame.insert` many times, which has poor performance.  Consider joining all columns at once using pd.concat(axis=1) instead. To get a de-fragmented frame, use `newframe = frame.copy()`\n",
      "  portfolio_cumulative_returns[n] = (1 + sim_df.fillna(0)).cumprod()\n",
      "C:\\Users\\maris\\Downloads\\Fintech_P5M5-1bf4acc2d69b224c1384771893e8b26bdc73dabf\\Fintech_P5M5-1bf4acc2d69b224c1384771893e8b26bdc73dabf\\Starter_Code-5\\MCForecastTools.py:117: PerformanceWarning: DataFrame is highly fragmented.  This is usually the result of calling `frame.insert` many times, which has poor performance.  Consider joining all columns at once using pd.concat(axis=1) instead. To get a de-fragmented frame, use `newframe = frame.copy()`\n",
      "  portfolio_cumulative_returns[n] = (1 + sim_df.fillna(0)).cumprod()\n",
      "C:\\Users\\maris\\Downloads\\Fintech_P5M5-1bf4acc2d69b224c1384771893e8b26bdc73dabf\\Fintech_P5M5-1bf4acc2d69b224c1384771893e8b26bdc73dabf\\Starter_Code-5\\MCForecastTools.py:117: PerformanceWarning: DataFrame is highly fragmented.  This is usually the result of calling `frame.insert` many times, which has poor performance.  Consider joining all columns at once using pd.concat(axis=1) instead. To get a de-fragmented frame, use `newframe = frame.copy()`\n",
      "  portfolio_cumulative_returns[n] = (1 + sim_df.fillna(0)).cumprod()\n",
      "C:\\Users\\maris\\Downloads\\Fintech_P5M5-1bf4acc2d69b224c1384771893e8b26bdc73dabf\\Fintech_P5M5-1bf4acc2d69b224c1384771893e8b26bdc73dabf\\Starter_Code-5\\MCForecastTools.py:117: PerformanceWarning: DataFrame is highly fragmented.  This is usually the result of calling `frame.insert` many times, which has poor performance.  Consider joining all columns at once using pd.concat(axis=1) instead. To get a de-fragmented frame, use `newframe = frame.copy()`\n",
      "  portfolio_cumulative_returns[n] = (1 + sim_df.fillna(0)).cumprod()\n",
      "C:\\Users\\maris\\Downloads\\Fintech_P5M5-1bf4acc2d69b224c1384771893e8b26bdc73dabf\\Fintech_P5M5-1bf4acc2d69b224c1384771893e8b26bdc73dabf\\Starter_Code-5\\MCForecastTools.py:117: PerformanceWarning: DataFrame is highly fragmented.  This is usually the result of calling `frame.insert` many times, which has poor performance.  Consider joining all columns at once using pd.concat(axis=1) instead. To get a de-fragmented frame, use `newframe = frame.copy()`\n",
      "  portfolio_cumulative_returns[n] = (1 + sim_df.fillna(0)).cumprod()\n",
      "C:\\Users\\maris\\Downloads\\Fintech_P5M5-1bf4acc2d69b224c1384771893e8b26bdc73dabf\\Fintech_P5M5-1bf4acc2d69b224c1384771893e8b26bdc73dabf\\Starter_Code-5\\MCForecastTools.py:117: PerformanceWarning: DataFrame is highly fragmented.  This is usually the result of calling `frame.insert` many times, which has poor performance.  Consider joining all columns at once using pd.concat(axis=1) instead. To get a de-fragmented frame, use `newframe = frame.copy()`\n",
      "  portfolio_cumulative_returns[n] = (1 + sim_df.fillna(0)).cumprod()\n",
      "C:\\Users\\maris\\Downloads\\Fintech_P5M5-1bf4acc2d69b224c1384771893e8b26bdc73dabf\\Fintech_P5M5-1bf4acc2d69b224c1384771893e8b26bdc73dabf\\Starter_Code-5\\MCForecastTools.py:117: PerformanceWarning: DataFrame is highly fragmented.  This is usually the result of calling `frame.insert` many times, which has poor performance.  Consider joining all columns at once using pd.concat(axis=1) instead. To get a de-fragmented frame, use `newframe = frame.copy()`\n",
      "  portfolio_cumulative_returns[n] = (1 + sim_df.fillna(0)).cumprod()\n"
     ]
    },
    {
     "name": "stdout",
     "output_type": "stream",
     "text": [
      "Running Monte Carlo simulation number 420.\n"
     ]
    },
    {
     "name": "stderr",
     "output_type": "stream",
     "text": [
      "C:\\Users\\maris\\Downloads\\Fintech_P5M5-1bf4acc2d69b224c1384771893e8b26bdc73dabf\\Fintech_P5M5-1bf4acc2d69b224c1384771893e8b26bdc73dabf\\Starter_Code-5\\MCForecastTools.py:117: PerformanceWarning: DataFrame is highly fragmented.  This is usually the result of calling `frame.insert` many times, which has poor performance.  Consider joining all columns at once using pd.concat(axis=1) instead. To get a de-fragmented frame, use `newframe = frame.copy()`\n",
      "  portfolio_cumulative_returns[n] = (1 + sim_df.fillna(0)).cumprod()\n",
      "C:\\Users\\maris\\Downloads\\Fintech_P5M5-1bf4acc2d69b224c1384771893e8b26bdc73dabf\\Fintech_P5M5-1bf4acc2d69b224c1384771893e8b26bdc73dabf\\Starter_Code-5\\MCForecastTools.py:117: PerformanceWarning: DataFrame is highly fragmented.  This is usually the result of calling `frame.insert` many times, which has poor performance.  Consider joining all columns at once using pd.concat(axis=1) instead. To get a de-fragmented frame, use `newframe = frame.copy()`\n",
      "  portfolio_cumulative_returns[n] = (1 + sim_df.fillna(0)).cumprod()\n",
      "C:\\Users\\maris\\Downloads\\Fintech_P5M5-1bf4acc2d69b224c1384771893e8b26bdc73dabf\\Fintech_P5M5-1bf4acc2d69b224c1384771893e8b26bdc73dabf\\Starter_Code-5\\MCForecastTools.py:117: PerformanceWarning: DataFrame is highly fragmented.  This is usually the result of calling `frame.insert` many times, which has poor performance.  Consider joining all columns at once using pd.concat(axis=1) instead. To get a de-fragmented frame, use `newframe = frame.copy()`\n",
      "  portfolio_cumulative_returns[n] = (1 + sim_df.fillna(0)).cumprod()\n",
      "C:\\Users\\maris\\Downloads\\Fintech_P5M5-1bf4acc2d69b224c1384771893e8b26bdc73dabf\\Fintech_P5M5-1bf4acc2d69b224c1384771893e8b26bdc73dabf\\Starter_Code-5\\MCForecastTools.py:117: PerformanceWarning: DataFrame is highly fragmented.  This is usually the result of calling `frame.insert` many times, which has poor performance.  Consider joining all columns at once using pd.concat(axis=1) instead. To get a de-fragmented frame, use `newframe = frame.copy()`\n",
      "  portfolio_cumulative_returns[n] = (1 + sim_df.fillna(0)).cumprod()\n",
      "C:\\Users\\maris\\Downloads\\Fintech_P5M5-1bf4acc2d69b224c1384771893e8b26bdc73dabf\\Fintech_P5M5-1bf4acc2d69b224c1384771893e8b26bdc73dabf\\Starter_Code-5\\MCForecastTools.py:117: PerformanceWarning: DataFrame is highly fragmented.  This is usually the result of calling `frame.insert` many times, which has poor performance.  Consider joining all columns at once using pd.concat(axis=1) instead. To get a de-fragmented frame, use `newframe = frame.copy()`\n",
      "  portfolio_cumulative_returns[n] = (1 + sim_df.fillna(0)).cumprod()\n",
      "C:\\Users\\maris\\Downloads\\Fintech_P5M5-1bf4acc2d69b224c1384771893e8b26bdc73dabf\\Fintech_P5M5-1bf4acc2d69b224c1384771893e8b26bdc73dabf\\Starter_Code-5\\MCForecastTools.py:117: PerformanceWarning: DataFrame is highly fragmented.  This is usually the result of calling `frame.insert` many times, which has poor performance.  Consider joining all columns at once using pd.concat(axis=1) instead. To get a de-fragmented frame, use `newframe = frame.copy()`\n",
      "  portfolio_cumulative_returns[n] = (1 + sim_df.fillna(0)).cumprod()\n",
      "C:\\Users\\maris\\Downloads\\Fintech_P5M5-1bf4acc2d69b224c1384771893e8b26bdc73dabf\\Fintech_P5M5-1bf4acc2d69b224c1384771893e8b26bdc73dabf\\Starter_Code-5\\MCForecastTools.py:117: PerformanceWarning: DataFrame is highly fragmented.  This is usually the result of calling `frame.insert` many times, which has poor performance.  Consider joining all columns at once using pd.concat(axis=1) instead. To get a de-fragmented frame, use `newframe = frame.copy()`\n",
      "  portfolio_cumulative_returns[n] = (1 + sim_df.fillna(0)).cumprod()\n",
      "C:\\Users\\maris\\Downloads\\Fintech_P5M5-1bf4acc2d69b224c1384771893e8b26bdc73dabf\\Fintech_P5M5-1bf4acc2d69b224c1384771893e8b26bdc73dabf\\Starter_Code-5\\MCForecastTools.py:117: PerformanceWarning: DataFrame is highly fragmented.  This is usually the result of calling `frame.insert` many times, which has poor performance.  Consider joining all columns at once using pd.concat(axis=1) instead. To get a de-fragmented frame, use `newframe = frame.copy()`\n",
      "  portfolio_cumulative_returns[n] = (1 + sim_df.fillna(0)).cumprod()\n",
      "C:\\Users\\maris\\Downloads\\Fintech_P5M5-1bf4acc2d69b224c1384771893e8b26bdc73dabf\\Fintech_P5M5-1bf4acc2d69b224c1384771893e8b26bdc73dabf\\Starter_Code-5\\MCForecastTools.py:117: PerformanceWarning: DataFrame is highly fragmented.  This is usually the result of calling `frame.insert` many times, which has poor performance.  Consider joining all columns at once using pd.concat(axis=1) instead. To get a de-fragmented frame, use `newframe = frame.copy()`\n",
      "  portfolio_cumulative_returns[n] = (1 + sim_df.fillna(0)).cumprod()\n",
      "C:\\Users\\maris\\Downloads\\Fintech_P5M5-1bf4acc2d69b224c1384771893e8b26bdc73dabf\\Fintech_P5M5-1bf4acc2d69b224c1384771893e8b26bdc73dabf\\Starter_Code-5\\MCForecastTools.py:117: PerformanceWarning: DataFrame is highly fragmented.  This is usually the result of calling `frame.insert` many times, which has poor performance.  Consider joining all columns at once using pd.concat(axis=1) instead. To get a de-fragmented frame, use `newframe = frame.copy()`\n",
      "  portfolio_cumulative_returns[n] = (1 + sim_df.fillna(0)).cumprod()\n",
      "C:\\Users\\maris\\Downloads\\Fintech_P5M5-1bf4acc2d69b224c1384771893e8b26bdc73dabf\\Fintech_P5M5-1bf4acc2d69b224c1384771893e8b26bdc73dabf\\Starter_Code-5\\MCForecastTools.py:117: PerformanceWarning: DataFrame is highly fragmented.  This is usually the result of calling `frame.insert` many times, which has poor performance.  Consider joining all columns at once using pd.concat(axis=1) instead. To get a de-fragmented frame, use `newframe = frame.copy()`\n",
      "  portfolio_cumulative_returns[n] = (1 + sim_df.fillna(0)).cumprod()\n"
     ]
    },
    {
     "name": "stdout",
     "output_type": "stream",
     "text": [
      "Running Monte Carlo simulation number 430.\n"
     ]
    },
    {
     "name": "stderr",
     "output_type": "stream",
     "text": [
      "C:\\Users\\maris\\Downloads\\Fintech_P5M5-1bf4acc2d69b224c1384771893e8b26bdc73dabf\\Fintech_P5M5-1bf4acc2d69b224c1384771893e8b26bdc73dabf\\Starter_Code-5\\MCForecastTools.py:117: PerformanceWarning: DataFrame is highly fragmented.  This is usually the result of calling `frame.insert` many times, which has poor performance.  Consider joining all columns at once using pd.concat(axis=1) instead. To get a de-fragmented frame, use `newframe = frame.copy()`\n",
      "  portfolio_cumulative_returns[n] = (1 + sim_df.fillna(0)).cumprod()\n",
      "C:\\Users\\maris\\Downloads\\Fintech_P5M5-1bf4acc2d69b224c1384771893e8b26bdc73dabf\\Fintech_P5M5-1bf4acc2d69b224c1384771893e8b26bdc73dabf\\Starter_Code-5\\MCForecastTools.py:117: PerformanceWarning: DataFrame is highly fragmented.  This is usually the result of calling `frame.insert` many times, which has poor performance.  Consider joining all columns at once using pd.concat(axis=1) instead. To get a de-fragmented frame, use `newframe = frame.copy()`\n",
      "  portfolio_cumulative_returns[n] = (1 + sim_df.fillna(0)).cumprod()\n",
      "C:\\Users\\maris\\Downloads\\Fintech_P5M5-1bf4acc2d69b224c1384771893e8b26bdc73dabf\\Fintech_P5M5-1bf4acc2d69b224c1384771893e8b26bdc73dabf\\Starter_Code-5\\MCForecastTools.py:117: PerformanceWarning: DataFrame is highly fragmented.  This is usually the result of calling `frame.insert` many times, which has poor performance.  Consider joining all columns at once using pd.concat(axis=1) instead. To get a de-fragmented frame, use `newframe = frame.copy()`\n",
      "  portfolio_cumulative_returns[n] = (1 + sim_df.fillna(0)).cumprod()\n",
      "C:\\Users\\maris\\Downloads\\Fintech_P5M5-1bf4acc2d69b224c1384771893e8b26bdc73dabf\\Fintech_P5M5-1bf4acc2d69b224c1384771893e8b26bdc73dabf\\Starter_Code-5\\MCForecastTools.py:117: PerformanceWarning: DataFrame is highly fragmented.  This is usually the result of calling `frame.insert` many times, which has poor performance.  Consider joining all columns at once using pd.concat(axis=1) instead. To get a de-fragmented frame, use `newframe = frame.copy()`\n",
      "  portfolio_cumulative_returns[n] = (1 + sim_df.fillna(0)).cumprod()\n",
      "C:\\Users\\maris\\Downloads\\Fintech_P5M5-1bf4acc2d69b224c1384771893e8b26bdc73dabf\\Fintech_P5M5-1bf4acc2d69b224c1384771893e8b26bdc73dabf\\Starter_Code-5\\MCForecastTools.py:117: PerformanceWarning: DataFrame is highly fragmented.  This is usually the result of calling `frame.insert` many times, which has poor performance.  Consider joining all columns at once using pd.concat(axis=1) instead. To get a de-fragmented frame, use `newframe = frame.copy()`\n",
      "  portfolio_cumulative_returns[n] = (1 + sim_df.fillna(0)).cumprod()\n",
      "C:\\Users\\maris\\Downloads\\Fintech_P5M5-1bf4acc2d69b224c1384771893e8b26bdc73dabf\\Fintech_P5M5-1bf4acc2d69b224c1384771893e8b26bdc73dabf\\Starter_Code-5\\MCForecastTools.py:117: PerformanceWarning: DataFrame is highly fragmented.  This is usually the result of calling `frame.insert` many times, which has poor performance.  Consider joining all columns at once using pd.concat(axis=1) instead. To get a de-fragmented frame, use `newframe = frame.copy()`\n",
      "  portfolio_cumulative_returns[n] = (1 + sim_df.fillna(0)).cumprod()\n",
      "C:\\Users\\maris\\Downloads\\Fintech_P5M5-1bf4acc2d69b224c1384771893e8b26bdc73dabf\\Fintech_P5M5-1bf4acc2d69b224c1384771893e8b26bdc73dabf\\Starter_Code-5\\MCForecastTools.py:117: PerformanceWarning: DataFrame is highly fragmented.  This is usually the result of calling `frame.insert` many times, which has poor performance.  Consider joining all columns at once using pd.concat(axis=1) instead. To get a de-fragmented frame, use `newframe = frame.copy()`\n",
      "  portfolio_cumulative_returns[n] = (1 + sim_df.fillna(0)).cumprod()\n",
      "C:\\Users\\maris\\Downloads\\Fintech_P5M5-1bf4acc2d69b224c1384771893e8b26bdc73dabf\\Fintech_P5M5-1bf4acc2d69b224c1384771893e8b26bdc73dabf\\Starter_Code-5\\MCForecastTools.py:117: PerformanceWarning: DataFrame is highly fragmented.  This is usually the result of calling `frame.insert` many times, which has poor performance.  Consider joining all columns at once using pd.concat(axis=1) instead. To get a de-fragmented frame, use `newframe = frame.copy()`\n",
      "  portfolio_cumulative_returns[n] = (1 + sim_df.fillna(0)).cumprod()\n",
      "C:\\Users\\maris\\Downloads\\Fintech_P5M5-1bf4acc2d69b224c1384771893e8b26bdc73dabf\\Fintech_P5M5-1bf4acc2d69b224c1384771893e8b26bdc73dabf\\Starter_Code-5\\MCForecastTools.py:117: PerformanceWarning: DataFrame is highly fragmented.  This is usually the result of calling `frame.insert` many times, which has poor performance.  Consider joining all columns at once using pd.concat(axis=1) instead. To get a de-fragmented frame, use `newframe = frame.copy()`\n",
      "  portfolio_cumulative_returns[n] = (1 + sim_df.fillna(0)).cumprod()\n"
     ]
    },
    {
     "name": "stdout",
     "output_type": "stream",
     "text": [
      "Running Monte Carlo simulation number 440.\n"
     ]
    },
    {
     "name": "stderr",
     "output_type": "stream",
     "text": [
      "C:\\Users\\maris\\Downloads\\Fintech_P5M5-1bf4acc2d69b224c1384771893e8b26bdc73dabf\\Fintech_P5M5-1bf4acc2d69b224c1384771893e8b26bdc73dabf\\Starter_Code-5\\MCForecastTools.py:117: PerformanceWarning: DataFrame is highly fragmented.  This is usually the result of calling `frame.insert` many times, which has poor performance.  Consider joining all columns at once using pd.concat(axis=1) instead. To get a de-fragmented frame, use `newframe = frame.copy()`\n",
      "  portfolio_cumulative_returns[n] = (1 + sim_df.fillna(0)).cumprod()\n",
      "C:\\Users\\maris\\Downloads\\Fintech_P5M5-1bf4acc2d69b224c1384771893e8b26bdc73dabf\\Fintech_P5M5-1bf4acc2d69b224c1384771893e8b26bdc73dabf\\Starter_Code-5\\MCForecastTools.py:117: PerformanceWarning: DataFrame is highly fragmented.  This is usually the result of calling `frame.insert` many times, which has poor performance.  Consider joining all columns at once using pd.concat(axis=1) instead. To get a de-fragmented frame, use `newframe = frame.copy()`\n",
      "  portfolio_cumulative_returns[n] = (1 + sim_df.fillna(0)).cumprod()\n",
      "C:\\Users\\maris\\Downloads\\Fintech_P5M5-1bf4acc2d69b224c1384771893e8b26bdc73dabf\\Fintech_P5M5-1bf4acc2d69b224c1384771893e8b26bdc73dabf\\Starter_Code-5\\MCForecastTools.py:117: PerformanceWarning: DataFrame is highly fragmented.  This is usually the result of calling `frame.insert` many times, which has poor performance.  Consider joining all columns at once using pd.concat(axis=1) instead. To get a de-fragmented frame, use `newframe = frame.copy()`\n",
      "  portfolio_cumulative_returns[n] = (1 + sim_df.fillna(0)).cumprod()\n",
      "C:\\Users\\maris\\Downloads\\Fintech_P5M5-1bf4acc2d69b224c1384771893e8b26bdc73dabf\\Fintech_P5M5-1bf4acc2d69b224c1384771893e8b26bdc73dabf\\Starter_Code-5\\MCForecastTools.py:117: PerformanceWarning: DataFrame is highly fragmented.  This is usually the result of calling `frame.insert` many times, which has poor performance.  Consider joining all columns at once using pd.concat(axis=1) instead. To get a de-fragmented frame, use `newframe = frame.copy()`\n",
      "  portfolio_cumulative_returns[n] = (1 + sim_df.fillna(0)).cumprod()\n",
      "C:\\Users\\maris\\Downloads\\Fintech_P5M5-1bf4acc2d69b224c1384771893e8b26bdc73dabf\\Fintech_P5M5-1bf4acc2d69b224c1384771893e8b26bdc73dabf\\Starter_Code-5\\MCForecastTools.py:117: PerformanceWarning: DataFrame is highly fragmented.  This is usually the result of calling `frame.insert` many times, which has poor performance.  Consider joining all columns at once using pd.concat(axis=1) instead. To get a de-fragmented frame, use `newframe = frame.copy()`\n",
      "  portfolio_cumulative_returns[n] = (1 + sim_df.fillna(0)).cumprod()\n",
      "C:\\Users\\maris\\Downloads\\Fintech_P5M5-1bf4acc2d69b224c1384771893e8b26bdc73dabf\\Fintech_P5M5-1bf4acc2d69b224c1384771893e8b26bdc73dabf\\Starter_Code-5\\MCForecastTools.py:117: PerformanceWarning: DataFrame is highly fragmented.  This is usually the result of calling `frame.insert` many times, which has poor performance.  Consider joining all columns at once using pd.concat(axis=1) instead. To get a de-fragmented frame, use `newframe = frame.copy()`\n",
      "  portfolio_cumulative_returns[n] = (1 + sim_df.fillna(0)).cumprod()\n",
      "C:\\Users\\maris\\Downloads\\Fintech_P5M5-1bf4acc2d69b224c1384771893e8b26bdc73dabf\\Fintech_P5M5-1bf4acc2d69b224c1384771893e8b26bdc73dabf\\Starter_Code-5\\MCForecastTools.py:117: PerformanceWarning: DataFrame is highly fragmented.  This is usually the result of calling `frame.insert` many times, which has poor performance.  Consider joining all columns at once using pd.concat(axis=1) instead. To get a de-fragmented frame, use `newframe = frame.copy()`\n",
      "  portfolio_cumulative_returns[n] = (1 + sim_df.fillna(0)).cumprod()\n",
      "C:\\Users\\maris\\Downloads\\Fintech_P5M5-1bf4acc2d69b224c1384771893e8b26bdc73dabf\\Fintech_P5M5-1bf4acc2d69b224c1384771893e8b26bdc73dabf\\Starter_Code-5\\MCForecastTools.py:117: PerformanceWarning: DataFrame is highly fragmented.  This is usually the result of calling `frame.insert` many times, which has poor performance.  Consider joining all columns at once using pd.concat(axis=1) instead. To get a de-fragmented frame, use `newframe = frame.copy()`\n",
      "  portfolio_cumulative_returns[n] = (1 + sim_df.fillna(0)).cumprod()\n",
      "C:\\Users\\maris\\Downloads\\Fintech_P5M5-1bf4acc2d69b224c1384771893e8b26bdc73dabf\\Fintech_P5M5-1bf4acc2d69b224c1384771893e8b26bdc73dabf\\Starter_Code-5\\MCForecastTools.py:117: PerformanceWarning: DataFrame is highly fragmented.  This is usually the result of calling `frame.insert` many times, which has poor performance.  Consider joining all columns at once using pd.concat(axis=1) instead. To get a de-fragmented frame, use `newframe = frame.copy()`\n",
      "  portfolio_cumulative_returns[n] = (1 + sim_df.fillna(0)).cumprod()\n",
      "C:\\Users\\maris\\Downloads\\Fintech_P5M5-1bf4acc2d69b224c1384771893e8b26bdc73dabf\\Fintech_P5M5-1bf4acc2d69b224c1384771893e8b26bdc73dabf\\Starter_Code-5\\MCForecastTools.py:117: PerformanceWarning: DataFrame is highly fragmented.  This is usually the result of calling `frame.insert` many times, which has poor performance.  Consider joining all columns at once using pd.concat(axis=1) instead. To get a de-fragmented frame, use `newframe = frame.copy()`\n",
      "  portfolio_cumulative_returns[n] = (1 + sim_df.fillna(0)).cumprod()\n"
     ]
    },
    {
     "name": "stdout",
     "output_type": "stream",
     "text": [
      "Running Monte Carlo simulation number 450.\n"
     ]
    },
    {
     "name": "stderr",
     "output_type": "stream",
     "text": [
      "C:\\Users\\maris\\Downloads\\Fintech_P5M5-1bf4acc2d69b224c1384771893e8b26bdc73dabf\\Fintech_P5M5-1bf4acc2d69b224c1384771893e8b26bdc73dabf\\Starter_Code-5\\MCForecastTools.py:117: PerformanceWarning: DataFrame is highly fragmented.  This is usually the result of calling `frame.insert` many times, which has poor performance.  Consider joining all columns at once using pd.concat(axis=1) instead. To get a de-fragmented frame, use `newframe = frame.copy()`\n",
      "  portfolio_cumulative_returns[n] = (1 + sim_df.fillna(0)).cumprod()\n",
      "C:\\Users\\maris\\Downloads\\Fintech_P5M5-1bf4acc2d69b224c1384771893e8b26bdc73dabf\\Fintech_P5M5-1bf4acc2d69b224c1384771893e8b26bdc73dabf\\Starter_Code-5\\MCForecastTools.py:117: PerformanceWarning: DataFrame is highly fragmented.  This is usually the result of calling `frame.insert` many times, which has poor performance.  Consider joining all columns at once using pd.concat(axis=1) instead. To get a de-fragmented frame, use `newframe = frame.copy()`\n",
      "  portfolio_cumulative_returns[n] = (1 + sim_df.fillna(0)).cumprod()\n",
      "C:\\Users\\maris\\Downloads\\Fintech_P5M5-1bf4acc2d69b224c1384771893e8b26bdc73dabf\\Fintech_P5M5-1bf4acc2d69b224c1384771893e8b26bdc73dabf\\Starter_Code-5\\MCForecastTools.py:117: PerformanceWarning: DataFrame is highly fragmented.  This is usually the result of calling `frame.insert` many times, which has poor performance.  Consider joining all columns at once using pd.concat(axis=1) instead. To get a de-fragmented frame, use `newframe = frame.copy()`\n",
      "  portfolio_cumulative_returns[n] = (1 + sim_df.fillna(0)).cumprod()\n",
      "C:\\Users\\maris\\Downloads\\Fintech_P5M5-1bf4acc2d69b224c1384771893e8b26bdc73dabf\\Fintech_P5M5-1bf4acc2d69b224c1384771893e8b26bdc73dabf\\Starter_Code-5\\MCForecastTools.py:117: PerformanceWarning: DataFrame is highly fragmented.  This is usually the result of calling `frame.insert` many times, which has poor performance.  Consider joining all columns at once using pd.concat(axis=1) instead. To get a de-fragmented frame, use `newframe = frame.copy()`\n",
      "  portfolio_cumulative_returns[n] = (1 + sim_df.fillna(0)).cumprod()\n",
      "C:\\Users\\maris\\Downloads\\Fintech_P5M5-1bf4acc2d69b224c1384771893e8b26bdc73dabf\\Fintech_P5M5-1bf4acc2d69b224c1384771893e8b26bdc73dabf\\Starter_Code-5\\MCForecastTools.py:117: PerformanceWarning: DataFrame is highly fragmented.  This is usually the result of calling `frame.insert` many times, which has poor performance.  Consider joining all columns at once using pd.concat(axis=1) instead. To get a de-fragmented frame, use `newframe = frame.copy()`\n",
      "  portfolio_cumulative_returns[n] = (1 + sim_df.fillna(0)).cumprod()\n",
      "C:\\Users\\maris\\Downloads\\Fintech_P5M5-1bf4acc2d69b224c1384771893e8b26bdc73dabf\\Fintech_P5M5-1bf4acc2d69b224c1384771893e8b26bdc73dabf\\Starter_Code-5\\MCForecastTools.py:117: PerformanceWarning: DataFrame is highly fragmented.  This is usually the result of calling `frame.insert` many times, which has poor performance.  Consider joining all columns at once using pd.concat(axis=1) instead. To get a de-fragmented frame, use `newframe = frame.copy()`\n",
      "  portfolio_cumulative_returns[n] = (1 + sim_df.fillna(0)).cumprod()\n",
      "C:\\Users\\maris\\Downloads\\Fintech_P5M5-1bf4acc2d69b224c1384771893e8b26bdc73dabf\\Fintech_P5M5-1bf4acc2d69b224c1384771893e8b26bdc73dabf\\Starter_Code-5\\MCForecastTools.py:117: PerformanceWarning: DataFrame is highly fragmented.  This is usually the result of calling `frame.insert` many times, which has poor performance.  Consider joining all columns at once using pd.concat(axis=1) instead. To get a de-fragmented frame, use `newframe = frame.copy()`\n",
      "  portfolio_cumulative_returns[n] = (1 + sim_df.fillna(0)).cumprod()\n",
      "C:\\Users\\maris\\Downloads\\Fintech_P5M5-1bf4acc2d69b224c1384771893e8b26bdc73dabf\\Fintech_P5M5-1bf4acc2d69b224c1384771893e8b26bdc73dabf\\Starter_Code-5\\MCForecastTools.py:117: PerformanceWarning: DataFrame is highly fragmented.  This is usually the result of calling `frame.insert` many times, which has poor performance.  Consider joining all columns at once using pd.concat(axis=1) instead. To get a de-fragmented frame, use `newframe = frame.copy()`\n",
      "  portfolio_cumulative_returns[n] = (1 + sim_df.fillna(0)).cumprod()\n",
      "C:\\Users\\maris\\Downloads\\Fintech_P5M5-1bf4acc2d69b224c1384771893e8b26bdc73dabf\\Fintech_P5M5-1bf4acc2d69b224c1384771893e8b26bdc73dabf\\Starter_Code-5\\MCForecastTools.py:117: PerformanceWarning: DataFrame is highly fragmented.  This is usually the result of calling `frame.insert` many times, which has poor performance.  Consider joining all columns at once using pd.concat(axis=1) instead. To get a de-fragmented frame, use `newframe = frame.copy()`\n",
      "  portfolio_cumulative_returns[n] = (1 + sim_df.fillna(0)).cumprod()\n",
      "C:\\Users\\maris\\Downloads\\Fintech_P5M5-1bf4acc2d69b224c1384771893e8b26bdc73dabf\\Fintech_P5M5-1bf4acc2d69b224c1384771893e8b26bdc73dabf\\Starter_Code-5\\MCForecastTools.py:117: PerformanceWarning: DataFrame is highly fragmented.  This is usually the result of calling `frame.insert` many times, which has poor performance.  Consider joining all columns at once using pd.concat(axis=1) instead. To get a de-fragmented frame, use `newframe = frame.copy()`\n",
      "  portfolio_cumulative_returns[n] = (1 + sim_df.fillna(0)).cumprod()\n"
     ]
    },
    {
     "name": "stdout",
     "output_type": "stream",
     "text": [
      "Running Monte Carlo simulation number 460.\n"
     ]
    },
    {
     "name": "stderr",
     "output_type": "stream",
     "text": [
      "C:\\Users\\maris\\Downloads\\Fintech_P5M5-1bf4acc2d69b224c1384771893e8b26bdc73dabf\\Fintech_P5M5-1bf4acc2d69b224c1384771893e8b26bdc73dabf\\Starter_Code-5\\MCForecastTools.py:117: PerformanceWarning: DataFrame is highly fragmented.  This is usually the result of calling `frame.insert` many times, which has poor performance.  Consider joining all columns at once using pd.concat(axis=1) instead. To get a de-fragmented frame, use `newframe = frame.copy()`\n",
      "  portfolio_cumulative_returns[n] = (1 + sim_df.fillna(0)).cumprod()\n",
      "C:\\Users\\maris\\Downloads\\Fintech_P5M5-1bf4acc2d69b224c1384771893e8b26bdc73dabf\\Fintech_P5M5-1bf4acc2d69b224c1384771893e8b26bdc73dabf\\Starter_Code-5\\MCForecastTools.py:117: PerformanceWarning: DataFrame is highly fragmented.  This is usually the result of calling `frame.insert` many times, which has poor performance.  Consider joining all columns at once using pd.concat(axis=1) instead. To get a de-fragmented frame, use `newframe = frame.copy()`\n",
      "  portfolio_cumulative_returns[n] = (1 + sim_df.fillna(0)).cumprod()\n",
      "C:\\Users\\maris\\Downloads\\Fintech_P5M5-1bf4acc2d69b224c1384771893e8b26bdc73dabf\\Fintech_P5M5-1bf4acc2d69b224c1384771893e8b26bdc73dabf\\Starter_Code-5\\MCForecastTools.py:117: PerformanceWarning: DataFrame is highly fragmented.  This is usually the result of calling `frame.insert` many times, which has poor performance.  Consider joining all columns at once using pd.concat(axis=1) instead. To get a de-fragmented frame, use `newframe = frame.copy()`\n",
      "  portfolio_cumulative_returns[n] = (1 + sim_df.fillna(0)).cumprod()\n",
      "C:\\Users\\maris\\Downloads\\Fintech_P5M5-1bf4acc2d69b224c1384771893e8b26bdc73dabf\\Fintech_P5M5-1bf4acc2d69b224c1384771893e8b26bdc73dabf\\Starter_Code-5\\MCForecastTools.py:117: PerformanceWarning: DataFrame is highly fragmented.  This is usually the result of calling `frame.insert` many times, which has poor performance.  Consider joining all columns at once using pd.concat(axis=1) instead. To get a de-fragmented frame, use `newframe = frame.copy()`\n",
      "  portfolio_cumulative_returns[n] = (1 + sim_df.fillna(0)).cumprod()\n",
      "C:\\Users\\maris\\Downloads\\Fintech_P5M5-1bf4acc2d69b224c1384771893e8b26bdc73dabf\\Fintech_P5M5-1bf4acc2d69b224c1384771893e8b26bdc73dabf\\Starter_Code-5\\MCForecastTools.py:117: PerformanceWarning: DataFrame is highly fragmented.  This is usually the result of calling `frame.insert` many times, which has poor performance.  Consider joining all columns at once using pd.concat(axis=1) instead. To get a de-fragmented frame, use `newframe = frame.copy()`\n",
      "  portfolio_cumulative_returns[n] = (1 + sim_df.fillna(0)).cumprod()\n",
      "C:\\Users\\maris\\Downloads\\Fintech_P5M5-1bf4acc2d69b224c1384771893e8b26bdc73dabf\\Fintech_P5M5-1bf4acc2d69b224c1384771893e8b26bdc73dabf\\Starter_Code-5\\MCForecastTools.py:117: PerformanceWarning: DataFrame is highly fragmented.  This is usually the result of calling `frame.insert` many times, which has poor performance.  Consider joining all columns at once using pd.concat(axis=1) instead. To get a de-fragmented frame, use `newframe = frame.copy()`\n",
      "  portfolio_cumulative_returns[n] = (1 + sim_df.fillna(0)).cumprod()\n",
      "C:\\Users\\maris\\Downloads\\Fintech_P5M5-1bf4acc2d69b224c1384771893e8b26bdc73dabf\\Fintech_P5M5-1bf4acc2d69b224c1384771893e8b26bdc73dabf\\Starter_Code-5\\MCForecastTools.py:117: PerformanceWarning: DataFrame is highly fragmented.  This is usually the result of calling `frame.insert` many times, which has poor performance.  Consider joining all columns at once using pd.concat(axis=1) instead. To get a de-fragmented frame, use `newframe = frame.copy()`\n",
      "  portfolio_cumulative_returns[n] = (1 + sim_df.fillna(0)).cumprod()\n",
      "C:\\Users\\maris\\Downloads\\Fintech_P5M5-1bf4acc2d69b224c1384771893e8b26bdc73dabf\\Fintech_P5M5-1bf4acc2d69b224c1384771893e8b26bdc73dabf\\Starter_Code-5\\MCForecastTools.py:117: PerformanceWarning: DataFrame is highly fragmented.  This is usually the result of calling `frame.insert` many times, which has poor performance.  Consider joining all columns at once using pd.concat(axis=1) instead. To get a de-fragmented frame, use `newframe = frame.copy()`\n",
      "  portfolio_cumulative_returns[n] = (1 + sim_df.fillna(0)).cumprod()\n",
      "C:\\Users\\maris\\Downloads\\Fintech_P5M5-1bf4acc2d69b224c1384771893e8b26bdc73dabf\\Fintech_P5M5-1bf4acc2d69b224c1384771893e8b26bdc73dabf\\Starter_Code-5\\MCForecastTools.py:117: PerformanceWarning: DataFrame is highly fragmented.  This is usually the result of calling `frame.insert` many times, which has poor performance.  Consider joining all columns at once using pd.concat(axis=1) instead. To get a de-fragmented frame, use `newframe = frame.copy()`\n",
      "  portfolio_cumulative_returns[n] = (1 + sim_df.fillna(0)).cumprod()\n",
      "C:\\Users\\maris\\Downloads\\Fintech_P5M5-1bf4acc2d69b224c1384771893e8b26bdc73dabf\\Fintech_P5M5-1bf4acc2d69b224c1384771893e8b26bdc73dabf\\Starter_Code-5\\MCForecastTools.py:117: PerformanceWarning: DataFrame is highly fragmented.  This is usually the result of calling `frame.insert` many times, which has poor performance.  Consider joining all columns at once using pd.concat(axis=1) instead. To get a de-fragmented frame, use `newframe = frame.copy()`\n",
      "  portfolio_cumulative_returns[n] = (1 + sim_df.fillna(0)).cumprod()\n"
     ]
    },
    {
     "name": "stdout",
     "output_type": "stream",
     "text": [
      "Running Monte Carlo simulation number 470.\n"
     ]
    },
    {
     "name": "stderr",
     "output_type": "stream",
     "text": [
      "C:\\Users\\maris\\Downloads\\Fintech_P5M5-1bf4acc2d69b224c1384771893e8b26bdc73dabf\\Fintech_P5M5-1bf4acc2d69b224c1384771893e8b26bdc73dabf\\Starter_Code-5\\MCForecastTools.py:117: PerformanceWarning: DataFrame is highly fragmented.  This is usually the result of calling `frame.insert` many times, which has poor performance.  Consider joining all columns at once using pd.concat(axis=1) instead. To get a de-fragmented frame, use `newframe = frame.copy()`\n",
      "  portfolio_cumulative_returns[n] = (1 + sim_df.fillna(0)).cumprod()\n",
      "C:\\Users\\maris\\Downloads\\Fintech_P5M5-1bf4acc2d69b224c1384771893e8b26bdc73dabf\\Fintech_P5M5-1bf4acc2d69b224c1384771893e8b26bdc73dabf\\Starter_Code-5\\MCForecastTools.py:117: PerformanceWarning: DataFrame is highly fragmented.  This is usually the result of calling `frame.insert` many times, which has poor performance.  Consider joining all columns at once using pd.concat(axis=1) instead. To get a de-fragmented frame, use `newframe = frame.copy()`\n",
      "  portfolio_cumulative_returns[n] = (1 + sim_df.fillna(0)).cumprod()\n",
      "C:\\Users\\maris\\Downloads\\Fintech_P5M5-1bf4acc2d69b224c1384771893e8b26bdc73dabf\\Fintech_P5M5-1bf4acc2d69b224c1384771893e8b26bdc73dabf\\Starter_Code-5\\MCForecastTools.py:117: PerformanceWarning: DataFrame is highly fragmented.  This is usually the result of calling `frame.insert` many times, which has poor performance.  Consider joining all columns at once using pd.concat(axis=1) instead. To get a de-fragmented frame, use `newframe = frame.copy()`\n",
      "  portfolio_cumulative_returns[n] = (1 + sim_df.fillna(0)).cumprod()\n",
      "C:\\Users\\maris\\Downloads\\Fintech_P5M5-1bf4acc2d69b224c1384771893e8b26bdc73dabf\\Fintech_P5M5-1bf4acc2d69b224c1384771893e8b26bdc73dabf\\Starter_Code-5\\MCForecastTools.py:117: PerformanceWarning: DataFrame is highly fragmented.  This is usually the result of calling `frame.insert` many times, which has poor performance.  Consider joining all columns at once using pd.concat(axis=1) instead. To get a de-fragmented frame, use `newframe = frame.copy()`\n",
      "  portfolio_cumulative_returns[n] = (1 + sim_df.fillna(0)).cumprod()\n",
      "C:\\Users\\maris\\Downloads\\Fintech_P5M5-1bf4acc2d69b224c1384771893e8b26bdc73dabf\\Fintech_P5M5-1bf4acc2d69b224c1384771893e8b26bdc73dabf\\Starter_Code-5\\MCForecastTools.py:117: PerformanceWarning: DataFrame is highly fragmented.  This is usually the result of calling `frame.insert` many times, which has poor performance.  Consider joining all columns at once using pd.concat(axis=1) instead. To get a de-fragmented frame, use `newframe = frame.copy()`\n",
      "  portfolio_cumulative_returns[n] = (1 + sim_df.fillna(0)).cumprod()\n",
      "C:\\Users\\maris\\Downloads\\Fintech_P5M5-1bf4acc2d69b224c1384771893e8b26bdc73dabf\\Fintech_P5M5-1bf4acc2d69b224c1384771893e8b26bdc73dabf\\Starter_Code-5\\MCForecastTools.py:117: PerformanceWarning: DataFrame is highly fragmented.  This is usually the result of calling `frame.insert` many times, which has poor performance.  Consider joining all columns at once using pd.concat(axis=1) instead. To get a de-fragmented frame, use `newframe = frame.copy()`\n",
      "  portfolio_cumulative_returns[n] = (1 + sim_df.fillna(0)).cumprod()\n",
      "C:\\Users\\maris\\Downloads\\Fintech_P5M5-1bf4acc2d69b224c1384771893e8b26bdc73dabf\\Fintech_P5M5-1bf4acc2d69b224c1384771893e8b26bdc73dabf\\Starter_Code-5\\MCForecastTools.py:117: PerformanceWarning: DataFrame is highly fragmented.  This is usually the result of calling `frame.insert` many times, which has poor performance.  Consider joining all columns at once using pd.concat(axis=1) instead. To get a de-fragmented frame, use `newframe = frame.copy()`\n",
      "  portfolio_cumulative_returns[n] = (1 + sim_df.fillna(0)).cumprod()\n",
      "C:\\Users\\maris\\Downloads\\Fintech_P5M5-1bf4acc2d69b224c1384771893e8b26bdc73dabf\\Fintech_P5M5-1bf4acc2d69b224c1384771893e8b26bdc73dabf\\Starter_Code-5\\MCForecastTools.py:117: PerformanceWarning: DataFrame is highly fragmented.  This is usually the result of calling `frame.insert` many times, which has poor performance.  Consider joining all columns at once using pd.concat(axis=1) instead. To get a de-fragmented frame, use `newframe = frame.copy()`\n",
      "  portfolio_cumulative_returns[n] = (1 + sim_df.fillna(0)).cumprod()\n",
      "C:\\Users\\maris\\Downloads\\Fintech_P5M5-1bf4acc2d69b224c1384771893e8b26bdc73dabf\\Fintech_P5M5-1bf4acc2d69b224c1384771893e8b26bdc73dabf\\Starter_Code-5\\MCForecastTools.py:117: PerformanceWarning: DataFrame is highly fragmented.  This is usually the result of calling `frame.insert` many times, which has poor performance.  Consider joining all columns at once using pd.concat(axis=1) instead. To get a de-fragmented frame, use `newframe = frame.copy()`\n",
      "  portfolio_cumulative_returns[n] = (1 + sim_df.fillna(0)).cumprod()\n",
      "C:\\Users\\maris\\Downloads\\Fintech_P5M5-1bf4acc2d69b224c1384771893e8b26bdc73dabf\\Fintech_P5M5-1bf4acc2d69b224c1384771893e8b26bdc73dabf\\Starter_Code-5\\MCForecastTools.py:117: PerformanceWarning: DataFrame is highly fragmented.  This is usually the result of calling `frame.insert` many times, which has poor performance.  Consider joining all columns at once using pd.concat(axis=1) instead. To get a de-fragmented frame, use `newframe = frame.copy()`\n",
      "  portfolio_cumulative_returns[n] = (1 + sim_df.fillna(0)).cumprod()\n",
      "C:\\Users\\maris\\Downloads\\Fintech_P5M5-1bf4acc2d69b224c1384771893e8b26bdc73dabf\\Fintech_P5M5-1bf4acc2d69b224c1384771893e8b26bdc73dabf\\Starter_Code-5\\MCForecastTools.py:117: PerformanceWarning: DataFrame is highly fragmented.  This is usually the result of calling `frame.insert` many times, which has poor performance.  Consider joining all columns at once using pd.concat(axis=1) instead. To get a de-fragmented frame, use `newframe = frame.copy()`\n",
      "  portfolio_cumulative_returns[n] = (1 + sim_df.fillna(0)).cumprod()\n"
     ]
    },
    {
     "name": "stdout",
     "output_type": "stream",
     "text": [
      "Running Monte Carlo simulation number 480.\n"
     ]
    },
    {
     "name": "stderr",
     "output_type": "stream",
     "text": [
      "C:\\Users\\maris\\Downloads\\Fintech_P5M5-1bf4acc2d69b224c1384771893e8b26bdc73dabf\\Fintech_P5M5-1bf4acc2d69b224c1384771893e8b26bdc73dabf\\Starter_Code-5\\MCForecastTools.py:117: PerformanceWarning: DataFrame is highly fragmented.  This is usually the result of calling `frame.insert` many times, which has poor performance.  Consider joining all columns at once using pd.concat(axis=1) instead. To get a de-fragmented frame, use `newframe = frame.copy()`\n",
      "  portfolio_cumulative_returns[n] = (1 + sim_df.fillna(0)).cumprod()\n",
      "C:\\Users\\maris\\Downloads\\Fintech_P5M5-1bf4acc2d69b224c1384771893e8b26bdc73dabf\\Fintech_P5M5-1bf4acc2d69b224c1384771893e8b26bdc73dabf\\Starter_Code-5\\MCForecastTools.py:117: PerformanceWarning: DataFrame is highly fragmented.  This is usually the result of calling `frame.insert` many times, which has poor performance.  Consider joining all columns at once using pd.concat(axis=1) instead. To get a de-fragmented frame, use `newframe = frame.copy()`\n",
      "  portfolio_cumulative_returns[n] = (1 + sim_df.fillna(0)).cumprod()\n",
      "C:\\Users\\maris\\Downloads\\Fintech_P5M5-1bf4acc2d69b224c1384771893e8b26bdc73dabf\\Fintech_P5M5-1bf4acc2d69b224c1384771893e8b26bdc73dabf\\Starter_Code-5\\MCForecastTools.py:117: PerformanceWarning: DataFrame is highly fragmented.  This is usually the result of calling `frame.insert` many times, which has poor performance.  Consider joining all columns at once using pd.concat(axis=1) instead. To get a de-fragmented frame, use `newframe = frame.copy()`\n",
      "  portfolio_cumulative_returns[n] = (1 + sim_df.fillna(0)).cumprod()\n",
      "C:\\Users\\maris\\Downloads\\Fintech_P5M5-1bf4acc2d69b224c1384771893e8b26bdc73dabf\\Fintech_P5M5-1bf4acc2d69b224c1384771893e8b26bdc73dabf\\Starter_Code-5\\MCForecastTools.py:117: PerformanceWarning: DataFrame is highly fragmented.  This is usually the result of calling `frame.insert` many times, which has poor performance.  Consider joining all columns at once using pd.concat(axis=1) instead. To get a de-fragmented frame, use `newframe = frame.copy()`\n",
      "  portfolio_cumulative_returns[n] = (1 + sim_df.fillna(0)).cumprod()\n",
      "C:\\Users\\maris\\Downloads\\Fintech_P5M5-1bf4acc2d69b224c1384771893e8b26bdc73dabf\\Fintech_P5M5-1bf4acc2d69b224c1384771893e8b26bdc73dabf\\Starter_Code-5\\MCForecastTools.py:117: PerformanceWarning: DataFrame is highly fragmented.  This is usually the result of calling `frame.insert` many times, which has poor performance.  Consider joining all columns at once using pd.concat(axis=1) instead. To get a de-fragmented frame, use `newframe = frame.copy()`\n",
      "  portfolio_cumulative_returns[n] = (1 + sim_df.fillna(0)).cumprod()\n",
      "C:\\Users\\maris\\Downloads\\Fintech_P5M5-1bf4acc2d69b224c1384771893e8b26bdc73dabf\\Fintech_P5M5-1bf4acc2d69b224c1384771893e8b26bdc73dabf\\Starter_Code-5\\MCForecastTools.py:117: PerformanceWarning: DataFrame is highly fragmented.  This is usually the result of calling `frame.insert` many times, which has poor performance.  Consider joining all columns at once using pd.concat(axis=1) instead. To get a de-fragmented frame, use `newframe = frame.copy()`\n",
      "  portfolio_cumulative_returns[n] = (1 + sim_df.fillna(0)).cumprod()\n",
      "C:\\Users\\maris\\Downloads\\Fintech_P5M5-1bf4acc2d69b224c1384771893e8b26bdc73dabf\\Fintech_P5M5-1bf4acc2d69b224c1384771893e8b26bdc73dabf\\Starter_Code-5\\MCForecastTools.py:117: PerformanceWarning: DataFrame is highly fragmented.  This is usually the result of calling `frame.insert` many times, which has poor performance.  Consider joining all columns at once using pd.concat(axis=1) instead. To get a de-fragmented frame, use `newframe = frame.copy()`\n",
      "  portfolio_cumulative_returns[n] = (1 + sim_df.fillna(0)).cumprod()\n",
      "C:\\Users\\maris\\Downloads\\Fintech_P5M5-1bf4acc2d69b224c1384771893e8b26bdc73dabf\\Fintech_P5M5-1bf4acc2d69b224c1384771893e8b26bdc73dabf\\Starter_Code-5\\MCForecastTools.py:117: PerformanceWarning: DataFrame is highly fragmented.  This is usually the result of calling `frame.insert` many times, which has poor performance.  Consider joining all columns at once using pd.concat(axis=1) instead. To get a de-fragmented frame, use `newframe = frame.copy()`\n",
      "  portfolio_cumulative_returns[n] = (1 + sim_df.fillna(0)).cumprod()\n"
     ]
    },
    {
     "name": "stdout",
     "output_type": "stream",
     "text": [
      "Running Monte Carlo simulation number 490.\n"
     ]
    },
    {
     "name": "stderr",
     "output_type": "stream",
     "text": [
      "C:\\Users\\maris\\Downloads\\Fintech_P5M5-1bf4acc2d69b224c1384771893e8b26bdc73dabf\\Fintech_P5M5-1bf4acc2d69b224c1384771893e8b26bdc73dabf\\Starter_Code-5\\MCForecastTools.py:117: PerformanceWarning: DataFrame is highly fragmented.  This is usually the result of calling `frame.insert` many times, which has poor performance.  Consider joining all columns at once using pd.concat(axis=1) instead. To get a de-fragmented frame, use `newframe = frame.copy()`\n",
      "  portfolio_cumulative_returns[n] = (1 + sim_df.fillna(0)).cumprod()\n",
      "C:\\Users\\maris\\Downloads\\Fintech_P5M5-1bf4acc2d69b224c1384771893e8b26bdc73dabf\\Fintech_P5M5-1bf4acc2d69b224c1384771893e8b26bdc73dabf\\Starter_Code-5\\MCForecastTools.py:117: PerformanceWarning: DataFrame is highly fragmented.  This is usually the result of calling `frame.insert` many times, which has poor performance.  Consider joining all columns at once using pd.concat(axis=1) instead. To get a de-fragmented frame, use `newframe = frame.copy()`\n",
      "  portfolio_cumulative_returns[n] = (1 + sim_df.fillna(0)).cumprod()\n",
      "C:\\Users\\maris\\Downloads\\Fintech_P5M5-1bf4acc2d69b224c1384771893e8b26bdc73dabf\\Fintech_P5M5-1bf4acc2d69b224c1384771893e8b26bdc73dabf\\Starter_Code-5\\MCForecastTools.py:117: PerformanceWarning: DataFrame is highly fragmented.  This is usually the result of calling `frame.insert` many times, which has poor performance.  Consider joining all columns at once using pd.concat(axis=1) instead. To get a de-fragmented frame, use `newframe = frame.copy()`\n",
      "  portfolio_cumulative_returns[n] = (1 + sim_df.fillna(0)).cumprod()\n",
      "C:\\Users\\maris\\Downloads\\Fintech_P5M5-1bf4acc2d69b224c1384771893e8b26bdc73dabf\\Fintech_P5M5-1bf4acc2d69b224c1384771893e8b26bdc73dabf\\Starter_Code-5\\MCForecastTools.py:117: PerformanceWarning: DataFrame is highly fragmented.  This is usually the result of calling `frame.insert` many times, which has poor performance.  Consider joining all columns at once using pd.concat(axis=1) instead. To get a de-fragmented frame, use `newframe = frame.copy()`\n",
      "  portfolio_cumulative_returns[n] = (1 + sim_df.fillna(0)).cumprod()\n",
      "C:\\Users\\maris\\Downloads\\Fintech_P5M5-1bf4acc2d69b224c1384771893e8b26bdc73dabf\\Fintech_P5M5-1bf4acc2d69b224c1384771893e8b26bdc73dabf\\Starter_Code-5\\MCForecastTools.py:117: PerformanceWarning: DataFrame is highly fragmented.  This is usually the result of calling `frame.insert` many times, which has poor performance.  Consider joining all columns at once using pd.concat(axis=1) instead. To get a de-fragmented frame, use `newframe = frame.copy()`\n",
      "  portfolio_cumulative_returns[n] = (1 + sim_df.fillna(0)).cumprod()\n",
      "C:\\Users\\maris\\Downloads\\Fintech_P5M5-1bf4acc2d69b224c1384771893e8b26bdc73dabf\\Fintech_P5M5-1bf4acc2d69b224c1384771893e8b26bdc73dabf\\Starter_Code-5\\MCForecastTools.py:117: PerformanceWarning: DataFrame is highly fragmented.  This is usually the result of calling `frame.insert` many times, which has poor performance.  Consider joining all columns at once using pd.concat(axis=1) instead. To get a de-fragmented frame, use `newframe = frame.copy()`\n",
      "  portfolio_cumulative_returns[n] = (1 + sim_df.fillna(0)).cumprod()\n",
      "C:\\Users\\maris\\Downloads\\Fintech_P5M5-1bf4acc2d69b224c1384771893e8b26bdc73dabf\\Fintech_P5M5-1bf4acc2d69b224c1384771893e8b26bdc73dabf\\Starter_Code-5\\MCForecastTools.py:117: PerformanceWarning: DataFrame is highly fragmented.  This is usually the result of calling `frame.insert` many times, which has poor performance.  Consider joining all columns at once using pd.concat(axis=1) instead. To get a de-fragmented frame, use `newframe = frame.copy()`\n",
      "  portfolio_cumulative_returns[n] = (1 + sim_df.fillna(0)).cumprod()\n",
      "C:\\Users\\maris\\Downloads\\Fintech_P5M5-1bf4acc2d69b224c1384771893e8b26bdc73dabf\\Fintech_P5M5-1bf4acc2d69b224c1384771893e8b26bdc73dabf\\Starter_Code-5\\MCForecastTools.py:117: PerformanceWarning: DataFrame is highly fragmented.  This is usually the result of calling `frame.insert` many times, which has poor performance.  Consider joining all columns at once using pd.concat(axis=1) instead. To get a de-fragmented frame, use `newframe = frame.copy()`\n",
      "  portfolio_cumulative_returns[n] = (1 + sim_df.fillna(0)).cumprod()\n",
      "C:\\Users\\maris\\Downloads\\Fintech_P5M5-1bf4acc2d69b224c1384771893e8b26bdc73dabf\\Fintech_P5M5-1bf4acc2d69b224c1384771893e8b26bdc73dabf\\Starter_Code-5\\MCForecastTools.py:117: PerformanceWarning: DataFrame is highly fragmented.  This is usually the result of calling `frame.insert` many times, which has poor performance.  Consider joining all columns at once using pd.concat(axis=1) instead. To get a de-fragmented frame, use `newframe = frame.copy()`\n",
      "  portfolio_cumulative_returns[n] = (1 + sim_df.fillna(0)).cumprod()\n",
      "C:\\Users\\maris\\Downloads\\Fintech_P5M5-1bf4acc2d69b224c1384771893e8b26bdc73dabf\\Fintech_P5M5-1bf4acc2d69b224c1384771893e8b26bdc73dabf\\Starter_Code-5\\MCForecastTools.py:117: PerformanceWarning: DataFrame is highly fragmented.  This is usually the result of calling `frame.insert` many times, which has poor performance.  Consider joining all columns at once using pd.concat(axis=1) instead. To get a de-fragmented frame, use `newframe = frame.copy()`\n",
      "  portfolio_cumulative_returns[n] = (1 + sim_df.fillna(0)).cumprod()\n"
     ]
    },
    {
     "data": {
      "text/html": [
       "<div>\n",
       "<style scoped>\n",
       "    .dataframe tbody tr th:only-of-type {\n",
       "        vertical-align: middle;\n",
       "    }\n",
       "\n",
       "    .dataframe tbody tr th {\n",
       "        vertical-align: top;\n",
       "    }\n",
       "\n",
       "    .dataframe thead th {\n",
       "        text-align: right;\n",
       "    }\n",
       "</style>\n",
       "<table border=\"1\" class=\"dataframe\">\n",
       "  <thead>\n",
       "    <tr style=\"text-align: right;\">\n",
       "      <th></th>\n",
       "      <th>0</th>\n",
       "      <th>1</th>\n",
       "      <th>2</th>\n",
       "      <th>3</th>\n",
       "      <th>4</th>\n",
       "      <th>5</th>\n",
       "      <th>6</th>\n",
       "      <th>7</th>\n",
       "      <th>8</th>\n",
       "      <th>9</th>\n",
       "      <th>...</th>\n",
       "      <th>490</th>\n",
       "      <th>491</th>\n",
       "      <th>492</th>\n",
       "      <th>493</th>\n",
       "      <th>494</th>\n",
       "      <th>495</th>\n",
       "      <th>496</th>\n",
       "      <th>497</th>\n",
       "      <th>498</th>\n",
       "      <th>499</th>\n",
       "    </tr>\n",
       "  </thead>\n",
       "  <tbody>\n",
       "    <tr>\n",
       "      <th>0</th>\n",
       "      <td>1.000000</td>\n",
       "      <td>1.000000</td>\n",
       "      <td>1.000000</td>\n",
       "      <td>1.000000</td>\n",
       "      <td>1.000000</td>\n",
       "      <td>1.000000</td>\n",
       "      <td>1.000000</td>\n",
       "      <td>1.000000</td>\n",
       "      <td>1.000000</td>\n",
       "      <td>1.000000</td>\n",
       "      <td>...</td>\n",
       "      <td>1.000000</td>\n",
       "      <td>1.000000</td>\n",
       "      <td>1.000000</td>\n",
       "      <td>1.000000</td>\n",
       "      <td>1.000000</td>\n",
       "      <td>1.000000</td>\n",
       "      <td>1.000000</td>\n",
       "      <td>1.000000</td>\n",
       "      <td>1.000000</td>\n",
       "      <td>1.000000</td>\n",
       "    </tr>\n",
       "    <tr>\n",
       "      <th>1</th>\n",
       "      <td>0.999683</td>\n",
       "      <td>1.001190</td>\n",
       "      <td>1.002117</td>\n",
       "      <td>0.999854</td>\n",
       "      <td>1.001143</td>\n",
       "      <td>1.002306</td>\n",
       "      <td>1.000951</td>\n",
       "      <td>1.000531</td>\n",
       "      <td>1.000464</td>\n",
       "      <td>0.999623</td>\n",
       "      <td>...</td>\n",
       "      <td>1.000529</td>\n",
       "      <td>0.999512</td>\n",
       "      <td>0.999999</td>\n",
       "      <td>1.001639</td>\n",
       "      <td>1.000945</td>\n",
       "      <td>1.001550</td>\n",
       "      <td>0.999426</td>\n",
       "      <td>1.002287</td>\n",
       "      <td>0.999912</td>\n",
       "      <td>0.998537</td>\n",
       "    </tr>\n",
       "    <tr>\n",
       "      <th>2</th>\n",
       "      <td>0.999208</td>\n",
       "      <td>1.000612</td>\n",
       "      <td>1.002430</td>\n",
       "      <td>0.998824</td>\n",
       "      <td>1.000364</td>\n",
       "      <td>1.002965</td>\n",
       "      <td>1.001746</td>\n",
       "      <td>0.998440</td>\n",
       "      <td>1.001380</td>\n",
       "      <td>0.997908</td>\n",
       "      <td>...</td>\n",
       "      <td>1.001355</td>\n",
       "      <td>0.999107</td>\n",
       "      <td>1.000235</td>\n",
       "      <td>1.001859</td>\n",
       "      <td>1.003082</td>\n",
       "      <td>1.001530</td>\n",
       "      <td>1.001578</td>\n",
       "      <td>1.003391</td>\n",
       "      <td>1.001108</td>\n",
       "      <td>1.000019</td>\n",
       "    </tr>\n",
       "    <tr>\n",
       "      <th>3</th>\n",
       "      <td>0.997075</td>\n",
       "      <td>1.002012</td>\n",
       "      <td>0.999932</td>\n",
       "      <td>0.998225</td>\n",
       "      <td>1.001026</td>\n",
       "      <td>1.002191</td>\n",
       "      <td>1.001900</td>\n",
       "      <td>0.999368</td>\n",
       "      <td>1.000894</td>\n",
       "      <td>0.999035</td>\n",
       "      <td>...</td>\n",
       "      <td>1.001544</td>\n",
       "      <td>1.000360</td>\n",
       "      <td>1.002429</td>\n",
       "      <td>1.003026</td>\n",
       "      <td>1.003834</td>\n",
       "      <td>1.001128</td>\n",
       "      <td>1.002309</td>\n",
       "      <td>1.003843</td>\n",
       "      <td>1.003637</td>\n",
       "      <td>0.999169</td>\n",
       "    </tr>\n",
       "    <tr>\n",
       "      <th>4</th>\n",
       "      <td>0.998082</td>\n",
       "      <td>1.003590</td>\n",
       "      <td>1.000290</td>\n",
       "      <td>0.998710</td>\n",
       "      <td>1.000463</td>\n",
       "      <td>1.002429</td>\n",
       "      <td>1.002000</td>\n",
       "      <td>0.999291</td>\n",
       "      <td>1.001846</td>\n",
       "      <td>1.002160</td>\n",
       "      <td>...</td>\n",
       "      <td>1.002258</td>\n",
       "      <td>1.002125</td>\n",
       "      <td>1.004751</td>\n",
       "      <td>1.002185</td>\n",
       "      <td>1.003783</td>\n",
       "      <td>1.001262</td>\n",
       "      <td>1.000595</td>\n",
       "      <td>1.004478</td>\n",
       "      <td>1.003432</td>\n",
       "      <td>0.999981</td>\n",
       "    </tr>\n",
       "    <tr>\n",
       "      <th>...</th>\n",
       "      <td>...</td>\n",
       "      <td>...</td>\n",
       "      <td>...</td>\n",
       "      <td>...</td>\n",
       "      <td>...</td>\n",
       "      <td>...</td>\n",
       "      <td>...</td>\n",
       "      <td>...</td>\n",
       "      <td>...</td>\n",
       "      <td>...</td>\n",
       "      <td>...</td>\n",
       "      <td>...</td>\n",
       "      <td>...</td>\n",
       "      <td>...</td>\n",
       "      <td>...</td>\n",
       "      <td>...</td>\n",
       "      <td>...</td>\n",
       "      <td>...</td>\n",
       "      <td>...</td>\n",
       "      <td>...</td>\n",
       "      <td>...</td>\n",
       "    </tr>\n",
       "    <tr>\n",
       "      <th>2516</th>\n",
       "      <td>2.972726</td>\n",
       "      <td>2.874765</td>\n",
       "      <td>2.545495</td>\n",
       "      <td>3.089656</td>\n",
       "      <td>2.746799</td>\n",
       "      <td>3.031504</td>\n",
       "      <td>2.824435</td>\n",
       "      <td>2.442842</td>\n",
       "      <td>2.873697</td>\n",
       "      <td>3.031599</td>\n",
       "      <td>...</td>\n",
       "      <td>2.777591</td>\n",
       "      <td>2.940008</td>\n",
       "      <td>2.840095</td>\n",
       "      <td>2.924689</td>\n",
       "      <td>2.997755</td>\n",
       "      <td>3.045948</td>\n",
       "      <td>2.949381</td>\n",
       "      <td>2.881130</td>\n",
       "      <td>2.737186</td>\n",
       "      <td>2.977721</td>\n",
       "    </tr>\n",
       "    <tr>\n",
       "      <th>2517</th>\n",
       "      <td>2.977190</td>\n",
       "      <td>2.876766</td>\n",
       "      <td>2.546106</td>\n",
       "      <td>3.095522</td>\n",
       "      <td>2.750472</td>\n",
       "      <td>3.027660</td>\n",
       "      <td>2.822084</td>\n",
       "      <td>2.443916</td>\n",
       "      <td>2.884613</td>\n",
       "      <td>3.029267</td>\n",
       "      <td>...</td>\n",
       "      <td>2.774557</td>\n",
       "      <td>2.939133</td>\n",
       "      <td>2.840183</td>\n",
       "      <td>2.924629</td>\n",
       "      <td>2.996928</td>\n",
       "      <td>3.045770</td>\n",
       "      <td>2.950855</td>\n",
       "      <td>2.875086</td>\n",
       "      <td>2.742626</td>\n",
       "      <td>2.982350</td>\n",
       "    </tr>\n",
       "    <tr>\n",
       "      <th>2518</th>\n",
       "      <td>2.976624</td>\n",
       "      <td>2.885054</td>\n",
       "      <td>2.544215</td>\n",
       "      <td>3.096150</td>\n",
       "      <td>2.755760</td>\n",
       "      <td>3.029255</td>\n",
       "      <td>2.823302</td>\n",
       "      <td>2.449142</td>\n",
       "      <td>2.889429</td>\n",
       "      <td>3.035399</td>\n",
       "      <td>...</td>\n",
       "      <td>2.772990</td>\n",
       "      <td>2.941906</td>\n",
       "      <td>2.841313</td>\n",
       "      <td>2.932354</td>\n",
       "      <td>2.998582</td>\n",
       "      <td>3.046497</td>\n",
       "      <td>2.947002</td>\n",
       "      <td>2.875709</td>\n",
       "      <td>2.747390</td>\n",
       "      <td>2.993096</td>\n",
       "    </tr>\n",
       "    <tr>\n",
       "      <th>2519</th>\n",
       "      <td>2.975166</td>\n",
       "      <td>2.881184</td>\n",
       "      <td>2.545529</td>\n",
       "      <td>3.103514</td>\n",
       "      <td>2.756677</td>\n",
       "      <td>3.026929</td>\n",
       "      <td>2.821581</td>\n",
       "      <td>2.451657</td>\n",
       "      <td>2.890529</td>\n",
       "      <td>3.036753</td>\n",
       "      <td>...</td>\n",
       "      <td>2.773005</td>\n",
       "      <td>2.947666</td>\n",
       "      <td>2.841502</td>\n",
       "      <td>2.937833</td>\n",
       "      <td>3.003034</td>\n",
       "      <td>3.047650</td>\n",
       "      <td>2.945676</td>\n",
       "      <td>2.874612</td>\n",
       "      <td>2.747146</td>\n",
       "      <td>2.997991</td>\n",
       "    </tr>\n",
       "    <tr>\n",
       "      <th>2520</th>\n",
       "      <td>2.979082</td>\n",
       "      <td>2.874405</td>\n",
       "      <td>2.549371</td>\n",
       "      <td>3.099595</td>\n",
       "      <td>2.758606</td>\n",
       "      <td>3.019997</td>\n",
       "      <td>2.831785</td>\n",
       "      <td>2.453550</td>\n",
       "      <td>2.895912</td>\n",
       "      <td>3.042680</td>\n",
       "      <td>...</td>\n",
       "      <td>2.776368</td>\n",
       "      <td>2.945781</td>\n",
       "      <td>2.843221</td>\n",
       "      <td>2.938982</td>\n",
       "      <td>3.010195</td>\n",
       "      <td>3.049373</td>\n",
       "      <td>2.949081</td>\n",
       "      <td>2.871840</td>\n",
       "      <td>2.745425</td>\n",
       "      <td>2.994422</td>\n",
       "    </tr>\n",
       "  </tbody>\n",
       "</table>\n",
       "<p>2521 rows × 500 columns</p>\n",
       "</div>"
      ],
      "text/plain": [
       "           0         1         2         3         4         5         6    \\\n",
       "0     1.000000  1.000000  1.000000  1.000000  1.000000  1.000000  1.000000   \n",
       "1     0.999683  1.001190  1.002117  0.999854  1.001143  1.002306  1.000951   \n",
       "2     0.999208  1.000612  1.002430  0.998824  1.000364  1.002965  1.001746   \n",
       "3     0.997075  1.002012  0.999932  0.998225  1.001026  1.002191  1.001900   \n",
       "4     0.998082  1.003590  1.000290  0.998710  1.000463  1.002429  1.002000   \n",
       "...        ...       ...       ...       ...       ...       ...       ...   \n",
       "2516  2.972726  2.874765  2.545495  3.089656  2.746799  3.031504  2.824435   \n",
       "2517  2.977190  2.876766  2.546106  3.095522  2.750472  3.027660  2.822084   \n",
       "2518  2.976624  2.885054  2.544215  3.096150  2.755760  3.029255  2.823302   \n",
       "2519  2.975166  2.881184  2.545529  3.103514  2.756677  3.026929  2.821581   \n",
       "2520  2.979082  2.874405  2.549371  3.099595  2.758606  3.019997  2.831785   \n",
       "\n",
       "           7         8         9    ...       490       491       492  \\\n",
       "0     1.000000  1.000000  1.000000  ...  1.000000  1.000000  1.000000   \n",
       "1     1.000531  1.000464  0.999623  ...  1.000529  0.999512  0.999999   \n",
       "2     0.998440  1.001380  0.997908  ...  1.001355  0.999107  1.000235   \n",
       "3     0.999368  1.000894  0.999035  ...  1.001544  1.000360  1.002429   \n",
       "4     0.999291  1.001846  1.002160  ...  1.002258  1.002125  1.004751   \n",
       "...        ...       ...       ...  ...       ...       ...       ...   \n",
       "2516  2.442842  2.873697  3.031599  ...  2.777591  2.940008  2.840095   \n",
       "2517  2.443916  2.884613  3.029267  ...  2.774557  2.939133  2.840183   \n",
       "2518  2.449142  2.889429  3.035399  ...  2.772990  2.941906  2.841313   \n",
       "2519  2.451657  2.890529  3.036753  ...  2.773005  2.947666  2.841502   \n",
       "2520  2.453550  2.895912  3.042680  ...  2.776368  2.945781  2.843221   \n",
       "\n",
       "           493       494       495       496       497       498       499  \n",
       "0     1.000000  1.000000  1.000000  1.000000  1.000000  1.000000  1.000000  \n",
       "1     1.001639  1.000945  1.001550  0.999426  1.002287  0.999912  0.998537  \n",
       "2     1.001859  1.003082  1.001530  1.001578  1.003391  1.001108  1.000019  \n",
       "3     1.003026  1.003834  1.001128  1.002309  1.003843  1.003637  0.999169  \n",
       "4     1.002185  1.003783  1.001262  1.000595  1.004478  1.003432  0.999981  \n",
       "...        ...       ...       ...       ...       ...       ...       ...  \n",
       "2516  2.924689  2.997755  3.045948  2.949381  2.881130  2.737186  2.977721  \n",
       "2517  2.924629  2.996928  3.045770  2.950855  2.875086  2.742626  2.982350  \n",
       "2518  2.932354  2.998582  3.046497  2.947002  2.875709  2.747390  2.993096  \n",
       "2519  2.937833  3.003034  3.047650  2.945676  2.874612  2.747146  2.997991  \n",
       "2520  2.938982  3.010195  3.049373  2.949081  2.871840  2.745425  2.994422  \n",
       "\n",
       "[2521 rows x 500 columns]"
      ]
     },
     "execution_count": 46,
     "metadata": {},
     "output_type": "execute_result"
    }
   ],
   "source": [
    "# Run the Monte Carlo simulation to forecast 10 years cumulative returns\n",
    "MC_tenyear.calc_cumulative_return()\n"
   ]
  },
  {
   "cell_type": "code",
   "execution_count": 47,
   "metadata": {},
   "outputs": [
    {
     "data": {
      "image/png": "[encoded data removed]",
      "text/plain": [
       "<Figure size 640x480 with 1 Axes>"
      ]
     },
     "metadata": {},
     "output_type": "display_data"
    }
   ],
   "source": [
    "# Visualize the 10-year Monte Carlo simulation by creating an\n",
    "# overlay line plot\n",
    "MC_sim_line_plot = MC_tenyear.plot_simulation()"
   ]
  },
  {
   "cell_type": "code",
   "execution_count": 48,
   "metadata": {},
   "outputs": [
    {
     "data": {
      "image/png": "[encoded data removed]",
      "text/plain": [
       "<Figure size 640x480 with 1 Axes>"
      ]
     },
     "metadata": {},
     "output_type": "display_data"
    }
   ],
   "source": [
    "# Visualize the probability distribution of the 10-year Monte Carlo simulation \n",
    "# by plotting a histogram\n",
    "MC_sim_dist_plot = MC_tenyear.plot_distribution()\n"
   ]
  },
  {
   "cell_type": "code",
   "execution_count": 51,
   "metadata": {},
   "outputs": [
    {
     "name": "stdout",
     "output_type": "stream",
     "text": [
      "count           500.000000\n",
      "mean              2.885734\n",
      "std               0.192778\n",
      "min               2.388369\n",
      "25%               2.758064\n",
      "50%               2.886234\n",
      "75%               3.009212\n",
      "max               3.437375\n",
      "95% CI Lower      2.529382\n",
      "95% CI Upper      3.281974\n",
      "Name: 2520, dtype: float64\n"
     ]
    },
    {
     "name": "stderr",
     "output_type": "stream",
     "text": [
      "C:\\Users\\maris\\Downloads\\Fintech_P5M5-1bf4acc2d69b224c1384771893e8b26bdc73dabf\\Fintech_P5M5-1bf4acc2d69b224c1384771893e8b26bdc73dabf\\Starter_Code-5\\MCForecastTools.py:172: FutureWarning: The series.append method is deprecated and will be removed from pandas in a future version. Use pandas.concat instead.\n",
      "  return metrics.append(ci_series)\n"
     ]
    }
   ],
   "source": [
    "# Generate summary statistics from the 10-year Monte Carlo simulation results\n",
    "# Save the results as a variable\n",
    "MC_10_summary_statistics = MC_tenyear.summarize_cumulative_return()\n",
    "\n",
    "\n",
    "# Review the 10-year Monte Carlo summary statistics\n",
    "print(MC_10_summary_statistics)"
   ]
  },
  {
   "cell_type": "markdown",
   "metadata": {},
   "source": [
    "### Answer the following questions:"
   ]
  },
  {
   "cell_type": "markdown",
   "metadata": {},
   "source": [
    "#### Question: Using the current value of only the stock and bond portion of the member's portfolio and the summary statistics that you generated from the new Monte Carlo simulation, what are the lower and upper bounds for the expected value of the portfolio (with the new weights) with a 95% confidence interval?"
   ]
  },
  {
   "cell_type": "code",
   "execution_count": 52,
   "metadata": {},
   "outputs": [
    {
     "name": "stdout",
     "output_type": "stream",
     "text": [
      "The current balance of the stock and bond portion of the members portfolio timestamp\n",
      "2020-08-03 04:00:00+00:00    83820.24\n",
      "2020-08-04 04:00:00+00:00    84012.54\n",
      "2020-08-05 04:00:00+00:00    84189.84\n",
      "2020-08-06 04:00:00+00:00    84475.74\n",
      "2020-08-07 04:00:00+00:00    84475.24\n",
      "Name: close, dtype: float64\n"
     ]
    }
   ],
   "source": [
    "# Print the current balance of the stock and bond portion of the members portfolio\n",
    "print(\"The current balance of the stock and bond portion of the members portfolio\",total_portfolio_value)\n"
   ]
  },
  {
   "cell_type": "code",
   "execution_count": 53,
   "metadata": {},
   "outputs": [
    {
     "name": "stdout",
     "output_type": "stream",
     "text": [
      "There is a 95% chance that an initial investment of $10,000 in the portfolio over the next 10 years will end within in the range of $ 25293.82 and $ 32819.74.\n"
     ]
    }
   ],
   "source": [
    "# Use the lower and upper `95%` confidence intervals to calculate the range of the possible outcomes for the current stock/bond portfolio\n",
    "ci_lower_ten_cumulative_return = MC_10_summary_statistics[8] * 10000\n",
    "ci_upper_ten_cumulative_return = MC_10_summary_statistics[9] * 10000\n",
    "\n",
    "# Print the result of your calculations\n",
    "\n",
    "print(f\"There is a 95% chance that an initial investment of $10,000 in the portfolio\"\n",
    "    f\" over the next 10 years will end within in the range of\"\n",
    "    f\" ${ci_lower_ten_cumulative_return: .2f} and ${ci_upper_ten_cumulative_return: .2f}.\")"
   ]
  },
  {
   "cell_type": "markdown",
   "metadata": {},
   "source": [
    "#### Question: Will weighting the portfolio more heavily to stocks allow the credit union members to retire after only 10 years?"
   ]
  },
  {
   "cell_type": "raw",
   "metadata": {},
   "source": [
    "**Answer** # YOUR ANSWER HERE"
   ]
  },
  {
   "cell_type": "code",
   "execution_count": null,
   "metadata": {},
   "outputs": [],
   "source": []
  }
 ],
 "metadata": {
  "kernelspec": {
   "display_name": "Python 3 (ipykernel)",
   "language": "python",
   "name": "python3"
  },
  "language_info": {
   "codemirror_mode": {
    "name": "ipython",
    "version": 3
   },
   "file_extension": ".py",
   "mimetype": "text/x-python",
   "name": "python",
   "nbconvert_exporter": "python",
   "pygments_lexer": "ipython3",
   "version": "3.9.13"
  }
 },
 "nbformat": 4,
 "nbformat_minor": 4
}
